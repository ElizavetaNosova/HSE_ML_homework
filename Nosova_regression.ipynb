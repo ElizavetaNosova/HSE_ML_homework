{
  "nbformat": 4,
  "nbformat_minor": 0,
  "metadata": {
    "kernelspec": {
      "display_name": "Python 3",
      "language": "python",
      "name": "python3"
    },
    "language_info": {
      "codemirror_mode": {
        "name": "ipython",
        "version": 3
      },
      "file_extension": ".py",
      "mimetype": "text/x-python",
      "name": "python",
      "nbconvert_exporter": "python",
      "pygments_lexer": "ipython3",
      "version": "3.6.3"
    },
    "colab": {
      "name": "Nosova_regression.ipynb",
      "provenance": [],
      "collapsed_sections": []
    }
  },
  "cells": [
    {
      "cell_type": "code",
      "metadata": {
        "id": "o_6h1z7S36jX",
        "colab_type": "code",
        "colab": {}
      },
      "source": [
        "import pandas as pd"
      ],
      "execution_count": 0,
      "outputs": []
    },
    {
      "cell_type": "code",
      "metadata": {
        "id": "dFPSWrcu4Jwh",
        "colab_type": "code",
        "outputId": "ef394353-aacd-4cd8-f658-19b74e0809d4",
        "colab": {
          "resources": {
            "http://localhost:8080/nbextensions/google.colab/files.js": {
              "data": "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",
              "ok": true,
              "headers": [
                [
                  "content-type",
                  "application/javascript"
                ]
              ],
              "status": 200,
              "status_text": ""
            }
          },
          "base_uri": "https://localhost:8080/",
          "height": 74
        }
      },
      "source": [
        "from google.colab import files\n",
        "uploaded = files.upload()"
      ],
      "execution_count": 0,
      "outputs": [
        {
          "output_type": "display_data",
          "data": {
            "text/html": [
              "\n",
              "     <input type=\"file\" id=\"files-6a62557c-a2b2-493f-9629-b1e8fe703adf\" name=\"files[]\" multiple disabled />\n",
              "     <output id=\"result-6a62557c-a2b2-493f-9629-b1e8fe703adf\">\n",
              "      Upload widget is only available when the cell has been executed in the\n",
              "      current browser session. Please rerun this cell to enable.\n",
              "      </output>\n",
              "      <script src=\"/nbextensions/google.colab/files.js\"></script> "
            ],
            "text/plain": [
              "<IPython.core.display.HTML object>"
            ]
          },
          "metadata": {
            "tags": []
          }
        },
        {
          "output_type": "stream",
          "text": [
            "Saving weatherHistory.csv to weatherHistory.csv\n"
          ],
          "name": "stdout"
        }
      ]
    },
    {
      "cell_type": "code",
      "metadata": {
        "id": "rOgXosQY36j2",
        "colab_type": "code",
        "colab": {}
      },
      "source": [
        "weather_hist = pd.read_csv('weatherHistory.csv')"
      ],
      "execution_count": 0,
      "outputs": []
    },
    {
      "cell_type": "code",
      "metadata": {
        "id": "STBhNSNU36k3",
        "colab_type": "code",
        "outputId": "379d4d6f-eae6-457a-ca34-95b3f8c65f5a",
        "colab": {
          "base_uri": "https://localhost:8080/",
          "height": 297
        }
      },
      "source": [
        "weather_hist.head(5)"
      ],
      "execution_count": 0,
      "outputs": [
        {
          "output_type": "execute_result",
          "data": {
            "text/html": [
              "<div>\n",
              "<style scoped>\n",
              "    .dataframe tbody tr th:only-of-type {\n",
              "        vertical-align: middle;\n",
              "    }\n",
              "\n",
              "    .dataframe tbody tr th {\n",
              "        vertical-align: top;\n",
              "    }\n",
              "\n",
              "    .dataframe thead th {\n",
              "        text-align: right;\n",
              "    }\n",
              "</style>\n",
              "<table border=\"1\" class=\"dataframe\">\n",
              "  <thead>\n",
              "    <tr style=\"text-align: right;\">\n",
              "      <th></th>\n",
              "      <th>Formatted Date</th>\n",
              "      <th>Summary</th>\n",
              "      <th>Precip Type</th>\n",
              "      <th>Temperature (C)</th>\n",
              "      <th>Apparent Temperature (C)</th>\n",
              "      <th>Humidity</th>\n",
              "      <th>Wind Speed (km/h)</th>\n",
              "      <th>Wind Bearing (degrees)</th>\n",
              "      <th>Visibility (km)</th>\n",
              "      <th>Loud Cover</th>\n",
              "      <th>Pressure (millibars)</th>\n",
              "      <th>Daily Summary</th>\n",
              "    </tr>\n",
              "  </thead>\n",
              "  <tbody>\n",
              "    <tr>\n",
              "      <th>0</th>\n",
              "      <td>2006-04-01 00:00:00.000 +0200</td>\n",
              "      <td>Partly Cloudy</td>\n",
              "      <td>rain</td>\n",
              "      <td>9.472222</td>\n",
              "      <td>7.388889</td>\n",
              "      <td>0.89</td>\n",
              "      <td>14.1197</td>\n",
              "      <td>251.0</td>\n",
              "      <td>15.8263</td>\n",
              "      <td>0.0</td>\n",
              "      <td>1015.13</td>\n",
              "      <td>Partly cloudy throughout the day.</td>\n",
              "    </tr>\n",
              "    <tr>\n",
              "      <th>1</th>\n",
              "      <td>2006-04-01 01:00:00.000 +0200</td>\n",
              "      <td>Partly Cloudy</td>\n",
              "      <td>rain</td>\n",
              "      <td>9.355556</td>\n",
              "      <td>7.227778</td>\n",
              "      <td>0.86</td>\n",
              "      <td>14.2646</td>\n",
              "      <td>259.0</td>\n",
              "      <td>15.8263</td>\n",
              "      <td>0.0</td>\n",
              "      <td>1015.63</td>\n",
              "      <td>Partly cloudy throughout the day.</td>\n",
              "    </tr>\n",
              "    <tr>\n",
              "      <th>2</th>\n",
              "      <td>2006-04-01 02:00:00.000 +0200</td>\n",
              "      <td>Mostly Cloudy</td>\n",
              "      <td>rain</td>\n",
              "      <td>9.377778</td>\n",
              "      <td>9.377778</td>\n",
              "      <td>0.89</td>\n",
              "      <td>3.9284</td>\n",
              "      <td>204.0</td>\n",
              "      <td>14.9569</td>\n",
              "      <td>0.0</td>\n",
              "      <td>1015.94</td>\n",
              "      <td>Partly cloudy throughout the day.</td>\n",
              "    </tr>\n",
              "    <tr>\n",
              "      <th>3</th>\n",
              "      <td>2006-04-01 03:00:00.000 +0200</td>\n",
              "      <td>Partly Cloudy</td>\n",
              "      <td>rain</td>\n",
              "      <td>8.288889</td>\n",
              "      <td>5.944444</td>\n",
              "      <td>0.83</td>\n",
              "      <td>14.1036</td>\n",
              "      <td>269.0</td>\n",
              "      <td>15.8263</td>\n",
              "      <td>0.0</td>\n",
              "      <td>1016.41</td>\n",
              "      <td>Partly cloudy throughout the day.</td>\n",
              "    </tr>\n",
              "    <tr>\n",
              "      <th>4</th>\n",
              "      <td>2006-04-01 04:00:00.000 +0200</td>\n",
              "      <td>Mostly Cloudy</td>\n",
              "      <td>rain</td>\n",
              "      <td>8.755556</td>\n",
              "      <td>6.977778</td>\n",
              "      <td>0.83</td>\n",
              "      <td>11.0446</td>\n",
              "      <td>259.0</td>\n",
              "      <td>15.8263</td>\n",
              "      <td>0.0</td>\n",
              "      <td>1016.51</td>\n",
              "      <td>Partly cloudy throughout the day.</td>\n",
              "    </tr>\n",
              "  </tbody>\n",
              "</table>\n",
              "</div>"
            ],
            "text/plain": [
              "                  Formatted Date  ...                      Daily Summary\n",
              "0  2006-04-01 00:00:00.000 +0200  ...  Partly cloudy throughout the day.\n",
              "1  2006-04-01 01:00:00.000 +0200  ...  Partly cloudy throughout the day.\n",
              "2  2006-04-01 02:00:00.000 +0200  ...  Partly cloudy throughout the day.\n",
              "3  2006-04-01 03:00:00.000 +0200  ...  Partly cloudy throughout the day.\n",
              "4  2006-04-01 04:00:00.000 +0200  ...  Partly cloudy throughout the day.\n",
              "\n",
              "[5 rows x 12 columns]"
            ]
          },
          "metadata": {
            "tags": []
          },
          "execution_count": 12
        }
      ]
    },
    {
      "cell_type": "markdown",
      "metadata": {
        "id": "BDTPp_Ku6XnY",
        "colab_type": "text"
      },
      "source": [
        "Найти самый холодный и самый ветреный дни за всю историю\n",
        "\n"
      ]
    },
    {
      "cell_type": "markdown",
      "metadata": {
        "id": "fh9k5ptz7QgH",
        "colab_type": "text"
      },
      "source": [
        "Нас интересует день с минимальной температурой - допустим, измеренной, а не ощущаемой (-21.822222) и день с максимальной скоростью ветра (63.852600)\n",
        "\n",
        "\n"
      ]
    },
    {
      "cell_type": "code",
      "metadata": {
        "id": "HH6M0Eqh7zRC",
        "colab_type": "code",
        "outputId": "0877ec9b-aa17-4fa9-cb6c-b40232611870",
        "colab": {
          "base_uri": "https://localhost:8080/",
          "height": 64
        }
      },
      "source": [
        "weather_hist.loc[weather_hist['Temperature (C)'] == -21.822222]"
      ],
      "execution_count": 0,
      "outputs": [
        {
          "output_type": "execute_result",
          "data": {
            "text/html": [
              "<div>\n",
              "<style scoped>\n",
              "    .dataframe tbody tr th:only-of-type {\n",
              "        vertical-align: middle;\n",
              "    }\n",
              "\n",
              "    .dataframe tbody tr th {\n",
              "        vertical-align: top;\n",
              "    }\n",
              "\n",
              "    .dataframe thead th {\n",
              "        text-align: right;\n",
              "    }\n",
              "</style>\n",
              "<table border=\"1\" class=\"dataframe\">\n",
              "  <thead>\n",
              "    <tr style=\"text-align: right;\">\n",
              "      <th></th>\n",
              "      <th>Formatted Date</th>\n",
              "      <th>Summary</th>\n",
              "      <th>Precip Type</th>\n",
              "      <th>Temperature (C)</th>\n",
              "      <th>Apparent Temperature (C)</th>\n",
              "      <th>Humidity</th>\n",
              "      <th>Wind Speed (km/h)</th>\n",
              "      <th>Wind Bearing (degrees)</th>\n",
              "      <th>Visibility (km)</th>\n",
              "      <th>Loud Cover</th>\n",
              "      <th>Pressure (millibars)</th>\n",
              "      <th>Daily Summary</th>\n",
              "    </tr>\n",
              "  </thead>\n",
              "  <tbody>\n",
              "  </tbody>\n",
              "</table>\n",
              "</div>"
            ],
            "text/plain": [
              "Empty DataFrame\n",
              "Columns: [Formatted Date, Summary, Precip Type, Temperature (C), Apparent Temperature (C), Humidity, Wind Speed (km/h), Wind Bearing (degrees), Visibility (km), Loud Cover, Pressure (millibars), Daily Summary]\n",
              "Index: []"
            ]
          },
          "metadata": {
            "tags": []
          },
          "execution_count": 16
        }
      ]
    },
    {
      "cell_type": "markdown",
      "metadata": {
        "id": "aFFHoxjh9L6f",
        "colab_type": "text"
      },
      "source": [
        "Ничего хорошего не получилось; возможно, значение в таблице было округленным, а на самом деле знаков после запятой больше"
      ]
    },
    {
      "cell_type": "code",
      "metadata": {
        "id": "0esjY0Bj9amF",
        "colab_type": "code",
        "outputId": "5e21b35c-5a1b-42fa-9ead-761540960344",
        "colab": {
          "base_uri": "https://localhost:8080/",
          "height": 251
        }
      },
      "source": [
        "weather_hist[weather_hist['Temperature (C)'] < -21]"
      ],
      "execution_count": 0,
      "outputs": [
        {
          "output_type": "execute_result",
          "data": {
            "text/html": [
              "<div>\n",
              "<style scoped>\n",
              "    .dataframe tbody tr th:only-of-type {\n",
              "        vertical-align: middle;\n",
              "    }\n",
              "\n",
              "    .dataframe tbody tr th {\n",
              "        vertical-align: top;\n",
              "    }\n",
              "\n",
              "    .dataframe thead th {\n",
              "        text-align: right;\n",
              "    }\n",
              "</style>\n",
              "<table border=\"1\" class=\"dataframe\">\n",
              "  <thead>\n",
              "    <tr style=\"text-align: right;\">\n",
              "      <th></th>\n",
              "      <th>Formatted Date</th>\n",
              "      <th>Summary</th>\n",
              "      <th>Precip Type</th>\n",
              "      <th>Temperature (C)</th>\n",
              "      <th>Apparent Temperature (C)</th>\n",
              "      <th>Humidity</th>\n",
              "      <th>Wind Speed (km/h)</th>\n",
              "      <th>Wind Bearing (degrees)</th>\n",
              "      <th>Visibility (km)</th>\n",
              "      <th>Loud Cover</th>\n",
              "      <th>Pressure (millibars)</th>\n",
              "      <th>Daily Summary</th>\n",
              "    </tr>\n",
              "  </thead>\n",
              "  <tbody>\n",
              "    <tr>\n",
              "      <th>54847</th>\n",
              "      <td>2012-02-10 07:00:00.000 +0100</td>\n",
              "      <td>Foggy</td>\n",
              "      <td>snow</td>\n",
              "      <td>-21.822222</td>\n",
              "      <td>-21.822222</td>\n",
              "      <td>0.80</td>\n",
              "      <td>3.0751</td>\n",
              "      <td>323.0</td>\n",
              "      <td>1.3685</td>\n",
              "      <td>0.0</td>\n",
              "      <td>1033.66</td>\n",
              "      <td>Foggy starting in the morning continuing until...</td>\n",
              "    </tr>\n",
              "    <tr>\n",
              "      <th>55490</th>\n",
              "      <td>2012-02-09 02:00:00.000 +0100</td>\n",
              "      <td>Foggy</td>\n",
              "      <td>snow</td>\n",
              "      <td>-21.111111</td>\n",
              "      <td>-21.111111</td>\n",
              "      <td>0.74</td>\n",
              "      <td>3.2200</td>\n",
              "      <td>200.0</td>\n",
              "      <td>1.9320</td>\n",
              "      <td>0.0</td>\n",
              "      <td>1034.30</td>\n",
              "      <td>Foggy until morning.</td>\n",
              "    </tr>\n",
              "    <tr>\n",
              "      <th>55493</th>\n",
              "      <td>2012-02-09 05:00:00.000 +0100</td>\n",
              "      <td>Foggy</td>\n",
              "      <td>snow</td>\n",
              "      <td>-21.111111</td>\n",
              "      <td>-21.111111</td>\n",
              "      <td>0.78</td>\n",
              "      <td>4.8300</td>\n",
              "      <td>180.0</td>\n",
              "      <td>2.5760</td>\n",
              "      <td>0.0</td>\n",
              "      <td>1033.30</td>\n",
              "      <td>Foggy until morning.</td>\n",
              "    </tr>\n",
              "    <tr>\n",
              "      <th>55494</th>\n",
              "      <td>2012-02-09 06:00:00.000 +0100</td>\n",
              "      <td>Foggy</td>\n",
              "      <td>snow</td>\n",
              "      <td>-21.111111</td>\n",
              "      <td>-21.111111</td>\n",
              "      <td>0.71</td>\n",
              "      <td>3.2200</td>\n",
              "      <td>190.0</td>\n",
              "      <td>1.9320</td>\n",
              "      <td>0.0</td>\n",
              "      <td>1032.60</td>\n",
              "      <td>Foggy until morning.</td>\n",
              "    </tr>\n",
              "  </tbody>\n",
              "</table>\n",
              "</div>"
            ],
            "text/plain": [
              "                      Formatted Date  ...                                      Daily Summary\n",
              "54847  2012-02-10 07:00:00.000 +0100  ...  Foggy starting in the morning continuing until...\n",
              "55490  2012-02-09 02:00:00.000 +0100  ...                               Foggy until morning.\n",
              "55493  2012-02-09 05:00:00.000 +0100  ...                               Foggy until morning.\n",
              "55494  2012-02-09 06:00:00.000 +0100  ...                               Foggy until morning.\n",
              "\n",
              "[4 rows x 12 columns]"
            ]
          },
          "metadata": {
            "tags": []
          },
          "execution_count": 14
        }
      ]
    },
    {
      "cell_type": "markdown",
      "metadata": {
        "id": "EW5Mii2S93tI",
        "colab_type": "text"
      },
      "source": [
        "Самый холодный день - 10 февраля 2012\n",
        "И уже интересно, как считали температуру, чтобы в другие 3 чуть менее холодных дня получить в дробной части 1 в периоде и ровно столько же в колонке \"ощущается как\" - при том, что прочие показатели не совпадают. Единственное, что приходит в голову - возможно, переводили из какой-то другой шкалы (Фаренгейт?), где числа были с меньшим количеством знаков после запятой"
      ]
    },
    {
      "cell_type": "markdown",
      "metadata": {
        "id": "coCHkwKkBRZd",
        "colab_type": "text"
      },
      "source": [
        "Самый ветреный день - 29 января 2007."
      ]
    },
    {
      "cell_type": "code",
      "metadata": {
        "id": "8WLfLoQ5_uT7",
        "colab_type": "code",
        "outputId": "925671d7-2bdc-4086-aa87-613deae95af0",
        "colab": {
          "base_uri": "https://localhost:8080/",
          "height": 127
        }
      },
      "source": [
        "weather_hist[weather_hist['Wind Speed (km/h)'] > 63]"
      ],
      "execution_count": 0,
      "outputs": [
        {
          "output_type": "execute_result",
          "data": {
            "text/html": [
              "<div>\n",
              "<style scoped>\n",
              "    .dataframe tbody tr th:only-of-type {\n",
              "        vertical-align: middle;\n",
              "    }\n",
              "\n",
              "    .dataframe tbody tr th {\n",
              "        vertical-align: top;\n",
              "    }\n",
              "\n",
              "    .dataframe thead th {\n",
              "        text-align: right;\n",
              "    }\n",
              "</style>\n",
              "<table border=\"1\" class=\"dataframe\">\n",
              "  <thead>\n",
              "    <tr style=\"text-align: right;\">\n",
              "      <th></th>\n",
              "      <th>Formatted Date</th>\n",
              "      <th>Summary</th>\n",
              "      <th>Precip Type</th>\n",
              "      <th>Temperature (C)</th>\n",
              "      <th>Apparent Temperature (C)</th>\n",
              "      <th>Humidity</th>\n",
              "      <th>Wind Speed (km/h)</th>\n",
              "      <th>Wind Bearing (degrees)</th>\n",
              "      <th>Visibility (km)</th>\n",
              "      <th>Loud Cover</th>\n",
              "      <th>Pressure (millibars)</th>\n",
              "      <th>Daily Summary</th>\n",
              "    </tr>\n",
              "  </thead>\n",
              "  <tbody>\n",
              "    <tr>\n",
              "      <th>12181</th>\n",
              "      <td>2007-01-29 13:00:00.000 +0100</td>\n",
              "      <td>Dangerously Windy and Partly Cloudy</td>\n",
              "      <td>rain</td>\n",
              "      <td>8.944444</td>\n",
              "      <td>3.483333</td>\n",
              "      <td>0.49</td>\n",
              "      <td>63.8526</td>\n",
              "      <td>307.0</td>\n",
              "      <td>11.4471</td>\n",
              "      <td>0.0</td>\n",
              "      <td>1009.05</td>\n",
              "      <td>Mostly cloudy throughout the day and windy sta...</td>\n",
              "    </tr>\n",
              "  </tbody>\n",
              "</table>\n",
              "</div>"
            ],
            "text/plain": [
              "                      Formatted Date  ...                                      Daily Summary\n",
              "12181  2007-01-29 13:00:00.000 +0100  ...  Mostly cloudy throughout the day and windy sta...\n",
              "\n",
              "[1 rows x 12 columns]"
            ]
          },
          "metadata": {
            "tags": []
          },
          "execution_count": 17
        }
      ]
    },
    {
      "cell_type": "markdown",
      "metadata": {
        "id": "y-X5hH4NCsrJ",
        "colab_type": "text"
      },
      "source": [
        "сколько раз шел дождь летом 2014 года"
      ]
    },
    {
      "cell_type": "markdown",
      "metadata": {
        "id": "xI2ihGBH-yhl",
        "colab_type": "text"
      },
      "source": [
        ""
      ]
    },
    {
      "cell_type": "code",
      "metadata": {
        "id": "2jy4QENi36lK",
        "colab_type": "code",
        "colab": {}
      },
      "source": [
        "weather_hist['datetime'] = pd.to_datetime(weather_hist['Formatted Date'], utc=True)"
      ],
      "execution_count": 0,
      "outputs": []
    },
    {
      "cell_type": "code",
      "metadata": {
        "id": "UYyD09mS_JH5",
        "colab_type": "code",
        "outputId": "c4ac625c-646c-4d50-c3ac-500a0c7d68ca",
        "colab": {
          "base_uri": "https://localhost:8080/",
          "height": 265
        }
      },
      "source": [
        "weather_hist.dtypes"
      ],
      "execution_count": 0,
      "outputs": [
        {
          "output_type": "execute_result",
          "data": {
            "text/plain": [
              "Formatted Date                           object\n",
              "Summary                                  object\n",
              "Precip Type                              object\n",
              "Temperature (C)                         float64\n",
              "Apparent Temperature (C)                float64\n",
              "Humidity                                float64\n",
              "Wind Speed (km/h)                       float64\n",
              "Wind Bearing (degrees)                  float64\n",
              "Visibility (km)                         float64\n",
              "Loud Cover                              float64\n",
              "Pressure (millibars)                    float64\n",
              "Daily Summary                            object\n",
              "datetime                    datetime64[ns, UTC]\n",
              "dtype: object"
            ]
          },
          "metadata": {
            "tags": []
          },
          "execution_count": 8
        }
      ]
    },
    {
      "cell_type": "code",
      "metadata": {
        "id": "C0ASzOps_J8Q",
        "colab_type": "code",
        "colab": {}
      },
      "source": [
        "weather_hist_2014 = weather_hist.loc[weather_hist['datetime'].dt.year == 2014]"
      ],
      "execution_count": 0,
      "outputs": []
    },
    {
      "cell_type": "code",
      "metadata": {
        "id": "H9lCQfKhAie8",
        "colab_type": "code",
        "colab": {}
      },
      "source": [
        "weather_hist_summer2014 = weather_hist2014.loc[weather_hist2014['datetime'].dt.month > 5]\n",
        "weather_hist_summer2014 = weather_hist_summer2014.loc[weather_hist_summer2014['datetime'].dt.month < 9]"
      ],
      "execution_count": 0,
      "outputs": []
    },
    {
      "cell_type": "code",
      "metadata": {
        "id": "XEv-ipLcAJJ6",
        "colab_type": "code",
        "colab": {}
      },
      "source": [
        "weather_hist_summer2014_rain = weather_hist_summer2014.loc[weather_hist_summer2014['Precip Type'] == 'rain']"
      ],
      "execution_count": 0,
      "outputs": []
    },
    {
      "cell_type": "code",
      "metadata": {
        "id": "7jyXxX8DXhGK",
        "colab_type": "code",
        "outputId": "c3094995-96ac-4739-b61a-1ad23a561679",
        "colab": {
          "base_uri": "https://localhost:8080/",
          "height": 34
        }
      },
      "source": [
        "weather_hist_summer2014_rain.shape"
      ],
      "execution_count": 0,
      "outputs": [
        {
          "output_type": "execute_result",
          "data": {
            "text/plain": [
              "(2205, 13)"
            ]
          },
          "metadata": {
            "tags": []
          },
          "execution_count": 47
        }
      ]
    },
    {
      "cell_type": "markdown",
      "metadata": {
        "id": "yhHiyTpu36ll",
        "colab_type": "text"
      },
      "source": [
        "Получается какая-то ерунда, не было летом 2014 года 2205 дней, даже если дождь шел беспрерывно\n",
        "\n",
        "---\n",
        "\n"
      ]
    },
    {
      "cell_type": "code",
      "metadata": {
        "id": "2Pq1IDqLEj08",
        "colab_type": "code",
        "outputId": "a2d986d7-e826-4149-d177-4af5f8c9de4e",
        "colab": {
          "base_uri": "https://localhost:8080/",
          "height": 590
        }
      },
      "source": [
        "weather_hist_summer2014_rain"
      ],
      "execution_count": 0,
      "outputs": [
        {
          "output_type": "execute_result",
          "data": {
            "text/html": [
              "<div>\n",
              "<style scoped>\n",
              "    .dataframe tbody tr th:only-of-type {\n",
              "        vertical-align: middle;\n",
              "    }\n",
              "\n",
              "    .dataframe tbody tr th {\n",
              "        vertical-align: top;\n",
              "    }\n",
              "\n",
              "    .dataframe thead th {\n",
              "        text-align: right;\n",
              "    }\n",
              "</style>\n",
              "<table border=\"1\" class=\"dataframe\">\n",
              "  <thead>\n",
              "    <tr style=\"text-align: right;\">\n",
              "      <th></th>\n",
              "      <th>Formatted Date</th>\n",
              "      <th>Summary</th>\n",
              "      <th>Precip Type</th>\n",
              "      <th>Temperature (C)</th>\n",
              "      <th>Apparent Temperature (C)</th>\n",
              "      <th>Humidity</th>\n",
              "      <th>Wind Speed (km/h)</th>\n",
              "      <th>Wind Bearing (degrees)</th>\n",
              "      <th>Visibility (km)</th>\n",
              "      <th>Loud Cover</th>\n",
              "      <th>Pressure (millibars)</th>\n",
              "      <th>Daily Summary</th>\n",
              "      <th>datetime</th>\n",
              "    </tr>\n",
              "  </thead>\n",
              "  <tbody>\n",
              "    <tr>\n",
              "      <th>70872</th>\n",
              "      <td>2014-08-01 00:00:00.000 +0200</td>\n",
              "      <td>Overcast</td>\n",
              "      <td>rain</td>\n",
              "      <td>20.422222</td>\n",
              "      <td>20.422222</td>\n",
              "      <td>0.90</td>\n",
              "      <td>5.6350</td>\n",
              "      <td>130.0</td>\n",
              "      <td>8.3720</td>\n",
              "      <td>0.0</td>\n",
              "      <td>1010.20</td>\n",
              "      <td>Partly cloudy throughout the day.</td>\n",
              "      <td>2014-07-31 22:00:00+00:00</td>\n",
              "    </tr>\n",
              "    <tr>\n",
              "      <th>70873</th>\n",
              "      <td>2014-08-01 01:00:00.000 +0200</td>\n",
              "      <td>Overcast</td>\n",
              "      <td>rain</td>\n",
              "      <td>19.983333</td>\n",
              "      <td>19.983333</td>\n",
              "      <td>0.93</td>\n",
              "      <td>6.1824</td>\n",
              "      <td>358.0</td>\n",
              "      <td>9.9820</td>\n",
              "      <td>0.0</td>\n",
              "      <td>1009.64</td>\n",
              "      <td>Partly cloudy throughout the day.</td>\n",
              "      <td>2014-07-31 23:00:00+00:00</td>\n",
              "    </tr>\n",
              "    <tr>\n",
              "      <th>70874</th>\n",
              "      <td>2014-08-01 02:00:00.000 +0200</td>\n",
              "      <td>Overcast</td>\n",
              "      <td>rain</td>\n",
              "      <td>19.850000</td>\n",
              "      <td>19.850000</td>\n",
              "      <td>0.93</td>\n",
              "      <td>4.8944</td>\n",
              "      <td>313.0</td>\n",
              "      <td>11.2539</td>\n",
              "      <td>0.0</td>\n",
              "      <td>1009.40</td>\n",
              "      <td>Partly cloudy throughout the day.</td>\n",
              "      <td>2014-08-01 00:00:00+00:00</td>\n",
              "    </tr>\n",
              "    <tr>\n",
              "      <th>70875</th>\n",
              "      <td>2014-08-01 03:00:00.000 +0200</td>\n",
              "      <td>Mostly Cloudy</td>\n",
              "      <td>rain</td>\n",
              "      <td>19.400000</td>\n",
              "      <td>19.400000</td>\n",
              "      <td>0.93</td>\n",
              "      <td>11.2700</td>\n",
              "      <td>330.0</td>\n",
              "      <td>14.9086</td>\n",
              "      <td>0.0</td>\n",
              "      <td>1009.63</td>\n",
              "      <td>Partly cloudy throughout the day.</td>\n",
              "      <td>2014-08-01 01:00:00+00:00</td>\n",
              "    </tr>\n",
              "    <tr>\n",
              "      <th>70876</th>\n",
              "      <td>2014-08-01 04:00:00.000 +0200</td>\n",
              "      <td>Partly Cloudy</td>\n",
              "      <td>rain</td>\n",
              "      <td>18.888889</td>\n",
              "      <td>18.888889</td>\n",
              "      <td>0.93</td>\n",
              "      <td>2.5760</td>\n",
              "      <td>128.0</td>\n",
              "      <td>11.9784</td>\n",
              "      <td>0.0</td>\n",
              "      <td>1009.89</td>\n",
              "      <td>Partly cloudy throughout the day.</td>\n",
              "      <td>2014-08-01 02:00:00+00:00</td>\n",
              "    </tr>\n",
              "    <tr>\n",
              "      <th>...</th>\n",
              "      <td>...</td>\n",
              "      <td>...</td>\n",
              "      <td>...</td>\n",
              "      <td>...</td>\n",
              "      <td>...</td>\n",
              "      <td>...</td>\n",
              "      <td>...</td>\n",
              "      <td>...</td>\n",
              "      <td>...</td>\n",
              "      <td>...</td>\n",
              "      <td>...</td>\n",
              "      <td>...</td>\n",
              "      <td>...</td>\n",
              "    </tr>\n",
              "    <tr>\n",
              "      <th>75234</th>\n",
              "      <td>2014-06-09 21:00:00.000 +0200</td>\n",
              "      <td>Partly Cloudy</td>\n",
              "      <td>rain</td>\n",
              "      <td>22.822222</td>\n",
              "      <td>22.822222</td>\n",
              "      <td>0.53</td>\n",
              "      <td>7.6797</td>\n",
              "      <td>0.0</td>\n",
              "      <td>16.1000</td>\n",
              "      <td>0.0</td>\n",
              "      <td>1017.83</td>\n",
              "      <td>Partly cloudy starting in the morning.</td>\n",
              "      <td>2014-06-09 19:00:00+00:00</td>\n",
              "    </tr>\n",
              "    <tr>\n",
              "      <th>75235</th>\n",
              "      <td>2014-06-09 22:00:00.000 +0200</td>\n",
              "      <td>Partly Cloudy</td>\n",
              "      <td>rain</td>\n",
              "      <td>22.616667</td>\n",
              "      <td>22.616667</td>\n",
              "      <td>0.60</td>\n",
              "      <td>10.8514</td>\n",
              "      <td>359.0</td>\n",
              "      <td>16.1000</td>\n",
              "      <td>0.0</td>\n",
              "      <td>1018.24</td>\n",
              "      <td>Partly cloudy starting in the morning.</td>\n",
              "      <td>2014-06-09 20:00:00+00:00</td>\n",
              "    </tr>\n",
              "    <tr>\n",
              "      <th>75236</th>\n",
              "      <td>2014-06-09 23:00:00.000 +0200</td>\n",
              "      <td>Partly Cloudy</td>\n",
              "      <td>rain</td>\n",
              "      <td>21.166667</td>\n",
              "      <td>21.166667</td>\n",
              "      <td>0.63</td>\n",
              "      <td>3.3971</td>\n",
              "      <td>348.0</td>\n",
              "      <td>15.1823</td>\n",
              "      <td>0.0</td>\n",
              "      <td>1018.46</td>\n",
              "      <td>Partly cloudy starting in the morning.</td>\n",
              "      <td>2014-06-09 21:00:00+00:00</td>\n",
              "    </tr>\n",
              "    <tr>\n",
              "      <th>78189</th>\n",
              "      <td>2014-09-01 00:00:00.000 +0200</td>\n",
              "      <td>Partly Cloudy</td>\n",
              "      <td>rain</td>\n",
              "      <td>20.394444</td>\n",
              "      <td>20.394444</td>\n",
              "      <td>0.61</td>\n",
              "      <td>14.1197</td>\n",
              "      <td>160.0</td>\n",
              "      <td>16.1000</td>\n",
              "      <td>0.0</td>\n",
              "      <td>1009.19</td>\n",
              "      <td>Mostly cloudy throughout the day.</td>\n",
              "      <td>2014-08-31 22:00:00+00:00</td>\n",
              "    </tr>\n",
              "    <tr>\n",
              "      <th>78190</th>\n",
              "      <td>2014-09-01 01:00:00.000 +0200</td>\n",
              "      <td>Partly Cloudy</td>\n",
              "      <td>rain</td>\n",
              "      <td>17.755556</td>\n",
              "      <td>17.755556</td>\n",
              "      <td>0.74</td>\n",
              "      <td>10.2879</td>\n",
              "      <td>149.0</td>\n",
              "      <td>15.8263</td>\n",
              "      <td>0.0</td>\n",
              "      <td>1008.83</td>\n",
              "      <td>Mostly cloudy throughout the day.</td>\n",
              "      <td>2014-08-31 23:00:00+00:00</td>\n",
              "    </tr>\n",
              "  </tbody>\n",
              "</table>\n",
              "<p>2205 rows × 13 columns</p>\n",
              "</div>"
            ],
            "text/plain": [
              "                      Formatted Date  ...                  datetime\n",
              "70872  2014-08-01 00:00:00.000 +0200  ... 2014-07-31 22:00:00+00:00\n",
              "70873  2014-08-01 01:00:00.000 +0200  ... 2014-07-31 23:00:00+00:00\n",
              "70874  2014-08-01 02:00:00.000 +0200  ... 2014-08-01 00:00:00+00:00\n",
              "70875  2014-08-01 03:00:00.000 +0200  ... 2014-08-01 01:00:00+00:00\n",
              "70876  2014-08-01 04:00:00.000 +0200  ... 2014-08-01 02:00:00+00:00\n",
              "...                              ...  ...                       ...\n",
              "75234  2014-06-09 21:00:00.000 +0200  ... 2014-06-09 19:00:00+00:00\n",
              "75235  2014-06-09 22:00:00.000 +0200  ... 2014-06-09 20:00:00+00:00\n",
              "75236  2014-06-09 23:00:00.000 +0200  ... 2014-06-09 21:00:00+00:00\n",
              "78189  2014-09-01 00:00:00.000 +0200  ... 2014-08-31 22:00:00+00:00\n",
              "78190  2014-09-01 01:00:00.000 +0200  ... 2014-08-31 23:00:00+00:00\n",
              "\n",
              "[2205 rows x 13 columns]"
            ]
          },
          "metadata": {
            "tags": []
          },
          "execution_count": 40
        }
      ]
    },
    {
      "cell_type": "markdown",
      "metadata": {
        "id": "1IRIuOXUFF48",
        "colab_type": "text"
      },
      "source": [
        "Оказывается, каждый день проводилось несколько наблюдений. Причём посчитать уникальные дни недостаточно: к сожалению, каждый месяц нумерация начинается заново. Поэтому добавим колонку, которая будет одинаковой для измерений, сделанных в один день"
      ]
    },
    {
      "cell_type": "code",
      "metadata": {
        "id": "jwRMSGCcFSFd",
        "colab_type": "code",
        "colab": {}
      },
      "source": [
        "weather_hist_summer2014_rain['date'] = weather_hist_summer2014_rain['datetime'].dt.date"
      ],
      "execution_count": 0,
      "outputs": []
    },
    {
      "cell_type": "code",
      "metadata": {
        "id": "jnNx-ppBIn0u",
        "colab_type": "code",
        "outputId": "4b1d2d02-34d5-40ad-a592-6773c01655c9",
        "colab": {
          "base_uri": "https://localhost:8080/",
          "height": 34
        }
      },
      "source": [
        "len(weather_hist_summer2014_rain['date'].unique())"
      ],
      "execution_count": 0,
      "outputs": [
        {
          "output_type": "execute_result",
          "data": {
            "text/plain": [
              "92"
            ]
          },
          "metadata": {
            "tags": []
          },
          "execution_count": 45
        }
      ]
    },
    {
      "cell_type": "markdown",
      "metadata": {
        "id": "Qcnyh0DdI6xp",
        "colab_type": "text"
      },
      "source": [
        "Летом 2014 года дождь шёл 92 дня, то есть каждый день.\n",
        "Странно. Искать измерения, когда дождь не шёл, чтобы проверить этот результат, бесполезно, так как в один и тот же день дождь мог утром идти, а вечером нет. Если мы поделим длину изначальной таблицу (2205) на 24 часа в сутках (кажется, наблюдения делались раз в час), получится как раз 92. Видимо, дождь действительно шёл беспрерывно. Наверно, при таком результате надо приходить к выводу, что колонку \"осадки\" я перезаписала вместо того, чтобы выбрать дождливые дни, но, кажется, нет. Какое замечательное лето."
      ]
    },
    {
      "cell_type": "markdown",
      "metadata": {
        "id": "9jD5yH0pKiUY",
        "colab_type": "text"
      },
      "source": [
        "Найдём самый ветреный месяц\n",
        "\n",
        "\n"
      ]
    },
    {
      "cell_type": "code",
      "metadata": {
        "id": "v9pV0EQV36lp",
        "colab_type": "code",
        "colab": {}
      },
      "source": [
        "weather_hist['month'] = weather_hist['datetime'].dt.month"
      ],
      "execution_count": 0,
      "outputs": []
    },
    {
      "cell_type": "code",
      "metadata": {
        "id": "lUaFRSkeMWyM",
        "colab_type": "code",
        "outputId": "13089dee-1a7d-4eee-dfd9-c36dec0e049e",
        "colab": {
          "base_uri": "https://localhost:8080/",
          "height": 467
        }
      },
      "source": [
        "weather_hist.groupby('month').agg(['mean'])"
      ],
      "execution_count": 0,
      "outputs": [
        {
          "output_type": "execute_result",
          "data": {
            "text/html": [
              "<div>\n",
              "<style scoped>\n",
              "    .dataframe tbody tr th:only-of-type {\n",
              "        vertical-align: middle;\n",
              "    }\n",
              "\n",
              "    .dataframe tbody tr th {\n",
              "        vertical-align: top;\n",
              "    }\n",
              "\n",
              "    .dataframe thead tr th {\n",
              "        text-align: left;\n",
              "    }\n",
              "\n",
              "    .dataframe thead tr:last-of-type th {\n",
              "        text-align: right;\n",
              "    }\n",
              "</style>\n",
              "<table border=\"1\" class=\"dataframe\">\n",
              "  <thead>\n",
              "    <tr>\n",
              "      <th></th>\n",
              "      <th>Temperature (C)</th>\n",
              "      <th>Apparent Temperature (C)</th>\n",
              "      <th>Humidity</th>\n",
              "      <th>Wind Speed (km/h)</th>\n",
              "      <th>Wind Bearing (degrees)</th>\n",
              "      <th>Visibility (km)</th>\n",
              "      <th>Loud Cover</th>\n",
              "      <th>Pressure (millibars)</th>\n",
              "    </tr>\n",
              "    <tr>\n",
              "      <th></th>\n",
              "      <th>mean</th>\n",
              "      <th>mean</th>\n",
              "      <th>mean</th>\n",
              "      <th>mean</th>\n",
              "      <th>mean</th>\n",
              "      <th>mean</th>\n",
              "      <th>mean</th>\n",
              "      <th>mean</th>\n",
              "    </tr>\n",
              "    <tr>\n",
              "      <th>month</th>\n",
              "      <th></th>\n",
              "      <th></th>\n",
              "      <th></th>\n",
              "      <th></th>\n",
              "      <th></th>\n",
              "      <th></th>\n",
              "      <th></th>\n",
              "      <th></th>\n",
              "    </tr>\n",
              "  </thead>\n",
              "  <tbody>\n",
              "    <tr>\n",
              "      <th>1</th>\n",
              "      <td>0.815678</td>\n",
              "      <td>-1.938761</td>\n",
              "      <td>0.850698</td>\n",
              "      <td>11.515865</td>\n",
              "      <td>180.460655</td>\n",
              "      <td>7.835825</td>\n",
              "      <td>0.0</td>\n",
              "      <td>1006.245222</td>\n",
              "    </tr>\n",
              "    <tr>\n",
              "      <th>2</th>\n",
              "      <td>2.166880</td>\n",
              "      <td>-0.555908</td>\n",
              "      <td>0.813407</td>\n",
              "      <td>12.180815</td>\n",
              "      <td>188.733253</td>\n",
              "      <td>8.730536</td>\n",
              "      <td>0.0</td>\n",
              "      <td>1003.925126</td>\n",
              "    </tr>\n",
              "    <tr>\n",
              "      <th>3</th>\n",
              "      <td>6.914976</td>\n",
              "      <td>5.082583</td>\n",
              "      <td>0.702849</td>\n",
              "      <td>13.415825</td>\n",
              "      <td>186.632698</td>\n",
              "      <td>10.922231</td>\n",
              "      <td>0.0</td>\n",
              "      <td>1001.564999</td>\n",
              "    </tr>\n",
              "    <tr>\n",
              "      <th>4</th>\n",
              "      <td>12.769200</td>\n",
              "      <td>12.158287</td>\n",
              "      <td>0.641051</td>\n",
              "      <td>11.876139</td>\n",
              "      <td>186.435859</td>\n",
              "      <td>11.784991</td>\n",
              "      <td>0.0</td>\n",
              "      <td>1009.995154</td>\n",
              "    </tr>\n",
              "    <tr>\n",
              "      <th>5</th>\n",
              "      <td>16.874455</td>\n",
              "      <td>16.733265</td>\n",
              "      <td>0.691650</td>\n",
              "      <td>10.953186</td>\n",
              "      <td>188.143328</td>\n",
              "      <td>11.889730</td>\n",
              "      <td>0.0</td>\n",
              "      <td>1003.376970</td>\n",
              "    </tr>\n",
              "    <tr>\n",
              "      <th>6</th>\n",
              "      <td>20.728510</td>\n",
              "      <td>20.755415</td>\n",
              "      <td>0.686418</td>\n",
              "      <td>9.632453</td>\n",
              "      <td>202.804924</td>\n",
              "      <td>11.994000</td>\n",
              "      <td>0.0</td>\n",
              "      <td>1002.019582</td>\n",
              "    </tr>\n",
              "    <tr>\n",
              "      <th>7</th>\n",
              "      <td>22.965462</td>\n",
              "      <td>22.977605</td>\n",
              "      <td>0.639593</td>\n",
              "      <td>9.637124</td>\n",
              "      <td>202.937049</td>\n",
              "      <td>12.188605</td>\n",
              "      <td>0.0</td>\n",
              "      <td>1008.562854</td>\n",
              "    </tr>\n",
              "    <tr>\n",
              "      <th>8</th>\n",
              "      <td>22.339134</td>\n",
              "      <td>22.264600</td>\n",
              "      <td>0.635300</td>\n",
              "      <td>8.942707</td>\n",
              "      <td>195.211135</td>\n",
              "      <td>12.454307</td>\n",
              "      <td>0.0</td>\n",
              "      <td>1001.470591</td>\n",
              "    </tr>\n",
              "    <tr>\n",
              "      <th>9</th>\n",
              "      <td>17.503458</td>\n",
              "      <td>17.389856</td>\n",
              "      <td>0.689163</td>\n",
              "      <td>9.610204</td>\n",
              "      <td>187.515025</td>\n",
              "      <td>11.598414</td>\n",
              "      <td>0.0</td>\n",
              "      <td>1000.835433</td>\n",
              "    </tr>\n",
              "    <tr>\n",
              "      <th>10</th>\n",
              "      <td>11.334119</td>\n",
              "      <td>10.684673</td>\n",
              "      <td>0.774443</td>\n",
              "      <td>10.008495</td>\n",
              "      <td>177.004765</td>\n",
              "      <td>9.729957</td>\n",
              "      <td>0.0</td>\n",
              "      <td>1003.099488</td>\n",
              "    </tr>\n",
              "    <tr>\n",
              "      <th>11</th>\n",
              "      <td>6.587549</td>\n",
              "      <td>5.020255</td>\n",
              "      <td>0.827917</td>\n",
              "      <td>10.947953</td>\n",
              "      <td>173.176389</td>\n",
              "      <td>8.191922</td>\n",
              "      <td>0.0</td>\n",
              "      <td>1012.420129</td>\n",
              "    </tr>\n",
              "    <tr>\n",
              "      <th>12</th>\n",
              "      <td>1.625086</td>\n",
              "      <td>-0.960443</td>\n",
              "      <td>0.870398</td>\n",
              "      <td>11.094578</td>\n",
              "      <td>181.143084</td>\n",
              "      <td>6.769961</td>\n",
              "      <td>0.0</td>\n",
              "      <td>985.781311</td>\n",
              "    </tr>\n",
              "  </tbody>\n",
              "</table>\n",
              "</div>"
            ],
            "text/plain": [
              "      Temperature (C) Apparent Temperature (C)  ... Loud Cover Pressure (millibars)\n",
              "                 mean                     mean  ...       mean                 mean\n",
              "month                                           ...                                \n",
              "1            0.815678                -1.938761  ...        0.0          1006.245222\n",
              "2            2.166880                -0.555908  ...        0.0          1003.925126\n",
              "3            6.914976                 5.082583  ...        0.0          1001.564999\n",
              "4           12.769200                12.158287  ...        0.0          1009.995154\n",
              "5           16.874455                16.733265  ...        0.0          1003.376970\n",
              "6           20.728510                20.755415  ...        0.0          1002.019582\n",
              "7           22.965462                22.977605  ...        0.0          1008.562854\n",
              "8           22.339134                22.264600  ...        0.0          1001.470591\n",
              "9           17.503458                17.389856  ...        0.0          1000.835433\n",
              "10          11.334119                10.684673  ...        0.0          1003.099488\n",
              "11           6.587549                 5.020255  ...        0.0          1012.420129\n",
              "12           1.625086                -0.960443  ...        0.0           985.781311\n",
              "\n",
              "[12 rows x 8 columns]"
            ]
          },
          "metadata": {
            "tags": []
          },
          "execution_count": 50
        }
      ]
    },
    {
      "cell_type": "markdown",
      "metadata": {
        "id": "4W5D0kXv36mM",
        "colab_type": "text"
      },
      "source": [
        "Средняя скорость ветра выше всего в марте (13.4)"
      ]
    },
    {
      "cell_type": "code",
      "metadata": {
        "id": "AjqWTjpaM56q",
        "colab_type": "code",
        "colab": {}
      },
      "source": [
        "weather_hist.drop(['month'], axis=1, inplace=True)"
      ],
      "execution_count": 0,
      "outputs": []
    },
    {
      "cell_type": "markdown",
      "metadata": {
        "id": "AzFtAqPTNbwI",
        "colab_type": "text"
      },
      "source": [
        "Найдём самый влажный год"
      ]
    },
    {
      "cell_type": "code",
      "metadata": {
        "id": "ums2k6YONWgC",
        "colab_type": "code",
        "colab": {}
      },
      "source": [
        "weather_hist['year'] = weather_hist['datetime'].dt.year"
      ],
      "execution_count": 0,
      "outputs": []
    },
    {
      "cell_type": "markdown",
      "metadata": {
        "id": "AyJ_iBvdOEBV",
        "colab_type": "text"
      },
      "source": [
        "Определим, какие года представлены в таблице"
      ]
    },
    {
      "cell_type": "code",
      "metadata": {
        "id": "xYkPSfEsOLgs",
        "colab_type": "code",
        "outputId": "c061bc14-9fe3-4caa-a853-1375de117dea",
        "colab": {
          "base_uri": "https://localhost:8080/",
          "height": 52
        }
      },
      "source": [
        "weather_hist['year'].unique()"
      ],
      "execution_count": 0,
      "outputs": [
        {
          "output_type": "execute_result",
          "data": {
            "text/plain": [
              "array([2006, 2005, 2010, 2007, 2008, 2009, 2011, 2012, 2013, 2014, 2015,\n",
              "       2016])"
            ]
          },
          "metadata": {
            "tags": []
          },
          "execution_count": 55
        }
      ]
    },
    {
      "cell_type": "markdown",
      "metadata": {
        "id": "L1xJzLOGOcT-",
        "colab_type": "text"
      },
      "source": [
        "C 2005 по 2016, без пропусков\n",
        "Посмотрим, какие варианты заполнения колонки \"осадки\" встречаются"
      ]
    },
    {
      "cell_type": "code",
      "metadata": {
        "id": "f87Vdop7Q-KD",
        "colab_type": "code",
        "outputId": "1c62b08e-c415-4ead-9cb6-23749999de52",
        "colab": {
          "base_uri": "https://localhost:8080/",
          "height": 34
        }
      },
      "source": [
        "weather_hist['Precip Type'].unique()"
      ],
      "execution_count": 0,
      "outputs": [
        {
          "output_type": "execute_result",
          "data": {
            "text/plain": [
              "array(['rain', 'snow', nan], dtype=object)"
            ]
          },
          "metadata": {
            "tags": []
          },
          "execution_count": 57
        }
      ]
    },
    {
      "cell_type": "markdown",
      "metadata": {
        "id": "NyIi3NU0RXOG",
        "colab_type": "text"
      },
      "source": [
        "Видимо, влажности соответствует что угодно, кроме nan"
      ]
    },
    {
      "cell_type": "code",
      "metadata": {
        "id": "DP-livc6P0m2",
        "colab_type": "code",
        "outputId": "a38f2cfc-8b53-4c00-a8b1-0961ce6b03db",
        "colab": {
          "base_uri": "https://localhost:8080/",
          "height": 34
        }
      },
      "source": [
        "most_humid_year = 0\n",
        "max_humid_hours = 0\n",
        "for y in range(2005, 2017):\n",
        "  weather_year = weather_hist.loc[weather_hist['datetime'].dt.year == y]\n",
        "  weather_year_rain = weather_year.loc[weather_year['Precip Type'] == 'rain']\n",
        "  weather_year_snow = weather_year.loc[weather_year['Precip Type'] == 'snow']\n",
        "  humid_hours = len(weather_year_rain['datetime'].unique()) + len(weather_year_snow['datetime'].unique()) \n",
        "  if humid_hours > max_humid_hours:\n",
        "    max_humid_hours = humid_hours\n",
        "    most_humid_year = y\n",
        "print(y)"
      ],
      "execution_count": 0,
      "outputs": [
        {
          "output_type": "stream",
          "text": [
            "2016\n"
          ],
          "name": "stdout"
        }
      ]
    },
    {
      "cell_type": "markdown",
      "metadata": {
        "id": "VoYGI2WaUiVo",
        "colab_type": "text"
      },
      "source": [
        "Самый влажный год - 2016\n"
      ]
    },
    {
      "cell_type": "code",
      "metadata": {
        "id": "PNwVcjR2UnxV",
        "colab_type": "code",
        "colab": {}
      },
      "source": [
        "weather_hist.drop(['year'], axis=1, inplace=True)"
      ],
      "execution_count": 0,
      "outputs": []
    },
    {
      "cell_type": "markdown",
      "metadata": {
        "id": "8KpUtSiSU19w",
        "colab_type": "text"
      },
      "source": [
        "Найдём неделю с самой переменчивой погодой"
      ]
    },
    {
      "cell_type": "code",
      "metadata": {
        "colab_type": "code",
        "id": "EUEzH_OCVEz0",
        "colab": {}
      },
      "source": [
        "weather_hist['week'] = weather_hist['datetime'].dt.week"
      ],
      "execution_count": 0,
      "outputs": []
    },
    {
      "cell_type": "markdown",
      "metadata": {
        "id": "Vg237LvRWSqa",
        "colab_type": "text"
      },
      "source": [
        "Если ориентироваться на температуру, самая переменчивая погода бывает на 34 неделе года"
      ]
    },
    {
      "cell_type": "code",
      "metadata": {
        "id": "VUmrHjgnV4sC",
        "colab_type": "code",
        "outputId": "9a74cb68-1031-4430-e406-087672233185",
        "colab": {
          "base_uri": "https://localhost:8080/",
          "height": 1000
        }
      },
      "source": [
        "weather_hist.groupby('week').agg(['std'])"
      ],
      "execution_count": 0,
      "outputs": [
        {
          "output_type": "execute_result",
          "data": {
            "text/html": [
              "<div>\n",
              "<style scoped>\n",
              "    .dataframe tbody tr th:only-of-type {\n",
              "        vertical-align: middle;\n",
              "    }\n",
              "\n",
              "    .dataframe tbody tr th {\n",
              "        vertical-align: top;\n",
              "    }\n",
              "\n",
              "    .dataframe thead tr th {\n",
              "        text-align: left;\n",
              "    }\n",
              "\n",
              "    .dataframe thead tr:last-of-type th {\n",
              "        text-align: right;\n",
              "    }\n",
              "</style>\n",
              "<table border=\"1\" class=\"dataframe\">\n",
              "  <thead>\n",
              "    <tr>\n",
              "      <th></th>\n",
              "      <th>Temperature (C)</th>\n",
              "      <th>Apparent Temperature (C)</th>\n",
              "      <th>Humidity</th>\n",
              "      <th>Wind Speed (km/h)</th>\n",
              "      <th>Wind Bearing (degrees)</th>\n",
              "      <th>Visibility (km)</th>\n",
              "      <th>Loud Cover</th>\n",
              "      <th>Pressure (millibars)</th>\n",
              "    </tr>\n",
              "    <tr>\n",
              "      <th></th>\n",
              "      <th>std</th>\n",
              "      <th>std</th>\n",
              "      <th>std</th>\n",
              "      <th>std</th>\n",
              "      <th>std</th>\n",
              "      <th>std</th>\n",
              "      <th>std</th>\n",
              "      <th>std</th>\n",
              "    </tr>\n",
              "    <tr>\n",
              "      <th>week</th>\n",
              "      <th></th>\n",
              "      <th></th>\n",
              "      <th></th>\n",
              "      <th></th>\n",
              "      <th></th>\n",
              "      <th></th>\n",
              "      <th></th>\n",
              "      <th></th>\n",
              "    </tr>\n",
              "  </thead>\n",
              "  <tbody>\n",
              "    <tr>\n",
              "      <th>1</th>\n",
              "      <td>5.008042</td>\n",
              "      <td>5.530550</td>\n",
              "      <td>0.101536</td>\n",
              "      <td>7.393594</td>\n",
              "      <td>97.107004</td>\n",
              "      <td>4.314909</td>\n",
              "      <td>0.0</td>\n",
              "      <td>246.685649</td>\n",
              "    </tr>\n",
              "    <tr>\n",
              "      <th>2</th>\n",
              "      <td>4.811115</td>\n",
              "      <td>5.394467</td>\n",
              "      <td>0.113069</td>\n",
              "      <td>6.531584</td>\n",
              "      <td>99.837951</td>\n",
              "      <td>4.991813</td>\n",
              "      <td>0.0</td>\n",
              "      <td>89.103028</td>\n",
              "    </tr>\n",
              "    <tr>\n",
              "      <th>3</th>\n",
              "      <td>4.532339</td>\n",
              "      <td>5.165160</td>\n",
              "      <td>0.107841</td>\n",
              "      <td>6.884513</td>\n",
              "      <td>91.283170</td>\n",
              "      <td>4.638049</td>\n",
              "      <td>0.0</td>\n",
              "      <td>67.561625</td>\n",
              "    </tr>\n",
              "    <tr>\n",
              "      <th>4</th>\n",
              "      <td>5.482606</td>\n",
              "      <td>6.102784</td>\n",
              "      <td>0.118193</td>\n",
              "      <td>7.777317</td>\n",
              "      <td>111.060259</td>\n",
              "      <td>4.480531</td>\n",
              "      <td>0.0</td>\n",
              "      <td>42.686836</td>\n",
              "    </tr>\n",
              "    <tr>\n",
              "      <th>5</th>\n",
              "      <td>5.251543</td>\n",
              "      <td>5.925691</td>\n",
              "      <td>0.132209</td>\n",
              "      <td>8.692668</td>\n",
              "      <td>104.658320</td>\n",
              "      <td>4.409161</td>\n",
              "      <td>0.0</td>\n",
              "      <td>122.760869</td>\n",
              "    </tr>\n",
              "    <tr>\n",
              "      <th>6</th>\n",
              "      <td>6.456311</td>\n",
              "      <td>7.246163</td>\n",
              "      <td>0.129590</td>\n",
              "      <td>7.094790</td>\n",
              "      <td>99.705722</td>\n",
              "      <td>4.623077</td>\n",
              "      <td>0.0</td>\n",
              "      <td>110.584848</td>\n",
              "    </tr>\n",
              "    <tr>\n",
              "      <th>7</th>\n",
              "      <td>4.628565</td>\n",
              "      <td>5.535001</td>\n",
              "      <td>0.127673</td>\n",
              "      <td>7.037540</td>\n",
              "      <td>99.560439</td>\n",
              "      <td>4.267868</td>\n",
              "      <td>0.0</td>\n",
              "      <td>160.344471</td>\n",
              "    </tr>\n",
              "    <tr>\n",
              "      <th>8</th>\n",
              "      <td>4.967552</td>\n",
              "      <td>5.908516</td>\n",
              "      <td>0.148057</td>\n",
              "      <td>7.138245</td>\n",
              "      <td>105.554739</td>\n",
              "      <td>4.156512</td>\n",
              "      <td>0.0</td>\n",
              "      <td>48.021065</td>\n",
              "    </tr>\n",
              "    <tr>\n",
              "      <th>9</th>\n",
              "      <td>4.839419</td>\n",
              "      <td>5.658514</td>\n",
              "      <td>0.153718</td>\n",
              "      <td>7.207053</td>\n",
              "      <td>98.208495</td>\n",
              "      <td>3.995919</td>\n",
              "      <td>0.0</td>\n",
              "      <td>105.512072</td>\n",
              "    </tr>\n",
              "    <tr>\n",
              "      <th>10</th>\n",
              "      <td>4.947341</td>\n",
              "      <td>6.001244</td>\n",
              "      <td>0.157593</td>\n",
              "      <td>8.092508</td>\n",
              "      <td>115.921219</td>\n",
              "      <td>3.534835</td>\n",
              "      <td>0.0</td>\n",
              "      <td>113.255560</td>\n",
              "    </tr>\n",
              "    <tr>\n",
              "      <th>11</th>\n",
              "      <td>5.265073</td>\n",
              "      <td>6.399644</td>\n",
              "      <td>0.191548</td>\n",
              "      <td>8.342104</td>\n",
              "      <td>108.675366</td>\n",
              "      <td>3.675687</td>\n",
              "      <td>0.0</td>\n",
              "      <td>122.570227</td>\n",
              "    </tr>\n",
              "    <tr>\n",
              "      <th>12</th>\n",
              "      <td>5.452593</td>\n",
              "      <td>6.789302</td>\n",
              "      <td>0.190884</td>\n",
              "      <td>8.363720</td>\n",
              "      <td>111.510796</td>\n",
              "      <td>3.303816</td>\n",
              "      <td>0.0</td>\n",
              "      <td>146.403166</td>\n",
              "    </tr>\n",
              "    <tr>\n",
              "      <th>13</th>\n",
              "      <td>5.334651</td>\n",
              "      <td>6.508104</td>\n",
              "      <td>0.197237</td>\n",
              "      <td>8.477027</td>\n",
              "      <td>99.867989</td>\n",
              "      <td>3.500306</td>\n",
              "      <td>0.0</td>\n",
              "      <td>107.712620</td>\n",
              "    </tr>\n",
              "    <tr>\n",
              "      <th>14</th>\n",
              "      <td>5.272616</td>\n",
              "      <td>6.310754</td>\n",
              "      <td>0.193015</td>\n",
              "      <td>8.070549</td>\n",
              "      <td>112.966202</td>\n",
              "      <td>3.309238</td>\n",
              "      <td>0.0</td>\n",
              "      <td>41.245168</td>\n",
              "    </tr>\n",
              "    <tr>\n",
              "      <th>15</th>\n",
              "      <td>5.270850</td>\n",
              "      <td>6.040311</td>\n",
              "      <td>0.197066</td>\n",
              "      <td>7.490980</td>\n",
              "      <td>105.546389</td>\n",
              "      <td>3.267526</td>\n",
              "      <td>0.0</td>\n",
              "      <td>94.238453</td>\n",
              "    </tr>\n",
              "    <tr>\n",
              "      <th>16</th>\n",
              "      <td>5.020456</td>\n",
              "      <td>5.607845</td>\n",
              "      <td>0.208602</td>\n",
              "      <td>6.792677</td>\n",
              "      <td>116.996924</td>\n",
              "      <td>3.559322</td>\n",
              "      <td>0.0</td>\n",
              "      <td>6.580682</td>\n",
              "    </tr>\n",
              "    <tr>\n",
              "      <th>17</th>\n",
              "      <td>5.413772</td>\n",
              "      <td>5.765406</td>\n",
              "      <td>0.204314</td>\n",
              "      <td>6.125820</td>\n",
              "      <td>95.453471</td>\n",
              "      <td>3.032426</td>\n",
              "      <td>0.0</td>\n",
              "      <td>78.377524</td>\n",
              "    </tr>\n",
              "    <tr>\n",
              "      <th>18</th>\n",
              "      <td>5.522132</td>\n",
              "      <td>5.814538</td>\n",
              "      <td>0.205129</td>\n",
              "      <td>6.891334</td>\n",
              "      <td>111.801960</td>\n",
              "      <td>3.013022</td>\n",
              "      <td>0.0</td>\n",
              "      <td>166.223026</td>\n",
              "    </tr>\n",
              "    <tr>\n",
              "      <th>19</th>\n",
              "      <td>5.025860</td>\n",
              "      <td>5.253456</td>\n",
              "      <td>0.199540</td>\n",
              "      <td>7.063987</td>\n",
              "      <td>109.984406</td>\n",
              "      <td>3.161776</td>\n",
              "      <td>0.0</td>\n",
              "      <td>81.778383</td>\n",
              "    </tr>\n",
              "    <tr>\n",
              "      <th>20</th>\n",
              "      <td>5.262296</td>\n",
              "      <td>5.506798</td>\n",
              "      <td>0.184618</td>\n",
              "      <td>7.416471</td>\n",
              "      <td>118.379217</td>\n",
              "      <td>2.965180</td>\n",
              "      <td>0.0</td>\n",
              "      <td>24.043112</td>\n",
              "    </tr>\n",
              "    <tr>\n",
              "      <th>21</th>\n",
              "      <td>4.923256</td>\n",
              "      <td>4.905467</td>\n",
              "      <td>0.188684</td>\n",
              "      <td>6.277847</td>\n",
              "      <td>106.126279</td>\n",
              "      <td>2.858820</td>\n",
              "      <td>0.0</td>\n",
              "      <td>74.507895</td>\n",
              "    </tr>\n",
              "    <tr>\n",
              "      <th>22</th>\n",
              "      <td>5.221413</td>\n",
              "      <td>5.287079</td>\n",
              "      <td>0.183340</td>\n",
              "      <td>5.478476</td>\n",
              "      <td>102.724662</td>\n",
              "      <td>2.969616</td>\n",
              "      <td>0.0</td>\n",
              "      <td>99.612098</td>\n",
              "    </tr>\n",
              "    <tr>\n",
              "      <th>23</th>\n",
              "      <td>5.599345</td>\n",
              "      <td>5.678155</td>\n",
              "      <td>0.194851</td>\n",
              "      <td>5.596402</td>\n",
              "      <td>108.420233</td>\n",
              "      <td>3.176042</td>\n",
              "      <td>0.0</td>\n",
              "      <td>33.686783</td>\n",
              "    </tr>\n",
              "    <tr>\n",
              "      <th>24</th>\n",
              "      <td>5.158063</td>\n",
              "      <td>5.128353</td>\n",
              "      <td>0.203184</td>\n",
              "      <td>5.791146</td>\n",
              "      <td>110.424590</td>\n",
              "      <td>2.896006</td>\n",
              "      <td>0.0</td>\n",
              "      <td>130.318992</td>\n",
              "    </tr>\n",
              "    <tr>\n",
              "      <th>25</th>\n",
              "      <td>5.794001</td>\n",
              "      <td>6.013124</td>\n",
              "      <td>0.204837</td>\n",
              "      <td>5.872436</td>\n",
              "      <td>112.345306</td>\n",
              "      <td>2.883095</td>\n",
              "      <td>0.0</td>\n",
              "      <td>166.398242</td>\n",
              "    </tr>\n",
              "    <tr>\n",
              "      <th>26</th>\n",
              "      <td>5.538135</td>\n",
              "      <td>5.616053</td>\n",
              "      <td>0.207666</td>\n",
              "      <td>5.843644</td>\n",
              "      <td>114.052529</td>\n",
              "      <td>2.888135</td>\n",
              "      <td>0.0</td>\n",
              "      <td>74.544189</td>\n",
              "    </tr>\n",
              "    <tr>\n",
              "      <th>27</th>\n",
              "      <td>5.677395</td>\n",
              "      <td>5.604498</td>\n",
              "      <td>0.216169</td>\n",
              "      <td>6.027635</td>\n",
              "      <td>112.726747</td>\n",
              "      <td>3.015309</td>\n",
              "      <td>0.0</td>\n",
              "      <td>52.981288</td>\n",
              "    </tr>\n",
              "    <tr>\n",
              "      <th>28</th>\n",
              "      <td>5.755464</td>\n",
              "      <td>5.898430</td>\n",
              "      <td>0.205628</td>\n",
              "      <td>5.776108</td>\n",
              "      <td>108.671245</td>\n",
              "      <td>2.853128</td>\n",
              "      <td>0.0</td>\n",
              "      <td>105.067709</td>\n",
              "    </tr>\n",
              "    <tr>\n",
              "      <th>29</th>\n",
              "      <td>5.864455</td>\n",
              "      <td>5.895502</td>\n",
              "      <td>0.216166</td>\n",
              "      <td>6.088937</td>\n",
              "      <td>111.021057</td>\n",
              "      <td>2.827400</td>\n",
              "      <td>0.0</td>\n",
              "      <td>102.531259</td>\n",
              "    </tr>\n",
              "    <tr>\n",
              "      <th>30</th>\n",
              "      <td>5.587042</td>\n",
              "      <td>5.563011</td>\n",
              "      <td>0.221947</td>\n",
              "      <td>6.041617</td>\n",
              "      <td>111.881199</td>\n",
              "      <td>3.207886</td>\n",
              "      <td>0.0</td>\n",
              "      <td>23.811323</td>\n",
              "    </tr>\n",
              "    <tr>\n",
              "      <th>31</th>\n",
              "      <td>5.383029</td>\n",
              "      <td>5.370217</td>\n",
              "      <td>0.210266</td>\n",
              "      <td>5.263082</td>\n",
              "      <td>119.307987</td>\n",
              "      <td>2.935712</td>\n",
              "      <td>0.0</td>\n",
              "      <td>74.070267</td>\n",
              "    </tr>\n",
              "    <tr>\n",
              "      <th>32</th>\n",
              "      <td>5.709605</td>\n",
              "      <td>5.716168</td>\n",
              "      <td>0.212906</td>\n",
              "      <td>5.425355</td>\n",
              "      <td>123.368583</td>\n",
              "      <td>2.922807</td>\n",
              "      <td>0.0</td>\n",
              "      <td>107.605653</td>\n",
              "    </tr>\n",
              "    <tr>\n",
              "      <th>33</th>\n",
              "      <td>5.925675</td>\n",
              "      <td>5.762977</td>\n",
              "      <td>0.216900</td>\n",
              "      <td>5.591991</td>\n",
              "      <td>117.547275</td>\n",
              "      <td>2.980866</td>\n",
              "      <td>0.0</td>\n",
              "      <td>57.886752</td>\n",
              "    </tr>\n",
              "    <tr>\n",
              "      <th>34</th>\n",
              "      <td>6.149509</td>\n",
              "      <td>5.916474</td>\n",
              "      <td>0.223476</td>\n",
              "      <td>6.005965</td>\n",
              "      <td>115.534163</td>\n",
              "      <td>2.936343</td>\n",
              "      <td>0.0</td>\n",
              "      <td>121.962378</td>\n",
              "    </tr>\n",
              "    <tr>\n",
              "      <th>35</th>\n",
              "      <td>5.875341</td>\n",
              "      <td>5.673549</td>\n",
              "      <td>0.221038</td>\n",
              "      <td>6.228777</td>\n",
              "      <td>114.785929</td>\n",
              "      <td>3.106645</td>\n",
              "      <td>0.0</td>\n",
              "      <td>174.319196</td>\n",
              "    </tr>\n",
              "    <tr>\n",
              "      <th>36</th>\n",
              "      <td>6.043471</td>\n",
              "      <td>5.967835</td>\n",
              "      <td>0.216281</td>\n",
              "      <td>5.979321</td>\n",
              "      <td>115.037783</td>\n",
              "      <td>3.507573</td>\n",
              "      <td>0.0</td>\n",
              "      <td>99.924434</td>\n",
              "    </tr>\n",
              "    <tr>\n",
              "      <th>37</th>\n",
              "      <td>5.163760</td>\n",
              "      <td>5.136622</td>\n",
              "      <td>0.209729</td>\n",
              "      <td>6.085962</td>\n",
              "      <td>114.579830</td>\n",
              "      <td>3.506689</td>\n",
              "      <td>0.0</td>\n",
              "      <td>174.367014</td>\n",
              "    </tr>\n",
              "    <tr>\n",
              "      <th>38</th>\n",
              "      <td>5.689703</td>\n",
              "      <td>5.848190</td>\n",
              "      <td>0.188260</td>\n",
              "      <td>6.303168</td>\n",
              "      <td>115.272724</td>\n",
              "      <td>3.632398</td>\n",
              "      <td>0.0</td>\n",
              "      <td>153.414098</td>\n",
              "    </tr>\n",
              "    <tr>\n",
              "      <th>39</th>\n",
              "      <td>5.315730</td>\n",
              "      <td>5.388077</td>\n",
              "      <td>0.194418</td>\n",
              "      <td>6.206881</td>\n",
              "      <td>119.699321</td>\n",
              "      <td>3.339016</td>\n",
              "      <td>0.0</td>\n",
              "      <td>24.364101</td>\n",
              "    </tr>\n",
              "    <tr>\n",
              "      <th>40</th>\n",
              "      <td>5.486404</td>\n",
              "      <td>5.932160</td>\n",
              "      <td>0.183379</td>\n",
              "      <td>6.465498</td>\n",
              "      <td>112.980725</td>\n",
              "      <td>3.510895</td>\n",
              "      <td>0.0</td>\n",
              "      <td>122.502358</td>\n",
              "    </tr>\n",
              "    <tr>\n",
              "      <th>41</th>\n",
              "      <td>5.161809</td>\n",
              "      <td>5.596601</td>\n",
              "      <td>0.174645</td>\n",
              "      <td>5.479907</td>\n",
              "      <td>113.519218</td>\n",
              "      <td>4.103450</td>\n",
              "      <td>0.0</td>\n",
              "      <td>108.252108</td>\n",
              "    </tr>\n",
              "    <tr>\n",
              "      <th>42</th>\n",
              "      <td>5.234595</td>\n",
              "      <td>6.054321</td>\n",
              "      <td>0.167927</td>\n",
              "      <td>7.430465</td>\n",
              "      <td>94.753756</td>\n",
              "      <td>3.933922</td>\n",
              "      <td>0.0</td>\n",
              "      <td>78.628116</td>\n",
              "    </tr>\n",
              "    <tr>\n",
              "      <th>43</th>\n",
              "      <td>4.911441</td>\n",
              "      <td>5.653080</td>\n",
              "      <td>0.140614</td>\n",
              "      <td>6.717006</td>\n",
              "      <td>101.453535</td>\n",
              "      <td>4.554591</td>\n",
              "      <td>0.0</td>\n",
              "      <td>118.073410</td>\n",
              "    </tr>\n",
              "    <tr>\n",
              "      <th>44</th>\n",
              "      <td>5.231834</td>\n",
              "      <td>6.106931</td>\n",
              "      <td>0.144379</td>\n",
              "      <td>7.299589</td>\n",
              "      <td>97.532059</td>\n",
              "      <td>4.426513</td>\n",
              "      <td>0.0</td>\n",
              "      <td>181.023391</td>\n",
              "    </tr>\n",
              "    <tr>\n",
              "      <th>45</th>\n",
              "      <td>4.951843</td>\n",
              "      <td>5.719654</td>\n",
              "      <td>0.128664</td>\n",
              "      <td>7.402578</td>\n",
              "      <td>84.429960</td>\n",
              "      <td>4.294965</td>\n",
              "      <td>0.0</td>\n",
              "      <td>53.756782</td>\n",
              "    </tr>\n",
              "    <tr>\n",
              "      <th>46</th>\n",
              "      <td>4.762689</td>\n",
              "      <td>5.507786</td>\n",
              "      <td>0.120901</td>\n",
              "      <td>6.068201</td>\n",
              "      <td>94.005725</td>\n",
              "      <td>4.326724</td>\n",
              "      <td>0.0</td>\n",
              "      <td>34.255564</td>\n",
              "    </tr>\n",
              "    <tr>\n",
              "      <th>47</th>\n",
              "      <td>4.133849</td>\n",
              "      <td>4.822966</td>\n",
              "      <td>0.108823</td>\n",
              "      <td>6.485779</td>\n",
              "      <td>83.797797</td>\n",
              "      <td>4.281548</td>\n",
              "      <td>0.0</td>\n",
              "      <td>110.825902</td>\n",
              "    </tr>\n",
              "    <tr>\n",
              "      <th>48</th>\n",
              "      <td>3.617409</td>\n",
              "      <td>4.412850</td>\n",
              "      <td>0.105251</td>\n",
              "      <td>6.351566</td>\n",
              "      <td>97.758820</td>\n",
              "      <td>4.396175</td>\n",
              "      <td>0.0</td>\n",
              "      <td>58.604245</td>\n",
              "    </tr>\n",
              "    <tr>\n",
              "      <th>49</th>\n",
              "      <td>4.155522</td>\n",
              "      <td>5.293422</td>\n",
              "      <td>0.103713</td>\n",
              "      <td>7.918307</td>\n",
              "      <td>89.751549</td>\n",
              "      <td>4.245074</td>\n",
              "      <td>0.0</td>\n",
              "      <td>97.432926</td>\n",
              "    </tr>\n",
              "    <tr>\n",
              "      <th>50</th>\n",
              "      <td>4.280489</td>\n",
              "      <td>5.230743</td>\n",
              "      <td>0.100274</td>\n",
              "      <td>7.077564</td>\n",
              "      <td>97.881158</td>\n",
              "      <td>4.478506</td>\n",
              "      <td>0.0</td>\n",
              "      <td>122.970632</td>\n",
              "    </tr>\n",
              "    <tr>\n",
              "      <th>51</th>\n",
              "      <td>4.211092</td>\n",
              "      <td>4.843199</td>\n",
              "      <td>0.084308</td>\n",
              "      <td>6.394904</td>\n",
              "      <td>98.759685</td>\n",
              "      <td>3.601052</td>\n",
              "      <td>0.0</td>\n",
              "      <td>219.360546</td>\n",
              "    </tr>\n",
              "    <tr>\n",
              "      <th>52</th>\n",
              "      <td>4.982740</td>\n",
              "      <td>5.411689</td>\n",
              "      <td>0.108186</td>\n",
              "      <td>7.435814</td>\n",
              "      <td>85.995485</td>\n",
              "      <td>4.574607</td>\n",
              "      <td>0.0</td>\n",
              "      <td>239.578330</td>\n",
              "    </tr>\n",
              "    <tr>\n",
              "      <th>53</th>\n",
              "      <td>5.182074</td>\n",
              "      <td>6.185802</td>\n",
              "      <td>0.115782</td>\n",
              "      <td>6.664950</td>\n",
              "      <td>105.927199</td>\n",
              "      <td>4.928993</td>\n",
              "      <td>0.0</td>\n",
              "      <td>14.736563</td>\n",
              "    </tr>\n",
              "  </tbody>\n",
              "</table>\n",
              "</div>"
            ],
            "text/plain": [
              "     Temperature (C) Apparent Temperature (C)  ... Loud Cover Pressure (millibars)\n",
              "                 std                      std  ...        std                  std\n",
              "week                                           ...                                \n",
              "1           5.008042                 5.530550  ...        0.0           246.685649\n",
              "2           4.811115                 5.394467  ...        0.0            89.103028\n",
              "3           4.532339                 5.165160  ...        0.0            67.561625\n",
              "4           5.482606                 6.102784  ...        0.0            42.686836\n",
              "5           5.251543                 5.925691  ...        0.0           122.760869\n",
              "6           6.456311                 7.246163  ...        0.0           110.584848\n",
              "7           4.628565                 5.535001  ...        0.0           160.344471\n",
              "8           4.967552                 5.908516  ...        0.0            48.021065\n",
              "9           4.839419                 5.658514  ...        0.0           105.512072\n",
              "10          4.947341                 6.001244  ...        0.0           113.255560\n",
              "11          5.265073                 6.399644  ...        0.0           122.570227\n",
              "12          5.452593                 6.789302  ...        0.0           146.403166\n",
              "13          5.334651                 6.508104  ...        0.0           107.712620\n",
              "14          5.272616                 6.310754  ...        0.0            41.245168\n",
              "15          5.270850                 6.040311  ...        0.0            94.238453\n",
              "16          5.020456                 5.607845  ...        0.0             6.580682\n",
              "17          5.413772                 5.765406  ...        0.0            78.377524\n",
              "18          5.522132                 5.814538  ...        0.0           166.223026\n",
              "19          5.025860                 5.253456  ...        0.0            81.778383\n",
              "20          5.262296                 5.506798  ...        0.0            24.043112\n",
              "21          4.923256                 4.905467  ...        0.0            74.507895\n",
              "22          5.221413                 5.287079  ...        0.0            99.612098\n",
              "23          5.599345                 5.678155  ...        0.0            33.686783\n",
              "24          5.158063                 5.128353  ...        0.0           130.318992\n",
              "25          5.794001                 6.013124  ...        0.0           166.398242\n",
              "26          5.538135                 5.616053  ...        0.0            74.544189\n",
              "27          5.677395                 5.604498  ...        0.0            52.981288\n",
              "28          5.755464                 5.898430  ...        0.0           105.067709\n",
              "29          5.864455                 5.895502  ...        0.0           102.531259\n",
              "30          5.587042                 5.563011  ...        0.0            23.811323\n",
              "31          5.383029                 5.370217  ...        0.0            74.070267\n",
              "32          5.709605                 5.716168  ...        0.0           107.605653\n",
              "33          5.925675                 5.762977  ...        0.0            57.886752\n",
              "34          6.149509                 5.916474  ...        0.0           121.962378\n",
              "35          5.875341                 5.673549  ...        0.0           174.319196\n",
              "36          6.043471                 5.967835  ...        0.0            99.924434\n",
              "37          5.163760                 5.136622  ...        0.0           174.367014\n",
              "38          5.689703                 5.848190  ...        0.0           153.414098\n",
              "39          5.315730                 5.388077  ...        0.0            24.364101\n",
              "40          5.486404                 5.932160  ...        0.0           122.502358\n",
              "41          5.161809                 5.596601  ...        0.0           108.252108\n",
              "42          5.234595                 6.054321  ...        0.0            78.628116\n",
              "43          4.911441                 5.653080  ...        0.0           118.073410\n",
              "44          5.231834                 6.106931  ...        0.0           181.023391\n",
              "45          4.951843                 5.719654  ...        0.0            53.756782\n",
              "46          4.762689                 5.507786  ...        0.0            34.255564\n",
              "47          4.133849                 4.822966  ...        0.0           110.825902\n",
              "48          3.617409                 4.412850  ...        0.0            58.604245\n",
              "49          4.155522                 5.293422  ...        0.0            97.432926\n",
              "50          4.280489                 5.230743  ...        0.0           122.970632\n",
              "51          4.211092                 4.843199  ...        0.0           219.360546\n",
              "52          4.982740                 5.411689  ...        0.0           239.578330\n",
              "53          5.182074                 6.185802  ...        0.0            14.736563\n",
              "\n",
              "[53 rows x 8 columns]"
            ]
          },
          "metadata": {
            "tags": []
          },
          "execution_count": 64
        }
      ]
    },
    {
      "cell_type": "markdown",
      "metadata": {
        "id": "KlwY1iwv36yJ",
        "colab_type": "text"
      },
      "source": [
        "## Регрессия на тексте"
      ]
    },
    {
      "cell_type": "code",
      "metadata": {
        "scrolled": true,
        "id": "E28juK0036yP",
        "colab_type": "code",
        "outputId": "6dcab45a-9417-4d86-9bf3-56b7230078af",
        "colab": {
          "resources": {
            "http://localhost:8080/nbextensions/google.colab/files.js": {
              "data": "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",
              "ok": true,
              "headers": [
                [
                  "content-type",
                  "application/javascript"
                ]
              ],
              "status": 200,
              "status_text": ""
            }
          },
          "base_uri": "https://localhost:8080/",
          "height": 74
        }
      },
      "source": [
        "from google.colab import files\n",
        "uploaded = files.upload()"
      ],
      "execution_count": 2,
      "outputs": [
        {
          "output_type": "display_data",
          "data": {
            "text/html": [
              "\n",
              "     <input type=\"file\" id=\"files-78e6627e-79c0-4f4b-b73f-d4325663a3f5\" name=\"files[]\" multiple disabled />\n",
              "     <output id=\"result-78e6627e-79c0-4f4b-b73f-d4325663a3f5\">\n",
              "      Upload widget is only available when the cell has been executed in the\n",
              "      current browser session. Please rerun this cell to enable.\n",
              "      </output>\n",
              "      <script src=\"/nbextensions/google.colab/files.js\"></script> "
            ],
            "text/plain": [
              "<IPython.core.display.HTML object>"
            ]
          },
          "metadata": {
            "tags": []
          }
        },
        {
          "output_type": "stream",
          "text": [
            "Saving data.csv to data.csv\n"
          ],
          "name": "stdout"
        }
      ]
    },
    {
      "cell_type": "code",
      "metadata": {
        "id": "tFMb0fm9XyT9",
        "colab_type": "code",
        "colab": {}
      },
      "source": [
        "import pandas as pd"
      ],
      "execution_count": 0,
      "outputs": []
    },
    {
      "cell_type": "code",
      "metadata": {
        "id": "oQUHYYuS36yr",
        "colab_type": "code",
        "colab": {}
      },
      "source": [
        "data = pd.read_csv('data.csv')"
      ],
      "execution_count": 0,
      "outputs": []
    },
    {
      "cell_type": "code",
      "metadata": {
        "id": "i9xY3RAP36zV",
        "colab_type": "code",
        "colab": {}
      },
      "source": [
        "import numpy as np\n",
        "from sklearn.metrics import mean_squared_error"
      ],
      "execution_count": 0,
      "outputs": []
    },
    {
      "cell_type": "code",
      "metadata": {
        "id": "zhfjtNaG360L",
        "colab_type": "code",
        "colab": {}
      },
      "source": [
        "data['text_len'] = data['description'].apply(len)\n",
        "data['text_len_tokens'] = data['description'].apply(lambda x: len(x.split()))\n",
        "data['number_of_caps'] = data['description'].apply(lambda x: len([ch for ch in x if ch.isupper()]))\n",
        "data['number_of_nonalphanum'] = data['description'].apply(lambda x: len([ch for ch in x if not ch.isalnum()]))"
      ],
      "execution_count": 0,
      "outputs": []
    },
    {
      "cell_type": "code",
      "metadata": {
        "id": "EK8quOiV361_",
        "colab_type": "code",
        "colab": {}
      },
      "source": [
        ""
      ],
      "execution_count": 0,
      "outputs": []
    },
    {
      "cell_type": "markdown",
      "metadata": {
        "id": "4tRPja0A363W",
        "colab_type": "text"
      },
      "source": [
        "### Домашнее задание 2\n",
        "\n",
        "Попробуйте придумать признаки (как минимум 5), которые можно извлечь из текста, помимо тех 4, которые мы уже использовали. Обучите модель на них и проверьте, улучашается ли качество. Опишите признаки, которое придумали и почему считаете, что они должны показывать вероятность покупки.\n",
        "\n",
        "Побробуйте подобрать параметры векторизатора (TfidfVectorizer или CountVectorizer, или обоих) и параметры алгоритма так, чтобы качество, которое у нас получилось (0.248) улучшилось. Опишите то, что попробовали.\n"
      ]
    },
    {
      "cell_type": "markdown",
      "metadata": {
        "id": "EofWWoXmjJID",
        "colab_type": "text"
      },
      "source": [
        "Признак 1: количество чисел и последовательностей букв, обозначающих размеры одежды. Характеризует точность описания"
      ]
    },
    {
      "cell_type": "code",
      "metadata": {
        "id": "gKX0cOZEjck_",
        "colab_type": "code",
        "colab": {}
      },
      "source": [
        "import re\n",
        "def size_in_text(text):\n",
        "  n = len(re.findall('([0-9]+)([\\.,]?)([0-9]+)?', text)) + len(re.findall('X*[SML]', text))\n",
        "  return(n)\n"
      ],
      "execution_count": 0,
      "outputs": []
    },
    {
      "cell_type": "code",
      "metadata": {
        "id": "BFjW22HLGRhz",
        "colab_type": "code",
        "colab": {}
      },
      "source": [
        "data['size_info'] = data['description'].apply(lambda x: size_in_text(x))"
      ],
      "execution_count": 0,
      "outputs": []
    },
    {
      "cell_type": "markdown",
      "metadata": {
        "id": "SoPA35Dwkp_j",
        "colab_type": "text"
      },
      "source": [
        "Признак 2: количесиво вопросительных и восклицательных знаков. Предполагается, что, чем их больше, тем более ненейтрально описаник"
      ]
    },
    {
      "cell_type": "code",
      "metadata": {
        "id": "ERYsV2bz9br1",
        "colab_type": "code",
        "colab": {}
      },
      "source": [
        "def question_and_exclamation_marks(text):\n",
        "  question = text.count('?')\n",
        "  exclamation = text.count('!')\n",
        "  n = question + exclamation\n",
        "  return(n)"
      ],
      "execution_count": 0,
      "outputs": []
    },
    {
      "cell_type": "code",
      "metadata": {
        "id": "POzaZswiGzQT",
        "colab_type": "code",
        "colab": {}
      },
      "source": [
        "data['question_and_exclamation'] = data['description'].apply(lambda x: question_and_exclamation_marks(x))"
      ],
      "execution_count": 0,
      "outputs": []
    },
    {
      "cell_type": "markdown",
      "metadata": {
        "id": "-ICXA2L8kz9E",
        "colab_type": "text"
      },
      "source": [
        "Признак 3. Доля причастий и деепричастий среди русских слов. Чем их больше, тем более книжным кажется текст"
      ]
    },
    {
      "cell_type": "code",
      "metadata": {
        "id": "SYP2A7nTBl1x",
        "colab_type": "code",
        "colab": {
          "base_uri": "https://localhost:8080/",
          "height": 374
        },
        "outputId": "28bedca7-aae6-4668-faa0-f91b4d5961ad"
      },
      "source": [
        "!pip install pymorphy2[fast]\n",
        "import pymorphy2"
      ],
      "execution_count": 15,
      "outputs": [
        {
          "output_type": "stream",
          "text": [
            "Collecting pymorphy2[fast]\n",
            "\u001b[?25l  Downloading https://files.pythonhosted.org/packages/a3/33/fff9675c68b5f6c63ec8c6e6ff57827dda28a1fa5b2c2d727dffff92dd47/pymorphy2-0.8-py2.py3-none-any.whl (46kB)\n",
            "\r\u001b[K     |███████                         | 10kB 27.3MB/s eta 0:00:01\r\u001b[K     |██████████████▏                 | 20kB 5.9MB/s eta 0:00:01\r\u001b[K     |█████████████████████▎          | 30kB 7.1MB/s eta 0:00:01\r\u001b[K     |████████████████████████████▍   | 40kB 5.9MB/s eta 0:00:01\r\u001b[K     |████████████████████████████████| 51kB 4.2MB/s \n",
            "\u001b[?25hCollecting dawg-python>=0.7\n",
            "  Downloading https://files.pythonhosted.org/packages/6a/84/ff1ce2071d4c650ec85745766c0047ccc3b5036f1d03559fd46bb38b5eeb/DAWG_Python-0.7.2-py2.py3-none-any.whl\n",
            "Collecting pymorphy2-dicts<3.0,>=2.4\n",
            "\u001b[?25l  Downloading https://files.pythonhosted.org/packages/02/51/2465fd4f72328ab50877b54777764d928da8cb15b74e2680fc1bd8cb3173/pymorphy2_dicts-2.4.393442.3710985-py2.py3-none-any.whl (7.1MB)\n",
            "\u001b[K     |████████████████████████████████| 7.1MB 15.0MB/s \n",
            "\u001b[?25hRequirement already satisfied: docopt>=0.6 in /usr/local/lib/python3.6/dist-packages (from pymorphy2[fast]) (0.6.2)\n",
            "Collecting DAWG>=0.7.3; extra == \"fast\"\n",
            "\u001b[?25l  Downloading https://files.pythonhosted.org/packages/29/c0/d8d967bcaa0b572f9dc1d878bbf5a7bfd5afa2102a5ae426731f6ce3bc26/DAWG-0.7.8.tar.gz (255kB)\n",
            "\u001b[K     |████████████████████████████████| 256kB 55.4MB/s \n",
            "\u001b[?25hBuilding wheels for collected packages: DAWG\n",
            "  Building wheel for DAWG (setup.py) ... \u001b[?25l\u001b[?25hdone\n",
            "  Created wheel for DAWG: filename=DAWG-0.7.8-cp36-cp36m-linux_x86_64.whl size=767748 sha256=635538e5f0c6999f2305f359dc7296485551ba23a60cdfe896c3ba35c738efc6\n",
            "  Stored in directory: /root/.cache/pip/wheels/d4/88/d0/4e4abc83eb8f59a71e8dbd8ba99fd5615a3af1fac1ef7f8825\n",
            "Successfully built DAWG\n",
            "Installing collected packages: dawg-python, pymorphy2-dicts, DAWG, pymorphy2\n",
            "Successfully installed DAWG-0.7.8 dawg-python-0.7.2 pymorphy2-0.8 pymorphy2-dicts-2.4.393442.3710985\n"
          ],
          "name": "stdout"
        }
      ]
    },
    {
      "cell_type": "code",
      "metadata": {
        "id": "ELvKMHxHB5rP",
        "colab_type": "code",
        "colab": {}
      },
      "source": [
        "morph = pymorphy2.MorphAnalyzer()\n",
        "def n_participles(text, pymotphology):\n",
        "    n = 0\n",
        "    tokens = re.findall('[а-ёА-ЯЁ-]+', text)\n",
        "    if tokens:\n",
        "        n = 0\n",
        "        for token in tokens:\n",
        "            p = morph.parse(token)[0]\n",
        "            pos = p.tag.POS\n",
        "            if pos in ['PRTF', 'PRTS', 'GRND']:\n",
        "                  n += 1\n",
        "        p = n/len(tokens)\n",
        "        return p\n",
        "    else:\n",
        "        return 0\n",
        "     "
      ],
      "execution_count": 0,
      "outputs": []
    },
    {
      "cell_type": "code",
      "metadata": {
        "id": "TM_fwXAmoWs4",
        "colab_type": "code",
        "colab": {}
      },
      "source": [
        "data['n_participles'] = data['description'].apply(lambda x: n_participles(x, morph))"
      ],
      "execution_count": 0,
      "outputs": []
    },
    {
      "cell_type": "markdown",
      "metadata": {
        "id": "v0PufBVVI3xX",
        "colab_type": "text"
      },
      "source": [
        "Признак 4. Наличие в тексте списков, написанных в столбик.\n",
        "Предполагаем, что тексты отзывов со списками в столбик более структурированные и лучше воспринимаются. Искать будем разрывы строк после запятых и точек запятой либо числа/дeфисы в начале новой строки. Чтобы считать это списком, нужно хотя бы два однотипных указания на его наличие (списки из одного пункта не очень хорошие)"
      ]
    },
    {
      "cell_type": "code",
      "metadata": {
        "id": "5aIoIaHXJ5y_",
        "colab_type": "code",
        "colab": {}
      },
      "source": [
        "def contains_list(text):\n",
        "    if len(re.findall('([,;])(\\n)', text)) > 1:\n",
        "        return 1\n",
        "    elif len(re.findall('(\\n)([0-9-])', text)) > 1:\n",
        "        return 1\n",
        "    else:\n",
        "        return 0"
      ],
      "execution_count": 0,
      "outputs": []
    },
    {
      "cell_type": "code",
      "metadata": {
        "id": "Cpct2lCgo72J",
        "colab_type": "code",
        "colab": {}
      },
      "source": [
        "data['list_in_text'] = data['description'].apply(lambda x: contains_list(x))"
      ],
      "execution_count": 0,
      "outputs": []
    },
    {
      "cell_type": "markdown",
      "metadata": {
        "id": "rRQX-Yl0MjnG",
        "colab_type": "text"
      },
      "source": [
        ""
      ]
    },
    {
      "cell_type": "markdown",
      "metadata": {
        "id": "SGz9kz9QNQbS",
        "colab_type": "text"
      },
      "source": [
        "Признак 5. Наличие адреса в тексте. Предполагаем, что люди предпочитают договариваться о покупке, зная, куда конкретно за ней надо будет ехать"
      ]
    },
    {
      "cell_type": "code",
      "metadata": {
        "id": "YOTAuEK9QWr_",
        "colab_type": "code",
        "colab": {}
      },
      "source": [
        "def adress_mentioned(text):\n",
        "     adress_mentioned = 0\n",
        "     if re.search('yл.?|улица|пр-т|проспект|бульвар|б-р', text):\n",
        "         address_mentioned = 1\n",
        "     return adress_mentioned"
      ],
      "execution_count": 0,
      "outputs": []
    },
    {
      "cell_type": "code",
      "metadata": {
        "id": "CLDSU4BRr0Cs",
        "colab_type": "code",
        "colab": {}
      },
      "source": [
        "data['adress_in_text'] = data['description'].apply(lambda x: adress_mentioned(x))"
      ],
      "execution_count": 0,
      "outputs": []
    },
    {
      "cell_type": "markdown",
      "metadata": {
        "id": "Sn-Oo8x5Q0ZC",
        "colab_type": "text"
      },
      "source": [
        "Признак 6. Наличие фразы \"в любое время/в любой день\" (звонить/забирать/...) - такие\n",
        "\n",
        "предложения подходят большему количеству покупателей"
      ]
    },
    {
      "cell_type": "code",
      "metadata": {
        "id": "vdXkGoJzRAnI",
        "colab_type": "code",
        "colab": {}
      },
      "source": [
        "def any_time(text):\n",
        "    if re.search('в любое время|в любой день', text):\n",
        "        return 1\n",
        "    else:\n",
        "        return 0"
      ],
      "execution_count": 0,
      "outputs": []
    },
    {
      "cell_type": "code",
      "metadata": {
        "id": "eQVqio6ZiwAx",
        "colab_type": "code",
        "colab": {}
      },
      "source": [
        "data['any_time'] = data['description'].apply(lambda x: any_time(x))"
      ],
      "execution_count": 0,
      "outputs": []
    },
    {
      "cell_type": "code",
      "metadata": {
        "id": "_EctPF5UuLCI",
        "colab_type": "code",
        "colab": {}
      },
      "source": [
        "from sklearn.model_selection import train_test_split"
      ],
      "execution_count": 0,
      "outputs": []
    },
    {
      "cell_type": "code",
      "metadata": {
        "id": "j6fRJXACspNR",
        "colab_type": "code",
        "colab": {}
      },
      "source": [
        "X = data[['text_len', 'text_len_tokens', 'number_of_caps', 'number_of_nonalphanum', 'size_info', 'question_and_exclamation', 'n_participles', 'list_in_text', 'adress_in_text', 'any_time']].values\n",
        "y = data.deal_probability.values"
      ],
      "execution_count": 0,
      "outputs": []
    },
    {
      "cell_type": "code",
      "metadata": {
        "colab_type": "code",
        "id": "qazY7xxousrv",
        "colab": {}
      },
      "source": [
        "X_train, X_test, y_train, y_test = train_test_split(X, y, random_state=42)"
      ],
      "execution_count": 0,
      "outputs": []
    },
    {
      "cell_type": "code",
      "metadata": {
        "id": "v6nJa-DevFZd",
        "colab_type": "code",
        "colab": {}
      },
      "source": [
        "from sklearn.linear_model import Ridge"
      ],
      "execution_count": 0,
      "outputs": []
    },
    {
      "cell_type": "code",
      "metadata": {
        "id": "0tRxMnuMvBCb",
        "colab_type": "code",
        "colab": {
          "base_uri": "https://localhost:8080/",
          "height": 34
        },
        "outputId": "784125a9-34de-4610-c75a-a2448c028bb4"
      },
      "source": [
        "regressor = Ridge(alpha=1)\n",
        "regressor.fit(X_train, y_train)\n",
        "preds = regressor.predict(X_test)\n",
        "np.sqrt(mean_squared_error(y_test, preds))"
      ],
      "execution_count": 45,
      "outputs": [
        {
          "output_type": "execute_result",
          "data": {
            "text/plain": [
              "0.26320310910710787"
            ]
          },
          "metadata": {
            "tags": []
          },
          "execution_count": 45
        }
      ]
    },
    {
      "cell_type": "markdown",
      "metadata": {
        "id": "076ckGGwviBf",
        "colab_type": "text"
      },
      "source": [
        "От добавления метрик результат чуть-чуть ухудшился (с 4-й цифры после запятой).\n",
        "Добавим векторайзер"
      ]
    },
    {
      "cell_type": "code",
      "metadata": {
        "id": "orG_yNdYwz2d",
        "colab_type": "code",
        "colab": {}
      },
      "source": [
        "from scipy.sparse import hstack"
      ],
      "execution_count": 0,
      "outputs": []
    },
    {
      "cell_type": "code",
      "metadata": {
        "id": "j9HWiADOymM_",
        "colab_type": "code",
        "colab": {}
      },
      "source": [
        "cv = CountVectorizer(max_features=1000, min_df=5, max_df=0.4, ngram_range=(1,2))\n",
        "tfidf = TfidfVectorizer(max_features=1000, min_df=5,analyzer='char', ngram_range=(3,3), max_df=0.4)\n",
        "\n",
        "X_cv = cv.fit_transform(data.description)\n",
        "X_tfidf = tfidf.fit_transform(data.description)\n",
        "\n",
        "X_with_CV = hstack([X_cv])\n",
        "X_with_tfidf = hstack([X_tfidf])"
      ],
      "execution_count": 0,
      "outputs": []
    },
    {
      "cell_type": "code",
      "metadata": {
        "id": "xMwJH7_Hy64x",
        "colab_type": "code",
        "colab": {}
      },
      "source": [
        "X_train, X_test, y_train, y_test = train_test_split(X_with_CV, y, random_state=42)"
      ],
      "execution_count": 0,
      "outputs": []
    },
    {
      "cell_type": "code",
      "metadata": {
        "id": "CSf3NaWu0Hq1",
        "colab_type": "code",
        "colab": {}
      },
      "source": [
        "from sklearn.linear_model import SGDRegressor"
      ],
      "execution_count": 0,
      "outputs": []
    },
    {
      "cell_type": "code",
      "metadata": {
        "id": "dq-9dFvuz8uW",
        "colab_type": "code",
        "colab": {
          "base_uri": "https://localhost:8080/",
          "height": 34
        },
        "outputId": "5f376034-9a42-4272-9629-ba40cc397472"
      },
      "source": [
        "regressor = SGDRegressor(max_iter=50, alpha=0.00001)\n",
        "regressor.fit(X_train, y_train)\n",
        "preds = regressor.predict(X_test)\n",
        "np.sqrt(mean_squared_error(y_test, preds))"
      ],
      "execution_count": 53,
      "outputs": [
        {
          "output_type": "execute_result",
          "data": {
            "text/plain": [
              "0.25251747720006607"
            ]
          },
          "metadata": {
            "tags": []
          },
          "execution_count": 53
        }
      ]
    },
    {
      "cell_type": "code",
      "metadata": {
        "id": "K5iMVo-Z0Oxe",
        "colab_type": "code",
        "colab": {}
      },
      "source": [
        "X_train, X_test, y_train, y_test = train_test_split(X_with_tfidf, y, random_state=42)"
      ],
      "execution_count": 0,
      "outputs": []
    },
    {
      "cell_type": "code",
      "metadata": {
        "id": "9fwMYVDg0b46",
        "colab_type": "code",
        "colab": {
          "base_uri": "https://localhost:8080/",
          "height": 34
        },
        "outputId": "ad743c74-49eb-4e17-a869-30c96812d152"
      },
      "source": [
        "regressor = SGDRegressor(max_iter=50, alpha=0.00001)\n",
        "regressor.fit(X_train, y_train)\n",
        "preds = regressor.predict(X_test)\n",
        "np.sqrt(mean_squared_error(y_test, preds))"
      ],
      "execution_count": 55,
      "outputs": [
        {
          "output_type": "execute_result",
          "data": {
            "text/plain": [
              "0.2539645815677768"
            ]
          },
          "metadata": {
            "tags": []
          },
          "execution_count": 55
        }
      ]
    },
    {
      "cell_type": "markdown",
      "metadata": {
        "id": "9kyO_JjH0t6N",
        "colab_type": "text"
      },
      "source": [
        "Пока что чуть-чуть лучше получается, если использовать tfidf. Соединим его с ранее использованными"
      ]
    },
    {
      "cell_type": "code",
      "metadata": {
        "id": "_NY-6XdI1fNv",
        "colab_type": "code",
        "colab": {}
      },
      "source": [
        "Xtfidfcombo = hstack([X, X_with_tfidf])"
      ],
      "execution_count": 0,
      "outputs": []
    },
    {
      "cell_type": "code",
      "metadata": {
        "id": "X1r5M9Et3Z2O",
        "colab_type": "code",
        "colab": {}
      },
      "source": [
        "X_train, X_test, y_train, y_test = train_test_split(Xtfidfcombo, y, random_state=42)"
      ],
      "execution_count": 0,
      "outputs": []
    },
    {
      "cell_type": "markdown",
      "metadata": {
        "id": "uvwHjC_I0pQz",
        "colab_type": "text"
      },
      "source": [
        ""
      ]
    },
    {
      "cell_type": "code",
      "metadata": {
        "id": "8RfRs30D0mG_",
        "colab_type": "code",
        "colab": {
          "base_uri": "https://localhost:8080/",
          "height": 34
        },
        "outputId": "ffe5b376-49b5-4484-db2b-0489cd0a5e4c"
      },
      "source": [
        "regressor = SGDRegressor(max_iter=50, alpha=0.00001)\n",
        "regressor.fit(X_train, y_train)\n",
        "preds = regressor.predict(X_test)\n",
        "np.sqrt(mean_squared_error(y_test, preds))"
      ],
      "execution_count": 61,
      "outputs": [
        {
          "output_type": "execute_result",
          "data": {
            "text/plain": [
              "48251853569864.23"
            ]
          },
          "metadata": {
            "tags": []
          },
          "execution_count": 61
        }
      ]
    },
    {
      "cell_type": "code",
      "metadata": {
        "id": "wC4UXWX13r9n",
        "colab_type": "code",
        "colab": {}
      },
      "source": [
        ""
      ],
      "execution_count": 0,
      "outputs": []
    },
    {
      "cell_type": "markdown",
      "metadata": {
        "id": "XTbsGydw3ug5",
        "colab_type": "text"
      },
      "source": [
        ""
      ]
    },
    {
      "cell_type": "markdown",
      "metadata": {
        "id": "-k3tDFZ73wWT",
        "colab_type": "text"
      },
      "source": [
        ""
      ]
    },
    {
      "cell_type": "markdown",
      "metadata": {
        "id": "uFrnOF1Y3yFx",
        "colab_type": "text"
      },
      "source": [
        ""
      ]
    },
    {
      "cell_type": "markdown",
      "metadata": {
        "id": "eVWsmyBwvjaT",
        "colab_type": "text"
      },
      "source": [
        ""
      ]
    }
  ]
}