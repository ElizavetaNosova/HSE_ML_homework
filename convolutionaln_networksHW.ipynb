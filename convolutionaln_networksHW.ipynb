{
 "cells": [
  {
   "cell_type": "code",
   "execution_count": 7,
   "metadata": {},
   "outputs": [],
   "source": [
    "import tensorflow as tf\n",
    "import pandas as pd\n",
    "import numpy as np\n",
    "from string import punctuation\n",
    "from sklearn.model_selection import train_test_split\n",
    "from collections import Counter\n",
    "import matplotlib.pyplot as plt\n",
    "%matplotlib inline"
   ]
  },
  {
   "cell_type": "code",
   "execution_count": 8,
   "metadata": {},
   "outputs": [],
   "source": [
    "quora = pd.read_csv('quora.csv')"
   ]
  },
  {
   "cell_type": "code",
   "execution_count": 9,
   "metadata": {},
   "outputs": [],
   "source": [
    "from tensorflow.keras import backend as K\n",
    "def f1(y_true, y_pred):\n",
    "    def recall(y_true, y_pred):\n",
    "        \"\"\"Recall metric.\n",
    "\n",
    "        Only computes a batch-wise average of recall.\n",
    "\n",
    "        Computes the recall, a metric for multi-label classification of\n",
    "        how many relevant items are selected.\n",
    "        \"\"\"\n",
    "        true_positives = K.sum(K.round(K.clip(y_true * y_pred, 0, 1)))\n",
    "        possible_positives = K.sum(K.round(K.clip(y_true, 0, 1)))\n",
    "        recall = true_positives / (possible_positives + K.epsilon())\n",
    "        return recall\n",
    "\n",
    "    def precision(y_true, y_pred):\n",
    "        \"\"\"Precision metric.\n",
    "\n",
    "        Only computes a batch-wise average of precision.\n",
    "\n",
    "        Computes the precision, a metric for multi-label classification of\n",
    "        how many selected items are relevant.\n",
    "        \"\"\"\n",
    "        true_positives = K.sum(K.round(K.clip(y_true * y_pred, 0, 1)))\n",
    "        predicted_positives = K.sum(K.round(K.clip(y_pred, 0, 1)))\n",
    "        precision = true_positives / (predicted_positives + K.epsilon())\n",
    "        return precision\n",
    "    precision = precision(y_true, y_pred)\n",
    "    recall = recall(y_true, y_pred)\n",
    "    return 2*((precision*recall)/(precision+recall+K.epsilon()))"
   ]
  },
  {
   "cell_type": "code",
   "execution_count": 10,
   "metadata": {},
   "outputs": [],
   "source": [
    "#просто превращаем текст в список символов\n",
    "def str2list(text):\n",
    "    return [s for s in text]"
   ]
  },
  {
   "cell_type": "code",
   "execution_count": 11,
   "metadata": {},
   "outputs": [],
   "source": [
    "quora['preprocessing1'] = quora['question_text'].apply(str2list)"
   ]
  },
  {
   "cell_type": "code",
   "execution_count": 12,
   "metadata": {},
   "outputs": [],
   "source": [
    "vocab = Counter()\n",
    "\n",
    "for text in quora.preprocessing1:\n",
    "    vocab.update(text)\n",
    "    \n",
    "sym2id = {'UNK':1, 'PAD':0}\n",
    "\n",
    "for symbol in vocab:\n",
    "    sym2id[symbol] = len(sym2id)\n",
    "    \n",
    "id2sym = {i:sym for sym, i in sym2id.items()}"
   ]
  },
  {
   "cell_type": "code",
   "execution_count": 13,
   "metadata": {},
   "outputs": [],
   "source": [
    "X = []\n",
    "for text in quora.preprocessing1:\n",
    "    ids = [sym2id.get(symbol, 1) for symbol in text]\n",
    "    X.append(ids)\n",
    "    \n",
    "MEAN_LEN = np.median([len(x) for x in X])\n",
    "MAX_LEN = int(MEAN_LEN + 5)"
   ]
  },
  {
   "cell_type": "code",
   "execution_count": 14,
   "metadata": {},
   "outputs": [],
   "source": [
    "y = quora.target.values"
   ]
  },
  {
   "cell_type": "code",
   "execution_count": 15,
   "metadata": {},
   "outputs": [],
   "source": [
    "X = tf.keras.preprocessing.sequence.pad_sequences(X, maxlen=MAX_LEN)\n",
    "X_train, X_valid, y_train, y_valid = train_test_split(X, y, test_size=0.05, stratify=y)"
   ]
  },
  {
   "cell_type": "code",
   "execution_count": 16,
   "metadata": {},
   "outputs": [],
   "source": [
    "inputs = tf.keras.layers.Input(shape=(int(MAX_LEN),))\n",
    "embeddings = tf.keras.layers.Embedding(input_dim=len(sym2id), output_dim=100)(inputs)\n",
    "convs = []\n",
    "\n",
    "drop1 = tf.keras.layers.Dropout(0.2)(embeddings)\n",
    "conv1 = tf.keras.layers.Conv1D(kernel_size=3, filters=32, padding='same', strides=1)(drop1)\n",
    "conv2 = tf.keras.layers.Conv1D(kernel_size=2, filters=10, padding='same', strides=1)(conv1)\n",
    "conv3 = tf.keras.layers.Conv1D(kernel_size=2, filters=5, padding='same', strides=1)(conv2)\n",
    "conv4 = tf.keras.layers.Conv1D(kernel_size=2, filters=5, padding='same', strides=1)(conv3)\n",
    "pool1 = tf.compat.v1.keras.layers.MaxPool1D()(conv4)\n",
    "convs.append(pool1)\n",
    "\n",
    "drop2 = tf.keras.layers.Dropout(0.1)(embeddings)\n",
    "conv5 =  tf.keras.layers.Conv1D(kernel_size=10, filters=5, padding='same', strides=1)(drop2)\n",
    "pool2 = tf.compat.v1.keras.layers.MaxPool1D()(conv5)\n",
    "convs.append(pool2)\n",
    "\n",
    "drop3 = tf.keras.layers.Dropout(0.1)(embeddings)\n",
    "conv6 = tf.keras.layers.Conv1D(kernel_size=2, filters=10, padding='same', strides=1)(drop3)\n",
    "conv7 = tf.keras.layers.Conv1D(kernel_size=7, filters=5, padding='same', strides=1)(conv6)\n",
    "pool3 = tf.compat.v1.keras.layers.MaxPool1D()(conv7)\n",
    "convs.append(pool3)\n",
    "\n",
    "drop4 = tf.keras.layers.Dropout(0.2)(embeddings)\n",
    "conv8 = tf.keras.layers.Conv1D(kernel_size=2, filters=5, padding='same', strides=1)(drop4)\n",
    "pool4 = tf.compat.v1.keras.layers.MaxPool1D()(conv8)\n",
    "convs.append(pool4)\n",
    "\n",
    "concat = tf.keras.layers.concatenate(convs, axis=1)\n",
    "conv_global = tf.keras.layers.Conv1D(kernel_size=5, filters=32, strides=1)(concat)\n",
    "flatten = tf.keras.layers.Flatten()(conv_global)\n",
    "dense = tf.keras.layers.Dense(50, activation='relu')(flatten)\n",
    "outputs = tf.keras.layers.Dense(1, activation='sigmoid')(dense)\n",
    "\n",
    "model = tf.keras.Model(inputs=inputs, outputs=outputs)\n",
    "optimizer = tf.keras.optimizers.Adam(learning_rate=0.001)\n",
    "model.compile(optimizer=optimizer,\n",
    "              loss='binary_crossentropy',\n",
    "              metrics=[f1])"
   ]
  },
  {
   "cell_type": "code",
   "execution_count": 17,
   "metadata": {},
   "outputs": [
    {
     "name": "stdout",
     "output_type": "stream",
     "text": [
      "Epoch 1/5\n",
      "311/311 [==============================] - 58s 186ms/step - loss: 0.2089 - f1: 0.0395 - val_loss: 0.1814 - val_f1: 0.1413\n",
      "Epoch 2/5\n",
      "311/311 [==============================] - 56s 179ms/step - loss: 0.1767 - f1: 0.1647 - val_loss: 0.1730 - val_f1: 0.2695\n",
      "Epoch 3/5\n",
      "311/311 [==============================] - 56s 180ms/step - loss: 0.1696 - f1: 0.2225 - val_loss: 0.1810 - val_f1: 0.3579\n",
      "Epoch 4/5\n",
      "311/311 [==============================] - 56s 179ms/step - loss: 0.1667 - f1: 0.2459 - val_loss: 0.1783 - val_f1: 0.3720\n",
      "Epoch 5/5\n",
      "311/311 [==============================] - 55s 178ms/step - loss: 0.1640 - f1: 0.2716 - val_loss: 0.1773 - val_f1: 0.3989\n"
     ]
    },
    {
     "data": {
      "text/plain": [
       "<tensorflow.python.keras.callbacks.History at 0x7fa105d26160>"
      ]
     },
     "execution_count": 17,
     "metadata": {},
     "output_type": "execute_result"
    }
   ],
   "source": [
    "model.fit(X_train, y_train, \n",
    "          validation_data=(X_valid, y_valid),\n",
    "          batch_size=4000,\n",
    "          epochs=5)"
   ]
  },
  {
   "cell_type": "code",
   "execution_count": 18,
   "metadata": {},
   "outputs": [
    {
     "name": "stdout",
     "output_type": "stream",
     "text": [
      "dict_keys(['loss', 'f1', 'val_loss', 'val_f1'])\n"
     ]
    },
    {
     "data": {
      "image/png": "[encoded data removed]",
      "text/plain": [
       "<Figure size 432x288 with 1 Axes>"
      ]
     },
     "metadata": {
      "needs_background": "light"
     },
     "output_type": "display_data"
    }
   ],
   "source": [
    "print(model.history.history.keys())\n",
    "plt.plot(model.history.history['f1'])\n",
    "plt.plot(model.history.history['val_f1'])\n",
    "plt.title('model f1')\n",
    "plt.ylabel('f1')\n",
    "plt.xlabel('epoch')\n",
    "plt.legend(['train', 'val'], loc='upper left')\n",
    "plt.show()"
   ]
  },
  {
   "cell_type": "markdown",
   "metadata": {},
   "source": [
    "Продолжает довольно стабильно расти: видимо, пяти эпох мало"
   ]
  },
  {
   "cell_type": "code",
   "execution_count": 19,
   "metadata": {},
   "outputs": [
    {
     "name": "stdout",
     "output_type": "stream",
     "text": [
      "Epoch 1/10\n",
      "311/311 [==============================] - 55s 177ms/step - loss: 0.1623 - f1: 0.2844 - val_loss: 0.1993 - val_f1: 0.4280\n",
      "Epoch 2/10\n",
      "311/311 [==============================] - 55s 176ms/step - loss: 0.1607 - f1: 0.2978 - val_loss: 0.1716 - val_f1: 0.4178\n",
      "Epoch 3/10\n",
      "311/311 [==============================] - 54s 175ms/step - loss: 0.1595 - f1: 0.3070 - val_loss: 0.1676 - val_f1: 0.3521\n",
      "Epoch 4/10\n",
      "311/311 [==============================] - 55s 177ms/step - loss: 0.1584 - f1: 0.3165 - val_loss: 0.1767 - val_f1: 0.3995\n",
      "Epoch 5/10\n",
      "311/311 [==============================] - 55s 176ms/step - loss: 0.1565 - f1: 0.3255 - val_loss: 0.1621 - val_f1: 0.3727\n",
      "Epoch 6/10\n",
      "311/311 [==============================] - 55s 178ms/step - loss: 0.1556 - f1: 0.3323 - val_loss: 0.1665 - val_f1: 0.3991\n",
      "Epoch 7/10\n",
      "311/311 [==============================] - 55s 176ms/step - loss: 0.1542 - f1: 0.3434 - val_loss: 0.1659 - val_f1: 0.3063\n",
      "Epoch 8/10\n",
      "311/311 [==============================] - 55s 175ms/step - loss: 0.1543 - f1: 0.3420 - val_loss: 0.1657 - val_f1: 0.3717\n",
      "Epoch 9/10\n",
      "311/311 [==============================] - 55s 177ms/step - loss: 0.1531 - f1: 0.3505 - val_loss: 0.1786 - val_f1: 0.4088\n",
      "Epoch 10/10\n",
      "311/311 [==============================] - 55s 177ms/step - loss: 0.1520 - f1: 0.3568 - val_loss: 0.1664 - val_f1: 0.3825\n"
     ]
    },
    {
     "data": {
      "text/plain": [
       "<tensorflow.python.keras.callbacks.History at 0x7fa0bc34c748>"
      ]
     },
     "execution_count": 19,
     "metadata": {},
     "output_type": "execute_result"
    }
   ],
   "source": [
    "model.fit(X_train, y_train, \n",
    "          validation_data=(X_valid, y_valid),\n",
    "          batch_size=4000,\n",
    "          epochs=10)"
   ]
  },
  {
   "cell_type": "code",
   "execution_count": 20,
   "metadata": {},
   "outputs": [
    {
     "name": "stdout",
     "output_type": "stream",
     "text": [
      "dict_keys(['loss', 'f1', 'val_loss', 'val_f1'])\n"
     ]
    },
    {
     "data": {
      "image/png": "[encoded data removed]",
      "text/plain": [
       "<Figure size 432x288 with 1 Axes>"
      ]
     },
     "metadata": {
      "needs_background": "light"
     },
     "output_type": "display_data"
    }
   ],
   "source": [
    "print(model.history.history.keys())\n",
    "plt.plot(model.history.history['f1'])\n",
    "plt.plot(model.history.history['val_f1'])\n",
    "plt.title('model f1')\n",
    "plt.ylabel('f1')\n",
    "plt.xlabel('epoch')\n",
    "plt.legend(['train', 'val'], loc='upper left')\n",
    "plt.show()"
   ]
  },
  {
   "cell_type": "markdown",
   "metadata": {},
   "source": [
    "Результат, когда не получилось превзойти стартовый результат на val, не очень хороший"
   ]
  },
  {
   "cell_type": "markdown",
   "metadata": {},
   "source": [
    "Попробуем изменить предобработку: оставим только английские буквы и приведем все к нижнему регистру"
   ]
  },
  {
   "cell_type": "code",
   "execution_count": 21,
   "metadata": {},
   "outputs": [],
   "source": [
    "import re"
   ]
  },
  {
   "cell_type": "code",
   "execution_count": 24,
   "metadata": {},
   "outputs": [],
   "source": [
    "def str2list(text):\n",
    "    text = text.lower()\n",
    "    text = re.sub('[^a-z]', '', text)\n",
    "    return [s for s in text]"
   ]
  },
  {
   "cell_type": "code",
   "execution_count": 25,
   "metadata": {},
   "outputs": [],
   "source": [
    "quora['preprocessing2'] = quora['question_text'].apply(str2list)"
   ]
  },
  {
   "cell_type": "markdown",
   "metadata": {},
   "source": [
    "Для всех оставшихся символов у нас уже есть индексы"
   ]
  },
  {
   "cell_type": "code",
   "execution_count": 28,
   "metadata": {},
   "outputs": [],
   "source": [
    "X = []\n",
    "for text in quora.preprocessing2:\n",
    "    ids = [sym2id.get(symbol, 1) for symbol in text]\n",
    "    X.append(ids)\n",
    "    \n",
    "X = tf.keras.preprocessing.sequence.pad_sequences(X, maxlen=MAX_LEN)\n",
    "X_train, X_valid, y_train, y_valid = train_test_split(X, y, test_size=0.05, stratify=y)\n"
   ]
  },
  {
   "cell_type": "code",
   "execution_count": 29,
   "metadata": {},
   "outputs": [
    {
     "name": "stdout",
     "output_type": "stream",
     "text": [
      "Epoch 1/10\n",
      "311/311 [==============================] - 59s 189ms/step - loss: 0.1769 - f1: 0.1824 - val_loss: 0.1859 - val_f1: 0.3186\n",
      "Epoch 2/10\n",
      "311/311 [==============================] - 55s 178ms/step - loss: 0.1690 - f1: 0.2440 - val_loss: 0.1764 - val_f1: 0.2828\n",
      "Epoch 3/10\n",
      "311/311 [==============================] - 55s 177ms/step - loss: 0.1669 - f1: 0.2604 - val_loss: 0.1745 - val_f1: 0.3151\n",
      "Epoch 4/10\n",
      "311/311 [==============================] - 55s 176ms/step - loss: 0.1652 - f1: 0.2676 - val_loss: 0.1919 - val_f1: 0.3599\n",
      "Epoch 5/10\n",
      "311/311 [==============================] - 66s 213ms/step - loss: 0.1639 - f1: 0.2797 - val_loss: 0.1760 - val_f1: 0.2940\n",
      "Epoch 6/10\n",
      "311/311 [==============================] - 55s 176ms/step - loss: 0.1626 - f1: 0.2859 - val_loss: 0.1958 - val_f1: 0.3517\n",
      "Epoch 7/10\n",
      "311/311 [==============================] - 55s 176ms/step - loss: 0.1616 - f1: 0.2957 - val_loss: 0.1777 - val_f1: 0.3582\n",
      "Epoch 8/10\n",
      "311/311 [==============================] - 55s 176ms/step - loss: 0.1607 - f1: 0.3001 - val_loss: 0.1729 - val_f1: 0.3388\n",
      "Epoch 9/10\n",
      "311/311 [==============================] - 57s 182ms/step - loss: 0.1598 - f1: 0.3079 - val_loss: 0.1826 - val_f1: 0.3329\n",
      "Epoch 10/10\n",
      "311/311 [==============================] - 54s 175ms/step - loss: 0.1590 - f1: 0.3122 - val_loss: 0.1952 - val_f1: 0.3657\n"
     ]
    },
    {
     "data": {
      "text/plain": [
       "<tensorflow.python.keras.callbacks.History at 0x7fa0d016cc50>"
      ]
     },
     "execution_count": 29,
     "metadata": {},
     "output_type": "execute_result"
    }
   ],
   "source": [
    "model.fit(X_train, y_train, \n",
    "          validation_data=(X_valid, y_valid),\n",
    "          batch_size=4000,\n",
    "          epochs=10)"
   ]
  },
  {
   "cell_type": "code",
   "execution_count": 30,
   "metadata": {},
   "outputs": [
    {
     "name": "stdout",
     "output_type": "stream",
     "text": [
      "dict_keys(['loss', 'f1', 'val_loss', 'val_f1'])\n"
     ]
    },
    {
     "data": {
      "image/png": "[encoded data removed]",
      "text/plain": [
       "<Figure size 432x288 with 1 Axes>"
      ]
     },
     "metadata": {
      "needs_background": "light"
     },
     "output_type": "display_data"
    }
   ],
   "source": [
    "print(model.history.history.keys())\n",
    "plt.plot(model.history.history['f1'])\n",
    "plt.plot(model.history.history['val_f1'])\n",
    "plt.title('model f1')\n",
    "plt.ylabel('f1')\n",
    "plt.xlabel('epoch')\n",
    "plt.legend(['train', 'val'], loc='upper left')\n",
    "plt.show()"
   ]
  },
  {
   "cell_type": "markdown",
   "metadata": {},
   "source": [
    "Хотя результат после 10-й эпохи практически такой же, это больше похоже на улучшение качества по сравнению с начальным состоянием"
   ]
  },
  {
   "cell_type": "markdown",
   "metadata": {},
   "source": [
    "Попробуем везде убрать pool"
   ]
  },
  {
   "cell_type": "code",
   "execution_count": 31,
   "metadata": {},
   "outputs": [],
   "source": [
    "inputs = tf.keras.layers.Input(shape=(int(MAX_LEN),))\n",
    "embeddings = tf.keras.layers.Embedding(input_dim=len(sym2id), output_dim=100)(inputs)\n",
    "convs = []\n",
    "\n",
    "drop1 = tf.keras.layers.Dropout(0.2)(embeddings)\n",
    "conv1 = tf.keras.layers.Conv1D(kernel_size=3, filters=32, padding='same', strides=1)(drop1)\n",
    "conv2 = tf.keras.layers.Conv1D(kernel_size=2, filters=10, padding='same', strides=1)(conv1)\n",
    "conv3 = tf.keras.layers.Conv1D(kernel_size=2, filters=5, padding='same', strides=1)(conv2)\n",
    "conv4 = tf.keras.layers.Conv1D(kernel_size=2, filters=5, padding='same', strides=1)(conv3)\n",
    "convs.append(conv4)\n",
    "\n",
    "drop2 = tf.keras.layers.Dropout(0.1)(embeddings)\n",
    "conv5 =  tf.keras.layers.Conv1D(kernel_size=10, filters=5, padding='same', strides=1)(drop2)\n",
    "convs.append(conv5)\n",
    "\n",
    "drop3 = tf.keras.layers.Dropout(0.1)(embeddings)\n",
    "conv6 = tf.keras.layers.Conv1D(kernel_size=2, filters=10, padding='same', strides=1)(drop3)\n",
    "conv7 = tf.keras.layers.Conv1D(kernel_size=7, filters=5, padding='same', strides=1)(conv6)\n",
    "convs.append(conv7)\n",
    "\n",
    "drop4 = tf.keras.layers.Dropout(0.2)(embeddings)\n",
    "conv8 = tf.keras.layers.Conv1D(kernel_size=2, filters=5, padding='same', strides=1)(drop4)\n",
    "convs.append(conv8)\n",
    "\n",
    "concat = tf.keras.layers.concatenate(convs, axis=1)\n",
    "conv_global = tf.keras.layers.Conv1D(kernel_size=5, filters=32, strides=1)(concat)\n",
    "flatten = tf.keras.layers.Flatten()(conv_global)\n",
    "dense = tf.keras.layers.Dense(50, activation='relu')(flatten)\n",
    "outputs = tf.keras.layers.Dense(1, activation='sigmoid')(dense)\n",
    "\n",
    "model = tf.keras.Model(inputs=inputs, outputs=outputs)\n",
    "optimizer = tf.keras.optimizers.Adam(learning_rate=0.001)\n",
    "model.compile(optimizer=optimizer,\n",
    "              loss='binary_crossentropy',\n",
    "              metrics=[f1])"
   ]
  },
  {
   "cell_type": "code",
   "execution_count": 32,
   "metadata": {},
   "outputs": [
    {
     "name": "stdout",
     "output_type": "stream",
     "text": [
      "Epoch 1/10\n",
      "311/311 [==============================] - 67s 214ms/step - loss: 0.2202 - f1: 4.4969e-04 - val_loss: 0.2114 - val_f1: 0.0000e+00\n",
      "Epoch 2/10\n",
      "311/311 [==============================] - 62s 199ms/step - loss: 0.2091 - f1: 1.0439e-04 - val_loss: 0.2061 - val_f1: 0.0000e+00\n",
      "Epoch 3/10\n",
      "311/311 [==============================] - 57s 182ms/step - loss: 0.2021 - f1: 1.0520e-04 - val_loss: 0.2011 - val_f1: 0.0000e+00\n",
      "Epoch 4/10\n",
      "311/311 [==============================] - 57s 182ms/step - loss: 0.1985 - f1: 2.3840e-04 - val_loss: 0.1983 - val_f1: 0.0000e+00\n",
      "Epoch 5/10\n",
      "311/311 [==============================] - 62s 200ms/step - loss: 0.1969 - f1: 9.1762e-04 - val_loss: 0.1969 - val_f1: 0.0038\n",
      "Epoch 6/10\n",
      "311/311 [==============================] - 59s 189ms/step - loss: 0.1957 - f1: 0.0034 - val_loss: 0.1980 - val_f1: 0.0058\n",
      "Epoch 7/10\n",
      "311/311 [==============================] - 56s 182ms/step - loss: 0.1942 - f1: 0.0157 - val_loss: 0.1962 - val_f1: 0.0133\n",
      "Epoch 8/10\n",
      "311/311 [==============================] - 56s 180ms/step - loss: 0.1923 - f1: 0.0319 - val_loss: 0.1962 - val_f1: 0.0510\n",
      "Epoch 9/10\n",
      "311/311 [==============================] - 57s 183ms/step - loss: 0.1904 - f1: 0.0515 - val_loss: 0.1954 - val_f1: 0.0578\n",
      "Epoch 10/10\n",
      "311/311 [==============================] - 67s 216ms/step - loss: 0.1886 - f1: 0.0667 - val_loss: 0.1940 - val_f1: 0.0503\n"
     ]
    },
    {
     "data": {
      "text/plain": [
       "<tensorflow.python.keras.callbacks.History at 0x7fa0ddc13940>"
      ]
     },
     "execution_count": 32,
     "metadata": {},
     "output_type": "execute_result"
    }
   ],
   "source": [
    "model.fit(X_train, y_train, \n",
    "          validation_data=(X_valid, y_valid),\n",
    "          batch_size=4000,\n",
    "          epochs=10)"
   ]
  },
  {
   "cell_type": "code",
   "execution_count": 33,
   "metadata": {},
   "outputs": [
    {
     "name": "stdout",
     "output_type": "stream",
     "text": [
      "dict_keys(['loss', 'f1', 'val_loss', 'val_f1'])\n"
     ]
    },
    {
     "data": {
      "image/png": "[encoded data removed]",
      "text/plain": [
       "<Figure size 432x288 with 1 Axes>"
      ]
     },
     "metadata": {
      "needs_background": "light"
     },
     "output_type": "display_data"
    }
   ],
   "source": [
    "print(model.history.history.keys())\n",
    "plt.plot(model.history.history['f1'])\n",
    "plt.plot(model.history.history['val_f1'])\n",
    "plt.title('model f1')\n",
    "plt.ylabel('f1')\n",
    "plt.xlabel('epoch')\n",
    "plt.legend(['train', 'val'], loc='upper left')\n",
    "plt.show()"
   ]
  },
  {
   "cell_type": "markdown",
   "metadata": {},
   "source": [
    "Результат отвратительный. Попробуем, наоборот, добавить max_pool после каждого слоя, а не только в самом конце"
   ]
  },
  {
   "cell_type": "code",
   "execution_count": 37,
   "metadata": {},
   "outputs": [],
   "source": [
    "inputs = tf.keras.layers.Input(shape=(int(MAX_LEN),))\n",
    "embeddings = tf.keras.layers.Embedding(input_dim=len(sym2id), output_dim=100)(inputs)\n",
    "convs = []\n",
    "\n",
    "drop1 = tf.keras.layers.Dropout(0.2)(embeddings)\n",
    "conv1 = tf.keras.layers.Conv1D(kernel_size=3, filters=32, padding='same', strides=1)(drop1)\n",
    "pool1 = pool1 = tf.compat.v1.keras.layers.MaxPool1D()(conv1)\n",
    "conv2 = tf.keras.layers.Conv1D(kernel_size=2, filters=10, padding='same', strides=1)(pool1)\n",
    "pool2 = pool1 = tf.compat.v1.keras.layers.MaxPool1D()(conv2)\n",
    "conv3 = tf.keras.layers.Conv1D(kernel_size=2, filters=5, padding='same', strides=1)(pool2)\n",
    "pool3 = pool1 = tf.compat.v1.keras.layers.MaxPool1D()(conv3)\n",
    "conv4 = tf.keras.layers.Conv1D(kernel_size=2, filters=5, padding='same', strides=1)(pool3)\n",
    "pool4 = tf.compat.v1.keras.layers.MaxPool1D()(conv4)\n",
    "convs.append(pool4)\n",
    "\n",
    "drop2 = tf.keras.layers.Dropout(0.1)(embeddings)\n",
    "conv5 =  tf.keras.layers.Conv1D(kernel_size=10, filters=5, padding='same', strides=1)(drop2)\n",
    "pool5 = tf.compat.v1.keras.layers.MaxPool1D()(conv5)\n",
    "convs.append(pool5)\n",
    "\n",
    "drop3 = tf.keras.layers.Dropout(0.1)(embeddings)\n",
    "conv6 = tf.keras.layers.Conv1D(kernel_size=2, filters=10, padding='same', strides=1)(drop3)\n",
    "pool6 = tf.compat.v1.keras.layers.MaxPool1D()(conv6)\n",
    "conv7 = tf.keras.layers.Conv1D(kernel_size=7, filters=5, padding='same', strides=1)(pool6)\n",
    "pool7 = tf.compat.v1.keras.layers.MaxPool1D()(conv7)\n",
    "convs.append(pool7)\n",
    "\n",
    "drop4 = tf.keras.layers.Dropout(0.2)(embeddings)\n",
    "conv8 = tf.keras.layers.Conv1D(kernel_size=2, filters=5, padding='same', strides=1)(drop4)\n",
    "pool8 = tf.compat.v1.keras.layers.MaxPool1D()(conv8)\n",
    "convs.append(pool8)\n",
    "\n",
    "concat = tf.keras.layers.concatenate(convs, axis=1)\n",
    "conv_global = tf.keras.layers.Conv1D(kernel_size=5, filters=32, strides=1)(concat)\n",
    "flatten = tf.keras.layers.Flatten()(conv_global)\n",
    "dense = tf.keras.layers.Dense(50, activation='relu')(flatten)\n",
    "outputs = tf.keras.layers.Dense(1, activation='sigmoid')(dense)\n",
    "\n",
    "model = tf.keras.Model(inputs=inputs, outputs=outputs)\n",
    "optimizer = tf.keras.optimizers.Adam(learning_rate=0.001)\n",
    "model.compile(optimizer=optimizer,\n",
    "              loss='binary_crossentropy',\n",
    "              metrics=[f1])"
   ]
  },
  {
   "cell_type": "code",
   "execution_count": 38,
   "metadata": {},
   "outputs": [
    {
     "name": "stdout",
     "output_type": "stream",
     "text": [
      "Epoch 1/10\n",
      "311/311 [==============================] - 61s 197ms/step - loss: 0.2127 - f1: 4.0372e-04 - val_loss: 0.1828 - val_f1: 9.7674e-04\n",
      "Epoch 2/10\n",
      "311/311 [==============================] - 54s 175ms/step - loss: 0.1764 - f1: 0.1275 - val_loss: 0.1742 - val_f1: 0.2779\n",
      "Epoch 3/10\n",
      "311/311 [==============================] - 54s 174ms/step - loss: 0.1683 - f1: 0.2380 - val_loss: 0.1660 - val_f1: 0.3208\n",
      "Epoch 4/10\n",
      "311/311 [==============================] - 53s 172ms/step - loss: 0.1639 - f1: 0.2715 - val_loss: 0.1636 - val_f1: 0.3055\n",
      "Epoch 5/10\n",
      "311/311 [==============================] - 61s 196ms/step - loss: 0.1615 - f1: 0.2869 - val_loss: 0.1672 - val_f1: 0.3824\n",
      "Epoch 6/10\n",
      "311/311 [==============================] - 54s 172ms/step - loss: 0.1599 - f1: 0.3033 - val_loss: 0.1650 - val_f1: 0.3856\n",
      "Epoch 7/10\n",
      "311/311 [==============================] - 54s 172ms/step - loss: 0.1584 - f1: 0.3118 - val_loss: 0.1647 - val_f1: 0.3979\n",
      "Epoch 8/10\n",
      "311/311 [==============================] - 54s 173ms/step - loss: 0.1569 - f1: 0.3217 - val_loss: 0.1656 - val_f1: 0.4132\n",
      "Epoch 9/10\n",
      "311/311 [==============================] - 53s 171ms/step - loss: 0.1559 - f1: 0.3316 - val_loss: 0.1582 - val_f1: 0.3354\n",
      "Epoch 10/10\n",
      "311/311 [==============================] - 53s 172ms/step - loss: 0.1549 - f1: 0.3396 - val_loss: 0.1578 - val_f1: 0.3646\n"
     ]
    },
    {
     "data": {
      "text/plain": [
       "<tensorflow.python.keras.callbacks.History at 0x7fa1040fee80>"
      ]
     },
     "execution_count": 38,
     "metadata": {},
     "output_type": "execute_result"
    }
   ],
   "source": [
    "model.fit(X_train, y_train, \n",
    "          validation_data=(X_valid, y_valid),\n",
    "          batch_size=4000,\n",
    "          epochs=10)"
   ]
  },
  {
   "cell_type": "code",
   "execution_count": 39,
   "metadata": {},
   "outputs": [
    {
     "name": "stdout",
     "output_type": "stream",
     "text": [
      "dict_keys(['loss', 'f1', 'val_loss', 'val_f1'])\n"
     ]
    },
    {
     "data": {
      "image/png": "[encoded data removed]",
      "text/plain": [
       "<Figure size 432x288 with 1 Axes>"
      ]
     },
     "metadata": {
      "needs_background": "light"
     },
     "output_type": "display_data"
    }
   ],
   "source": [
    "print(model.history.history.keys())\n",
    "plt.plot(model.history.history['f1'])\n",
    "plt.plot(model.history.history['val_f1'])\n",
    "plt.title('model f1')\n",
    "plt.ylabel('f1')\n",
    "plt.xlabel('epoch')\n",
    "plt.legend(['train', 'val'], loc='upper left')\n",
    "plt.show()"
   ]
  },
  {
   "cell_type": "markdown",
   "metadata": {},
   "source": [
    "Стало лучше, чем было в изначальной конфигурации с выбором максимального значения только в самом конце"
   ]
  },
  {
   "cell_type": "markdown",
   "metadata": {},
   "source": [
    "Возьмём изначальную конфигурацию и уберём оттуда все drop"
   ]
  },
  {
   "cell_type": "code",
   "execution_count": 40,
   "metadata": {},
   "outputs": [],
   "source": [
    "inputs = tf.keras.layers.Input(shape=(int(MAX_LEN),))\n",
    "embeddings = tf.keras.layers.Embedding(input_dim=len(sym2id), output_dim=100)(inputs)\n",
    "convs = []\n",
    "\n",
    "conv1 = tf.keras.layers.Conv1D(kernel_size=3, filters=32, padding='same', strides=1)(embeddings)\n",
    "conv2 = tf.keras.layers.Conv1D(kernel_size=2, filters=10, padding='same', strides=1)(conv1)\n",
    "conv3 = tf.keras.layers.Conv1D(kernel_size=2, filters=5, padding='same', strides=1)(conv2)\n",
    "conv4 = tf.keras.layers.Conv1D(kernel_size=2, filters=5, padding='same', strides=1)(conv3)\n",
    "pool1 = tf.compat.v1.keras.layers.MaxPool1D()(conv4)\n",
    "convs.append(pool1)\n",
    "\n",
    "\n",
    "conv5 =  tf.keras.layers.Conv1D(kernel_size=10, filters=5, padding='same', strides=1)(embeddings)\n",
    "pool2 = tf.compat.v1.keras.layers.MaxPool1D()(conv5)\n",
    "convs.append(pool2)\n",
    "\n",
    "\n",
    "conv6 = tf.keras.layers.Conv1D(kernel_size=2, filters=10, padding='same', strides=1)(embeddings)\n",
    "conv7 = tf.keras.layers.Conv1D(kernel_size=7, filters=5, padding='same', strides=1)(conv6)\n",
    "pool3 = tf.compat.v1.keras.layers.MaxPool1D()(conv7)\n",
    "convs.append(pool3)\n",
    "\n",
    "conv8 = tf.keras.layers.Conv1D(kernel_size=2, filters=5, padding='same', strides=1)(embeddings)\n",
    "pool4 = tf.compat.v1.keras.layers.MaxPool1D()(conv8)\n",
    "convs.append(pool4)\n",
    "\n",
    "concat = tf.keras.layers.concatenate(convs, axis=1)\n",
    "conv_global = tf.keras.layers.Conv1D(kernel_size=5, filters=32, strides=1)(concat)\n",
    "flatten = tf.keras.layers.Flatten()(conv_global)\n",
    "dense = tf.keras.layers.Dense(50, activation='relu')(flatten)\n",
    "outputs = tf.keras.layers.Dense(1, activation='sigmoid')(dense)\n",
    "\n",
    "model = tf.keras.Model(inputs=inputs, outputs=outputs)\n",
    "optimizer = tf.keras.optimizers.Adam(learning_rate=0.001)\n",
    "model.compile(optimizer=optimizer,\n",
    "              loss='binary_crossentropy',\n",
    "              metrics=[f1])"
   ]
  },
  {
   "cell_type": "code",
   "execution_count": 41,
   "metadata": {},
   "outputs": [
    {
     "name": "stdout",
     "output_type": "stream",
     "text": [
      "Epoch 1/10\n",
      "311/311 [==============================] - 48s 153ms/step - loss: 0.2145 - f1: 0.0011 - val_loss: 0.1885 - val_f1: 0.0023\n",
      "Epoch 2/10\n",
      "311/311 [==============================] - 47s 150ms/step - loss: 0.1794 - f1: 0.1113 - val_loss: 0.1790 - val_f1: 0.1134\n",
      "Epoch 3/10\n",
      "311/311 [==============================] - 47s 151ms/step - loss: 0.1706 - f1: 0.2144 - val_loss: 0.1736 - val_f1: 0.2926\n",
      "Epoch 4/10\n",
      "311/311 [==============================] - 48s 154ms/step - loss: 0.1665 - f1: 0.2507 - val_loss: 0.1678 - val_f1: 0.2617\n",
      "Epoch 5/10\n",
      "311/311 [==============================] - 47s 151ms/step - loss: 0.1647 - f1: 0.2604 - val_loss: 0.1696 - val_f1: 0.3167\n",
      "Epoch 6/10\n",
      "311/311 [==============================] - 47s 152ms/step - loss: 0.1626 - f1: 0.2794 - val_loss: 0.1765 - val_f1: 0.1442\n",
      "Epoch 7/10\n",
      "311/311 [==============================] - 47s 153ms/step - loss: 0.1614 - f1: 0.2856 - val_loss: 0.1680 - val_f1: 0.1941\n",
      "Epoch 8/10\n",
      "311/311 [==============================] - 47s 150ms/step - loss: 0.1597 - f1: 0.2985 - val_loss: 0.1649 - val_f1: 0.2503\n",
      "Epoch 9/10\n",
      "311/311 [==============================] - 47s 151ms/step - loss: 0.1583 - f1: 0.3113 - val_loss: 0.1638 - val_f1: 0.3082\n",
      "Epoch 10/10\n",
      "311/311 [==============================] - 47s 152ms/step - loss: 0.1562 - f1: 0.3256 - val_loss: 0.1635 - val_f1: 0.2649\n"
     ]
    },
    {
     "data": {
      "text/plain": [
       "<tensorflow.python.keras.callbacks.History at 0x7fa0fc9cb860>"
      ]
     },
     "execution_count": 41,
     "metadata": {},
     "output_type": "execute_result"
    }
   ],
   "source": [
    "model.fit(X_train, y_train, \n",
    "          validation_data=(X_valid, y_valid),\n",
    "          batch_size=4000,\n",
    "          epochs=10)"
   ]
  },
  {
   "cell_type": "code",
   "execution_count": 42,
   "metadata": {},
   "outputs": [
    {
     "name": "stdout",
     "output_type": "stream",
     "text": [
      "dict_keys(['loss', 'f1', 'val_loss', 'val_f1'])\n"
     ]
    },
    {
     "data": {
      "image/png": "[encoded data removed]",
      "text/plain": [
       "<Figure size 432x288 with 1 Axes>"
      ]
     },
     "metadata": {
      "needs_background": "light"
     },
     "output_type": "display_data"
    }
   ],
   "source": [
    "print(model.history.history.keys())\n",
    "plt.plot(model.history.history['f1'])\n",
    "plt.plot(model.history.history['val_f1'])\n",
    "plt.title('model f1')\n",
    "plt.ylabel('f1')\n",
    "plt.xlabel('epoch')\n",
    "plt.legend(['train', 'val'], loc='upper left')\n",
    "plt.show()"
   ]
  },
  {
   "cell_type": "markdown",
   "metadata": {},
   "source": [
    "На валидации стало хуже"
   ]
  },
  {
   "cell_type": "markdown",
   "metadata": {},
   "source": [
    "Оставим drop, но сделаем его в 5 раз меньше"
   ]
  },
  {
   "cell_type": "code",
   "execution_count": 43,
   "metadata": {},
   "outputs": [],
   "source": [
    "inputs = tf.keras.layers.Input(shape=(int(MAX_LEN),))\n",
    "embeddings = tf.keras.layers.Embedding(input_dim=len(sym2id), output_dim=100)(inputs)\n",
    "convs = []\n",
    "\n",
    "drop1 = tf.keras.layers.Dropout(0.04)(embeddings)\n",
    "conv1 = tf.keras.layers.Conv1D(kernel_size=3, filters=32, padding='same', strides=1)(drop1)\n",
    "conv2 = tf.keras.layers.Conv1D(kernel_size=2, filters=10, padding='same', strides=1)(conv1)\n",
    "conv3 = tf.keras.layers.Conv1D(kernel_size=2, filters=5, padding='same', strides=1)(conv2)\n",
    "conv4 = tf.keras.layers.Conv1D(kernel_size=2, filters=5, padding='same', strides=1)(conv3)\n",
    "pool1 = tf.compat.v1.keras.layers.MaxPool1D()(conv4)\n",
    "convs.append(pool1)\n",
    "\n",
    "drop2 = tf.keras.layers.Dropout(0.02)(embeddings)\n",
    "conv5 =  tf.keras.layers.Conv1D(kernel_size=10, filters=5, padding='same', strides=1)(drop2)\n",
    "pool2 = tf.compat.v1.keras.layers.MaxPool1D()(conv5)\n",
    "convs.append(pool2)\n",
    "\n",
    "drop3 = tf.keras.layers.Dropout(0.02)(embeddings)\n",
    "conv6 = tf.keras.layers.Conv1D(kernel_size=2, filters=10, padding='same', strides=1)(drop3)\n",
    "conv7 = tf.keras.layers.Conv1D(kernel_size=7, filters=5, padding='same', strides=1)(conv6)\n",
    "pool3 = tf.compat.v1.keras.layers.MaxPool1D()(conv7)\n",
    "convs.append(pool3)\n",
    "\n",
    "drop4 = tf.keras.layers.Dropout(0.04)(embeddings)\n",
    "conv8 = tf.keras.layers.Conv1D(kernel_size=2, filters=5, padding='same', strides=1)(drop4)\n",
    "pool4 = tf.compat.v1.keras.layers.MaxPool1D()(conv8)\n",
    "convs.append(pool4)\n",
    "\n",
    "concat = tf.keras.layers.concatenate(convs, axis=1)\n",
    "conv_global = tf.keras.layers.Conv1D(kernel_size=5, filters=32, strides=1)(concat)\n",
    "flatten = tf.keras.layers.Flatten()(conv_global)\n",
    "dense = tf.keras.layers.Dense(50, activation='relu')(flatten)\n",
    "outputs = tf.keras.layers.Dense(1, activation='sigmoid')(dense)\n",
    "\n",
    "model = tf.keras.Model(inputs=inputs, outputs=outputs)\n",
    "optimizer = tf.keras.optimizers.Adam(learning_rate=0.001)\n",
    "model.compile(optimizer=optimizer,\n",
    "              loss='binary_crossentropy',\n",
    "              metrics=[f1])"
   ]
  },
  {
   "cell_type": "code",
   "execution_count": 44,
   "metadata": {},
   "outputs": [
    {
     "name": "stdout",
     "output_type": "stream",
     "text": [
      "Epoch 1/10\n",
      "311/311 [==============================] - 55s 176ms/step - loss: 0.2115 - f1: 0.0117 - val_loss: 0.1875 - val_f1: 0.0646\n",
      "Epoch 2/10\n",
      "311/311 [==============================] - 55s 176ms/step - loss: 0.1788 - f1: 0.1392 - val_loss: 0.1746 - val_f1: 0.2196\n",
      "Epoch 3/10\n",
      "311/311 [==============================] - 55s 176ms/step - loss: 0.1722 - f1: 0.2059 - val_loss: 0.1755 - val_f1: 0.2674\n",
      "Epoch 4/10\n",
      "311/311 [==============================] - 55s 176ms/step - loss: 0.1687 - f1: 0.2351 - val_loss: 0.1789 - val_f1: 0.3280\n",
      "Epoch 5/10\n",
      "311/311 [==============================] - 54s 175ms/step - loss: 0.1659 - f1: 0.2570 - val_loss: 0.1810 - val_f1: 0.3557\n",
      "Epoch 6/10\n",
      "311/311 [==============================] - 54s 174ms/step - loss: 0.1639 - f1: 0.2741 - val_loss: 0.1682 - val_f1: 0.2762\n",
      "Epoch 7/10\n",
      "311/311 [==============================] - 54s 174ms/step - loss: 0.1623 - f1: 0.2829 - val_loss: 0.1657 - val_f1: 0.2775\n",
      "Epoch 8/10\n",
      "311/311 [==============================] - 55s 176ms/step - loss: 0.1608 - f1: 0.2950 - val_loss: 0.1660 - val_f1: 0.2759\n",
      "Epoch 9/10\n",
      "311/311 [==============================] - 54s 175ms/step - loss: 0.1596 - f1: 0.3037 - val_loss: 0.1661 - val_f1: 0.3032\n",
      "Epoch 10/10\n",
      "311/311 [==============================] - 55s 176ms/step - loss: 0.1583 - f1: 0.3142 - val_loss: 0.1694 - val_f1: 0.3383\n"
     ]
    },
    {
     "data": {
      "text/plain": [
       "<tensorflow.python.keras.callbacks.History at 0x7fa0fce82198>"
      ]
     },
     "execution_count": 44,
     "metadata": {},
     "output_type": "execute_result"
    }
   ],
   "source": [
    "model.fit(X_train, y_train, \n",
    "          validation_data=(X_valid, y_valid),\n",
    "          batch_size=4000,\n",
    "          epochs=10)"
   ]
  },
  {
   "cell_type": "code",
   "execution_count": 45,
   "metadata": {},
   "outputs": [
    {
     "name": "stdout",
     "output_type": "stream",
     "text": [
      "dict_keys(['loss', 'f1', 'val_loss', 'val_f1'])\n"
     ]
    },
    {
     "data": {
      "image/png": "[encoded data removed]",
      "text/plain": [
       "<Figure size 432x288 with 1 Axes>"
      ]
     },
     "metadata": {
      "needs_background": "light"
     },
     "output_type": "display_data"
    }
   ],
   "source": [
    "print(model.history.history.keys())\n",
    "plt.plot(model.history.history['f1'])\n",
    "plt.plot(model.history.history['val_f1'])\n",
    "plt.title('model f1')\n",
    "plt.ylabel('f1')\n",
    "plt.xlabel('epoch')\n",
    "plt.legend(['train', 'val'], loc='upper left')\n",
    "plt.show()"
   ]
  },
  {
   "cell_type": "markdown",
   "metadata": {},
   "source": [
    "Этого оказалось достатоно, чтобы избежать переобучения, но итоговый результат не улучшился"
   ]
  },
  {
   "cell_type": "markdown",
   "metadata": {},
   "source": [
    "Лучшей из опробованных оказалась модель с максимизацией после каждой свертки. Запустим её с колбеком"
   ]
  },
  {
   "cell_type": "code",
   "execution_count": 46,
   "metadata": {},
   "outputs": [],
   "source": [
    "# ModelCheckpoint сохраняет лучшие версии моделей\n",
    "checkpoint = tf.keras.callbacks.ModelCheckpoint('model.weights', # названия файла \n",
    "                                                monitor='val_f1', # за какой метрикой следить\n",
    "                                                verbose=1, # будет печатать что происходит\n",
    "                                                save_weights_only=True, # если нужно только веса сохранить\n",
    "                                                save_best_only=True, # сохранять только лучшие\n",
    "                                                mode='max', # если метрика должна расти, то тут max и min если наоборот\n",
    "                                                save_freq='epoch' # как часто вызывать\n",
    "                                               )\n",
    "\n",
    "# EarlyStopping позволяет автоматически остановить обучение, если качество не улучшается \n",
    "early_stop = tf.keras.callbacks.EarlyStopping(monitor='val_f1', \n",
    "                                              min_delta=0.01, # какая разница считается как улучшение\n",
    "                                              patience=3, # сколько эпох терпеть отсутствие улучшений\n",
    "                                              verbose=1, \n",
    "                                              mode='max',\n",
    "                                              )"
   ]
  },
  {
   "cell_type": "code",
   "execution_count": 47,
   "metadata": {},
   "outputs": [],
   "source": [
    "inputs = tf.keras.layers.Input(shape=(int(MAX_LEN),))\n",
    "embeddings = tf.keras.layers.Embedding(input_dim=len(sym2id), output_dim=100)(inputs)\n",
    "convs = []\n",
    "\n",
    "drop1 = tf.keras.layers.Dropout(0.2)(embeddings)\n",
    "conv1 = tf.keras.layers.Conv1D(kernel_size=3, filters=32, padding='same', strides=1)(drop1)\n",
    "pool1 = pool1 = tf.compat.v1.keras.layers.MaxPool1D()(conv1)\n",
    "conv2 = tf.keras.layers.Conv1D(kernel_size=2, filters=10, padding='same', strides=1)(pool1)\n",
    "pool2 = pool1 = tf.compat.v1.keras.layers.MaxPool1D()(conv2)\n",
    "conv3 = tf.keras.layers.Conv1D(kernel_size=2, filters=5, padding='same', strides=1)(pool2)\n",
    "pool3 = pool1 = tf.compat.v1.keras.layers.MaxPool1D()(conv3)\n",
    "conv4 = tf.keras.layers.Conv1D(kernel_size=2, filters=5, padding='same', strides=1)(pool3)\n",
    "pool4 = tf.compat.v1.keras.layers.MaxPool1D()(conv4)\n",
    "convs.append(pool4)\n",
    "\n",
    "drop2 = tf.keras.layers.Dropout(0.1)(embeddings)\n",
    "conv5 =  tf.keras.layers.Conv1D(kernel_size=10, filters=5, padding='same', strides=1)(drop2)\n",
    "pool5 = tf.compat.v1.keras.layers.MaxPool1D()(conv5)\n",
    "convs.append(pool5)\n",
    "\n",
    "drop3 = tf.keras.layers.Dropout(0.1)(embeddings)\n",
    "conv6 = tf.keras.layers.Conv1D(kernel_size=2, filters=10, padding='same', strides=1)(drop3)\n",
    "pool6 = tf.compat.v1.keras.layers.MaxPool1D()(conv6)\n",
    "conv7 = tf.keras.layers.Conv1D(kernel_size=7, filters=5, padding='same', strides=1)(pool6)\n",
    "pool7 = tf.compat.v1.keras.layers.MaxPool1D()(conv7)\n",
    "convs.append(pool7)\n",
    "\n",
    "drop4 = tf.keras.layers.Dropout(0.2)(embeddings)\n",
    "conv8 = tf.keras.layers.Conv1D(kernel_size=2, filters=5, padding='same', strides=1)(drop4)\n",
    "pool8 = tf.compat.v1.keras.layers.MaxPool1D()(conv8)\n",
    "convs.append(pool8)\n",
    "\n",
    "concat = tf.keras.layers.concatenate(convs, axis=1)\n",
    "conv_global = tf.keras.layers.Conv1D(kernel_size=5, filters=32, strides=1)(concat)\n",
    "flatten = tf.keras.layers.Flatten()(conv_global)\n",
    "dense = tf.keras.layers.Dense(50, activation='relu')(flatten)\n",
    "outputs = tf.keras.layers.Dense(1, activation='sigmoid')(dense)\n",
    "\n",
    "model = tf.keras.Model(inputs=inputs, outputs=outputs)\n",
    "optimizer = tf.keras.optimizers.Adam(learning_rate=0.001)\n",
    "model.compile(optimizer=optimizer,\n",
    "              loss='binary_crossentropy',\n",
    "              metrics=[f1])"
   ]
  },
  {
   "cell_type": "code",
   "execution_count": 48,
   "metadata": {},
   "outputs": [
    {
     "name": "stdout",
     "output_type": "stream",
     "text": [
      "Epoch 1/30\n",
      "621/621 [==============================] - ETA: 0s - loss: 0.2009 - f1: 0.0360\n",
      "Epoch 00001: val_f1 improved from -inf to 0.21356, saving model to model.weights\n",
      "621/621 [==============================] - 61s 98ms/step - loss: 0.2009 - f1: 0.0360 - val_loss: 0.1791 - val_f1: 0.2136\n",
      "Epoch 2/30\n",
      "621/621 [==============================] - ETA: 0s - loss: 0.1732 - f1: 0.1983\n",
      "Epoch 00002: val_f1 improved from 0.21356 to 0.28121, saving model to model.weights\n",
      "621/621 [==============================] - 60s 97ms/step - loss: 0.1732 - f1: 0.1983 - val_loss: 0.1679 - val_f1: 0.2812\n",
      "Epoch 3/30\n",
      "620/621 [============================>.] - ETA: 0s - loss: 0.1675 - f1: 0.2419\n",
      "Epoch 00003: val_f1 improved from 0.28121 to 0.34044, saving model to model.weights\n",
      "621/621 [==============================] - 67s 108ms/step - loss: 0.1675 - f1: 0.2420 - val_loss: 0.1669 - val_f1: 0.3404\n",
      "Epoch 4/30\n",
      "621/621 [==============================] - ETA: 0s - loss: 0.1641 - f1: 0.2675\n",
      "Epoch 00004: val_f1 did not improve from 0.34044\n",
      "621/621 [==============================] - 60s 97ms/step - loss: 0.1641 - f1: 0.2675 - val_loss: 0.1610 - val_f1: 0.2727\n",
      "Epoch 5/30\n",
      "621/621 [==============================] - ETA: 0s - loss: 0.1619 - f1: 0.2861\n",
      "Epoch 00005: val_f1 did not improve from 0.34044\n",
      "621/621 [==============================] - 60s 96ms/step - loss: 0.1619 - f1: 0.2861 - val_loss: 0.1609 - val_f1: 0.3030\n",
      "Epoch 6/30\n",
      "620/621 [============================>.] - ETA: 0s - loss: 0.1601 - f1: 0.3014\n",
      "Epoch 00006: val_f1 did not improve from 0.34044\n",
      "621/621 [==============================] - 60s 96ms/step - loss: 0.1601 - f1: 0.3014 - val_loss: 0.1604 - val_f1: 0.3259\n",
      "Epoch 00006: early stopping\n"
     ]
    },
    {
     "data": {
      "text/plain": [
       "<tensorflow.python.keras.callbacks.History at 0x7fa0fc1a8e10>"
      ]
     },
     "execution_count": 48,
     "metadata": {},
     "output_type": "execute_result"
    }
   ],
   "source": [
    "model.fit(X_train, y_train, \n",
    "          validation_data=(X_valid, y_valid),\n",
    "          batch_size=2000,\n",
    "         epochs=30,\n",
    "         callbacks=[checkpoint, early_stop])"
   ]
  },
  {
   "cell_type": "code",
   "execution_count": 49,
   "metadata": {},
   "outputs": [
    {
     "name": "stdout",
     "output_type": "stream",
     "text": [
      "dict_keys(['loss', 'f1', 'val_loss', 'val_f1'])\n"
     ]
    },
    {
     "data": {
      "image/png": "[encoded data removed]",
      "text/plain": [
       "<Figure size 432x288 with 1 Axes>"
      ]
     },
     "metadata": {
      "needs_background": "light"
     },
     "output_type": "display_data"
    }
   ],
   "source": [
    "print(model.history.history.keys())\n",
    "plt.plot(model.history.history['f1'])\n",
    "plt.plot(model.history.history['val_f1'])\n",
    "plt.title('model f1')\n",
    "plt.ylabel('f1')\n",
    "plt.xlabel('epoch')\n",
    "plt.legend(['train', 'val'], loc='upper left')\n",
    "plt.show()"
   ]
  },
  {
   "cell_type": "markdown",
   "metadata": {},
   "source": [
    "Вообще-то мне эта модель не нужна, но что-то подсказывает, что незачем делать checkpoint, если потом не сохраняю модель"
   ]
  },
  {
   "cell_type": "code",
   "execution_count": 50,
   "metadata": {},
   "outputs": [],
   "source": [
    "model.save_weights('quora_model.weights')"
   ]
  },
  {
   "cell_type": "code",
   "execution_count": null,
   "metadata": {},
   "outputs": [],
   "source": []
  }
 ],
 "metadata": {
  "kernelspec": {
   "display_name": "Python 3",
   "language": "python",
   "name": "python3"
  },
  "language_info": {
   "codemirror_mode": {
    "name": "ipython",
    "version": 3
   },
   "file_extension": ".py",
   "mimetype": "text/x-python",
   "name": "python",
   "nbconvert_exporter": "python",
   "pygments_lexer": "ipython3",
   "version": "3.6.9"
  }
 },
 "nbformat": 4,
 "nbformat_minor": 4
}
