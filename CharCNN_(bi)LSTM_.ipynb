{
  "nbformat": 4,
  "nbformat_minor": 0,
  "metadata": {
    "colab": {
      "name": "CharCNN-(bi)LSTM .ipynb",
      "provenance": [],
      "authorship_tag": "ABX9TyOWPMYTD6szuqNC3rUuNHe+",
      "include_colab_link": true
    },
    "kernelspec": {
      "name": "python3",
      "display_name": "Python 3"
    }
  },
  "cells": [
    {
      "cell_type": "markdown",
      "metadata": {
        "id": "view-in-github",
        "colab_type": "text"
      },
      "source": [
        "<a href=\"https://colab.research.google.com/github/ElizavetaNosova/HSE_ML_homework/blob/master/CharCNN_(bi)LSTM_.ipynb\" target=\"_parent\"><img src=\"https://colab.research.google.com/assets/colab-badge.svg\" alt=\"Open In Colab\"/></a>"
      ]
    },
    {
      "cell_type": "code",
      "metadata": {
        "id": "1adAv9oHxdbh",
        "colab_type": "code",
        "outputId": "c967906e-2937-4ab6-c495-d3d93b4d102d",
        "colab": {
          "base_uri": "https://localhost:8080/",
          "height": 70
        }
      },
      "source": [
        "import nltk\n",
        "nltk.download('treebank')"
      ],
      "execution_count": 0,
      "outputs": [
        {
          "output_type": "stream",
          "text": [
            "[nltk_data] Downloading package treebank to /root/nltk_data...\n",
            "[nltk_data]   Unzipping corpora/treebank.zip.\n"
          ],
          "name": "stdout"
        },
        {
          "output_type": "execute_result",
          "data": {
            "text/plain": [
              "True"
            ]
          },
          "metadata": {
            "tags": []
          },
          "execution_count": 2
        }
      ]
    },
    {
      "cell_type": "code",
      "metadata": {
        "id": "2CmHfPEYyMtk",
        "colab_type": "code",
        "colab": {}
      },
      "source": [
        "from tensorflow.keras import Model\n",
        "from tensorflow.keras.layers import Dense, Activation, Dropout, LSTM, GRU, Bidirectional, TimeDistributed, Input, Embedding, Conv1D, Flatten, concatenate\n",
        "from tensorflow.keras.preprocessing.sequence import pad_sequences\n",
        "from tensorflow.keras.optimizers import Adam\n",
        "from tensorflow.keras.utils import to_categorical\n",
        "import numpy as np\n",
        "from sklearn.model_selection import train_test_split\n",
        "import matplotlib.pyplot as plt\n",
        "from collections import Counter"
      ],
      "execution_count": 0,
      "outputs": []
    },
    {
      "cell_type": "code",
      "metadata": {
        "id": "XCr605hWxrAa",
        "colab_type": "code",
        "colab": {}
      },
      "source": [
        "tagged_sentences = nltk.corpus.treebank.tagged_sents()"
      ],
      "execution_count": 0,
      "outputs": []
    },
    {
      "cell_type": "code",
      "metadata": {
        "id": "wwdLumrdxxch",
        "colab_type": "code",
        "colab": {}
      },
      "source": [
        "sentences, sentence_tags =[], [] \n",
        "for tagged_sentence in tagged_sentences:\n",
        "    sentence, tags = zip(*tagged_sentence)\n",
        "    sentences.append(sentence)\n",
        "    sentence_tags.append(tags)"
      ],
      "execution_count": 0,
      "outputs": []
    },
    {
      "cell_type": "code",
      "metadata": {
        "id": "GZvBfsEwx4zQ",
        "colab_type": "code",
        "colab": {}
      },
      "source": [
        "sent_train, sent_test, tag_train, tag_test = train_test_split(sentences, sentence_tags, test_size=0.2, random_state=0)"
      ],
      "execution_count": 0,
      "outputs": []
    },
    {
      "cell_type": "code",
      "metadata": {
        "id": "c6KTe5MQyTrC",
        "colab_type": "code",
        "colab": {}
      },
      "source": [
        "from numpy.random import seed\n",
        "seed(0)\n",
        "from tensorflow.random import set_seed\n",
        "set_seed(0)"
      ],
      "execution_count": 0,
      "outputs": []
    },
    {
      "cell_type": "code",
      "metadata": {
        "id": "V2ql1Y2DyYW1",
        "colab_type": "code",
        "colab": {}
      },
      "source": [
        "vocab = Counter()\n",
        "for sent in sent_train:\n",
        "    sent = [word.lower() for word in sent]\n",
        "    vocab.update(sent)"
      ],
      "execution_count": 0,
      "outputs": []
    },
    {
      "cell_type": "code",
      "metadata": {
        "id": "EZa3eTU_yfHz",
        "colab_type": "code",
        "colab": {}
      },
      "source": [
        "filtered_vocab = {word for word in vocab if vocab[word] > 5}"
      ],
      "execution_count": 0,
      "outputs": []
    },
    {
      "cell_type": "code",
      "metadata": {
        "id": "wJv6ud7Byix_",
        "colab_type": "code",
        "colab": {}
      },
      "source": [
        "word2id = {'PAD':0,'UNK':1}    \n",
        "for i,word in enumerate(filtered_vocab):\n",
        "      word2id[word] = i + 2\n",
        "\n",
        "id2word = {i:word for word, i in word2id.items()}"
      ],
      "execution_count": 0,
      "outputs": []
    },
    {
      "cell_type": "code",
      "metadata": {
        "id": "o5_exFQnynkF",
        "colab_type": "code",
        "colab": {}
      },
      "source": [
        "tag2id = {'PAD':0}  \n",
        "for tags in tag_train:\n",
        "    for tag in tags:\n",
        "      if tag.lower() not in tag2id:\n",
        "        tag2id[tag.lower()] = len(tag2id)\n",
        "\n",
        "id2tag = {i:tag for tag, i in tag2id.items()}"
      ],
      "execution_count": 0,
      "outputs": []
    },
    {
      "cell_type": "code",
      "metadata": {
        "id": "b2_9VkEByqxc",
        "colab_type": "code",
        "colab": {}
      },
      "source": [
        "def data2ints(data, smth2id):\n",
        "  int_data = []\n",
        "  for seq in data:\n",
        "      int_seq = []\n",
        "      for i in seq:\n",
        "          try:\n",
        "            int_seq.append(smth2id[i.lower()])\n",
        "          except KeyError:\n",
        "            int_seq.append(smth2id['UNK'])\n",
        "  \n",
        "      int_data.append(int_seq)\n",
        "  return int_data"
      ],
      "execution_count": 0,
      "outputs": []
    },
    {
      "cell_type": "code",
      "metadata": {
        "id": "zks4kAivyzJE",
        "colab_type": "code",
        "outputId": "0bdf3c10-2b67-4d45-801b-c724a23bd2cc",
        "colab": {
          "base_uri": "https://localhost:8080/",
          "height": 87
        }
      },
      "source": [
        "X_train_ids, X_test_ids = data2ints(sent_train, word2id), data2ints(sent_test, word2id)\n",
        "y_train_ids, y_test_ids = data2ints(tag_train, tag2id), data2ints(tag_test, tag2id)\n",
        "\n",
        "\n",
        "print(X_train_ids[0])\n",
        "print(X_test_ids[0])\n",
        "print(y_train_ids[0])\n",
        "print(y_test_ids[0])"
      ],
      "execution_count": 0,
      "outputs": [
        {
          "output_type": "stream",
          "text": [
            "[976, 1, 1, 1, 462, 1, 349, 13, 1458]\n",
            "[717, 1289, 317, 766, 516, 1241, 434, 1, 943, 1, 836, 118, 119, 1458]\n",
            "[1, 1, 1, 2, 1, 1, 3, 4, 5]\n",
            "[18, 19, 21, 24, 10, 25, 24, 18, 21, 14, 3, 7, 15, 5]\n"
          ],
          "name": "stdout"
        }
      ]
    },
    {
      "cell_type": "code",
      "metadata": {
        "id": "cc56gX5KNOvM",
        "colab_type": "code",
        "colab": {}
      },
      "source": [
        "y_train, y_test = to_categorical(y_train_pad, num_classes=len(tag2id)), to_categorical(y_test_pad, num_classes=len(tag2id))"
      ],
      "execution_count": 0,
      "outputs": []
    },
    {
      "cell_type": "code",
      "metadata": {
        "id": "Rspwxhwxy5nJ",
        "colab_type": "code",
        "colab": {}
      },
      "source": [
        "MAX_LEN = max(len(x) for x in X_train_ids) + 5 #в тесте могут быть более длинные предложения"
      ],
      "execution_count": 0,
      "outputs": []
    },
    {
      "cell_type": "code",
      "metadata": {
        "id": "DaP-_J4MzRY1",
        "colab_type": "code",
        "colab": {}
      },
      "source": [
        "X_train, X_test = pad_sequences(X_train_ids, maxlen=MAX_LEN), pad_sequences(X_test_ids, maxlen=MAX_LEN)\n",
        "y_train_pad, y_test_pad = pad_sequences(y_train_ids, maxlen=MAX_LEN), pad_sequences(y_test_ids, maxlen=MAX_LEN)"
      ],
      "execution_count": 0,
      "outputs": []
    },
    {
      "cell_type": "code",
      "metadata": {
        "id": "XYbriKgMzwsM",
        "colab_type": "code",
        "colab": {}
      },
      "source": [
        "char2id = {'PAD':0,'UNK':1}\n",
        "for sent in sent_train:\n",
        "    for word in sent:\n",
        "        for char in word:\n",
        "            if char not in char2id:\n",
        "                char2id[char] = len(char2id)\n",
        "\n",
        "id2char = {i:char for char, i in char2id.items()}"
      ],
      "execution_count": 0,
      "outputs": []
    },
    {
      "cell_type": "code",
      "metadata": {
        "id": "S-4XXTFwb6wH",
        "colab_type": "code",
        "colab": {}
      },
      "source": [
        "MAX_WORD_LEN = max([len(word) for word in sent for sent in sent_train]) + 5 #в тесте могут быть более длинные слова"
      ],
      "execution_count": 0,
      "outputs": []
    },
    {
      "cell_type": "code",
      "metadata": {
        "id": "luE19XQd0C0j",
        "colab_type": "code",
        "outputId": "fff5a59b-f760-4dc5-ecea-402e2d7dd787",
        "colab": {
          "base_uri": "https://localhost:8080/",
          "height": 34
        }
      },
      "source": [
        "MAX_WORD_LEN"
      ],
      "execution_count": 0,
      "outputs": [
        {
          "output_type": "execute_result",
          "data": {
            "text/plain": [
              "13"
            ]
          },
          "metadata": {
            "tags": []
          },
          "execution_count": 138
        }
      ]
    },
    {
      "cell_type": "code",
      "metadata": {
        "id": "s7auVfqDiQuC",
        "colab_type": "code",
        "colab": {}
      },
      "source": [
        "X_train_char_ids = [data2ints(sent, char2id) for sent in sent_train]\n",
        "X_test_char_ids = [data2ints(sent, char2id) for sent in sent_test]"
      ],
      "execution_count": 0,
      "outputs": []
    },
    {
      "cell_type": "code",
      "metadata": {
        "id": "do0mjd5UoKv0",
        "colab_type": "code",
        "outputId": "04b813e1-3e4f-4c6b-e4f5-c8fc1abafa08",
        "colab": {
          "base_uri": "https://localhost:8080/",
          "height": 176
        }
      },
      "source": [
        "X_train_char_ids[0]"
      ],
      "execution_count": 0,
      "outputs": [
        {
          "output_type": "execute_result",
          "data": {
            "text/plain": [
              "[[11, 3, 4, 5, 6, 3],\n",
              " [18, 8],\n",
              " [38, 5, 10, 11],\n",
              " [12, 13, 14, 14, 11, 11, 3, 11, 3],\n",
              " [22, 6, 8],\n",
              " [34, 5, 17, 18, 19, 6],\n",
              " [5, 12],\n",
              " [14, 20, 5, 21, 6, 22, 5, 10],\n",
              " [8]]"
            ]
          },
          "metadata": {
            "tags": []
          },
          "execution_count": 140
        }
      ]
    },
    {
      "cell_type": "code",
      "metadata": {
        "id": "dUP3ayonj_CX",
        "colab_type": "code",
        "colab": {}
      },
      "source": [
        "X_train_char = [pad_sequences(sent, maxlen = MAX_WORD_LEN) for sent in X_train_char_ids]\n",
        "X_test_char = [pad_sequences(sent, maxlen = MAX_WORD_LEN) for sent in X_test_char_ids]"
      ],
      "execution_count": 0,
      "outputs": []
    },
    {
      "cell_type": "code",
      "metadata": {
        "id": "7nSpfCK2cU_6",
        "colab_type": "code",
        "colab": {}
      },
      "source": [
        "X_train_char_pad = pad_sequences(X_train_char, maxlen = MAX_LEN)\n",
        "X_test_char_pad = pad_sequences(X_test_char, maxlen = MAX_LEN)"
      ],
      "execution_count": 0,
      "outputs": []
    },
    {
      "cell_type": "code",
      "metadata": {
        "id": "Y4vshVMDkBxm",
        "colab_type": "code",
        "outputId": "c2c12baa-2684-4a2b-8661-c5d710ff103e",
        "colab": {
          "base_uri": "https://localhost:8080/",
          "height": 141
        }
      },
      "source": [
        "X_train_char_pad[7]"
      ],
      "execution_count": 0,
      "outputs": [
        {
          "output_type": "execute_result",
          "data": {
            "text/plain": [
              "array([[ 0,  0,  0, ...,  0,  0,  0],\n",
              "       [ 0,  0,  0, ...,  0,  0,  0],\n",
              "       [ 0,  0,  0, ...,  0,  0,  0],\n",
              "       ...,\n",
              "       [ 0,  0,  0, ..., 20, 21, 10],\n",
              "       [ 0,  0,  0, ..., 21, 10, 12],\n",
              "       [ 0,  0,  0, ...,  0,  0,  8]], dtype=int32)"
            ]
          },
          "metadata": {
            "tags": []
          },
          "execution_count": 143
        }
      ]
    },
    {
      "cell_type": "code",
      "metadata": {
        "id": "19VYE9_6zX48",
        "colab_type": "code",
        "colab": {}
      },
      "source": [
        "input_token = Input((MAX_LEN), name='input_tokens')\n",
        "embeddings_token =  Embedding(input_dim=len(word2id), output_dim=10, mask_zero=True)(input_token)\n",
        "lstm_token = Bidirectional(LSTM(256, return_sequences=True))(embeddings_token)\n",
        "drop_token = Dropout(0.05)(lstm_token)\n",
        "\n",
        "input_char = Input(shape=(MAX_LEN, MAX_WORD_LEN), name='input_char')\n",
        "embedding_char =  TimeDistributed(Embedding(len(char2id), MAX_WORD_LEN, input_length=MAX_WORD_LEN))(input_char)\n",
        "conv_char = TimeDistributed(Conv1D(MAX_LEN, 3, 1, padding='same'))(embedding_char)\n",
        "flat_char = TimeDistributed(Flatten())(conv_char)\n",
        "drop_char = Dropout(0.05)(flat_char)\n",
        "\n",
        "concat = concatenate([drop_token, drop_char])\n",
        "lstm = Bidirectional(LSTM(256, return_sequences=True))(concat)\n",
        "outputs =  TimeDistributed(Dense(len(tag2id), activation='softmax'))(lstm)\n",
        "\n",
        "model = Model([input_token, input_char], outputs)\n",
        "optimizer = Adam(learning_rate=0.001)\n",
        "model.compile(optimizer=optimizer,\n",
        "              loss='binary_crossentropy',\n",
        "              metrics='accuracy')"
      ],
      "execution_count": 0,
      "outputs": []
    },
    {
      "cell_type": "code",
      "metadata": {
        "id": "rkw0VQldJ39Q",
        "colab_type": "code",
        "colab": {}
      },
      "source": [
        "import tensorflow as tf\n",
        "# ModelCheckpoint сохраняет лучшие версии моделей\n",
        "checkpoint = tf.keras.callbacks.ModelCheckpoint('model.weights', # названия файла \n",
        "                                                monitor='val_accuracy', # за какой метрикой следить\n",
        "                                                verbose=1, # будет печатать что происходит\n",
        "                                                save_weights_only=True, # если нужно только веса сохранить\n",
        "                                                save_best_only=True, # сохранять только лучшие\n",
        "                                                mode='max', # если метрика должна расти, то тут max и min если наоборот\n",
        "                                                save_freq='epoch' # как часто вызывать\n",
        "                                               )\n",
        "\n",
        "# EarlyStopping позволяет автоматически остановить обучение, если качество не улучшается \n",
        "early_stop = tf.keras.callbacks.EarlyStopping(monitor='val_accuracy', \n",
        "                                              min_delta=0.01, # какая разница считается как улучшение\n",
        "                                              patience=3, # сколько эпох терпеть отсутствие улучшений\n",
        "                                              verbose=1, \n",
        "                                              mode='max',\n",
        "                                              )"
      ],
      "execution_count": 0,
      "outputs": []
    },
    {
      "cell_type": "code",
      "metadata": {
        "id": "unnfWpREKmWG",
        "colab_type": "code",
        "outputId": "9be6cbdc-c6b0-4e59-9898-ad275f2cfd3f",
        "colab": {
          "base_uri": "https://localhost:8080/",
          "height": 603
        }
      },
      "source": [
        "model.summary()"
      ],
      "execution_count": 0,
      "outputs": [
        {
          "output_type": "stream",
          "text": [
            "Model: \"model_2\"\n",
            "__________________________________________________________________________________________________\n",
            "Layer (type)                    Output Shape         Param #     Connected to                     \n",
            "==================================================================================================\n",
            "input_char (InputLayer)         [(None, 133, 13)]    0                                            \n",
            "__________________________________________________________________________________________________\n",
            "input_tokens (InputLayer)       [(None, 133)]        0                                            \n",
            "__________________________________________________________________________________________________\n",
            "time_distributed_24 (TimeDistri (None, 133, 13, 13)  1040        input_char[0][0]                 \n",
            "__________________________________________________________________________________________________\n",
            "embedding_20 (Embedding)        (None, 133, 10)      1330        input_tokens[0][0]               \n",
            "__________________________________________________________________________________________________\n",
            "time_distributed_25 (TimeDistri (None, 133, 13, 133) 5320        time_distributed_24[0][0]        \n",
            "__________________________________________________________________________________________________\n",
            "bidirectional_14 (Bidirectional (None, 133, 512)     546816      embedding_20[0][0]               \n",
            "__________________________________________________________________________________________________\n",
            "time_distributed_26 (TimeDistri (None, 133, 1729)    0           time_distributed_25[0][0]        \n",
            "__________________________________________________________________________________________________\n",
            "dropout_15 (Dropout)            (None, 133, 512)     0           bidirectional_14[0][0]           \n",
            "__________________________________________________________________________________________________\n",
            "dropout_16 (Dropout)            (None, 133, 1729)    0           time_distributed_26[0][0]        \n",
            "__________________________________________________________________________________________________\n",
            "concatenate_3 (Concatenate)     (None, 133, 2241)    0           dropout_15[0][0]                 \n",
            "                                                                 dropout_16[0][0]                 \n",
            "__________________________________________________________________________________________________\n",
            "bidirectional_15 (Bidirectional (None, 133, 512)     5115904     concatenate_3[0][0]              \n",
            "__________________________________________________________________________________________________\n",
            "time_distributed_27 (TimeDistri (None, 133, 47)      24111       bidirectional_15[0][0]           \n",
            "==================================================================================================\n",
            "Total params: 5,694,521\n",
            "Trainable params: 5,694,521\n",
            "Non-trainable params: 0\n",
            "__________________________________________________________________________________________________\n"
          ],
          "name": "stdout"
        }
      ]
    },
    {
      "cell_type": "code",
      "metadata": {
        "id": "saRmgoAOpIyR",
        "colab_type": "code",
        "outputId": "b03487f1-555b-4ed7-9db7-99e265fa1cb4",
        "colab": {
          "base_uri": "https://localhost:8080/",
          "height": 550
        }
      },
      "source": [
        "model.fit([X_train, X_train_char_pad], y_train, validation_data = ([X_test, X_test_char_pad], y_test), epochs=50, callbacks = [checkpoint, early_stop])"
      ],
      "execution_count": 0,
      "outputs": [
        {
          "output_type": "stream",
          "text": [
            "Epoch 1/50\n",
            "98/98 [==============================] - ETA: 0s - loss: 0.0152 - accuracy: 0.0518\n",
            "Epoch 00001: val_accuracy improved from -inf to 0.08645, saving model to model.weights\n",
            "98/98 [==============================] - 714s 7s/step - loss: 0.0152 - accuracy: 0.0518 - val_loss: 0.0116 - val_accuracy: 0.0865\n",
            "Epoch 2/50\n",
            "98/98 [==============================] - ETA: 0s - loss: 0.0074 - accuracy: 0.1231\n",
            "Epoch 00002: val_accuracy improved from 0.08645 to 0.14822, saving model to model.weights\n",
            "98/98 [==============================] - 738s 8s/step - loss: 0.0074 - accuracy: 0.1231 - val_loss: 0.0055 - val_accuracy: 0.1482\n",
            "Epoch 3/50\n",
            "98/98 [==============================] - ETA: 0s - loss: 0.0043 - accuracy: 0.1528\n",
            "Epoch 00003: val_accuracy improved from 0.14822 to 0.16327, saving model to model.weights\n",
            "98/98 [==============================] - 721s 7s/step - loss: 0.0043 - accuracy: 0.1528 - val_loss: 0.0037 - val_accuracy: 0.1633\n",
            "Epoch 4/50\n",
            "98/98 [==============================] - ETA: 0s - loss: 0.0028 - accuracy: 0.1671\n",
            "Epoch 00004: val_accuracy improved from 0.16327 to 0.17561, saving model to model.weights\n",
            "98/98 [==============================] - 693s 7s/step - loss: 0.0028 - accuracy: 0.1671 - val_loss: 0.0025 - val_accuracy: 0.1756\n",
            "Epoch 5/50\n",
            "98/98 [==============================] - ETA: 0s - loss: 0.0019 - accuracy: 0.1761\n",
            "Epoch 00005: val_accuracy improved from 0.17561 to 0.18162, saving model to model.weights\n",
            "98/98 [==============================] - 708s 7s/step - loss: 0.0019 - accuracy: 0.1761 - val_loss: 0.0020 - val_accuracy: 0.1816\n",
            "Epoch 6/50\n",
            "98/98 [==============================] - ETA: 0s - loss: 0.0014 - accuracy: 0.1802\n",
            "Epoch 00006: val_accuracy improved from 0.18162 to 0.18398, saving model to model.weights\n",
            "98/98 [==============================] - 721s 7s/step - loss: 0.0014 - accuracy: 0.1802 - val_loss: 0.0016 - val_accuracy: 0.1840\n",
            "Epoch 7/50\n",
            "98/98 [==============================] - ETA: 0s - loss: 0.0012 - accuracy: 0.1824\n",
            "Epoch 00007: val_accuracy improved from 0.18398 to 0.18471, saving model to model.weights\n",
            "98/98 [==============================] - 703s 7s/step - loss: 0.0012 - accuracy: 0.1824 - val_loss: 0.0015 - val_accuracy: 0.1847\n",
            "Epoch 00007: early stopping\n"
          ],
          "name": "stdout"
        },
        {
          "output_type": "execute_result",
          "data": {
            "text/plain": [
              "<tensorflow.python.keras.callbacks.History at 0x7f93ec673160>"
            ]
          },
          "metadata": {
            "tags": []
          },
          "execution_count": 147
        }
      ]
    },
    {
      "cell_type": "code",
      "metadata": {
        "id": "P2-lgpJLibjs",
        "colab_type": "code",
        "colab": {}
      },
      "source": [
        "def iterpretable_prediction(sentence_prediction):\n",
        "    return [id2tag[np.argmax(i)] for i in sentence_prediction]"
      ],
      "execution_count": 0,
      "outputs": []
    },
    {
      "cell_type": "code",
      "metadata": {
        "id": "qxgpOtYRrwXl",
        "colab_type": "code",
        "colab": {}
      },
      "source": [
        "prediction = model.predict([X_test, X_test_char_pad])"
      ],
      "execution_count": 0,
      "outputs": []
    },
    {
      "cell_type": "code",
      "metadata": {
        "id": "80kUYGJutchf",
        "colab_type": "code",
        "outputId": "b5171e99-4ef8-4b60-e979-8a434409d5a9",
        "colab": {
          "base_uri": "https://localhost:8080/",
          "height": 247
        }
      },
      "source": [
        "prediction[0]"
      ],
      "execution_count": 0,
      "outputs": [
        {
          "output_type": "execute_result",
          "data": {
            "text/plain": [
              "array([[2.0906666e-02, 2.1889850e-02, 2.1574924e-02, ..., 2.1194980e-02,\n",
              "        2.0976990e-02, 2.1011991e-02],\n",
              "       [2.0906666e-02, 2.1889850e-02, 2.1574924e-02, ..., 2.1194980e-02,\n",
              "        2.0976990e-02, 2.1011991e-02],\n",
              "       [2.0906666e-02, 2.1889850e-02, 2.1574924e-02, ..., 2.1194980e-02,\n",
              "        2.0976990e-02, 2.1011991e-02],\n",
              "       ...,\n",
              "       [3.2371176e-08, 8.8042916e-06, 1.9811404e-08, ..., 3.2756786e-06,\n",
              "        4.2776517e-08, 1.6002232e-06],\n",
              "       [2.4476089e-08, 1.1895517e-05, 2.8251648e-07, ..., 1.2950598e-08,\n",
              "        4.7003366e-09, 2.4635369e-07],\n",
              "       [4.3388830e-09, 6.4117166e-06, 4.0674117e-10, ..., 9.2310620e-07,\n",
              "        4.2549146e-08, 9.0667776e-08]], dtype=float32)"
            ]
          },
          "metadata": {
            "tags": []
          },
          "execution_count": 156
        }
      ]
    },
    {
      "cell_type": "code",
      "metadata": {
        "id": "TlNQZVjQtxp9",
        "colab_type": "code",
        "colab": {}
      },
      "source": [
        "interpretation = [iterpretable_prediction(pred) for pred in list(prediction)]"
      ],
      "execution_count": 0,
      "outputs": []
    },
    {
      "cell_type": "code",
      "metadata": {
        "id": "Zp8eXvTfukSL",
        "colab_type": "code",
        "colab": {}
      },
      "source": [
        "def print_prediction(sentences, interpretation, correct, n=len(sentences)):\n",
        "    for i in range(n):\n",
        "      sentence = sentences[i]\n",
        "      meaningful_interpretation = interpretation[i][-len(sentence):]\n",
        "      correct_tag = correct[i]\n",
        "      print('---')\n",
        "      for j in range(len(sentence)):\n",
        "        print(sentence[j], meaningful_interpretation[j], correct_tag[j])"
      ],
      "execution_count": 0,
      "outputs": []
    },
    {
      "cell_type": "code",
      "metadata": {
        "id": "N6x0SGjmxzX5",
        "colab_type": "code",
        "outputId": "59fab119-d67f-4033-c433-7bc3826945ce",
        "colab": {
          "base_uri": "https://localhost:8080/",
          "height": 1000
        }
      },
      "source": [
        "print_prediction(sent_test, interpretation, tag_test, n=20)"
      ],
      "execution_count": 0,
      "outputs": [
        {
          "output_type": "stream",
          "text": [
            "---\n",
            "You prp PRP\n",
            "do vbp VBP\n",
            "n't rb RB\n",
            "want vb VB\n",
            "*-1 -none- -NONE-\n",
            "to to TO\n",
            "get vb VB\n",
            "yourself vb PRP\n",
            "too rb RB\n",
            "upset vbn JJ\n",
            "about in IN\n",
            "these dt DT\n",
            "things nns NNS\n",
            ". . .\n",
            "---\n",
            "Analysts nns NNS\n",
            "calculate nnp VBP\n",
            "Cray nnp NNP\n",
            "Computer nnp NNP\n",
            "'s pos POS\n",
            "initial jj JJ\n",
            "book nnp NN\n",
            "value nn NN\n",
            "at in IN\n",
            "about in IN\n",
            "$ $ $\n",
            "4.75 cd CD\n",
            "*U* -none- -NONE-\n",
            "a dt DT\n",
            "share nn NN\n",
            ". . .\n",
            "---\n",
            "A dt DT\n",
            "study nn NN\n",
            "by in IN\n",
            "Tulane nnp NNP\n",
            "Prof. nnp NNP\n",
            "James nnp NNP\n",
            "Wright nnp NNP\n",
            "says vbz VBZ\n",
            "0 -none- -NONE-\n",
            "homelessness nnp NN\n",
            "is vbz VBZ\n",
            "due jj JJ\n",
            "to to TO\n",
            "a dt DT\n",
            "complex nn JJ\n",
            "array nn NN\n",
            "of in IN\n",
            "problems nns NNS\n",
            ", , ,\n",
            "with in IN\n",
            "the dt DT\n",
            "common jj JJ\n",
            "thread nn NN\n",
            "of in IN\n",
            "poverty nn NN\n",
            ". . .\n",
            "---\n",
            "`` `` ``\n",
            "I prp PRP\n",
            "would md MD\n",
            "like vb VB\n",
            "*-1 -none- -NONE-\n",
            "to to TO\n",
            "go vb VB\n",
            "back rb RB\n",
            "to to TO\n",
            "1970 cd CD\n",
            ". . .\n",
            "---\n",
            "Then rb RB\n",
            ", , ,\n",
            "just rb RB\n",
            "as in IN\n",
            "an dt DT\n",
            "image nn NN\n",
            "of in IN\n",
            "the dt DT\n",
            "statue nn NN\n",
            "of in IN\n",
            "Thomas nnp NNP\n",
            "Jefferson nnp NNP\n",
            "dissolves nns VBZ\n",
            "from in IN\n",
            "the dt DT\n",
            "screen nnp NN\n",
            ", , ,\n",
            "the dt DT\n",
            "announcer nn NN\n",
            "continues vbz VBZ\n",
            ": : :\n",
            "`` `` ``\n",
            "On in IN\n",
            "the dt DT\n",
            "issue nn NN\n",
            "of in IN\n",
            "abortion nn NN\n",
            ", , ,\n",
            "Marshall nnp NNP\n",
            "Coleman nnp NNP\n",
            "wants vbz VBZ\n",
            "*-1 -none- -NONE-\n",
            "to to TO\n",
            "take vb VB\n",
            "away rb RP\n",
            "your prp$ PRP$\n",
            "right nn NN\n",
            "* -none- -NONE-\n",
            "to to TO\n",
            "choose vb VB\n",
            "and cc CC\n",
            "*-1 -none- -NONE-\n",
            "give vb VB\n",
            "it prp PRP\n",
            "to to TO\n",
            "the dt DT\n",
            "politicians nns NNS\n",
            ". . .\n",
            "'' '' ''\n",
            "---\n",
            "Mr. nnp NNP\n",
            "Reupke nnp NNP\n",
            "was vbd VBD\n",
            "one cd CD\n",
            "of in IN\n",
            "three cd CD\n",
            "executives nns NNS\n",
            "on in IN\n",
            "Reuters nnp NNP\n",
            "'s pos POS\n",
            "eight-person nnp JJ\n",
            "executive nn NN\n",
            "committee nn NN\n",
            "who wp WP\n",
            "*T*-1 -none- -NONE-\n",
            "did vbd VBD\n",
            "n't rb RB\n",
            "also rb RB\n",
            "serve vb VB\n",
            "on in IN\n",
            "the dt DT\n",
            "company nn NN\n",
            "'s pos POS\n",
            "board nn NN\n",
            "of in IN\n",
            "directors nns NNS\n",
            ". . .\n",
            "---\n",
            "Sometimes vbz RB\n",
            "the dt DT\n",
            "bribed vbn VBN\n",
            "became vbd VBD\n",
            "partners nns NNS\n",
            "in in IN\n",
            "the dt DT\n",
            "company nn NN\n",
            ". . .\n",
            "---\n",
            "`` `` ``\n",
            "A dt DT\n",
            "sweeping vbg JJ\n",
            "restructuring nn NN\n",
            "of in IN\n",
            "the dt DT\n",
            "industry nn NN\n",
            "is vbz VBZ\n",
            "possible jj JJ\n",
            ". . .\n",
            "'' '' ''\n",
            "---\n",
            "That dt DT\n",
            "commercial nn JJ\n",
            "-- : :\n",
            "which wdt WDT\n",
            "*T*-76 -none- -NONE-\n",
            "said vbd VBD\n",
            "0 -none- -NONE-\n",
            "Mr. nnp NNP\n",
            "Coleman nnp NNP\n",
            "wanted vbd VBD\n",
            "*-1 -none- -NONE-\n",
            "to to TO\n",
            "take vb VB\n",
            "away rb RP\n",
            "the dt DT\n",
            "right nn NN\n",
            "of in IN\n",
            "abortion nn NN\n",
            "`` `` ``\n",
            "even rb RB\n",
            "in in IN\n",
            "cases nns NNS\n",
            "of in IN\n",
            "rape nn NN\n",
            "and cc CC\n",
            "incest nnp NN\n",
            ", , ,\n",
            "'' '' ''\n",
            "a dt DT\n",
            "charge nn NN\n",
            "0 -none- -NONE-\n",
            "Mr. nnp NNP\n",
            "Coleman nnp NNP\n",
            "denies vbz VBZ\n",
            "*T*-2 -none- -NONE-\n",
            "-- : :\n",
            "changed vbd VBD\n",
            "the dt DT\n",
            "dynamics nns NNS\n",
            "of in IN\n",
            "the dt DT\n",
            "campaign nn NN\n",
            ", , ,\n",
            "*-3 -none- -NONE-\n",
            "transforming vbg VBG\n",
            "it prp PRP\n",
            ", , ,\n",
            "at in IN\n",
            "least jjs JJS\n",
            "in in IN\n",
            "part nn NN\n",
            ", , ,\n",
            "into in IN\n",
            "a dt DT\n",
            "referendum nn NN\n",
            "on in IN\n",
            "abortion nn NN\n",
            ". . .\n",
            "---\n",
            "The dt DT\n",
            "man nn NN\n",
            "had vbd VBD\n",
            "for in IN\n",
            "a dt DT\n",
            "long jj JJ\n",
            "time nn NN\n",
            "had vbd VBN\n",
            "`` `` ``\n",
            "a dt DT\n",
            "chaotic nnp JJ\n",
            "sex nn NN\n",
            "life nn NN\n",
            ", , ,\n",
            "'' '' ''\n",
            "including vbg VBG\n",
            "relations nns NNS\n",
            "with in IN\n",
            "foreign nnp JJ\n",
            "men nns NNS\n",
            ", , ,\n",
            "the dt DT\n",
            "newspaper nn NN\n",
            "said vbd VBD\n",
            "0 -none- -NONE-\n",
            "*T*-1 -none- -NONE-\n",
            ". . .\n",
            "---\n",
            "As in IN\n",
            "Mr. nnp NNP\n",
            "Whiting nnp NNP\n",
            "describes nns VBZ\n",
            "it prp PRP\n",
            ", , ,\n",
            "Nipponese nnp JJ\n",
            "baseball nn NN\n",
            "is vbz VBZ\n",
            "a dt DT\n",
            "`` `` ``\n",
            "mirror nn NN\n",
            "of in IN\n",
            "Japan nnp NNP\n",
            "'s pos POS\n",
            "fabled jj JJ\n",
            "virtues nns NNS\n",
            "of in IN\n",
            "hard jj JJ\n",
            "work nn NN\n",
            "and cc CC\n",
            "harmony nn NN\n",
            ". . .\n",
            "'' '' ''\n",
            "---\n",
            "PS nnp NNP\n",
            "of in IN\n",
            "New nnp NNP\n",
            "Hampshire nnp NNP\n",
            ", , ,\n",
            "Manchester nnp NNP\n",
            ", , ,\n",
            "N.H. nnp NNP\n",
            ", , ,\n",
            "values vbz VBZ\n",
            "its prp$ PRP$\n",
            "internal jj JJ\n",
            "reorganization nn NN\n",
            "plan nn NN\n",
            "at in IN\n",
            "about in IN\n",
            "$ $ $\n",
            "2.2 cd CD\n",
            "billion cd CD\n",
            "*U* -none- -NONE-\n",
            ". . .\n",
            "---\n",
            "She prp PRP\n",
            "was vbd VBD\n",
            "untrained vbn JJ\n",
            "and cc CC\n",
            ", , ,\n",
            "in in IN\n",
            "one cd CD\n",
            "botched vbn JJ\n",
            "job nn NN\n",
            "killed vbd VBD\n",
            "a dt DT\n",
            "client nn NN\n",
            ". . .\n",
            "---\n",
            "`` `` ``\n",
            "The dt DT\n",
            "recent jj JJ\n",
            "disarray nn NN\n",
            "in in IN\n",
            "the dt DT\n",
            "junk nn NN\n",
            "bond nn NN\n",
            "market nn NN\n",
            "suggests vbz VBZ\n",
            "that in IN\n",
            "brokers nns NNS\n",
            "may md MD\n",
            "become vb VB\n",
            "longer-term jj JJ\n",
            "creditors nns NNS\n",
            "than in IN\n",
            "they prp PRP\n",
            "anticipated vbd VBD\n",
            "and cc CC\n",
            "may md MD\n",
            "face vb VB\n",
            "long jj JJ\n",
            "delays nns NNS\n",
            "'' '' ''\n",
            "in in IN\n",
            "* -none- -NONE-\n",
            "getting vbg VBG\n",
            "their prp$ PRP$\n",
            "money nn NN\n",
            "back rb RB\n",
            ", , ,\n",
            "says vbz VBZ\n",
            "0 -none- -NONE-\n",
            "*T*-2 -none- -NONE-\n",
            "Jeffrey nnp NNP\n",
            "Bowman nnp NNP\n",
            ", , ,\n",
            "a dt DT\n",
            "vice nn NN\n",
            "president nn NN\n",
            "at in IN\n",
            "S&P nnp NNP\n",
            ", , ,\n",
            "which wdt WDT\n",
            "*T*-1 -none- -NONE-\n",
            "raised vbd VBD\n",
            "a dt DT\n",
            "warning nn VBG\n",
            "flag nn NN\n",
            "for in IN\n",
            "the dt DT\n",
            "industry nn NN\n",
            "in in IN\n",
            "April nnp NNP\n",
            "when wrb WRB\n",
            "it prp PRP\n",
            "downgraded vbd VBD\n",
            "CS pos NNP\n",
            "First jj NNP\n",
            "Boston nnp NNP\n",
            "*T*-3 -none- -NONE-\n",
            ". . .\n",
            "---\n",
            "He prp PRP\n",
            "is vbz VBZ\n",
            "just rb RB\n",
            "passing vbg VBG\n",
            "the dt DT\n",
            "buck nn NN\n",
            "to to TO\n",
            "young vb JJ\n",
            "people nns NNS\n",
            ". . .\n",
            "---\n",
            "The dt DT\n",
            "prior-year jj JJ\n",
            "period nn NN\n",
            "includes vbz VBZ\n",
            "a dt DT\n",
            "one-time jj JJ\n",
            "favorable jj JJ\n",
            "tax nn NN\n",
            "adjustment nn NN\n",
            "on in IN\n",
            "the dt DT\n",
            "B-1B nnp JJ\n",
            "bomber nn NN\n",
            "program nn NN\n",
            "and cc CC\n",
            "another dt DT\n",
            "gain nn NN\n",
            "from in IN\n",
            "sale nn NN\n",
            "of in IN\n",
            "the dt DT\n",
            "industrial jj JJ\n",
            "sewing-machine nnp NN\n",
            "business nn NN\n",
            ", , ,\n",
            "which wdt WDT\n",
            "*T*-1 -none- -NONE-\n",
            "made vbd VBD\n",
            "net jj JJ\n",
            "$ $ $\n",
            "185.9 cd CD\n",
            "million cd CD\n",
            "*U* -none- -NONE-\n",
            ", , ,\n",
            "or cc CC\n",
            "70 cd CD\n",
            "cents nns NNS\n",
            "a dt DT\n",
            "share nn NN\n",
            ". . .\n",
            "---\n",
            "The dt DT\n",
            "company nn NN\n",
            "said vbd VBD\n",
            "0 -none- -NONE-\n",
            "local jj JJ\n",
            "authorities nns NNS\n",
            "held vbd VBD\n",
            "hearings nns NNS\n",
            "on in IN\n",
            "the dt DT\n",
            "allegations nns NNS\n",
            "last jj JJ\n",
            "spring nn NN\n",
            "and cc CC\n",
            "had vbd VBD\n",
            "returned vbn VBN\n",
            "the dt DT\n",
            "plant nn NN\n",
            "to to TO\n",
            "`` `` ``\n",
            "routine jj JJ\n",
            "inspection nn NN\n",
            "'' '' ''\n",
            "in in IN\n",
            "August nnp NNP\n",
            ". . .\n",
            "---\n",
            "The dt DT\n",
            "city nn NN\n",
            "had vbd VBD\n",
            "expected vbn VBN\n",
            "*-1 -none- -NONE-\n",
            "to to TO\n",
            "pay vb VB\n",
            "about in RB\n",
            "11 cd CD\n",
            "million cd CD\n",
            "yen nn NNS\n",
            "-LRB- -lrb- -LRB-\n",
            "$ $ $\n",
            "77,000 cd CD\n",
            "*U* -none- -NONE-\n",
            "-RRB- -rrb- -RRB-\n",
            ", , ,\n",
            "but cc CC\n",
            "Fujitsu nnp NNP\n",
            "essentially rb RB\n",
            "offered vbd VBD\n",
            "*-2 -none- -NONE-\n",
            "to to TO\n",
            "do vb VB\n",
            "it prp PRP\n",
            "for in IN\n",
            "free nnp RB\n",
            ". . .\n",
            "---\n",
            "Mr. nnp NNP\n",
            "Lane nnp NNP\n",
            "'s pos POS\n",
            "final jj JJ\n",
            "purpose nn NN\n",
            "is vbz VBZ\n",
            "n't rb RB\n",
            "*-1 -none- -NONE-\n",
            "to to TO\n",
            "glamorize vb VB\n",
            "the dt DT\n",
            "Artist nn NNP\n",
            "'s pos POS\n",
            "vagabond jj NN\n",
            "existence nn NN\n",
            ". . .\n",
            "---\n",
            "The dt DT\n",
            "senior nn NN\n",
            "of in IN\n",
            "the dt DT\n",
            "three cd CD\n",
            "executives nns NNS\n",
            "who wp WP\n",
            "*T*-1 -none- -NONE-\n",
            "will md MD\n",
            "assume vb VB\n",
            "Mr. nnp NNP\n",
            "Reupke nnp NNP\n",
            "'s pos POS\n",
            "duties nns NNS\n",
            "is vbz VBZ\n",
            "Nigel nnp NNP\n",
            "Judah nnp NNP\n",
            ", , ,\n",
            "58 cd CD\n",
            ", , ,\n",
            "finance nn NN\n",
            "director nn NN\n",
            "and cc CC\n",
            "a dt DT\n",
            "Reuters nnp NNP\n",
            "board nnp NN\n",
            "director nn NN\n",
            ". . .\n"
          ],
          "name": "stdout"
        }
      ]
    },
    {
      "cell_type": "code",
      "metadata": {
        "id": "h0nczlDIcjV0",
        "colab_type": "code",
        "outputId": "3bf6ba7b-5df3-43da-cbb2-9b7c4d2b262f",
        "colab": {
          "base_uri": "https://localhost:8080/",
          "height": 34
        }
      },
      "source": [
        "model.save('morpho_model')"
      ],
      "execution_count": 0,
      "outputs": [
        {
          "output_type": "stream",
          "text": [
            "INFO:tensorflow:Assets written to: morpho_model/assets\n"
          ],
          "name": "stdout"
        }
      ]
    },
    {
      "cell_type": "code",
      "metadata": {
        "id": "JFUj2TBw6UMb",
        "colab_type": "code",
        "colab": {}
      },
      "source": [
        ""
      ],
      "execution_count": 0,
      "outputs": []
    },
    {
      "cell_type": "markdown",
      "metadata": {
        "id": "39_odSItfroC",
        "colab_type": "text"
      },
      "source": [
        "Если посчитать accuracy этого предсказания, игнорируя регистр, получится 0,98+. При этом паддинги предсказаны как '.', а не PAD. Считала в другой тетрадке, поэтому результата вывода нет. Видимо, внутри модели падинги считаются как неправильно размеченные элементы"
      ]
    },
    {
      "cell_type": "code",
      "metadata": {
        "id": "K4dPJztFgYfP",
        "colab_type": "code",
        "colab": {}
      },
      "source": [
        "def real_accuracy(prediction, correct_tags): #принимает \n",
        "    n = 0\n",
        "    mistakes = 0\n",
        "    for i in range(len(prediction)):\n",
        "        correct_tags = tag_test[i]\n",
        "        predicted_tags = prediction[i]\n",
        "        meaningful_len = min(len(predicted_tags), len(correct_tags))\n",
        "        meaningful_predicted_tags = predicted_tags[-meaningful_len:]\n",
        "        for j in range(meaningful_len):\n",
        "            n += 1\n",
        "            if meaningful_predicted_tags[j].lower() != correct_tags[j].lower():\n",
        "                mistakes += 1\n",
        "      return mistakes/n"
      ],
      "execution_count": 0,
      "outputs": []
    },
    {
      "cell_type": "code",
      "metadata": {
        "id": "VBFLKTUnwYqZ",
        "colab_type": "code",
        "colab": {}
      },
      "source": [
        "import json"
      ],
      "execution_count": 0,
      "outputs": []
    },
    {
      "cell_type": "code",
      "metadata": {
        "id": "UBLjyEVQwwyH",
        "colab_type": "code",
        "colab": {}
      },
      "source": [
        "with open('word2id.json', 'w') as f:\n",
        "  json.dump(word2id, f)"
      ],
      "execution_count": 0,
      "outputs": []
    },
    {
      "cell_type": "code",
      "metadata": {
        "id": "upDfZdPixUFF",
        "colab_type": "code",
        "colab": {}
      },
      "source": [
        "with open('char2id.json', 'w') as f:\n",
        "  json.dump(char2id, f)"
      ],
      "execution_count": 0,
      "outputs": []
    }
  ]
}