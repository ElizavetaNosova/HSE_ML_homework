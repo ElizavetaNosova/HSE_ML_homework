{
  "nbformat": 4,
  "nbformat_minor": 0,
  "metadata": {
    "colab": {
      "name": "NeuralNerworksIntroHW.ipynb",
      "provenance": [],
      "machine_shape": "hm",
      "authorship_tag": "ABX9TyOomidTCe7/6ODJ6B8rY9p9",
      "include_colab_link": true
    },
    "kernelspec": {
      "name": "python3",
      "display_name": "Python 3"
    }
  },
  "cells": [
    {
      "cell_type": "markdown",
      "metadata": {
        "id": "view-in-github",
        "colab_type": "text"
      },
      "source": [
        "<a href=\"https://colab.research.google.com/github/ElizavetaNosova/HSE_ML_homework/blob/master/NeuralNerworksIntroHW.ipynb\" target=\"_parent\"><img src=\"https://colab.research.google.com/assets/colab-badge.svg\" alt=\"Open In Colab\"/></a>"
      ]
    },
    {
      "cell_type": "code",
      "metadata": {
        "id": "MF52Um3a-QHW",
        "colab_type": "code",
        "colab": {}
      },
      "source": [
        ""
      ],
      "execution_count": 0,
      "outputs": []
    },
    {
      "cell_type": "markdown",
      "metadata": {
        "id": "mAW2vC1P-VvN",
        "colab_type": "text"
      },
      "source": [
        "Я выбрала вторую задачу - классификацию токсичных вопросов"
      ]
    },
    {
      "cell_type": "code",
      "metadata": {
        "id": "0cBVEqPQAAXX",
        "colab_type": "code",
        "outputId": "f73382e8-721a-41e3-a771-8ee6d17bca89",
        "colab": {
          "resources": {
            "http://localhost:8080/nbextensions/google.colab/files.js": {
              "data": "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",
              "ok": true,
              "headers": [
                [
                  "content-type",
                  "application/javascript"
                ]
              ],
              "status": 200,
              "status_text": ""
            }
          },
          "base_uri": "https://localhost:8080/",
          "height": 74
        }
      },
      "source": [
        "from google.colab import files\n",
        "uploaded = files.upload()"
      ],
      "execution_count": 1,
      "outputs": [
        {
          "output_type": "display_data",
          "data": {
            "text/html": [
              "\n",
              "     <input type=\"file\" id=\"files-2207cce8-223f-4999-95ea-f3a077b0094d\" name=\"files[]\" multiple disabled />\n",
              "     <output id=\"result-2207cce8-223f-4999-95ea-f3a077b0094d\">\n",
              "      Upload widget is only available when the cell has been executed in the\n",
              "      current browser session. Please rerun this cell to enable.\n",
              "      </output>\n",
              "      <script src=\"/nbextensions/google.colab/files.js\"></script> "
            ],
            "text/plain": [
              "<IPython.core.display.HTML object>"
            ]
          },
          "metadata": {
            "tags": []
          }
        },
        {
          "output_type": "stream",
          "text": [
            "Saving quora.csv to quora.csv\n"
          ],
          "name": "stdout"
        }
      ]
    },
    {
      "cell_type": "code",
      "metadata": {
        "id": "9qKFloN8AS61",
        "colab_type": "code",
        "colab": {}
      },
      "source": [
        "import pandas as pd\n",
        "import numpy as np\n",
        "from sklearn.model_selection import train_test_split\n",
        "import tensorflow as tf"
      ],
      "execution_count": 0,
      "outputs": []
    },
    {
      "cell_type": "code",
      "metadata": {
        "id": "T3W88E8_Ati7",
        "colab_type": "code",
        "colab": {}
      },
      "source": [
        "data = pd.read_csv('quora.csv')"
      ],
      "execution_count": 0,
      "outputs": []
    },
    {
      "cell_type": "code",
      "metadata": {
        "id": "wc3XjMubWy_V",
        "colab_type": "code",
        "outputId": "8c5e19f3-4f51-4813-9d1a-26b546d37363",
        "colab": {
          "base_uri": "https://localhost:8080/",
          "height": 402
        }
      },
      "source": [
        "data"
      ],
      "execution_count": 0,
      "outputs": [
        {
          "output_type": "execute_result",
          "data": {
            "text/html": [
              "<div>\n",
              "<style scoped>\n",
              "    .dataframe tbody tr th:only-of-type {\n",
              "        vertical-align: middle;\n",
              "    }\n",
              "\n",
              "    .dataframe tbody tr th {\n",
              "        vertical-align: top;\n",
              "    }\n",
              "\n",
              "    .dataframe thead th {\n",
              "        text-align: right;\n",
              "    }\n",
              "</style>\n",
              "<table border=\"1\" class=\"dataframe\">\n",
              "  <thead>\n",
              "    <tr style=\"text-align: right;\">\n",
              "      <th></th>\n",
              "      <th>qid</th>\n",
              "      <th>question_text</th>\n",
              "      <th>target</th>\n",
              "    </tr>\n",
              "  </thead>\n",
              "  <tbody>\n",
              "    <tr>\n",
              "      <th>0</th>\n",
              "      <td>00002165364db923c7e6</td>\n",
              "      <td>How did Quebec nationalists see their province...</td>\n",
              "      <td>0</td>\n",
              "    </tr>\n",
              "    <tr>\n",
              "      <th>1</th>\n",
              "      <td>000032939017120e6e44</td>\n",
              "      <td>Do you have an adopted dog, how would you enco...</td>\n",
              "      <td>0</td>\n",
              "    </tr>\n",
              "    <tr>\n",
              "      <th>2</th>\n",
              "      <td>0000412ca6e4628ce2cf</td>\n",
              "      <td>Why does velocity affect time? Does velocity a...</td>\n",
              "      <td>0</td>\n",
              "    </tr>\n",
              "    <tr>\n",
              "      <th>3</th>\n",
              "      <td>000042bf85aa498cd78e</td>\n",
              "      <td>How did Otto von Guericke used the Magdeburg h...</td>\n",
              "      <td>0</td>\n",
              "    </tr>\n",
              "    <tr>\n",
              "      <th>4</th>\n",
              "      <td>0000455dfa3e01eae3af</td>\n",
              "      <td>Can I convert montra helicon D to a mountain b...</td>\n",
              "      <td>0</td>\n",
              "    </tr>\n",
              "    <tr>\n",
              "      <th>...</th>\n",
              "      <td>...</td>\n",
              "      <td>...</td>\n",
              "      <td>...</td>\n",
              "    </tr>\n",
              "    <tr>\n",
              "      <th>1306117</th>\n",
              "      <td>ffffcc4e2331aaf1e41e</td>\n",
              "      <td>What other technical skills do you need as a c...</td>\n",
              "      <td>0</td>\n",
              "    </tr>\n",
              "    <tr>\n",
              "      <th>1306118</th>\n",
              "      <td>ffffd431801e5a2f4861</td>\n",
              "      <td>Does MS in ECE have good job prospects in USA ...</td>\n",
              "      <td>0</td>\n",
              "    </tr>\n",
              "    <tr>\n",
              "      <th>1306119</th>\n",
              "      <td>ffffd48fb36b63db010c</td>\n",
              "      <td>Is foam insulation toxic?</td>\n",
              "      <td>0</td>\n",
              "    </tr>\n",
              "    <tr>\n",
              "      <th>1306120</th>\n",
              "      <td>ffffec519fa37cf60c78</td>\n",
              "      <td>How can one start a research project based on ...</td>\n",
              "      <td>0</td>\n",
              "    </tr>\n",
              "    <tr>\n",
              "      <th>1306121</th>\n",
              "      <td>ffffed09fedb5088744a</td>\n",
              "      <td>Who wins in a battle between a Wolverine and a...</td>\n",
              "      <td>0</td>\n",
              "    </tr>\n",
              "  </tbody>\n",
              "</table>\n",
              "<p>1306122 rows × 3 columns</p>\n",
              "</div>"
            ],
            "text/plain": [
              "                          qid  ... target\n",
              "0        00002165364db923c7e6  ...      0\n",
              "1        000032939017120e6e44  ...      0\n",
              "2        0000412ca6e4628ce2cf  ...      0\n",
              "3        000042bf85aa498cd78e  ...      0\n",
              "4        0000455dfa3e01eae3af  ...      0\n",
              "...                       ...  ...    ...\n",
              "1306117  ffffcc4e2331aaf1e41e  ...      0\n",
              "1306118  ffffd431801e5a2f4861  ...      0\n",
              "1306119  ffffd48fb36b63db010c  ...      0\n",
              "1306120  ffffec519fa37cf60c78  ...      0\n",
              "1306121  ffffed09fedb5088744a  ...      0\n",
              "\n",
              "[1306122 rows x 3 columns]"
            ]
          },
          "metadata": {
            "tags": []
          },
          "execution_count": 3
        }
      ]
    },
    {
      "cell_type": "code",
      "metadata": {
        "id": "n0vhfLakXG5k",
        "colab_type": "code",
        "colab": {}
      },
      "source": [
        "from string import punctuation\n",
        "from collections import Counter \n",
        "\n",
        "def preprocess(text):\n",
        "    tokens = text.lower().split()\n",
        "    tokens = [token.strip(punctuation) for token in tokens]\n",
        "    return tokens"
      ],
      "execution_count": 0,
      "outputs": []
    },
    {
      "cell_type": "code",
      "metadata": {
        "id": "h36IT6OLwdHY",
        "colab_type": "code",
        "colab": {}
      },
      "source": [
        "vocab = Counter()\n",
        "\n",
        "for text in data.question_text:\n",
        "    vocab.update(preprocess(text))"
      ],
      "execution_count": 0,
      "outputs": []
    },
    {
      "cell_type": "code",
      "metadata": {
        "id": "LHYV1xlfqVSW",
        "colab_type": "code",
        "colab": {}
      },
      "source": [
        "filtered_vocab = set()\n",
        "\n",
        "for word in vocab:\n",
        "    if vocab[word] > 50:\n",
        "        filtered_vocab.add(word)"
      ],
      "execution_count": 0,
      "outputs": []
    },
    {
      "cell_type": "code",
      "metadata": {
        "id": "ZQm6A8rGqXi5",
        "colab_type": "code",
        "outputId": "0175a6b0-5173-4949-8b30-4a7ffe6527ca",
        "colab": {
          "base_uri": "https://localhost:8080/",
          "height": 34
        }
      },
      "source": [
        "len(filtered_vocab)"
      ],
      "execution_count": 0,
      "outputs": [
        {
          "output_type": "execute_result",
          "data": {
            "text/plain": [
              "14083"
            ]
          },
          "metadata": {
            "tags": []
          },
          "execution_count": 27
        }
      ]
    },
    {
      "cell_type": "code",
      "metadata": {
        "id": "j9Bxo5c7qlIf",
        "colab_type": "code",
        "colab": {}
      },
      "source": [
        ""
      ],
      "execution_count": 0,
      "outputs": []
    },
    {
      "cell_type": "code",
      "metadata": {
        "id": "S8acLER5YXlV",
        "colab_type": "code",
        "colab": {}
      },
      "source": [
        "import gensim"
      ],
      "execution_count": 0,
      "outputs": []
    },
    {
      "cell_type": "code",
      "metadata": {
        "id": "-wBunpOoY4Ie",
        "colab_type": "code",
        "colab": {}
      },
      "source": [
        "data['pr_text'] = data['question_text'].apply(preprocess)"
      ],
      "execution_count": 0,
      "outputs": []
    },
    {
      "cell_type": "code",
      "metadata": {
        "id": "ZhDN7OK2mV_9",
        "colab_type": "code",
        "outputId": "93e373d7-129f-4f36-fcef-6c93d196774f",
        "colab": {
          "base_uri": "https://localhost:8080/",
          "height": 406
        }
      },
      "source": [
        "data"
      ],
      "execution_count": 0,
      "outputs": [
        {
          "output_type": "execute_result",
          "data": {
            "text/html": [
              "<div>\n",
              "<style scoped>\n",
              "    .dataframe tbody tr th:only-of-type {\n",
              "        vertical-align: middle;\n",
              "    }\n",
              "\n",
              "    .dataframe tbody tr th {\n",
              "        vertical-align: top;\n",
              "    }\n",
              "\n",
              "    .dataframe thead th {\n",
              "        text-align: right;\n",
              "    }\n",
              "</style>\n",
              "<table border=\"1\" class=\"dataframe\">\n",
              "  <thead>\n",
              "    <tr style=\"text-align: right;\">\n",
              "      <th></th>\n",
              "      <th>qid</th>\n",
              "      <th>question_text</th>\n",
              "      <th>target</th>\n",
              "      <th>pr_text</th>\n",
              "    </tr>\n",
              "  </thead>\n",
              "  <tbody>\n",
              "    <tr>\n",
              "      <th>0</th>\n",
              "      <td>00002165364db923c7e6</td>\n",
              "      <td>How did Quebec nationalists see their province...</td>\n",
              "      <td>0</td>\n",
              "      <td>[how, did, quebec, nationalists, see, their, p...</td>\n",
              "    </tr>\n",
              "    <tr>\n",
              "      <th>1</th>\n",
              "      <td>000032939017120e6e44</td>\n",
              "      <td>Do you have an adopted dog, how would you enco...</td>\n",
              "      <td>0</td>\n",
              "      <td>[do, you, have, an, adopted, dog, how, would, ...</td>\n",
              "    </tr>\n",
              "    <tr>\n",
              "      <th>2</th>\n",
              "      <td>0000412ca6e4628ce2cf</td>\n",
              "      <td>Why does velocity affect time? Does velocity a...</td>\n",
              "      <td>0</td>\n",
              "      <td>[why, does, velocity, affect, time, does, velo...</td>\n",
              "    </tr>\n",
              "    <tr>\n",
              "      <th>3</th>\n",
              "      <td>000042bf85aa498cd78e</td>\n",
              "      <td>How did Otto von Guericke used the Magdeburg h...</td>\n",
              "      <td>0</td>\n",
              "      <td>[how, did, otto, von, guericke, used, the, mag...</td>\n",
              "    </tr>\n",
              "    <tr>\n",
              "      <th>4</th>\n",
              "      <td>0000455dfa3e01eae3af</td>\n",
              "      <td>Can I convert montra helicon D to a mountain b...</td>\n",
              "      <td>0</td>\n",
              "      <td>[can, i, convert, montra, helicon, d, to, a, m...</td>\n",
              "    </tr>\n",
              "    <tr>\n",
              "      <th>...</th>\n",
              "      <td>...</td>\n",
              "      <td>...</td>\n",
              "      <td>...</td>\n",
              "      <td>...</td>\n",
              "    </tr>\n",
              "    <tr>\n",
              "      <th>1306117</th>\n",
              "      <td>ffffcc4e2331aaf1e41e</td>\n",
              "      <td>What other technical skills do you need as a c...</td>\n",
              "      <td>0</td>\n",
              "      <td>[what, other, technical, skills, do, you, need...</td>\n",
              "    </tr>\n",
              "    <tr>\n",
              "      <th>1306118</th>\n",
              "      <td>ffffd431801e5a2f4861</td>\n",
              "      <td>Does MS in ECE have good job prospects in USA ...</td>\n",
              "      <td>0</td>\n",
              "      <td>[does, ms, in, ece, have, good, job, prospects...</td>\n",
              "    </tr>\n",
              "    <tr>\n",
              "      <th>1306119</th>\n",
              "      <td>ffffd48fb36b63db010c</td>\n",
              "      <td>Is foam insulation toxic?</td>\n",
              "      <td>0</td>\n",
              "      <td>[is, foam, insulation, toxic]</td>\n",
              "    </tr>\n",
              "    <tr>\n",
              "      <th>1306120</th>\n",
              "      <td>ffffec519fa37cf60c78</td>\n",
              "      <td>How can one start a research project based on ...</td>\n",
              "      <td>0</td>\n",
              "      <td>[how, can, one, start, a, research, project, b...</td>\n",
              "    </tr>\n",
              "    <tr>\n",
              "      <th>1306121</th>\n",
              "      <td>ffffed09fedb5088744a</td>\n",
              "      <td>Who wins in a battle between a Wolverine and a...</td>\n",
              "      <td>0</td>\n",
              "      <td>[who, wins, in, a, battle, between, a, wolveri...</td>\n",
              "    </tr>\n",
              "  </tbody>\n",
              "</table>\n",
              "<p>1306122 rows × 4 columns</p>\n",
              "</div>"
            ],
            "text/plain": [
              "                          qid  ...                                            pr_text\n",
              "0        00002165364db923c7e6  ...  [how, did, quebec, nationalists, see, their, p...\n",
              "1        000032939017120e6e44  ...  [do, you, have, an, adopted, dog, how, would, ...\n",
              "2        0000412ca6e4628ce2cf  ...  [why, does, velocity, affect, time, does, velo...\n",
              "3        000042bf85aa498cd78e  ...  [how, did, otto, von, guericke, used, the, mag...\n",
              "4        0000455dfa3e01eae3af  ...  [can, i, convert, montra, helicon, d, to, a, m...\n",
              "...                       ...  ...                                                ...\n",
              "1306117  ffffcc4e2331aaf1e41e  ...  [what, other, technical, skills, do, you, need...\n",
              "1306118  ffffd431801e5a2f4861  ...  [does, ms, in, ece, have, good, job, prospects...\n",
              "1306119  ffffd48fb36b63db010c  ...                      [is, foam, insulation, toxic]\n",
              "1306120  ffffec519fa37cf60c78  ...  [how, can, one, start, a, research, project, b...\n",
              "1306121  ffffed09fedb5088744a  ...  [who, wins, in, a, battle, between, a, wolveri...\n",
              "\n",
              "[1306122 rows x 4 columns]"
            ]
          },
          "metadata": {
            "tags": []
          },
          "execution_count": 20
        }
      ]
    },
    {
      "cell_type": "code",
      "metadata": {
        "id": "xetw9OV7ma7y",
        "colab_type": "code",
        "colab": {}
      },
      "source": [
        "w2v50 = gensim.models.Word2Vec(data['pr_text'], size=50, sg=1)"
      ],
      "execution_count": 0,
      "outputs": []
    },
    {
      "cell_type": "code",
      "metadata": {
        "id": "h1DYg3eGmwph",
        "colab_type": "code",
        "colab": {}
      },
      "source": [
        "def sum_embeddings50(tokens):\n",
        "  res = np.zeros(50)\n",
        "  for token in tokens:\n",
        "    if token in filtered_vocab:\n",
        "        res += w2v50[token]\n",
        "  return res"
      ],
      "execution_count": 0,
      "outputs": []
    },
    {
      "cell_type": "code",
      "metadata": {
        "id": "8SgBpS7pot0V",
        "colab_type": "code",
        "colab": {}
      },
      "source": [
        "def mean_embeddings50(tokens):\n",
        "  res = np.zeros(50)\n",
        "  n = 0\n",
        "  for token in tokens:\n",
        "    if token in filtered_vocab:\n",
        "        res += w2v50[token]\n",
        "        n += 1\n",
        "  if n:\n",
        "      res = res * (1/n)\n",
        "  #print('.') #работало безумо медленно, хотела посмотреть, работало ли вообще\n",
        "  return res"
      ],
      "execution_count": 0,
      "outputs": []
    },
    {
      "cell_type": "code",
      "metadata": {
        "id": "t3Ma1ggjpxps",
        "colab_type": "code",
        "colab": {}
      },
      "source": [
        "data['sum50'] = data['pr_text'].apply(sum_embeddings50)"
      ],
      "execution_count": 0,
      "outputs": []
    },
    {
      "cell_type": "code",
      "metadata": {
        "id": "eCJbDcFyr2-I",
        "colab_type": "code",
        "colab": {}
      },
      "source": [
        "X_train, X_valid, y_train, y_valid = train_test_split(data['sum50'].values, data['target'].values, test_size=0.1, random_state=42)"
      ],
      "execution_count": 0,
      "outputs": []
    },
    {
      "cell_type": "code",
      "metadata": {
        "id": "yy7NIe1S_99y",
        "colab_type": "code",
        "colab": {}
      },
      "source": [
        "def list_of_float_lists(npndarray):\n",
        "  embedings = []\n",
        "  for embeding in list(npndarray):\n",
        "     new_embeding = [float(i) for i in list(embeding)]\n",
        "     embedings.append(new_embeding)\n",
        "  return embedings"
      ],
      "execution_count": 0,
      "outputs": []
    },
    {
      "cell_type": "code",
      "metadata": {
        "id": "SmA4DPdi4xCk",
        "colab_type": "code",
        "colab": {}
      },
      "source": [
        "X_train = list_of_float_lists(X_train)\n",
        "X_valid = list_of_float_lists(X_valid)"
      ],
      "execution_count": 0,
      "outputs": []
    },
    {
      "cell_type": "code",
      "metadata": {
        "id": "98WBlK2W7rdg",
        "colab_type": "code",
        "colab": {}
      },
      "source": [
        "y_train = [int(i) for i in list(y_train)]\n",
        "y_valid = [int(i) for i in list(y_valid)]"
      ],
      "execution_count": 0,
      "outputs": []
    },
    {
      "cell_type": "code",
      "metadata": {
        "id": "9K8ERYaBshJJ",
        "colab_type": "code",
        "colab": {}
      },
      "source": [
        "inputs = tf.keras.layers.Input(shape=50)\n",
        "dense1 = tf.keras.layers.Dense(64, activation='relu')(inputs)\n",
        "dense2 = tf.keras.layers.Dense(64, activation='relu')(dense1)\n",
        "outputs = tf.keras.layers.Dense(1, activation='sigmoid')(dense2)\n",
        "\n",
        "model = tf.keras.Model(inputs=inputs, outputs=outputs)\n",
        "optimizer = tf.keras.optimizers.Adam(learning_rate=0.0001)\n",
        "model.compile(optimizer=optimizer,\n",
        "              loss='binary_crossentropy',\n",
        "              metrics=['accuracy'])"
      ],
      "execution_count": 0,
      "outputs": []
    },
    {
      "cell_type": "code",
      "metadata": {
        "id": "t-LWNvR1wfZv",
        "colab_type": "code",
        "outputId": "4d1ac33a-647f-4f58-bd39-357cee1bc519",
        "colab": {
          "base_uri": "https://localhost:8080/",
          "height": 390
        }
      },
      "source": [
        "model.fit(X_train, y_train, validation_data=(X_valid, y_valid), batch_size=20000, epochs=10)"
      ],
      "execution_count": 0,
      "outputs": [
        {
          "output_type": "stream",
          "text": [
            "Epoch 1/10\n",
            "59/59 [==============================] - 28s 477ms/step - loss: 0.4724 - accuracy: 0.8190 - val_loss: 0.3163 - val_accuracy: 0.9387\n",
            "Epoch 2/10\n",
            "59/59 [==============================] - 28s 472ms/step - loss: 0.3000 - accuracy: 0.9374 - val_loss: 0.2732 - val_accuracy: 0.9395\n",
            "Epoch 3/10\n",
            "59/59 [==============================] - 28s 474ms/step - loss: 0.2552 - accuracy: 0.9377 - val_loss: 0.2276 - val_accuracy: 0.9399\n",
            "Epoch 4/10\n",
            "59/59 [==============================] - 28s 473ms/step - loss: 0.2148 - accuracy: 0.9391 - val_loss: 0.1962 - val_accuracy: 0.9422\n",
            "Epoch 5/10\n",
            "59/59 [==============================] - 28s 472ms/step - loss: 0.1923 - accuracy: 0.9413 - val_loss: 0.1812 - val_accuracy: 0.9436\n",
            "Epoch 6/10\n",
            "59/59 [==============================] - 28s 472ms/step - loss: 0.1810 - accuracy: 0.9424 - val_loss: 0.1727 - val_accuracy: 0.9445\n",
            "Epoch 7/10\n",
            "59/59 [==============================] - 28s 476ms/step - loss: 0.1738 - accuracy: 0.9432 - val_loss: 0.1666 - val_accuracy: 0.9454\n",
            "Epoch 8/10\n",
            "59/59 [==============================] - 28s 474ms/step - loss: 0.1684 - accuracy: 0.9439 - val_loss: 0.1613 - val_accuracy: 0.9462\n",
            "Epoch 9/10\n",
            "59/59 [==============================] - 28s 473ms/step - loss: 0.1631 - accuracy: 0.9445 - val_loss: 0.1566 - val_accuracy: 0.9467\n",
            "Epoch 10/10\n",
            "59/59 [==============================] - 28s 476ms/step - loss: 0.1589 - accuracy: 0.9450 - val_loss: 0.1528 - val_accuracy: 0.9473\n"
          ],
          "name": "stdout"
        },
        {
          "output_type": "execute_result",
          "data": {
            "text/plain": [
              "<tensorflow.python.keras.callbacks.History at 0x7f7b30da2588>"
            ]
          },
          "metadata": {
            "tags": []
          },
          "execution_count": 111
        }
      ]
    },
    {
      "cell_type": "code",
      "metadata": {
        "id": "XyKqa7OvJGJR",
        "colab_type": "code",
        "outputId": "6a16c927-4c3b-4086-ce45-204736961307",
        "colab": {
          "base_uri": "https://localhost:8080/",
          "height": 70
        }
      },
      "source": [
        "data['mean50'] = data['pr_text'].apply(mean_embeddings50)"
      ],
      "execution_count": 0,
      "outputs": [
        {
          "output_type": "stream",
          "text": [
            "/usr/local/lib/python3.6/dist-packages/ipykernel_launcher.py:6: DeprecationWarning: Call to deprecated `__getitem__` (Method will be removed in 4.0.0, use self.wv.__getitem__() instead).\n",
            "  \n"
          ],
          "name": "stderr"
        }
      ]
    },
    {
      "cell_type": "markdown",
      "metadata": {
        "id": "Ev8zxQ7HJBJN",
        "colab_type": "text"
      },
      "source": [
        "Попробуем усреднённые векторы, а не сумму векторов"
      ]
    },
    {
      "cell_type": "code",
      "metadata": {
        "id": "oRnfLm7TKFmE",
        "colab_type": "code",
        "colab": {}
      },
      "source": [
        "X_train, X_valid, y_train, y_valid = train_test_split(data['mean50'].values, data['target'].values, test_size=0.1, random_state=42)\n",
        "X_train = list_of_float_lists(X_train)\n",
        "X_valid = list_of_float_lists(X_valid)\n",
        "y_train = [int(i) for i in list(y_train)]\n",
        "y_valid = [int(i) for i in list(y_valid)]"
      ],
      "execution_count": 0,
      "outputs": []
    },
    {
      "cell_type": "code",
      "metadata": {
        "id": "jMdcY5omKWqQ",
        "colab_type": "code",
        "colab": {}
      },
      "source": [
        "inputs = tf.keras.layers.Input(shape=50)\n",
        "dense1 = tf.keras.layers.Dense(64, activation='relu')(inputs)\n",
        "dense2 = tf.keras.layers.Dense(64, activation='relu')(dense1)\n",
        "outputs = tf.keras.layers.Dense(1, activation='sigmoid')(dense2)\n",
        "\n",
        "model = tf.keras.Model(inputs=inputs, outputs=outputs)\n",
        "optimizer = tf.keras.optimizers.Adam(learning_rate=0.0001)\n",
        "model.compile(optimizer=optimizer,\n",
        "              loss='binary_crossentropy',\n",
        "              metrics=['accuracy'])"
      ],
      "execution_count": 0,
      "outputs": []
    },
    {
      "cell_type": "code",
      "metadata": {
        "id": "PETQT2aeKggV",
        "colab_type": "code",
        "outputId": "875570f4-ae41-44eb-9fdf-5a45609fefee",
        "colab": {
          "base_uri": "https://localhost:8080/",
          "height": 390
        }
      },
      "source": [
        "model.fit(X_train, y_train, validation_data=(X_valid, y_valid), batch_size=20000, epochs=10)"
      ],
      "execution_count": 0,
      "outputs": [
        {
          "output_type": "stream",
          "text": [
            "Epoch 1/10\n",
            "59/59 [==============================] - 26s 447ms/step - loss: 0.1701 - accuracy: 0.9389 - val_loss: 0.1621 - val_accuracy: 0.9409\n",
            "Epoch 2/10\n",
            "59/59 [==============================] - 26s 447ms/step - loss: 0.1632 - accuracy: 0.9400 - val_loss: 0.1564 - val_accuracy: 0.9423\n",
            "Epoch 3/10\n",
            "59/59 [==============================] - 26s 446ms/step - loss: 0.1583 - accuracy: 0.9408 - val_loss: 0.1521 - val_accuracy: 0.9428\n",
            "Epoch 4/10\n",
            "59/59 [==============================] - 27s 450ms/step - loss: 0.1547 - accuracy: 0.9414 - val_loss: 0.1490 - val_accuracy: 0.9432\n",
            "Epoch 5/10\n",
            "59/59 [==============================] - 27s 450ms/step - loss: 0.1521 - accuracy: 0.9418 - val_loss: 0.1467 - val_accuracy: 0.9438\n",
            "Epoch 6/10\n",
            "59/59 [==============================] - 26s 444ms/step - loss: 0.1500 - accuracy: 0.9422 - val_loss: 0.1448 - val_accuracy: 0.9440\n",
            "Epoch 7/10\n",
            "59/59 [==============================] - 26s 444ms/step - loss: 0.1484 - accuracy: 0.9425 - val_loss: 0.1433 - val_accuracy: 0.9442\n",
            "Epoch 8/10\n",
            "59/59 [==============================] - 26s 444ms/step - loss: 0.1471 - accuracy: 0.9427 - val_loss: 0.1420 - val_accuracy: 0.9444\n",
            "Epoch 9/10\n",
            "59/59 [==============================] - 26s 443ms/step - loss: 0.1459 - accuracy: 0.9430 - val_loss: 0.1410 - val_accuracy: 0.9448\n",
            "Epoch 10/10\n",
            "59/59 [==============================] - 26s 444ms/step - loss: 0.1450 - accuracy: 0.9432 - val_loss: 0.1401 - val_accuracy: 0.9449\n"
          ],
          "name": "stdout"
        },
        {
          "output_type": "execute_result",
          "data": {
            "text/plain": [
              "<tensorflow.python.keras.callbacks.History at 0x7f908c58dcc0>"
            ]
          },
          "metadata": {
            "tags": []
          },
          "execution_count": 32
        }
      ]
    },
    {
      "cell_type": "markdown",
      "metadata": {
        "id": "iu-XKji0yNlH",
        "colab_type": "text"
      },
      "source": [
        "Результаты использования суммы или среднего векторов различаются крайне несущественно (если брать только наиболее частотные слова).\n",
        "В первом случае улучшение результатов между эпохами более ощутимое\n",
        "\n",
        "Попробуем не обрезать словарь сверх настроек модели w2v"
      ]
    },
    {
      "cell_type": "code",
      "metadata": {
        "id": "pqKNtOoSytKd",
        "colab_type": "code",
        "colab": {}
      },
      "source": [
        "def sum_all_embeddings50(tokens):\n",
        "  res = np.zeros(50)\n",
        "  for token in tokens:\n",
        "    try:\n",
        "      res += w2v50[token]\n",
        "    except KeyError:\n",
        "      pass\n",
        "  return res"
      ],
      "execution_count": 0,
      "outputs": []
    },
    {
      "cell_type": "code",
      "metadata": {
        "id": "GbY2MbW0y5nO",
        "colab_type": "code",
        "colab": {
          "base_uri": "https://localhost:8080/",
          "height": 70
        },
        "outputId": "e1ee3b55-35f6-4d29-b620-12a5b06ef1c9"
      },
      "source": [
        "data['sum_all50'] = data['pr_text'].apply(sum_all_embeddings50)"
      ],
      "execution_count": 13,
      "outputs": [
        {
          "output_type": "stream",
          "text": [
            "/usr/local/lib/python3.6/dist-packages/ipykernel_launcher.py:5: DeprecationWarning: Call to deprecated `__getitem__` (Method will be removed in 4.0.0, use self.wv.__getitem__() instead).\n",
            "  \"\"\"\n"
          ],
          "name": "stderr"
        }
      ]
    },
    {
      "cell_type": "code",
      "metadata": {
        "id": "1zb0fcORzVpy",
        "colab_type": "code",
        "colab": {}
      },
      "source": [
        "X_train, X_valid, y_train, y_valid = train_test_split(data['sum_all50'].values, data['target'].values, test_size=0.1, random_state=42)\n",
        "X_train = list_of_float_lists(X_train)\n",
        "X_valid = list_of_float_lists(X_valid)\n",
        "y_train = [int(i) for i in list(y_train)]\n",
        "y_valid = [int(i) for i in list(y_valid)]"
      ],
      "execution_count": 0,
      "outputs": []
    },
    {
      "cell_type": "code",
      "metadata": {
        "id": "zvU76YYSzgOT",
        "colab_type": "code",
        "colab": {}
      },
      "source": [
        "inputs = tf.keras.layers.Input(shape=50)\n",
        "dense1 = tf.keras.layers.Dense(64, activation='relu')(inputs)\n",
        "dense2 = tf.keras.layers.Dense(64, activation='relu')(dense1)\n",
        "outputs = tf.keras.layers.Dense(1, activation='sigmoid')(dense2)\n",
        "\n",
        "model = tf.keras.Model(inputs=inputs, outputs=outputs)\n",
        "optimizer = tf.keras.optimizers.Adam(learning_rate=0.0001)\n",
        "model.compile(optimizer=optimizer,\n",
        "              loss='binary_crossentropy',\n",
        "              metrics=['accuracy'])"
      ],
      "execution_count": 0,
      "outputs": []
    },
    {
      "cell_type": "code",
      "metadata": {
        "id": "Gvvx7nWZzkWa",
        "colab_type": "code",
        "outputId": "7947587f-cc05-4551-ea0f-5328646f59e7",
        "colab": {
          "base_uri": "https://localhost:8080/",
          "height": 390
        }
      },
      "source": [
        "model.fit(X_train, y_train, validation_data=(X_valid, y_valid), batch_size=20000, epochs=10)"
      ],
      "execution_count": 0,
      "outputs": [
        {
          "output_type": "stream",
          "text": [
            "Epoch 1/10\n",
            "59/59 [==============================] - 26s 442ms/step - loss: 1.3047 - accuracy: 0.3116 - val_loss: 0.5487 - val_accuracy: 0.8024\n",
            "Epoch 2/10\n",
            "59/59 [==============================] - 26s 440ms/step - loss: 0.4369 - accuracy: 0.9021 - val_loss: 0.3740 - val_accuracy: 0.9358\n",
            "Epoch 3/10\n",
            "59/59 [==============================] - 26s 444ms/step - loss: 0.3554 - accuracy: 0.9368 - val_loss: 0.3282 - val_accuracy: 0.9395\n",
            "Epoch 4/10\n",
            "59/59 [==============================] - 26s 443ms/step - loss: 0.3144 - accuracy: 0.9379 - val_loss: 0.2882 - val_accuracy: 0.9398\n",
            "Epoch 5/10\n",
            "59/59 [==============================] - 26s 441ms/step - loss: 0.2728 - accuracy: 0.9379 - val_loss: 0.2461 - val_accuracy: 0.9398\n",
            "Epoch 6/10\n",
            "59/59 [==============================] - 26s 441ms/step - loss: 0.2289 - accuracy: 0.9381 - val_loss: 0.2022 - val_accuracy: 0.9410\n",
            "Epoch 7/10\n",
            "59/59 [==============================] - 26s 440ms/step - loss: 0.1900 - accuracy: 0.9412 - val_loss: 0.1754 - val_accuracy: 0.9450\n",
            "Epoch 8/10\n",
            "59/59 [==============================] - 26s 439ms/step - loss: 0.1728 - accuracy: 0.9435 - val_loss: 0.1644 - val_accuracy: 0.9456\n",
            "Epoch 9/10\n",
            "59/59 [==============================] - 26s 438ms/step - loss: 0.1644 - accuracy: 0.9446 - val_loss: 0.1574 - val_accuracy: 0.9461\n",
            "Epoch 10/10\n",
            "59/59 [==============================] - 26s 442ms/step - loss: 0.1590 - accuracy: 0.9455 - val_loss: 0.1531 - val_accuracy: 0.9467\n"
          ],
          "name": "stdout"
        },
        {
          "output_type": "execute_result",
          "data": {
            "text/plain": [
              "<tensorflow.python.keras.callbacks.History at 0x7f908c5849b0>"
            ]
          },
          "metadata": {
            "tags": []
          },
          "execution_count": 40
        }
      ]
    },
    {
      "cell_type": "code",
      "metadata": {
        "id": "FwfDF7WgEnPN",
        "colab_type": "code",
        "colab": {}
      },
      "source": [
        "def mean_all_embeddings50(tokens):\n",
        "  res = np.zeros(50)\n",
        "  n = 0\n",
        "  for token in tokens:\n",
        "    try:\n",
        "        res += w2v50[token]\n",
        "        n += 1\n",
        "    except KeyError:\n",
        "      pass\n",
        "  if n:\n",
        "      res = res * (1/n)\n",
        "  return res"
      ],
      "execution_count": 0,
      "outputs": []
    },
    {
      "cell_type": "code",
      "metadata": {
        "id": "21Bde8pxExYx",
        "colab_type": "code",
        "colab": {}
      },
      "source": [
        "data['mean_all50'] = data['pr_text'].apply(mean_all_embeddings50)"
      ],
      "execution_count": 0,
      "outputs": []
    },
    {
      "cell_type": "code",
      "metadata": {
        "id": "gg74_IiwE8O-",
        "colab_type": "code",
        "colab": {}
      },
      "source": [
        "X_train, X_valid, y_train, y_valid = train_test_split(data['mean_all50'].values, data['target'].values, test_size=0.1, random_state=42)\n",
        "X_train = list_of_float_lists(X_train)\n",
        "X_valid = list_of_float_lists(X_valid)\n",
        "y_train = [int(i) for i in list(y_train)]\n",
        "y_valid = [int(i) for i in list(y_valid)]"
      ],
      "execution_count": 0,
      "outputs": []
    },
    {
      "cell_type": "code",
      "metadata": {
        "id": "8TBYXKI2FF7Y",
        "colab_type": "code",
        "colab": {}
      },
      "source": [
        "inputs = tf.keras.layers.Input(shape=50)\n",
        "dense1 = tf.keras.layers.Dense(64, activation='relu')(inputs)\n",
        "dense2 = tf.keras.layers.Dense(64, activation='relu')(dense1)\n",
        "outputs = tf.keras.layers.Dense(1, activation='sigmoid')(dense2)\n",
        "\n",
        "model = tf.keras.Model(inputs=inputs, outputs=outputs)\n",
        "optimizer = tf.keras.optimizers.Adam(learning_rate=0.0001)\n",
        "model.compile(optimizer=optimizer,\n",
        "              loss='binary_crossentropy',\n",
        "              metrics=['accuracy'])"
      ],
      "execution_count": 0,
      "outputs": []
    },
    {
      "cell_type": "code",
      "metadata": {
        "id": "H7vIlvRyFNMO",
        "colab_type": "code",
        "outputId": "8f1d9874-385e-485d-d57f-41d703391711",
        "colab": {
          "base_uri": "https://localhost:8080/",
          "height": 390
        }
      },
      "source": [
        "model.fit(X_train, y_train, validation_data=(X_valid, y_valid), batch_size=20000, epochs=10)"
      ],
      "execution_count": 0,
      "outputs": [
        {
          "output_type": "stream",
          "text": [
            "Epoch 1/10\n",
            "59/59 [==============================] - 26s 446ms/step - loss: 0.7922 - accuracy: 0.5981 - val_loss: 0.3275 - val_accuracy: 0.9164\n",
            "Epoch 2/10\n",
            "59/59 [==============================] - 26s 445ms/step - loss: 0.2950 - accuracy: 0.9310 - val_loss: 0.2691 - val_accuracy: 0.9382\n",
            "Epoch 3/10\n",
            "59/59 [==============================] - 26s 443ms/step - loss: 0.2585 - accuracy: 0.9374 - val_loss: 0.2371 - val_accuracy: 0.9400\n",
            "Epoch 4/10\n",
            "59/59 [==============================] - 26s 442ms/step - loss: 0.2277 - accuracy: 0.9389 - val_loss: 0.2098 - val_accuracy: 0.9410\n",
            "Epoch 5/10\n",
            "59/59 [==============================] - 26s 439ms/step - loss: 0.2050 - accuracy: 0.9401 - val_loss: 0.1921 - val_accuracy: 0.9421\n",
            "Epoch 6/10\n",
            "59/59 [==============================] - 26s 442ms/step - loss: 0.1905 - accuracy: 0.9414 - val_loss: 0.1806 - val_accuracy: 0.9434\n",
            "Epoch 7/10\n",
            "59/59 [==============================] - 26s 443ms/step - loss: 0.1806 - accuracy: 0.9423 - val_loss: 0.1726 - val_accuracy: 0.9442\n",
            "Epoch 8/10\n",
            "59/59 [==============================] - 26s 441ms/step - loss: 0.1735 - accuracy: 0.9433 - val_loss: 0.1667 - val_accuracy: 0.9451\n",
            "Epoch 9/10\n",
            "59/59 [==============================] - 26s 441ms/step - loss: 0.1681 - accuracy: 0.9440 - val_loss: 0.1618 - val_accuracy: 0.9459\n",
            "Epoch 10/10\n",
            "59/59 [==============================] - 27s 459ms/step - loss: 0.1633 - accuracy: 0.9448 - val_loss: 0.1571 - val_accuracy: 0.9465\n"
          ],
          "name": "stdout"
        },
        {
          "output_type": "execute_result",
          "data": {
            "text/plain": [
              "<tensorflow.python.keras.callbacks.History at 0x7f902d30d128>"
            ]
          },
          "metadata": {
            "tags": []
          },
          "execution_count": 52
        }
      ]
    },
    {
      "cell_type": "markdown",
      "metadata": {
        "id": "poyMb1krHzfK",
        "colab_type": "text"
      },
      "source": [
        "Для суммы при использовании всех слов результат чуть-чуть улучшился, для среднего уменьшился на сотую долю процента"
      ]
    },
    {
      "cell_type": "markdown",
      "metadata": {
        "id": "ZSy4BCd5H-ym",
        "colab_type": "text"
      },
      "source": [
        "Добавим фасттекст"
      ]
    },
    {
      "cell_type": "code",
      "metadata": {
        "id": "-utu0kjVKJ07",
        "colab_type": "code",
        "colab": {}
      },
      "source": [
        "fast_text = gensim.models.FastText(data['pr_text'], size=50, min_n=4, max_n=8)"
      ],
      "execution_count": 0,
      "outputs": []
    },
    {
      "cell_type": "code",
      "metadata": {
        "id": "PxcEAjpoQ-Uh",
        "colab_type": "code",
        "colab": {}
      },
      "source": [
        "def fasttext_sum(tokens):\n",
        "    embedings = []\n",
        "    for token in tokens:\n",
        "      try:\n",
        "        embedings.append(fast_text[token])\n",
        "      except KeyError:\n",
        "        pass\n",
        "    return sum(embedings)"
      ],
      "execution_count": 0,
      "outputs": []
    },
    {
      "cell_type": "code",
      "metadata": {
        "id": "3y1LA6JDRhnt",
        "colab_type": "code",
        "colab": {
          "base_uri": "https://localhost:8080/",
          "height": 70
        },
        "outputId": "d40a1925-acf6-4761-9b0b-503ac06fe689"
      },
      "source": [
        "data['fasttext_sum'] = data['pr_text'].apply(fasttext_sum)"
      ],
      "execution_count": 16,
      "outputs": [
        {
          "output_type": "stream",
          "text": [
            "/usr/local/lib/python3.6/dist-packages/ipykernel_launcher.py:5: DeprecationWarning: Call to deprecated `__getitem__` (Method will be removed in 4.0.0, use self.wv.__getitem__() instead).\n",
            "  \"\"\"\n"
          ],
          "name": "stderr"
        }
      ]
    },
    {
      "cell_type": "code",
      "metadata": {
        "id": "jU1KtHOxXAOp",
        "colab_type": "code",
        "colab": {}
      },
      "source": [
        "X = []\n",
        "for index, row in data.iterrows():\n",
        "    concat = []\n",
        "    for i in list(row['sum_all50']):\n",
        "      concat.append(float(i))\n",
        "    for i in list(row['fasttext_sum']):\n",
        "      concat.append(float(i))\n",
        "    X.append(concat)\n",
        "         "
      ],
      "execution_count": 0,
      "outputs": []
    },
    {
      "cell_type": "code",
      "metadata": {
        "id": "C1dory4IX7D7",
        "colab_type": "code",
        "colab": {}
      },
      "source": [
        "y = [int(i) for i in list(data['target'])]"
      ],
      "execution_count": 0,
      "outputs": []
    },
    {
      "cell_type": "code",
      "metadata": {
        "id": "pEWWgR7tYKsV",
        "colab_type": "code",
        "colab": {}
      },
      "source": [
        "X_train, X_valid, y_train, y_valid = train_test_split(X, y, test_size=0.1, random_state=42)"
      ],
      "execution_count": 0,
      "outputs": []
    },
    {
      "cell_type": "code",
      "metadata": {
        "id": "yEejVfu9YWTn",
        "colab_type": "code",
        "colab": {}
      },
      "source": [
        "inputs = tf.keras.layers.Input(shape=100)\n",
        "dense1 = tf.keras.layers.Dense(64, activation='relu')(inputs)\n",
        "dense2 = tf.keras.layers.Dense(64, activation='relu')(dense1)\n",
        "outputs = tf.keras.layers.Dense(1, activation='sigmoid')(dense2)\n",
        "\n",
        "model = tf.keras.Model(inputs=inputs, outputs=outputs)\n",
        "optimizer = tf.keras.optimizers.Adam(learning_rate=0.0001)\n",
        "model.compile(optimizer=optimizer,\n",
        "              loss='binary_crossentropy',\n",
        "              metrics=['accuracy'])"
      ],
      "execution_count": 0,
      "outputs": []
    },
    {
      "cell_type": "code",
      "metadata": {
        "id": "oSGUAeBvYvj1",
        "colab_type": "code",
        "colab": {
          "base_uri": "https://localhost:8080/",
          "height": 390
        },
        "outputId": "2c988ffe-a3e9-4ab4-9d84-88d04b86aaa0"
      },
      "source": [
        "model.fit(X_train, y_train, validation_data=(X_valid, y_valid), batch_size=20000, epochs=10)"
      ],
      "execution_count": 21,
      "outputs": [
        {
          "output_type": "stream",
          "text": [
            "Epoch 1/10\n",
            "59/59 [==============================] - 51s 870ms/step - loss: 2.6067 - accuracy: 0.6158 - val_loss: 0.7169 - val_accuracy: 0.8837\n",
            "Epoch 2/10\n",
            "59/59 [==============================] - 51s 868ms/step - loss: 0.6264 - accuracy: 0.8912 - val_loss: 0.5396 - val_accuracy: 0.8925\n",
            "Epoch 3/10\n",
            "59/59 [==============================] - 51s 868ms/step - loss: 0.4895 - accuracy: 0.8938 - val_loss: 0.4405 - val_accuracy: 0.8981\n",
            "Epoch 4/10\n",
            "59/59 [==============================] - 51s 863ms/step - loss: 0.4149 - accuracy: 0.9016 - val_loss: 0.3847 - val_accuracy: 0.9063\n",
            "Epoch 5/10\n",
            "59/59 [==============================] - 51s 862ms/step - loss: 0.3709 - accuracy: 0.9083 - val_loss: 0.3499 - val_accuracy: 0.9131\n",
            "Epoch 6/10\n",
            "59/59 [==============================] - 53s 897ms/step - loss: 0.3419 - accuracy: 0.9134 - val_loss: 0.3261 - val_accuracy: 0.9172\n",
            "Epoch 7/10\n",
            "59/59 [==============================] - 51s 859ms/step - loss: 0.3210 - accuracy: 0.9170 - val_loss: 0.3079 - val_accuracy: 0.9206\n",
            "Epoch 8/10\n",
            "59/59 [==============================] - 51s 861ms/step - loss: 0.3048 - accuracy: 0.9200 - val_loss: 0.2933 - val_accuracy: 0.9223\n",
            "Epoch 9/10\n",
            "59/59 [==============================] - 51s 868ms/step - loss: 0.2913 - accuracy: 0.9218 - val_loss: 0.2811 - val_accuracy: 0.9240\n",
            "Epoch 10/10\n",
            "59/59 [==============================] - 51s 858ms/step - loss: 0.2801 - accuracy: 0.9235 - val_loss: 0.2706 - val_accuracy: 0.9255\n"
          ],
          "name": "stdout"
        },
        {
          "output_type": "execute_result",
          "data": {
            "text/plain": [
              "<tensorflow.python.keras.callbacks.History at 0x7f00537235f8>"
            ]
          },
          "metadata": {
            "tags": []
          },
          "execution_count": 21
        }
      ]
    },
    {
      "cell_type": "markdown",
      "metadata": {
        "id": "xETcsez-wAxJ",
        "colab_type": "text"
      },
      "source": [
        "Побробуем использовать векторы другой длины"
      ]
    },
    {
      "cell_type": "code",
      "metadata": {
        "id": "6I14o0dEwx54",
        "colab_type": "code",
        "colab": {}
      },
      "source": [
        "w2v100 = gensim.models.Word2Vec(data['pr_text'], size=100, sg=1)"
      ],
      "execution_count": 0,
      "outputs": []
    },
    {
      "cell_type": "code",
      "metadata": {
        "id": "8l-sFQFbxGQe",
        "colab_type": "code",
        "colab": {}
      },
      "source": [
        "def sum_all_embeddings100(tokens):\n",
        "  res = np.zeros(100)\n",
        "  for token in tokens:\n",
        "    try:\n",
        "      res += w2v100[token]\n",
        "    except KeyError:\n",
        "      pass\n",
        "  return res"
      ],
      "execution_count": 0,
      "outputs": []
    },
    {
      "cell_type": "code",
      "metadata": {
        "id": "uhRrwvnpxNZ0",
        "colab_type": "code",
        "colab": {
          "base_uri": "https://localhost:8080/",
          "height": 70
        },
        "outputId": "282f7d72-ad57-40ec-d7c7-89154af5b7d1"
      },
      "source": [
        "data['w2v100'] = data['pr_text'].apply(sum_all_embeddings100)"
      ],
      "execution_count": 9,
      "outputs": [
        {
          "output_type": "stream",
          "text": [
            "/usr/local/lib/python3.6/dist-packages/ipykernel_launcher.py:5: DeprecationWarning: Call to deprecated `__getitem__` (Method will be removed in 4.0.0, use self.wv.__getitem__() instead).\n",
            "  \"\"\"\n"
          ],
          "name": "stderr"
        }
      ]
    },
    {
      "cell_type": "code",
      "metadata": {
        "id": "XZQKHZbGxu5y",
        "colab_type": "code",
        "colab": {}
      },
      "source": [
        "fast_text100 = gensim.models.FastText(data['pr_text'], size=100, min_n=4, max_n=8)"
      ],
      "execution_count": 0,
      "outputs": []
    },
    {
      "cell_type": "code",
      "metadata": {
        "id": "J-vgm6pRyHkX",
        "colab_type": "code",
        "colab": {}
      },
      "source": [
        ""
      ],
      "execution_count": 0,
      "outputs": []
    },
    {
      "cell_type": "code",
      "metadata": {
        "id": "4O6d7nacx8lx",
        "colab_type": "code",
        "colab": {}
      },
      "source": [
        "def fasttext_sum100(tokens):\n",
        "    embedings = []\n",
        "    for token in tokens:\n",
        "      try:\n",
        "        embedings.append(fast_text100[token])\n",
        "      except KeyError:\n",
        "        pass\n",
        "    return sum(embedings)"
      ],
      "execution_count": 0,
      "outputs": []
    },
    {
      "cell_type": "code",
      "metadata": {
        "id": "2zYlxl32ziu1",
        "colab_type": "code",
        "colab": {
          "base_uri": "https://localhost:8080/",
          "height": 70
        },
        "outputId": "325466b9-48d9-4c7e-fc94-3bb4e97ce35d"
      },
      "source": [
        "data['fasttext100'] = data['pr_text'].apply(fasttext_sum100)"
      ],
      "execution_count": 13,
      "outputs": [
        {
          "output_type": "stream",
          "text": [
            "/usr/local/lib/python3.6/dist-packages/ipykernel_launcher.py:5: DeprecationWarning: Call to deprecated `__getitem__` (Method will be removed in 4.0.0, use self.wv.__getitem__() instead).\n",
            "  \"\"\"\n"
          ],
          "name": "stderr"
        }
      ]
    },
    {
      "cell_type": "code",
      "metadata": {
        "id": "0eBfAN9qzumu",
        "colab_type": "code",
        "colab": {}
      },
      "source": [
        "X = []\n",
        "for index, row in data.iterrows():\n",
        "    concat = []\n",
        "    for i in list(row['w2v100']):\n",
        "      concat.append(float(i))\n",
        "    for i in list(row['fasttext100']):\n",
        "      concat.append(float(i))\n",
        "    X.append(concat)\n",
        "         "
      ],
      "execution_count": 0,
      "outputs": []
    },
    {
      "cell_type": "code",
      "metadata": {
        "id": "88rV6edTz97B",
        "colab_type": "code",
        "colab": {}
      },
      "source": [
        "X_train, X_valid, y_train, y_valid = train_test_split(X, y, test_size=0.1, random_state=42)"
      ],
      "execution_count": 0,
      "outputs": []
    },
    {
      "cell_type": "code",
      "metadata": {
        "id": "qXkcWaoU0EZx",
        "colab_type": "code",
        "colab": {}
      },
      "source": [
        "inputs = tf.keras.layers.Input(shape=200)\n",
        "dense1 = tf.keras.layers.Dense(64, activation='relu')(inputs)\n",
        "dense2 = tf.keras.layers.Dense(64, activation='relu')(dense1)\n",
        "outputs = tf.keras.layers.Dense(1, activation='sigmoid')(dense2)\n",
        "\n",
        "model = tf.keras.Model(inputs=inputs, outputs=outputs)\n",
        "optimizer = tf.keras.optimizers.Adam(learning_rate=0.0001)\n",
        "model.compile(optimizer=optimizer,\n",
        "              loss='binary_crossentropy',\n",
        "              metrics=['accuracy'])"
      ],
      "execution_count": 0,
      "outputs": []
    },
    {
      "cell_type": "code",
      "metadata": {
        "id": "Mz17XDl90mbI",
        "colab_type": "code",
        "colab": {
          "base_uri": "https://localhost:8080/",
          "height": 390
        },
        "outputId": "bd799ca3-a828-4ce9-e10e-934d0ac90a63"
      },
      "source": [
        "model.fit(X_train, y_train, validation_data=(X_valid, y_valid), batch_size=20000, epochs=10)"
      ],
      "execution_count": 19,
      "outputs": [
        {
          "output_type": "stream",
          "text": [
            "Epoch 1/10\n",
            "59/59 [==============================] - 98s 2s/step - loss: 0.6480 - accuracy: 0.8741 - val_loss: 0.4324 - val_accuracy: 0.9045\n",
            "Epoch 2/10\n",
            "59/59 [==============================] - 96s 2s/step - loss: 0.3644 - accuracy: 0.9114 - val_loss: 0.3082 - val_accuracy: 0.9216\n",
            "Epoch 3/10\n",
            "59/59 [==============================] - 96s 2s/step - loss: 0.2882 - accuracy: 0.9229 - val_loss: 0.2620 - val_accuracy: 0.9277\n",
            "Epoch 4/10\n",
            "59/59 [==============================] - 97s 2s/step - loss: 0.2519 - accuracy: 0.9282 - val_loss: 0.2345 - val_accuracy: 0.9314\n",
            "Epoch 5/10\n",
            "59/59 [==============================] - 97s 2s/step - loss: 0.2292 - accuracy: 0.9312 - val_loss: 0.2163 - val_accuracy: 0.9337\n",
            "Epoch 6/10\n",
            "59/59 [==============================] - 97s 2s/step - loss: 0.2138 - accuracy: 0.9335 - val_loss: 0.2037 - val_accuracy: 0.9358\n",
            "Epoch 7/10\n",
            "59/59 [==============================] - 96s 2s/step - loss: 0.2027 - accuracy: 0.9352 - val_loss: 0.1941 - val_accuracy: 0.9373\n",
            "Epoch 8/10\n",
            "59/59 [==============================] - 96s 2s/step - loss: 0.1941 - accuracy: 0.9366 - val_loss: 0.1865 - val_accuracy: 0.9388\n",
            "Epoch 9/10\n",
            "59/59 [==============================] - 97s 2s/step - loss: 0.1872 - accuracy: 0.9377 - val_loss: 0.1803 - val_accuracy: 0.9399\n",
            "Epoch 10/10\n",
            "59/59 [==============================] - 96s 2s/step - loss: 0.1813 - accuracy: 0.9387 - val_loss: 0.1749 - val_accuracy: 0.9411\n"
          ],
          "name": "stdout"
        },
        {
          "output_type": "execute_result",
          "data": {
            "text/plain": [
              "<tensorflow.python.keras.callbacks.History at 0x7fe64bb54f60>"
            ]
          },
          "metadata": {
            "tags": []
          },
          "execution_count": 19
        }
      ]
    },
    {
      "cell_type": "markdown",
      "metadata": {
        "id": "M3K-qxqgpH_p",
        "colab_type": "text"
      },
      "source": [
        "При использовании векторов большей длины результат улучшился"
      ]
    }
  ]
}