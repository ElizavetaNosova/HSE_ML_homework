{
  "nbformat": 4,
  "nbformat_minor": 0,
  "metadata": {
    "colab": {
      "name": "ClusteringHW.ipynb",
      "provenance": [],
      "authorship_tag": "ABX9TyN1PjPRtfi7Lktxlwocovol",
      "include_colab_link": true
    },
    "kernelspec": {
      "name": "python3",
      "display_name": "Python 3"
    }
  },
  "cells": [
    {
      "cell_type": "markdown",
      "metadata": {
        "id": "view-in-github",
        "colab_type": "text"
      },
      "source": [
        "<a href=\"https://colab.research.google.com/github/ElizavetaNosova/HSE_ML_homework/blob/master/ClusteringHW.ipynb\" target=\"_parent\"><img src=\"https://colab.research.google.com/assets/colab-badge.svg\" alt=\"Open In Colab\"/></a>"
      ]
    },
    {
      "cell_type": "code",
      "metadata": {
        "id": "ZJUhN26jlBTE",
        "colab_type": "code",
        "outputId": "d82d5caa-85f6-45f0-a7ab-b65b0d124db5",
        "colab": {
          "resources": {
            "http://localhost:8080/nbextensions/google.colab/files.js": {
              "data": "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",
              "ok": true,
              "headers": [
                [
                  "content-type",
                  "application/javascript"
                ]
              ],
              "status": 200,
              "status_text": ""
            }
          },
          "base_uri": "https://localhost:8080/",
          "height": 74
        }
      },
      "source": [
        "from google.colab import files\n",
        "uploaded = files.upload()"
      ],
      "execution_count": 1,
      "outputs": [
        {
          "output_type": "display_data",
          "data": {
            "text/html": [
              "\n",
              "     <input type=\"file\" id=\"files-95d4131d-49b5-459b-8e04-e1c3011a1c3c\" name=\"files[]\" multiple disabled />\n",
              "     <output id=\"result-95d4131d-49b5-459b-8e04-e1c3011a1c3c\">\n",
              "      Upload widget is only available when the cell has been executed in the\n",
              "      current browser session. Please rerun this cell to enable.\n",
              "      </output>\n",
              "      <script src=\"/nbextensions/google.colab/files.js\"></script> "
            ],
            "text/plain": [
              "<IPython.core.display.HTML object>"
            ]
          },
          "metadata": {
            "tags": []
          }
        },
        {
          "output_type": "stream",
          "text": [
            "Saving sample.csv to sample.csv\n"
          ],
          "name": "stdout"
        }
      ]
    },
    {
      "cell_type": "code",
      "metadata": {
        "id": "dc3fiqJ2l4Ay",
        "colab_type": "code",
        "colab": {}
      },
      "source": [
        "import pandas as pd\n",
        "import sklearn"
      ],
      "execution_count": 0,
      "outputs": []
    },
    {
      "cell_type": "code",
      "metadata": {
        "id": "4lYoOJPTl7yh",
        "colab_type": "code",
        "colab": {}
      },
      "source": [
        "data = pd.read_csv('sample.csv')\n",
        "sample = data[['category_name', 'title']]\n",
        "pd.set_option('display.max_rows', 500)"
      ],
      "execution_count": 0,
      "outputs": []
    },
    {
      "cell_type": "code",
      "metadata": {
        "id": "VJTxe2hFmEPF",
        "colab_type": "code",
        "colab": {}
      },
      "source": [
        "from sklearn.cluster import AffinityPropagation, AgglomerativeClustering, DBSCAN, \\\n",
        "                            KMeans, MiniBatchKMeans, Birch, MeanShift, SpectralClustering\n",
        "from sklearn.metrics import adjusted_rand_score, adjusted_mutual_info_score, \\\n",
        "                            silhouette_score\n",
        "\n",
        "from sklearn.feature_extraction.text import CountVectorizer, TfidfVectorizer\n",
        "from sklearn.decomposition import TruncatedSVD\n",
        "from sklearn import metrics\n",
        "from sklearn.datasets import make_blobs"
      ],
      "execution_count": 0,
      "outputs": []
    },
    {
      "cell_type": "code",
      "metadata": {
        "id": "WNGAKfGUmgx-",
        "colab_type": "code",
        "colab": {}
      },
      "source": [
        "cv1 = CountVectorizer()\n",
        "cv2 = CountVectorizer(ngram_range = (1,2))\n",
        "cv3 = CountVectorizer(max_df=2)\n",
        "cv4 = CountVectorizer(analyzer='char', ngram_range = (2,3))"
      ],
      "execution_count": 0,
      "outputs": []
    },
    {
      "cell_type": "code",
      "metadata": {
        "id": "vZfFLIoHp0r6",
        "colab_type": "code",
        "colab": {}
      },
      "source": [
        "y = sample['category_name']"
      ],
      "execution_count": 0,
      "outputs": []
    },
    {
      "cell_type": "code",
      "metadata": {
        "id": "9HkU-jpfp6WQ",
        "colab_type": "code",
        "colab": {}
      },
      "source": [
        "def test_vectorizer(cv, claster):\n",
        "  X = cv.fit_transform(sample['title'])\n",
        "  claster.fit(X)\n",
        "  labels = claster.labels_\n",
        "  print(\"Homogeneity: %0.3f\" % metrics.homogeneity_score(y, labels))\n",
        "  print(\"Completeness: %0.3f\" % metrics.completeness_score(y, labels))\n",
        "  print(\"V-measure: %0.3f\" % metrics.v_measure_score(y, labels))\n",
        "  print(\"Adjusted Rand Index: %0.3f\" % metrics.adjusted_rand_score(y, labels))\n",
        "  print(\"Adjusted Mutual Information: %0.3f\" % metrics.adjusted_mutual_info_score(y, labels))\n",
        "    "
      ],
      "execution_count": 0,
      "outputs": []
    },
    {
      "cell_type": "code",
      "metadata": {
        "id": "FUThtUlpTunz",
        "colab_type": "code",
        "colab": {}
      },
      "source": [
        "AP1 = AffinityPropagation(max_iter=500)\n",
        "AP2 =  AffinityPropagation(damping = 0.9, max_iter=500)"
      ],
      "execution_count": 0,
      "outputs": []
    },
    {
      "cell_type": "code",
      "metadata": {
        "id": "xJF5wedsUtlh",
        "colab_type": "code",
        "colab": {
          "base_uri": "https://localhost:8080/",
          "height": 105
        },
        "outputId": "6b275c60-db17-4c29-f190-67a60e0bd59c"
      },
      "source": [
        "test_vectorizer(cv1, AP1)"
      ],
      "execution_count": 9,
      "outputs": [
        {
          "output_type": "stream",
          "text": [
            "Homogeneity: 0.429\n",
            "Completeness: 0.416\n",
            "V-measure: 0.423\n",
            "Adjusted Rand Index: -0.030\n",
            "Adjusted Mutual Information: 0.275\n"
          ],
          "name": "stdout"
        }
      ]
    },
    {
      "cell_type": "code",
      "metadata": {
        "id": "eZoOTGfbU0Gq",
        "colab_type": "code",
        "colab": {
          "base_uri": "https://localhost:8080/",
          "height": 105
        },
        "outputId": "4063a3e5-938a-462a-9bac-ec3ef8920992"
      },
      "source": [
        "test_vectorizer(cv1, AP2)"
      ],
      "execution_count": 10,
      "outputs": [
        {
          "output_type": "stream",
          "text": [
            "Homogeneity: 0.403\n",
            "Completeness: 0.417\n",
            "V-measure: 0.410\n",
            "Adjusted Rand Index: -0.030\n",
            "Adjusted Mutual Information: 0.270\n"
          ],
          "name": "stdout"
        }
      ]
    },
    {
      "cell_type": "code",
      "metadata": {
        "id": "ZD89MpRHU3CL",
        "colab_type": "code",
        "colab": {
          "base_uri": "https://localhost:8080/",
          "height": 105
        },
        "outputId": "cda34b3c-9039-4342-e085-58cfea8cf5f2"
      },
      "source": [
        "test_vectorizer(cv2, AP1)"
      ],
      "execution_count": 11,
      "outputs": [
        {
          "output_type": "stream",
          "text": [
            "Homogeneity: 0.382\n",
            "Completeness: 0.405\n",
            "V-measure: 0.393\n",
            "Adjusted Rand Index: -0.032\n",
            "Adjusted Mutual Information: 0.226\n"
          ],
          "name": "stdout"
        }
      ]
    },
    {
      "cell_type": "code",
      "metadata": {
        "id": "lZkc4N98U6hY",
        "colab_type": "code",
        "colab": {
          "base_uri": "https://localhost:8080/",
          "height": 105
        },
        "outputId": "b151cda3-a59f-4d17-d538-b5f2495490c0"
      },
      "source": [
        "test_vectorizer(cv2, AP2)"
      ],
      "execution_count": 12,
      "outputs": [
        {
          "output_type": "stream",
          "text": [
            "Homogeneity: 0.381\n",
            "Completeness: 0.406\n",
            "V-measure: 0.393\n",
            "Adjusted Rand Index: -0.032\n",
            "Adjusted Mutual Information: 0.226\n"
          ],
          "name": "stdout"
        }
      ]
    },
    {
      "cell_type": "code",
      "metadata": {
        "id": "Mg89NGKkU-6s",
        "colab_type": "code",
        "colab": {
          "base_uri": "https://localhost:8080/",
          "height": 105
        },
        "outputId": "e219822f-220e-4a3e-9890-2f9b2537143e"
      },
      "source": [
        "test_vectorizer(cv3, AP1)"
      ],
      "execution_count": 13,
      "outputs": [
        {
          "output_type": "stream",
          "text": [
            "Homogeneity: 0.381\n",
            "Completeness: 0.428\n",
            "V-measure: 0.403\n",
            "Adjusted Rand Index: 0.056\n",
            "Adjusted Mutual Information: 0.110\n"
          ],
          "name": "stdout"
        }
      ]
    },
    {
      "cell_type": "code",
      "metadata": {
        "id": "NNVt7yO_VE6q",
        "colab_type": "code",
        "colab": {
          "base_uri": "https://localhost:8080/",
          "height": 105
        },
        "outputId": "aa1170b9-fba6-44cc-ad0b-94ccfa0fb675"
      },
      "source": [
        "test_vectorizer(cv3, AP2)"
      ],
      "execution_count": 14,
      "outputs": [
        {
          "output_type": "stream",
          "text": [
            "Homogeneity: 0.850\n",
            "Completeness: 0.360\n",
            "V-measure: 0.506\n",
            "Adjusted Rand Index: 0.000\n",
            "Adjusted Mutual Information: 0.001\n"
          ],
          "name": "stdout"
        }
      ]
    },
    {
      "cell_type": "code",
      "metadata": {
        "id": "mEPB6CVKVJ-X",
        "colab_type": "code",
        "colab": {
          "base_uri": "https://localhost:8080/",
          "height": 105
        },
        "outputId": "294974b1-a714-4914-a620-0007a62575a5"
      },
      "source": [
        "test_vectorizer(cv4, AP1)"
      ],
      "execution_count": 15,
      "outputs": [
        {
          "output_type": "stream",
          "text": [
            "Homogeneity: 0.525\n",
            "Completeness: 0.371\n",
            "V-measure: 0.435\n",
            "Adjusted Rand Index: 0.017\n",
            "Adjusted Mutual Information: 0.272\n"
          ],
          "name": "stdout"
        }
      ]
    },
    {
      "cell_type": "code",
      "metadata": {
        "id": "qCOSicBrVOga",
        "colab_type": "code",
        "colab": {
          "base_uri": "https://localhost:8080/",
          "height": 105
        },
        "outputId": "b4455cfa-0e86-44a9-9e36-247716d70e2c"
      },
      "source": [
        "test_vectorizer(cv4, AP2)"
      ],
      "execution_count": 16,
      "outputs": [
        {
          "output_type": "stream",
          "text": [
            "Homogeneity: 0.522\n",
            "Completeness: 0.369\n",
            "V-measure: 0.433\n",
            "Adjusted Rand Index: 0.018\n",
            "Adjusted Mutual Information: 0.270\n"
          ],
          "name": "stdout"
        }
      ]
    },
    {
      "cell_type": "markdown",
      "metadata": {
        "id": "g6emoItsVvur",
        "colab_type": "text"
      },
      "source": [
        "Кажется, что довольно хороший результат даёт пара cv3, AP2. Посмотрим группы"
      ]
    },
    {
      "cell_type": "code",
      "metadata": {
        "id": "4FRjHz6uV28O",
        "colab_type": "code",
        "colab": {}
      },
      "source": [
        "cv = cv3\n",
        "claster = AP2\n",
        "X = cv.fit_transform(sample['title'])\n",
        "claster.fit(X)\n",
        "sample['claster'] = claster.labels_"
      ],
      "execution_count": 0,
      "outputs": []
    },
    {
      "cell_type": "code",
      "metadata": {
        "id": "z3CKlEMNW9Q4",
        "colab_type": "code",
        "colab": {
          "base_uri": "https://localhost:8080/",
          "height": 167
        },
        "outputId": "f29db27f-9d86-45e4-fef4-dda321e692a8"
      },
      "source": [
        "sample[sample.claster==7].head(10)"
      ],
      "execution_count": 19,
      "outputs": [
        {
          "output_type": "execute_result",
          "data": {
            "text/html": [
              "<div>\n",
              "<style scoped>\n",
              "    .dataframe tbody tr th:only-of-type {\n",
              "        vertical-align: middle;\n",
              "    }\n",
              "\n",
              "    .dataframe tbody tr th {\n",
              "        vertical-align: top;\n",
              "    }\n",
              "\n",
              "    .dataframe thead th {\n",
              "        text-align: right;\n",
              "    }\n",
              "</style>\n",
              "<table border=\"1\" class=\"dataframe\">\n",
              "  <thead>\n",
              "    <tr style=\"text-align: right;\">\n",
              "      <th></th>\n",
              "      <th>category_name</th>\n",
              "      <th>title</th>\n",
              "      <th>claster</th>\n",
              "    </tr>\n",
              "  </thead>\n",
              "  <tbody>\n",
              "    <tr>\n",
              "      <th>8</th>\n",
              "      <td>Квартиры</td>\n",
              "      <td>2-к квартира, 45 м², 4/5 эт.</td>\n",
              "      <td>7</td>\n",
              "    </tr>\n",
              "    <tr>\n",
              "      <th>208</th>\n",
              "      <td>Квартиры</td>\n",
              "      <td>4-к квартира, 115.7 м², 1/5 эт.</td>\n",
              "      <td>7</td>\n",
              "    </tr>\n",
              "    <tr>\n",
              "      <th>371</th>\n",
              "      <td>Телефоны</td>\n",
              "      <td>Чехлы на samsung galaxy s3</td>\n",
              "      <td>7</td>\n",
              "    </tr>\n",
              "    <tr>\n",
              "      <th>2002</th>\n",
              "      <td>Предложение услуг</td>\n",
              "      <td>Ремонт и строительство домов и квартир</td>\n",
              "      <td>7</td>\n",
              "    </tr>\n",
              "  </tbody>\n",
              "</table>\n",
              "</div>"
            ],
            "text/plain": [
              "          category_name                                   title  claster\n",
              "8              Квартиры            2-к квартира, 45 м², 4/5 эт.        7\n",
              "208            Квартиры         4-к квартира, 115.7 м², 1/5 эт.        7\n",
              "371            Телефоны              Чехлы на samsung galaxy s3        7\n",
              "2002  Предложение услуг  Ремонт и строительство домов и квартир        7"
            ]
          },
          "metadata": {
            "tags": []
          },
          "execution_count": 19
        }
      ]
    },
    {
      "cell_type": "markdown",
      "metadata": {
        "id": "eVtBIo2nXJz7",
        "colab_type": "text"
      },
      "source": [
        "Нет, это ужасная группа: вперемешку чехлы и квартиры"
      ]
    },
    {
      "cell_type": "code",
      "metadata": {
        "id": "X2Y3ZapBXPqu",
        "colab_type": "code",
        "colab": {
          "base_uri": "https://localhost:8080/",
          "height": 77
        },
        "outputId": "0b16319a-6de8-468f-b272-7a690bb11978"
      },
      "source": [
        "sample[sample.claster==45].head(10)"
      ],
      "execution_count": 22,
      "outputs": [
        {
          "output_type": "execute_result",
          "data": {
            "text/html": [
              "<div>\n",
              "<style scoped>\n",
              "    .dataframe tbody tr th:only-of-type {\n",
              "        vertical-align: middle;\n",
              "    }\n",
              "\n",
              "    .dataframe tbody tr th {\n",
              "        vertical-align: top;\n",
              "    }\n",
              "\n",
              "    .dataframe thead th {\n",
              "        text-align: right;\n",
              "    }\n",
              "</style>\n",
              "<table border=\"1\" class=\"dataframe\">\n",
              "  <thead>\n",
              "    <tr style=\"text-align: right;\">\n",
              "      <th></th>\n",
              "      <th>category_name</th>\n",
              "      <th>title</th>\n",
              "      <th>claster</th>\n",
              "    </tr>\n",
              "  </thead>\n",
              "  <tbody>\n",
              "    <tr>\n",
              "      <th>55</th>\n",
              "      <td>Ремонт и строительство</td>\n",
              "      <td>Труба гофрированая двуслойная</td>\n",
              "      <td>45</td>\n",
              "    </tr>\n",
              "  </tbody>\n",
              "</table>\n",
              "</div>"
            ],
            "text/plain": [
              "             category_name                          title  claster\n",
              "55  Ремонт и строительство  Труба гофрированая двуслойная       45"
            ]
          },
          "metadata": {
            "tags": []
          },
          "execution_count": 22
        }
      ]
    },
    {
      "cell_type": "markdown",
      "metadata": {
        "id": "A12QVaVoXZ_Y",
        "colab_type": "text"
      },
      "source": [
        "Кажется, модель переобучилась и разделила на слишком мелкие группы. Попробуем другую пару"
      ]
    },
    {
      "cell_type": "code",
      "metadata": {
        "id": "Glfa9zWZXo-U",
        "colab_type": "code",
        "colab": {}
      },
      "source": [
        "cv = cv4\n",
        "claster = AP1\n",
        "X = cv.fit_transform(sample['title'])\n",
        "claster.fit(X)\n",
        "sample['claster'] = claster.labels_"
      ],
      "execution_count": 0,
      "outputs": []
    },
    {
      "cell_type": "code",
      "metadata": {
        "id": "T52Wm35pXvlp",
        "colab_type": "code",
        "colab": {
          "base_uri": "https://localhost:8080/",
          "height": 347
        },
        "outputId": "d14f8837-ff34-4bdc-9408-d7993f414884"
      },
      "source": [
        "sample[sample.claster==7].head(10)"
      ],
      "execution_count": 24,
      "outputs": [
        {
          "output_type": "execute_result",
          "data": {
            "text/html": [
              "<div>\n",
              "<style scoped>\n",
              "    .dataframe tbody tr th:only-of-type {\n",
              "        vertical-align: middle;\n",
              "    }\n",
              "\n",
              "    .dataframe tbody tr th {\n",
              "        vertical-align: top;\n",
              "    }\n",
              "\n",
              "    .dataframe thead th {\n",
              "        text-align: right;\n",
              "    }\n",
              "</style>\n",
              "<table border=\"1\" class=\"dataframe\">\n",
              "  <thead>\n",
              "    <tr style=\"text-align: right;\">\n",
              "      <th></th>\n",
              "      <th>category_name</th>\n",
              "      <th>title</th>\n",
              "      <th>claster</th>\n",
              "    </tr>\n",
              "  </thead>\n",
              "  <tbody>\n",
              "    <tr>\n",
              "      <th>50</th>\n",
              "      <td>Детская одежда и обувь</td>\n",
              "      <td>Сапожки</td>\n",
              "      <td>7</td>\n",
              "    </tr>\n",
              "    <tr>\n",
              "      <th>233</th>\n",
              "      <td>Детская одежда и обувь</td>\n",
              "      <td>Бассаножки на скале</td>\n",
              "      <td>7</td>\n",
              "    </tr>\n",
              "    <tr>\n",
              "      <th>608</th>\n",
              "      <td>Одежда, обувь, аксессуары</td>\n",
              "      <td>Сапоги зимние</td>\n",
              "      <td>7</td>\n",
              "    </tr>\n",
              "    <tr>\n",
              "      <th>672</th>\n",
              "      <td>Детская одежда и обувь</td>\n",
              "      <td>Натуральные сапожки зима</td>\n",
              "      <td>7</td>\n",
              "    </tr>\n",
              "    <tr>\n",
              "      <th>673</th>\n",
              "      <td>Одежда, обувь, аксессуары</td>\n",
              "      <td>Сапожки volatile Stevie</td>\n",
              "      <td>7</td>\n",
              "    </tr>\n",
              "    <tr>\n",
              "      <th>817</th>\n",
              "      <td>Детская одежда и обувь</td>\n",
              "      <td>Сапожки весна\\осень</td>\n",
              "      <td>7</td>\n",
              "    </tr>\n",
              "    <tr>\n",
              "      <th>892</th>\n",
              "      <td>Одежда, обувь, аксессуары</td>\n",
              "      <td>Супер сапожки</td>\n",
              "      <td>7</td>\n",
              "    </tr>\n",
              "    <tr>\n",
              "      <th>1226</th>\n",
              "      <td>Детская одежда и обувь</td>\n",
              "      <td>Полусапожки весна-осень</td>\n",
              "      <td>7</td>\n",
              "    </tr>\n",
              "    <tr>\n",
              "      <th>1375</th>\n",
              "      <td>Детская одежда и обувь</td>\n",
              "      <td>Зимние сапожки Капика</td>\n",
              "      <td>7</td>\n",
              "    </tr>\n",
              "    <tr>\n",
              "      <th>1653</th>\n",
              "      <td>Одежда, обувь, аксессуары</td>\n",
              "      <td>Стильные полусапожки</td>\n",
              "      <td>7</td>\n",
              "    </tr>\n",
              "  </tbody>\n",
              "</table>\n",
              "</div>"
            ],
            "text/plain": [
              "                  category_name                     title  claster\n",
              "50       Детская одежда и обувь                   Сапожки        7\n",
              "233      Детская одежда и обувь       Бассаножки на скале        7\n",
              "608   Одежда, обувь, аксессуары             Сапоги зимние        7\n",
              "672      Детская одежда и обувь  Натуральные сапожки зима        7\n",
              "673   Одежда, обувь, аксессуары   Сапожки volatile Stevie        7\n",
              "817      Детская одежда и обувь       Сапожки весна\\осень        7\n",
              "892   Одежда, обувь, аксессуары             Супер сапожки        7\n",
              "1226     Детская одежда и обувь   Полусапожки весна-осень        7\n",
              "1375     Детская одежда и обувь     Зимние сапожки Капика        7\n",
              "1653  Одежда, обувь, аксессуары      Стильные полусапожки        7"
            ]
          },
          "metadata": {
            "tags": []
          },
          "execution_count": 24
        }
      ]
    },
    {
      "cell_type": "code",
      "metadata": {
        "id": "kEsFJgxFX2uM",
        "colab_type": "code",
        "colab": {
          "base_uri": "https://localhost:8080/",
          "height": 347
        },
        "outputId": "84dbf22d-3785-464d-a17b-6376c408e557"
      },
      "source": [
        "sample[sample.claster==10].head(10)"
      ],
      "execution_count": 25,
      "outputs": [
        {
          "output_type": "execute_result",
          "data": {
            "text/html": [
              "<div>\n",
              "<style scoped>\n",
              "    .dataframe tbody tr th:only-of-type {\n",
              "        vertical-align: middle;\n",
              "    }\n",
              "\n",
              "    .dataframe tbody tr th {\n",
              "        vertical-align: top;\n",
              "    }\n",
              "\n",
              "    .dataframe thead th {\n",
              "        text-align: right;\n",
              "    }\n",
              "</style>\n",
              "<table border=\"1\" class=\"dataframe\">\n",
              "  <thead>\n",
              "    <tr style=\"text-align: right;\">\n",
              "      <th></th>\n",
              "      <th>category_name</th>\n",
              "      <th>title</th>\n",
              "      <th>claster</th>\n",
              "    </tr>\n",
              "  </thead>\n",
              "  <tbody>\n",
              "    <tr>\n",
              "      <th>18</th>\n",
              "      <td>Мебель и интерьер</td>\n",
              "      <td>Диван и 2 кресла</td>\n",
              "      <td>10</td>\n",
              "    </tr>\n",
              "    <tr>\n",
              "      <th>61</th>\n",
              "      <td>Мебель и интерьер</td>\n",
              "      <td>Диван</td>\n",
              "      <td>10</td>\n",
              "    </tr>\n",
              "    <tr>\n",
              "      <th>241</th>\n",
              "      <td>Бытовая техника</td>\n",
              "      <td>Мультиварка</td>\n",
              "      <td>10</td>\n",
              "    </tr>\n",
              "    <tr>\n",
              "      <th>283</th>\n",
              "      <td>Предложение услуг</td>\n",
              "      <td>Техническое обслуживание кондиционеров</td>\n",
              "      <td>10</td>\n",
              "    </tr>\n",
              "    <tr>\n",
              "      <th>294</th>\n",
              "      <td>Одежда, обувь, аксессуары</td>\n",
              "      <td>Белые брючки Страдивариус</td>\n",
              "      <td>10</td>\n",
              "    </tr>\n",
              "    <tr>\n",
              "      <th>328</th>\n",
              "      <td>Предложение услуг</td>\n",
              "      <td>Наращивание ресниц</td>\n",
              "      <td>10</td>\n",
              "    </tr>\n",
              "    <tr>\n",
              "      <th>397</th>\n",
              "      <td>Мебель и интерьер</td>\n",
              "      <td>Продается диван</td>\n",
              "      <td>10</td>\n",
              "    </tr>\n",
              "    <tr>\n",
              "      <th>419</th>\n",
              "      <td>Автомобили</td>\n",
              "      <td>LADA 4x4 (Нива), 2006</td>\n",
              "      <td>10</td>\n",
              "    </tr>\n",
              "    <tr>\n",
              "      <th>723</th>\n",
              "      <td>Мебель и интерьер</td>\n",
              "      <td>Полка для ванной</td>\n",
              "      <td>10</td>\n",
              "    </tr>\n",
              "    <tr>\n",
              "      <th>943</th>\n",
              "      <td>Бытовая техника</td>\n",
              "      <td>Мультиварка delta DL6502</td>\n",
              "      <td>10</td>\n",
              "    </tr>\n",
              "  </tbody>\n",
              "</table>\n",
              "</div>"
            ],
            "text/plain": [
              "                 category_name                                   title  claster\n",
              "18           Мебель и интерьер                        Диван и 2 кресла       10\n",
              "61           Мебель и интерьер                                   Диван       10\n",
              "241            Бытовая техника                             Мультиварка       10\n",
              "283          Предложение услуг  Техническое обслуживание кондиционеров       10\n",
              "294  Одежда, обувь, аксессуары               Белые брючки Страдивариус       10\n",
              "328          Предложение услуг                      Наращивание ресниц       10\n",
              "397          Мебель и интерьер                         Продается диван       10\n",
              "419                 Автомобили                   LADA 4x4 (Нива), 2006       10\n",
              "723          Мебель и интерьер                        Полка для ванной       10\n",
              "943            Бытовая техника                Мультиварка delta DL6502       10"
            ]
          },
          "metadata": {
            "tags": []
          },
          "execution_count": 25
        }
      ]
    },
    {
      "cell_type": "markdown",
      "metadata": {
        "id": "XA8vpNJhX8NS",
        "colab_type": "text"
      },
      "source": [
        "Лучше, но в 10-ю группу попали не связанные друг с другом вещи.\n",
        "Попробуем tfidf. Предполагаю, что \"Страдивариус\" из-за n-gram стали ассоциироваться с \"варить\""
      ]
    },
    {
      "cell_type": "code",
      "metadata": {
        "id": "v5t2tAhPVSmo",
        "colab_type": "code",
        "colab": {}
      },
      "source": [
        "tfidf1 = TfidfVectorizer()\n",
        "tfidf2 = TfidfVectorizer(ngram_range = (1,2))\n",
        "tfidf3 = TfidfVectorizer(max_df=2)\n",
        "tfidf4 = TfidfVectorizer(analyzer='char', ngram_range = (2,3))"
      ],
      "execution_count": 0,
      "outputs": []
    },
    {
      "cell_type": "code",
      "metadata": {
        "id": "oqEKUxrnY24I",
        "colab_type": "code",
        "colab": {
          "base_uri": "https://localhost:8080/",
          "height": 105
        },
        "outputId": "8169d45d-adbe-414f-f283-f9b54db04201"
      },
      "source": [
        "test_vectorizer(tfidf1, AP2)"
      ],
      "execution_count": 28,
      "outputs": [
        {
          "output_type": "stream",
          "text": [
            "Homogeneity: 0.293\n",
            "Completeness: 0.401\n",
            "V-measure: 0.339\n",
            "Adjusted Rand Index: -0.033\n",
            "Adjusted Mutual Information: 0.208\n"
          ],
          "name": "stdout"
        }
      ]
    },
    {
      "cell_type": "code",
      "metadata": {
        "id": "sC8UtIOJY6E4",
        "colab_type": "code",
        "colab": {
          "base_uri": "https://localhost:8080/",
          "height": 161
        },
        "outputId": "31c3a212-2af6-4f1d-9528-d82ecd6db58b"
      },
      "source": [
        "test_vectorizer(tfidf2, AP1)"
      ],
      "execution_count": 29,
      "outputs": [
        {
          "output_type": "stream",
          "text": [
            "Homogeneity: 0.000\n",
            "Completeness: 1.000\n",
            "V-measure: 0.000\n",
            "Adjusted Rand Index: 0.000\n",
            "Adjusted Mutual Information: 0.000\n"
          ],
          "name": "stdout"
        },
        {
          "output_type": "stream",
          "text": [
            "/usr/local/lib/python3.6/dist-packages/sklearn/cluster/_affinity_propagation.py:226: ConvergenceWarning: Affinity propagation did not converge, this model will not have any cluster centers.\n",
            "  \"will not have any cluster centers.\", ConvergenceWarning)\n"
          ],
          "name": "stderr"
        }
      ]
    },
    {
      "cell_type": "code",
      "metadata": {
        "id": "I3pbAd1yY9fw",
        "colab_type": "code",
        "colab": {
          "base_uri": "https://localhost:8080/",
          "height": 105
        },
        "outputId": "db0ba5dd-4cee-4b59-db60-38056df2b45e"
      },
      "source": [
        "test_vectorizer(tfidf2, AP2)"
      ],
      "execution_count": 30,
      "outputs": [
        {
          "output_type": "stream",
          "text": [
            "Homogeneity: 0.000\n",
            "Completeness: 1.000\n",
            "V-measure: 0.000\n",
            "Adjusted Rand Index: 0.000\n",
            "Adjusted Mutual Information: 0.000\n"
          ],
          "name": "stdout"
        }
      ]
    },
    {
      "cell_type": "code",
      "metadata": {
        "id": "F_D7AEwjZEom",
        "colab_type": "code",
        "colab": {
          "base_uri": "https://localhost:8080/",
          "height": 105
        },
        "outputId": "3e3dc63b-bf25-40dd-f0c1-66c93c6ea719"
      },
      "source": [
        "test_vectorizer(tfidf3, AP2)"
      ],
      "execution_count": 32,
      "outputs": [
        {
          "output_type": "stream",
          "text": [
            "Homogeneity: 1.000\n",
            "Completeness: 0.396\n",
            "V-measure: 0.567\n",
            "Adjusted Rand Index: 0.000\n",
            "Adjusted Mutual Information: 0.001\n"
          ],
          "name": "stdout"
        }
      ]
    },
    {
      "cell_type": "code",
      "metadata": {
        "id": "jM8k1hqfZK-z",
        "colab_type": "code",
        "colab": {
          "base_uri": "https://localhost:8080/",
          "height": 105
        },
        "outputId": "70bb3f9b-656d-4bd0-c327-ced043f27d59"
      },
      "source": [
        "test_vectorizer(tfidf4, AP1)"
      ],
      "execution_count": 33,
      "outputs": [
        {
          "output_type": "stream",
          "text": [
            "Homogeneity: 0.740\n",
            "Completeness: 0.407\n",
            "V-measure: 0.525\n",
            "Adjusted Rand Index: 0.043\n",
            "Adjusted Mutual Information: 0.323\n"
          ],
          "name": "stdout"
        }
      ]
    },
    {
      "cell_type": "code",
      "metadata": {
        "id": "OQg6l6_7ZOJh",
        "colab_type": "code",
        "colab": {
          "base_uri": "https://localhost:8080/",
          "height": 105
        },
        "outputId": "34872955-b7e2-49ec-d09d-41a62910d5f1"
      },
      "source": [
        "test_vectorizer(tfidf1, AP2)"
      ],
      "execution_count": 34,
      "outputs": [
        {
          "output_type": "stream",
          "text": [
            "Homogeneity: 0.293\n",
            "Completeness: 0.401\n",
            "V-measure: 0.339\n",
            "Adjusted Rand Index: -0.033\n",
            "Adjusted Mutual Information: 0.208\n"
          ],
          "name": "stdout"
        }
      ]
    },
    {
      "cell_type": "markdown",
      "metadata": {
        "id": "UBSeqzvpbVci",
        "colab_type": "text"
      },
      "source": [
        "C tfidf в опробованных настройках что-то приемлемое получилось только на n-грамах"
      ]
    },
    {
      "cell_type": "code",
      "metadata": {
        "id": "2xB0ZZvVbceg",
        "colab_type": "code",
        "colab": {}
      },
      "source": [
        "cv = tfidf4\n",
        "claster = AP1\n",
        "X = cv.fit_transform(sample['title'])\n",
        "claster.fit(X)\n",
        "sample['claster'] = claster.labels_"
      ],
      "execution_count": 0,
      "outputs": []
    },
    {
      "cell_type": "code",
      "metadata": {
        "id": "VFrNJjLFbsio",
        "colab_type": "code",
        "colab": {
          "base_uri": "https://localhost:8080/",
          "height": 347
        },
        "outputId": "98dd96e9-b79c-4220-f1cf-2efb7abc315f"
      },
      "source": [
        "sample[sample.claster==10].head(10)"
      ],
      "execution_count": 36,
      "outputs": [
        {
          "output_type": "execute_result",
          "data": {
            "text/html": [
              "<div>\n",
              "<style scoped>\n",
              "    .dataframe tbody tr th:only-of-type {\n",
              "        vertical-align: middle;\n",
              "    }\n",
              "\n",
              "    .dataframe tbody tr th {\n",
              "        vertical-align: top;\n",
              "    }\n",
              "\n",
              "    .dataframe thead th {\n",
              "        text-align: right;\n",
              "    }\n",
              "</style>\n",
              "<table border=\"1\" class=\"dataframe\">\n",
              "  <thead>\n",
              "    <tr style=\"text-align: right;\">\n",
              "      <th></th>\n",
              "      <th>category_name</th>\n",
              "      <th>title</th>\n",
              "      <th>claster</th>\n",
              "    </tr>\n",
              "  </thead>\n",
              "  <tbody>\n",
              "    <tr>\n",
              "      <th>72</th>\n",
              "      <td>Земельные участки</td>\n",
              "      <td>Участок 10 сот. (СНТ, ДНП)</td>\n",
              "      <td>10</td>\n",
              "    </tr>\n",
              "    <tr>\n",
              "      <th>293</th>\n",
              "      <td>Земельные участки</td>\n",
              "      <td>Участок 8 сот. (СНТ, ДНП)</td>\n",
              "      <td>10</td>\n",
              "    </tr>\n",
              "    <tr>\n",
              "      <th>738</th>\n",
              "      <td>Земельные участки</td>\n",
              "      <td>Участок 4 сот. (СНТ, ДНП)</td>\n",
              "      <td>10</td>\n",
              "    </tr>\n",
              "    <tr>\n",
              "      <th>753</th>\n",
              "      <td>Земельные участки</td>\n",
              "      <td>Участок 6 сот. (СНТ, ДНП)</td>\n",
              "      <td>10</td>\n",
              "    </tr>\n",
              "    <tr>\n",
              "      <th>1102</th>\n",
              "      <td>Земельные участки</td>\n",
              "      <td>Участок 8 сот. (СНТ, ДНП)</td>\n",
              "      <td>10</td>\n",
              "    </tr>\n",
              "    <tr>\n",
              "      <th>1742</th>\n",
              "      <td>Земельные участки</td>\n",
              "      <td>Участок 6 сот. (СНТ, ДНП)</td>\n",
              "      <td>10</td>\n",
              "    </tr>\n",
              "    <tr>\n",
              "      <th>1970</th>\n",
              "      <td>Земельные участки</td>\n",
              "      <td>Участок 6 сот. (СНТ, ДНП)</td>\n",
              "      <td>10</td>\n",
              "    </tr>\n",
              "    <tr>\n",
              "      <th>1986</th>\n",
              "      <td>Земельные участки</td>\n",
              "      <td>Участок 13 сот. (СНТ, ДНП)</td>\n",
              "      <td>10</td>\n",
              "    </tr>\n",
              "    <tr>\n",
              "      <th>1999</th>\n",
              "      <td>Земельные участки</td>\n",
              "      <td>Участок 20 сот. (СНТ, ДНП)</td>\n",
              "      <td>10</td>\n",
              "    </tr>\n",
              "    <tr>\n",
              "      <th>2063</th>\n",
              "      <td>Земельные участки</td>\n",
              "      <td>Участок 10 сот. (СНТ, ДНП)</td>\n",
              "      <td>10</td>\n",
              "    </tr>\n",
              "  </tbody>\n",
              "</table>\n",
              "</div>"
            ],
            "text/plain": [
              "          category_name                       title  claster\n",
              "72    Земельные участки  Участок 10 сот. (СНТ, ДНП)       10\n",
              "293   Земельные участки   Участок 8 сот. (СНТ, ДНП)       10\n",
              "738   Земельные участки   Участок 4 сот. (СНТ, ДНП)       10\n",
              "753   Земельные участки   Участок 6 сот. (СНТ, ДНП)       10\n",
              "1102  Земельные участки   Участок 8 сот. (СНТ, ДНП)       10\n",
              "1742  Земельные участки   Участок 6 сот. (СНТ, ДНП)       10\n",
              "1970  Земельные участки   Участок 6 сот. (СНТ, ДНП)       10\n",
              "1986  Земельные участки  Участок 13 сот. (СНТ, ДНП)       10\n",
              "1999  Земельные участки  Участок 20 сот. (СНТ, ДНП)       10\n",
              "2063  Земельные участки  Участок 10 сот. (СНТ, ДНП)       10"
            ]
          },
          "metadata": {
            "tags": []
          },
          "execution_count": 36
        }
      ]
    },
    {
      "cell_type": "code",
      "metadata": {
        "id": "D_w0R9rwb9bq",
        "colab_type": "code",
        "colab": {
          "base_uri": "https://localhost:8080/",
          "height": 287
        },
        "outputId": "15836570-e1c9-48f2-fb71-b9c3f18961b9"
      },
      "source": [
        "sample[sample.claster==7].head(10)"
      ],
      "execution_count": 37,
      "outputs": [
        {
          "output_type": "execute_result",
          "data": {
            "text/html": [
              "<div>\n",
              "<style scoped>\n",
              "    .dataframe tbody tr th:only-of-type {\n",
              "        vertical-align: middle;\n",
              "    }\n",
              "\n",
              "    .dataframe tbody tr th {\n",
              "        vertical-align: top;\n",
              "    }\n",
              "\n",
              "    .dataframe thead th {\n",
              "        text-align: right;\n",
              "    }\n",
              "</style>\n",
              "<table border=\"1\" class=\"dataframe\">\n",
              "  <thead>\n",
              "    <tr style=\"text-align: right;\">\n",
              "      <th></th>\n",
              "      <th>category_name</th>\n",
              "      <th>title</th>\n",
              "      <th>claster</th>\n",
              "    </tr>\n",
              "  </thead>\n",
              "  <tbody>\n",
              "    <tr>\n",
              "      <th>50</th>\n",
              "      <td>Детская одежда и обувь</td>\n",
              "      <td>Сапожки</td>\n",
              "      <td>7</td>\n",
              "    </tr>\n",
              "    <tr>\n",
              "      <th>672</th>\n",
              "      <td>Детская одежда и обувь</td>\n",
              "      <td>Натуральные сапожки зима</td>\n",
              "      <td>7</td>\n",
              "    </tr>\n",
              "    <tr>\n",
              "      <th>673</th>\n",
              "      <td>Одежда, обувь, аксессуары</td>\n",
              "      <td>Сапожки volatile Stevie</td>\n",
              "      <td>7</td>\n",
              "    </tr>\n",
              "    <tr>\n",
              "      <th>817</th>\n",
              "      <td>Детская одежда и обувь</td>\n",
              "      <td>Сапожки весна\\осень</td>\n",
              "      <td>7</td>\n",
              "    </tr>\n",
              "    <tr>\n",
              "      <th>892</th>\n",
              "      <td>Одежда, обувь, аксессуары</td>\n",
              "      <td>Супер сапожки</td>\n",
              "      <td>7</td>\n",
              "    </tr>\n",
              "    <tr>\n",
              "      <th>1375</th>\n",
              "      <td>Детская одежда и обувь</td>\n",
              "      <td>Зимние сапожки Капика</td>\n",
              "      <td>7</td>\n",
              "    </tr>\n",
              "    <tr>\n",
              "      <th>1653</th>\n",
              "      <td>Одежда, обувь, аксессуары</td>\n",
              "      <td>Стильные полусапожки</td>\n",
              "      <td>7</td>\n",
              "    </tr>\n",
              "    <tr>\n",
              "      <th>2323</th>\n",
              "      <td>Детская одежда и обувь</td>\n",
              "      <td>Детские осенние сапожки б/у с подсветкой</td>\n",
              "      <td>7</td>\n",
              "    </tr>\n",
              "  </tbody>\n",
              "</table>\n",
              "</div>"
            ],
            "text/plain": [
              "                  category_name  ... claster\n",
              "50       Детская одежда и обувь  ...       7\n",
              "672      Детская одежда и обувь  ...       7\n",
              "673   Одежда, обувь, аксессуары  ...       7\n",
              "817      Детская одежда и обувь  ...       7\n",
              "892   Одежда, обувь, аксессуары  ...       7\n",
              "1375     Детская одежда и обувь  ...       7\n",
              "1653  Одежда, обувь, аксессуары  ...       7\n",
              "2323     Детская одежда и обувь  ...       7\n",
              "\n",
              "[8 rows x 3 columns]"
            ]
          },
          "metadata": {
            "tags": []
          },
          "execution_count": 37
        }
      ]
    },
    {
      "cell_type": "code",
      "metadata": {
        "id": "XrwYzYmFcBLF",
        "colab_type": "code",
        "colab": {
          "base_uri": "https://localhost:8080/",
          "height": 167
        },
        "outputId": "38fadde0-2d2e-4b8d-ec6f-f82157e39e88"
      },
      "source": [
        "sample[sample.claster==15].head(10)"
      ],
      "execution_count": 38,
      "outputs": [
        {
          "output_type": "execute_result",
          "data": {
            "text/html": [
              "<div>\n",
              "<style scoped>\n",
              "    .dataframe tbody tr th:only-of-type {\n",
              "        vertical-align: middle;\n",
              "    }\n",
              "\n",
              "    .dataframe tbody tr th {\n",
              "        vertical-align: top;\n",
              "    }\n",
              "\n",
              "    .dataframe thead th {\n",
              "        text-align: right;\n",
              "    }\n",
              "</style>\n",
              "<table border=\"1\" class=\"dataframe\">\n",
              "  <thead>\n",
              "    <tr style=\"text-align: right;\">\n",
              "      <th></th>\n",
              "      <th>category_name</th>\n",
              "      <th>title</th>\n",
              "      <th>claster</th>\n",
              "    </tr>\n",
              "  </thead>\n",
              "  <tbody>\n",
              "    <tr>\n",
              "      <th>129</th>\n",
              "      <td>Товары для детей и игрушки</td>\n",
              "      <td>Колыбель simplicity</td>\n",
              "      <td>15</td>\n",
              "    </tr>\n",
              "    <tr>\n",
              "      <th>427</th>\n",
              "      <td>Товары для детей и игрушки</td>\n",
              "      <td>Колыбель</td>\n",
              "      <td>15</td>\n",
              "    </tr>\n",
              "    <tr>\n",
              "      <th>986</th>\n",
              "      <td>Одежда, обувь, аксессуары</td>\n",
              "      <td>Угги Incity, не стоптаны</td>\n",
              "      <td>15</td>\n",
              "    </tr>\n",
              "    <tr>\n",
              "      <th>1157</th>\n",
              "      <td>Велосипеды</td>\n",
              "      <td>Покрышки Schwalbe city jet (26 радиус)</td>\n",
              "      <td>15</td>\n",
              "    </tr>\n",
              "  </tbody>\n",
              "</table>\n",
              "</div>"
            ],
            "text/plain": [
              "                   category_name  ... claster\n",
              "129   Товары для детей и игрушки  ...      15\n",
              "427   Товары для детей и игрушки  ...      15\n",
              "986    Одежда, обувь, аксессуары  ...      15\n",
              "1157                  Велосипеды  ...      15\n",
              "\n",
              "[4 rows x 3 columns]"
            ]
          },
          "metadata": {
            "tags": []
          },
          "execution_count": 38
        }
      ]
    },
    {
      "cell_type": "markdown",
      "metadata": {
        "id": "ravU7utNcGbm",
        "colab_type": "text"
      },
      "source": [
        "Из проверенных две группы хорошие, одна так себе. Кажется, векторайзер слишком сильно реагирует на латинские буквы. Попробуем от них избавиться"
      ]
    },
    {
      "cell_type": "code",
      "metadata": {
        "id": "tnFfmK0Wcclo",
        "colab_type": "code",
        "colab": {}
      },
      "source": [
        "import re\n",
        "def remove_english(text):\n",
        "    new_text = re.sub('[A-Za-z]+', '', text)\n",
        "    new_text = re.sub('[ ]+', ' ', new_text)\n",
        "    return new_text"
      ],
      "execution_count": 0,
      "outputs": []
    },
    {
      "cell_type": "code",
      "metadata": {
        "id": "_8hvmr_fdJAA",
        "colab_type": "code",
        "colab": {}
      },
      "source": [
        "sample_no_english = sample\n",
        "sample_no_english['title'] = sample_no_english['title'].apply(remove_english) "
      ],
      "execution_count": 0,
      "outputs": []
    },
    {
      "cell_type": "code",
      "metadata": {
        "id": "Cg2udcgBdfCt",
        "colab_type": "code",
        "colab": {}
      },
      "source": [
        "cv = tfidf4\n",
        "claster = AffinityPropagation(max_iter=1000, damping=0.9)\n",
        "X = cv.fit_transform(sample_no_english['title'])\n",
        "claster.fit(X)\n",
        "sample_no_english['claster'] = claster.labels_"
      ],
      "execution_count": 0,
      "outputs": []
    },
    {
      "cell_type": "code",
      "metadata": {
        "id": "XRtmnJxJdstz",
        "colab_type": "code",
        "colab": {
          "base_uri": "https://localhost:8080/",
          "height": 227
        },
        "outputId": "a7009fb2-227d-4800-faba-d6223b4d8113"
      },
      "source": [
        "sample[sample.claster==15].head(10)"
      ],
      "execution_count": 47,
      "outputs": [
        {
          "output_type": "execute_result",
          "data": {
            "text/html": [
              "<div>\n",
              "<style scoped>\n",
              "    .dataframe tbody tr th:only-of-type {\n",
              "        vertical-align: middle;\n",
              "    }\n",
              "\n",
              "    .dataframe tbody tr th {\n",
              "        vertical-align: top;\n",
              "    }\n",
              "\n",
              "    .dataframe thead th {\n",
              "        text-align: right;\n",
              "    }\n",
              "</style>\n",
              "<table border=\"1\" class=\"dataframe\">\n",
              "  <thead>\n",
              "    <tr style=\"text-align: right;\">\n",
              "      <th></th>\n",
              "      <th>category_name</th>\n",
              "      <th>title</th>\n",
              "      <th>claster</th>\n",
              "    </tr>\n",
              "  </thead>\n",
              "  <tbody>\n",
              "    <tr>\n",
              "      <th>248</th>\n",
              "      <td>Бытовая техника</td>\n",
              "      <td>Стиральная машинка 5</td>\n",
              "      <td>15</td>\n",
              "    </tr>\n",
              "    <tr>\n",
              "      <th>541</th>\n",
              "      <td>Бытовая техника</td>\n",
              "      <td>Стиральная машинка \"Малютка\"</td>\n",
              "      <td>15</td>\n",
              "    </tr>\n",
              "    <tr>\n",
              "      <th>1720</th>\n",
              "      <td>Бытовая техника</td>\n",
              "      <td>Стиральная машинка Сибирь</td>\n",
              "      <td>15</td>\n",
              "    </tr>\n",
              "    <tr>\n",
              "      <th>1981</th>\n",
              "      <td>Бытовая техника</td>\n",
              "      <td>Стиральная машина Веко</td>\n",
              "      <td>15</td>\n",
              "    </tr>\n",
              "    <tr>\n",
              "      <th>2442</th>\n",
              "      <td>Бытовая техника</td>\n",
              "      <td>Узкая стиральная машина автомат</td>\n",
              "      <td>15</td>\n",
              "    </tr>\n",
              "    <tr>\n",
              "      <th>2447</th>\n",
              "      <td>Бытовая техника</td>\n",
              "      <td>Стиральная машинка Ассоль</td>\n",
              "      <td>15</td>\n",
              "    </tr>\n",
              "  </tbody>\n",
              "</table>\n",
              "</div>"
            ],
            "text/plain": [
              "        category_name                             title  claster\n",
              "248   Бытовая техника              Стиральная машинка 5       15\n",
              "541   Бытовая техника      Стиральная машинка \"Малютка\"       15\n",
              "1720  Бытовая техника         Стиральная машинка Сибирь       15\n",
              "1981  Бытовая техника            Стиральная машина Веко       15\n",
              "2442  Бытовая техника  Узкая стиральная машина автомат        15\n",
              "2447  Бытовая техника         Стиральная машинка Ассоль       15"
            ]
          },
          "metadata": {
            "tags": []
          },
          "execution_count": 47
        }
      ]
    },
    {
      "cell_type": "code",
      "metadata": {
        "id": "zGbK5g5Th28N",
        "colab_type": "code",
        "colab": {
          "base_uri": "https://localhost:8080/",
          "height": 347
        },
        "outputId": "27aaacce-2e55-4be2-cb70-fe8ff5e05a82"
      },
      "source": [
        "sample[sample.claster==10].head(10)"
      ],
      "execution_count": 48,
      "outputs": [
        {
          "output_type": "execute_result",
          "data": {
            "text/html": [
              "<div>\n",
              "<style scoped>\n",
              "    .dataframe tbody tr th:only-of-type {\n",
              "        vertical-align: middle;\n",
              "    }\n",
              "\n",
              "    .dataframe tbody tr th {\n",
              "        vertical-align: top;\n",
              "    }\n",
              "\n",
              "    .dataframe thead th {\n",
              "        text-align: right;\n",
              "    }\n",
              "</style>\n",
              "<table border=\"1\" class=\"dataframe\">\n",
              "  <thead>\n",
              "    <tr style=\"text-align: right;\">\n",
              "      <th></th>\n",
              "      <th>category_name</th>\n",
              "      <th>title</th>\n",
              "      <th>claster</th>\n",
              "    </tr>\n",
              "  </thead>\n",
              "  <tbody>\n",
              "    <tr>\n",
              "      <th>207</th>\n",
              "      <td>Телефоны</td>\n",
              "      <td>Телефон</td>\n",
              "      <td>10</td>\n",
              "    </tr>\n",
              "    <tr>\n",
              "      <th>403</th>\n",
              "      <td>Телефоны</td>\n",
              "      <td>Продаётся телефон</td>\n",
              "      <td>10</td>\n",
              "    </tr>\n",
              "    <tr>\n",
              "      <th>451</th>\n",
              "      <td>Телефоны</td>\n",
              "      <td>Телефон</td>\n",
              "      <td>10</td>\n",
              "    </tr>\n",
              "    <tr>\n",
              "      <th>776</th>\n",
              "      <td>Телефоны</td>\n",
              "      <td>Телефон 3</td>\n",
              "      <td>10</td>\n",
              "    </tr>\n",
              "    <tr>\n",
              "      <th>1335</th>\n",
              "      <td>Телефоны</td>\n",
              "      <td>Сотовый телефон 5</td>\n",
              "      <td>10</td>\n",
              "    </tr>\n",
              "    <tr>\n",
              "      <th>1615</th>\n",
              "      <td>Телефоны</td>\n",
              "      <td>Телефон</td>\n",
              "      <td>10</td>\n",
              "    </tr>\n",
              "    <tr>\n",
              "      <th>1871</th>\n",
              "      <td>Товары для детей и игрушки</td>\n",
              "      <td>Телефон</td>\n",
              "      <td>10</td>\n",
              "    </tr>\n",
              "    <tr>\n",
              "      <th>2069</th>\n",
              "      <td>Телефоны</td>\n",
              "      <td>Телефон</td>\n",
              "      <td>10</td>\n",
              "    </tr>\n",
              "    <tr>\n",
              "      <th>2132</th>\n",
              "      <td>Телефоны</td>\n",
              "      <td>Телефоны</td>\n",
              "      <td>10</td>\n",
              "    </tr>\n",
              "    <tr>\n",
              "      <th>2416</th>\n",
              "      <td>Телефоны</td>\n",
              "      <td>Продам телефон</td>\n",
              "      <td>10</td>\n",
              "    </tr>\n",
              "  </tbody>\n",
              "</table>\n",
              "</div>"
            ],
            "text/plain": [
              "                   category_name              title  claster\n",
              "207                     Телефоны           Телефон        10\n",
              "403                     Телефоны  Продаётся телефон       10\n",
              "451                     Телефоны            Телефон       10\n",
              "776                     Телефоны          Телефон 3       10\n",
              "1335                    Телефоны  Сотовый телефон 5       10\n",
              "1615                    Телефоны           Телефон        10\n",
              "1871  Товары для детей и игрушки           Телефон        10\n",
              "2069                    Телефоны            Телефон       10\n",
              "2132                    Телефоны           Телефоны       10\n",
              "2416                    Телефоны     Продам телефон       10"
            ]
          },
          "metadata": {
            "tags": []
          },
          "execution_count": 48
        }
      ]
    },
    {
      "cell_type": "code",
      "metadata": {
        "id": "WcYoNU57h7tb",
        "colab_type": "code",
        "colab": {
          "base_uri": "https://localhost:8080/",
          "height": 347
        },
        "outputId": "f77bab74-2923-429d-8c75-bbc6564a0a18"
      },
      "source": [
        "sample[sample.claster==5].head(10)"
      ],
      "execution_count": 49,
      "outputs": [
        {
          "output_type": "execute_result",
          "data": {
            "text/html": [
              "<div>\n",
              "<style scoped>\n",
              "    .dataframe tbody tr th:only-of-type {\n",
              "        vertical-align: middle;\n",
              "    }\n",
              "\n",
              "    .dataframe tbody tr th {\n",
              "        vertical-align: top;\n",
              "    }\n",
              "\n",
              "    .dataframe thead th {\n",
              "        text-align: right;\n",
              "    }\n",
              "</style>\n",
              "<table border=\"1\" class=\"dataframe\">\n",
              "  <thead>\n",
              "    <tr style=\"text-align: right;\">\n",
              "      <th></th>\n",
              "      <th>category_name</th>\n",
              "      <th>title</th>\n",
              "      <th>claster</th>\n",
              "    </tr>\n",
              "  </thead>\n",
              "  <tbody>\n",
              "    <tr>\n",
              "      <th>158</th>\n",
              "      <td>Товары для детей и игрушки</td>\n",
              "      <td>Коляска</td>\n",
              "      <td>5</td>\n",
              "    </tr>\n",
              "    <tr>\n",
              "      <th>408</th>\n",
              "      <td>Товары для детей и игрушки</td>\n",
              "      <td>Коляска</td>\n",
              "      <td>5</td>\n",
              "    </tr>\n",
              "    <tr>\n",
              "      <th>509</th>\n",
              "      <td>Товары для детей и игрушки</td>\n",
              "      <td>Коляска</td>\n",
              "      <td>5</td>\n",
              "    </tr>\n",
              "    <tr>\n",
              "      <th>785</th>\n",
              "      <td>Красота и здоровье</td>\n",
              "      <td>Коляска инвалидная</td>\n",
              "      <td>5</td>\n",
              "    </tr>\n",
              "    <tr>\n",
              "      <th>1005</th>\n",
              "      <td>Товары для детей и игрушки</td>\n",
              "      <td>Коляска 2 в 1</td>\n",
              "      <td>5</td>\n",
              "    </tr>\n",
              "    <tr>\n",
              "      <th>1092</th>\n",
              "      <td>Товары для детей и игрушки</td>\n",
              "      <td>Коляска</td>\n",
              "      <td>5</td>\n",
              "    </tr>\n",
              "    <tr>\n",
              "      <th>1233</th>\n",
              "      <td>Товары для детей и игрушки</td>\n",
              "      <td>Коляска 2в1</td>\n",
              "      <td>5</td>\n",
              "    </tr>\n",
              "    <tr>\n",
              "      <th>1303</th>\n",
              "      <td>Товары для детей и игрушки</td>\n",
              "      <td>Коляска</td>\n",
              "      <td>5</td>\n",
              "    </tr>\n",
              "    <tr>\n",
              "      <th>1364</th>\n",
              "      <td>Товары для детей и игрушки</td>\n",
              "      <td>Коляска капелла</td>\n",
              "      <td>5</td>\n",
              "    </tr>\n",
              "    <tr>\n",
              "      <th>1727</th>\n",
              "      <td>Товары для детей и игрушки</td>\n",
              "      <td>Санки-коляска</td>\n",
              "      <td>5</td>\n",
              "    </tr>\n",
              "  </tbody>\n",
              "</table>\n",
              "</div>"
            ],
            "text/plain": [
              "                   category_name               title  claster\n",
              "158   Товары для детей и игрушки            Коляска         5\n",
              "408   Товары для детей и игрушки             Коляска        5\n",
              "509   Товары для детей и игрушки             Коляска        5\n",
              "785           Красота и здоровье  Коляска инвалидная        5\n",
              "1005  Товары для детей и игрушки       Коляска 2 в 1        5\n",
              "1092  Товары для детей и игрушки             Коляска        5\n",
              "1233  Товары для детей и игрушки         Коляска 2в1        5\n",
              "1303  Товары для детей и игрушки             Коляска        5\n",
              "1364  Товары для детей и игрушки     Коляска капелла        5\n",
              "1727  Товары для детей и игрушки      Санки-коляска         5"
            ]
          },
          "metadata": {
            "tags": []
          },
          "execution_count": 49
        }
      ]
    },
    {
      "cell_type": "markdown",
      "metadata": {
        "id": "d4p2tm2niBqe",
        "colab_type": "text"
      },
      "source": [
        "Либо результат работает хорошо, либо я не наткнулась на кластер, который выделен плохо."
      ]
    },
    {
      "cell_type": "code",
      "metadata": {
        "id": "264VKuWaiq8E",
        "colab_type": "code",
        "colab": {}
      },
      "source": [
        "KMeans1 = KMeans(n_clusters=50)\n",
        "KMeans2 = KMeans(n_clusters=100)"
      ],
      "execution_count": 0,
      "outputs": []
    },
    {
      "cell_type": "code",
      "metadata": {
        "id": "gp0CCG-oi9vk",
        "colab_type": "code",
        "colab": {}
      },
      "source": [
        "svd = TruncatedSVD(50)\n",
        "def test_vectorizer(cv, claster):\n",
        "  X = cv.fit_transform(sample['title'])\n",
        "  X_svd = svd.fit_transform(X)\n",
        "  claster.fit(X_svd)\n",
        "  labels = claster.labels_\n",
        "  print(\"Homogeneity: %0.3f\" % metrics.homogeneity_score(y, labels))\n",
        "  print(\"Completeness: %0.3f\" % metrics.completeness_score(y, labels))\n",
        "  print(\"V-measure: %0.3f\" % metrics.v_measure_score(y, labels))\n",
        "  print(\"Adjusted Rand Index: %0.3f\" % metrics.adjusted_rand_score(y, labels))\n",
        "  print(\"Adjusted Mutual Information: %0.3f\" % metrics.adjusted_mutual_info_score(y, labels))"
      ],
      "execution_count": 0,
      "outputs": []
    },
    {
      "cell_type": "code",
      "metadata": {
        "id": "mBt7R29ajZkn",
        "colab_type": "code",
        "colab": {
          "base_uri": "https://localhost:8080/",
          "height": 105
        },
        "outputId": "3dddd557-17c5-47bf-f983-5232f93652b8"
      },
      "source": [
        "test_vectorizer(cv1, KMeans1)"
      ],
      "execution_count": 54,
      "outputs": [
        {
          "output_type": "stream",
          "text": [
            "Homogeneity: 0.303\n",
            "Completeness: 0.387\n",
            "V-measure: 0.340\n",
            "Adjusted Rand Index: -0.014\n",
            "Adjusted Mutual Information: 0.259\n"
          ],
          "name": "stdout"
        }
      ]
    },
    {
      "cell_type": "code",
      "metadata": {
        "id": "H37PtO2RjrhM",
        "colab_type": "code",
        "colab": {
          "base_uri": "https://localhost:8080/",
          "height": 105
        },
        "outputId": "83d6e5ea-6043-498b-b18f-d3307a5d11b4"
      },
      "source": [
        "test_vectorizer(cv1, KMeans2)"
      ],
      "execution_count": 55,
      "outputs": [
        {
          "output_type": "stream",
          "text": [
            "Homogeneity: 0.335\n",
            "Completeness: 0.372\n",
            "V-measure: 0.352\n",
            "Adjusted Rand Index: -0.016\n",
            "Adjusted Mutual Information: 0.239\n"
          ],
          "name": "stdout"
        }
      ]
    },
    {
      "cell_type": "code",
      "metadata": {
        "id": "02vXZuy_jw_G",
        "colab_type": "code",
        "colab": {
          "base_uri": "https://localhost:8080/",
          "height": 105
        },
        "outputId": "4d9138e5-e725-44d8-b407-c8ed50b04cba"
      },
      "source": [
        "test_vectorizer(cv2, KMeans1)"
      ],
      "execution_count": 56,
      "outputs": [
        {
          "output_type": "stream",
          "text": [
            "Homogeneity: 0.288\n",
            "Completeness: 0.382\n",
            "V-measure: 0.328\n",
            "Adjusted Rand Index: -0.011\n",
            "Adjusted Mutual Information: 0.249\n"
          ],
          "name": "stdout"
        }
      ]
    },
    {
      "cell_type": "code",
      "metadata": {
        "id": "x42KCTLij1UZ",
        "colab_type": "code",
        "colab": {
          "base_uri": "https://localhost:8080/",
          "height": 105
        },
        "outputId": "a1632752-49f1-4524-d1f8-e745c6f7c9b1"
      },
      "source": [
        "test_vectorizer(cv1, KMeans2)"
      ],
      "execution_count": 57,
      "outputs": [
        {
          "output_type": "stream",
          "text": [
            "Homogeneity: 0.334\n",
            "Completeness: 0.371\n",
            "V-measure: 0.352\n",
            "Adjusted Rand Index: -0.020\n",
            "Adjusted Mutual Information: 0.238\n"
          ],
          "name": "stdout"
        }
      ]
    },
    {
      "cell_type": "code",
      "metadata": {
        "id": "cYQ1PWXcj6UG",
        "colab_type": "code",
        "colab": {
          "base_uri": "https://localhost:8080/",
          "height": 105
        },
        "outputId": "7e8a8f4a-3bed-45a6-8b7a-259986730b4c"
      },
      "source": [
        "test_vectorizer(cv3, KMeans1)"
      ],
      "execution_count": 58,
      "outputs": [
        {
          "output_type": "stream",
          "text": [
            "Homogeneity: 0.033\n",
            "Completeness: 0.449\n",
            "V-measure: 0.061\n",
            "Adjusted Rand Index: 0.006\n",
            "Adjusted Mutual Information: 0.018\n"
          ],
          "name": "stdout"
        }
      ]
    },
    {
      "cell_type": "code",
      "metadata": {
        "id": "6eRlKhsfj-aB",
        "colab_type": "code",
        "colab": {
          "base_uri": "https://localhost:8080/",
          "height": 105
        },
        "outputId": "db143d46-68fb-4d87-fafb-fb23bb210f30"
      },
      "source": [
        "test_vectorizer(cv1, KMeans2)"
      ],
      "execution_count": 59,
      "outputs": [
        {
          "output_type": "stream",
          "text": [
            "Homogeneity: 0.334\n",
            "Completeness: 0.370\n",
            "V-measure: 0.351\n",
            "Adjusted Rand Index: -0.014\n",
            "Adjusted Mutual Information: 0.240\n"
          ],
          "name": "stdout"
        }
      ]
    },
    {
      "cell_type": "code",
      "metadata": {
        "id": "NY1NkLLPkEcK",
        "colab_type": "code",
        "colab": {
          "base_uri": "https://localhost:8080/",
          "height": 105
        },
        "outputId": "f4e848b9-e763-4591-f7cd-da049a801983"
      },
      "source": [
        "test_vectorizer(cv4, KMeans1)"
      ],
      "execution_count": 60,
      "outputs": [
        {
          "output_type": "stream",
          "text": [
            "Homogeneity: 0.381\n",
            "Completeness: 0.355\n",
            "V-measure: 0.368\n",
            "Adjusted Rand Index: 0.072\n",
            "Adjusted Mutual Information: 0.290\n"
          ],
          "name": "stdout"
        }
      ]
    },
    {
      "cell_type": "code",
      "metadata": {
        "id": "UB67gN0UkJBK",
        "colab_type": "code",
        "colab": {
          "base_uri": "https://localhost:8080/",
          "height": 105
        },
        "outputId": "132fcfea-fe36-4b40-cbce-8f1b2a5bd6c1"
      },
      "source": [
        "test_vectorizer(cv1, KMeans2)"
      ],
      "execution_count": 61,
      "outputs": [
        {
          "output_type": "stream",
          "text": [
            "Homogeneity: 0.334\n",
            "Completeness: 0.369\n",
            "V-measure: 0.351\n",
            "Adjusted Rand Index: -0.018\n",
            "Adjusted Mutual Information: 0.238\n"
          ],
          "name": "stdout"
        }
      ]
    },
    {
      "cell_type": "code",
      "metadata": {
        "id": "5C3aX5TUkODw",
        "colab_type": "code",
        "colab": {}
      },
      "source": [
        "sample.drop(['claster'], axis=1)"
      ],
      "execution_count": 0,
      "outputs": []
    },
    {
      "cell_type": "markdown",
      "metadata": {
        "id": "KAS6akIjk6g_",
        "colab_type": "text"
      },
      "source": [
        "Проверять модель на символьных n-грамах будем без английского текста"
      ]
    },
    {
      "cell_type": "code",
      "metadata": {
        "id": "LqHUZdLEkZeW",
        "colab_type": "code",
        "colab": {}
      },
      "source": [
        "cv = cv4\n",
        "cluster = KMeans1\n",
        "X = cv.fit_transform(sample_no_english['title'])\n",
        "X_svd = svd.fit_transform(X)\n",
        "cluster.fit(X_svd)\n",
        "sample_no_english['cluster'] = cluster.labels_"
      ],
      "execution_count": 0,
      "outputs": []
    },
    {
      "cell_type": "code",
      "metadata": {
        "id": "nAmRhP-ZlMaB",
        "colab_type": "code",
        "colab": {
          "base_uri": "https://localhost:8080/",
          "height": 347
        },
        "outputId": "771c024f-778e-4737-f34c-da7a4edce161"
      },
      "source": [
        "sample_no_english[sample_no_english.cluster==15].head(10)"
      ],
      "execution_count": 66,
      "outputs": [
        {
          "output_type": "execute_result",
          "data": {
            "text/html": [
              "<div>\n",
              "<style scoped>\n",
              "    .dataframe tbody tr th:only-of-type {\n",
              "        vertical-align: middle;\n",
              "    }\n",
              "\n",
              "    .dataframe tbody tr th {\n",
              "        vertical-align: top;\n",
              "    }\n",
              "\n",
              "    .dataframe thead th {\n",
              "        text-align: right;\n",
              "    }\n",
              "</style>\n",
              "<table border=\"1\" class=\"dataframe\">\n",
              "  <thead>\n",
              "    <tr style=\"text-align: right;\">\n",
              "      <th></th>\n",
              "      <th>category_name</th>\n",
              "      <th>title</th>\n",
              "      <th>claster</th>\n",
              "      <th>cluster</th>\n",
              "    </tr>\n",
              "  </thead>\n",
              "  <tbody>\n",
              "    <tr>\n",
              "      <th>22</th>\n",
              "      <td>Детская одежда и обувь</td>\n",
              "      <td>Платье</td>\n",
              "      <td>35</td>\n",
              "      <td>15</td>\n",
              "    </tr>\n",
              "    <tr>\n",
              "      <th>146</th>\n",
              "      <td>Одежда, обувь, аксессуары</td>\n",
              "      <td>Платье</td>\n",
              "      <td>35</td>\n",
              "      <td>15</td>\n",
              "    </tr>\n",
              "    <tr>\n",
              "      <th>167</th>\n",
              "      <td>Детская одежда и обувь</td>\n",
              "      <td>Платье</td>\n",
              "      <td>35</td>\n",
              "      <td>15</td>\n",
              "    </tr>\n",
              "    <tr>\n",
              "      <th>249</th>\n",
              "      <td>Одежда, обувь, аксессуары</td>\n",
              "      <td>Платье</td>\n",
              "      <td>35</td>\n",
              "      <td>15</td>\n",
              "    </tr>\n",
              "    <tr>\n",
              "      <th>251</th>\n",
              "      <td>Одежда, обувь, аксессуары</td>\n",
              "      <td>Платье</td>\n",
              "      <td>35</td>\n",
              "      <td>15</td>\n",
              "    </tr>\n",
              "    <tr>\n",
              "      <th>287</th>\n",
              "      <td>Одежда, обувь, аксессуары</td>\n",
              "      <td>Платье</td>\n",
              "      <td>35</td>\n",
              "      <td>15</td>\n",
              "    </tr>\n",
              "    <tr>\n",
              "      <th>516</th>\n",
              "      <td>Одежда, обувь, аксессуары</td>\n",
              "      <td>Платье</td>\n",
              "      <td>35</td>\n",
              "      <td>15</td>\n",
              "    </tr>\n",
              "    <tr>\n",
              "      <th>529</th>\n",
              "      <td>Одежда, обувь, аксессуары</td>\n",
              "      <td>Платье</td>\n",
              "      <td>35</td>\n",
              "      <td>15</td>\n",
              "    </tr>\n",
              "    <tr>\n",
              "      <th>592</th>\n",
              "      <td>Детская одежда и обувь</td>\n",
              "      <td>Платье</td>\n",
              "      <td>35</td>\n",
              "      <td>15</td>\n",
              "    </tr>\n",
              "    <tr>\n",
              "      <th>600</th>\n",
              "      <td>Одежда, обувь, аксессуары</td>\n",
              "      <td>Платье</td>\n",
              "      <td>35</td>\n",
              "      <td>15</td>\n",
              "    </tr>\n",
              "  </tbody>\n",
              "</table>\n",
              "</div>"
            ],
            "text/plain": [
              "                 category_name    title  claster  cluster\n",
              "22      Детская одежда и обувь   Платье       35       15\n",
              "146  Одежда, обувь, аксессуары   Платье       35       15\n",
              "167     Детская одежда и обувь  Платье        35       15\n",
              "249  Одежда, обувь, аксессуары   Платье       35       15\n",
              "251  Одежда, обувь, аксессуары  Платье        35       15\n",
              "287  Одежда, обувь, аксессуары   Платье       35       15\n",
              "516  Одежда, обувь, аксессуары   Платье       35       15\n",
              "529  Одежда, обувь, аксессуары   Платье       35       15\n",
              "592     Детская одежда и обувь   Платье       35       15\n",
              "600  Одежда, обувь, аксессуары   Платье       35       15"
            ]
          },
          "metadata": {
            "tags": []
          },
          "execution_count": 66
        }
      ]
    },
    {
      "cell_type": "code",
      "metadata": {
        "id": "pvtVTJ5gk1vz",
        "colab_type": "code",
        "colab": {
          "base_uri": "https://localhost:8080/",
          "height": 347
        },
        "outputId": "13624a9a-ec42-49ad-b496-e2cf81311710"
      },
      "source": [
        "sample_no_english[sample_no_english.cluster==1].head(10)"
      ],
      "execution_count": 67,
      "outputs": [
        {
          "output_type": "execute_result",
          "data": {
            "text/html": [
              "<div>\n",
              "<style scoped>\n",
              "    .dataframe tbody tr th:only-of-type {\n",
              "        vertical-align: middle;\n",
              "    }\n",
              "\n",
              "    .dataframe tbody tr th {\n",
              "        vertical-align: top;\n",
              "    }\n",
              "\n",
              "    .dataframe thead th {\n",
              "        text-align: right;\n",
              "    }\n",
              "</style>\n",
              "<table border=\"1\" class=\"dataframe\">\n",
              "  <thead>\n",
              "    <tr style=\"text-align: right;\">\n",
              "      <th></th>\n",
              "      <th>category_name</th>\n",
              "      <th>title</th>\n",
              "      <th>claster</th>\n",
              "      <th>cluster</th>\n",
              "    </tr>\n",
              "  </thead>\n",
              "  <tbody>\n",
              "    <tr>\n",
              "      <th>31</th>\n",
              "      <td>Ноутбуки</td>\n",
              "      <td>5310</td>\n",
              "      <td>13</td>\n",
              "      <td>1</td>\n",
              "    </tr>\n",
              "    <tr>\n",
              "      <th>58</th>\n",
              "      <td>Автомобили</td>\n",
              "      <td>- -класс, 1985</td>\n",
              "      <td>128</td>\n",
              "      <td>1</td>\n",
              "    </tr>\n",
              "    <tr>\n",
              "      <th>78</th>\n",
              "      <td>Ноутбуки</td>\n",
              "      <td>580 ( 5 3210 / 4 /500 / 635М)</td>\n",
              "      <td>13</td>\n",
              "      <td>1</td>\n",
              "    </tr>\n",
              "    <tr>\n",
              "      <th>98</th>\n",
              "      <td>Телефоны</td>\n",
              "      <td>516</td>\n",
              "      <td>13</td>\n",
              "      <td>1</td>\n",
              "    </tr>\n",
              "    <tr>\n",
              "      <th>121</th>\n",
              "      <td>Квартиры</td>\n",
              "      <td>Студия, 76 м², 5/11 эт.</td>\n",
              "      <td>13</td>\n",
              "      <td>1</td>\n",
              "    </tr>\n",
              "    <tr>\n",
              "      <th>286</th>\n",
              "      <td>Ноутбуки</td>\n",
              "      <td>655 12</td>\n",
              "      <td>13</td>\n",
              "      <td>1</td>\n",
              "    </tr>\n",
              "    <tr>\n",
              "      <th>306</th>\n",
              "      <td>Коллекционирование</td>\n",
              "      <td>Монета 1936 года</td>\n",
              "      <td>13</td>\n",
              "      <td>1</td>\n",
              "    </tr>\n",
              "    <tr>\n",
              "      <th>323</th>\n",
              "      <td>Гаражи и машиноместа</td>\n",
              "      <td>Машиноместо, 14 м²</td>\n",
              "      <td>60</td>\n",
              "      <td>1</td>\n",
              "    </tr>\n",
              "    <tr>\n",
              "      <th>335</th>\n",
              "      <td>Водный транспорт</td>\n",
              "      <td>Стингрей320 Меркури 15</td>\n",
              "      <td>13</td>\n",
              "      <td>1</td>\n",
              "    </tr>\n",
              "    <tr>\n",
              "      <th>348</th>\n",
              "      <td>Грузовики и спецтехника</td>\n",
              "      <td>114</td>\n",
              "      <td>13</td>\n",
              "      <td>1</td>\n",
              "    </tr>\n",
              "  </tbody>\n",
              "</table>\n",
              "</div>"
            ],
            "text/plain": [
              "               category_name                           title  claster  cluster\n",
              "31                  Ноутбуки                            5310       13        1\n",
              "58                Автомобили                  - -класс, 1985      128        1\n",
              "78                  Ноутбуки   580 ( 5 3210 / 4 /500 / 635М)       13        1\n",
              "98                  Телефоны                            516        13        1\n",
              "121                 Квартиры         Студия, 76 м², 5/11 эт.       13        1\n",
              "286                 Ноутбуки                          655 12       13        1\n",
              "306       Коллекционирование                Монета 1936 года       13        1\n",
              "323     Гаражи и машиноместа              Машиноместо, 14 м²       60        1\n",
              "335         Водный транспорт          Стингрей320 Меркури 15       13        1\n",
              "348  Грузовики и спецтехника                            114        13        1"
            ]
          },
          "metadata": {
            "tags": []
          },
          "execution_count": 67
        }
      ]
    },
    {
      "cell_type": "markdown",
      "metadata": {
        "id": "UaXBegvnllbZ",
        "colab_type": "text"
      },
      "source": [
        "Это была плохая идея, так как техника превращается в числа. Возьмём данные с английским текстом"
      ]
    },
    {
      "cell_type": "code",
      "metadata": {
        "id": "LLJ9hbGdlsot",
        "colab_type": "code",
        "colab": {}
      },
      "source": [
        "cv = cv4\n",
        "cluster = KMeans1\n",
        "X = cv.fit_transform(sample['title'])\n",
        "X_svd = svd.fit_transform(X)\n",
        "cluster.fit(X_svd)\n",
        "sample['cluster'] = cluster.labels_"
      ],
      "execution_count": 0,
      "outputs": []
    },
    {
      "cell_type": "code",
      "metadata": {
        "id": "DktJxEuVli7j",
        "colab_type": "code",
        "colab": {
          "base_uri": "https://localhost:8080/",
          "height": 347
        },
        "outputId": "d9c8bf15-567b-4d1f-d0c0-b4800769272e"
      },
      "source": [
        "sample[sample.cluster==15].head(10)"
      ],
      "execution_count": 69,
      "outputs": [
        {
          "output_type": "execute_result",
          "data": {
            "text/html": [
              "<div>\n",
              "<style scoped>\n",
              "    .dataframe tbody tr th:only-of-type {\n",
              "        vertical-align: middle;\n",
              "    }\n",
              "\n",
              "    .dataframe tbody tr th {\n",
              "        vertical-align: top;\n",
              "    }\n",
              "\n",
              "    .dataframe thead th {\n",
              "        text-align: right;\n",
              "    }\n",
              "</style>\n",
              "<table border=\"1\" class=\"dataframe\">\n",
              "  <thead>\n",
              "    <tr style=\"text-align: right;\">\n",
              "      <th></th>\n",
              "      <th>category_name</th>\n",
              "      <th>title</th>\n",
              "      <th>claster</th>\n",
              "      <th>cluster</th>\n",
              "    </tr>\n",
              "  </thead>\n",
              "  <tbody>\n",
              "    <tr>\n",
              "      <th>22</th>\n",
              "      <td>Детская одежда и обувь</td>\n",
              "      <td>Платье</td>\n",
              "      <td>35</td>\n",
              "      <td>15</td>\n",
              "    </tr>\n",
              "    <tr>\n",
              "      <th>146</th>\n",
              "      <td>Одежда, обувь, аксессуары</td>\n",
              "      <td>Платье</td>\n",
              "      <td>35</td>\n",
              "      <td>15</td>\n",
              "    </tr>\n",
              "    <tr>\n",
              "      <th>167</th>\n",
              "      <td>Детская одежда и обувь</td>\n",
              "      <td>Платье</td>\n",
              "      <td>35</td>\n",
              "      <td>15</td>\n",
              "    </tr>\n",
              "    <tr>\n",
              "      <th>249</th>\n",
              "      <td>Одежда, обувь, аксессуары</td>\n",
              "      <td>Платье</td>\n",
              "      <td>35</td>\n",
              "      <td>15</td>\n",
              "    </tr>\n",
              "    <tr>\n",
              "      <th>251</th>\n",
              "      <td>Одежда, обувь, аксессуары</td>\n",
              "      <td>Платье</td>\n",
              "      <td>35</td>\n",
              "      <td>15</td>\n",
              "    </tr>\n",
              "    <tr>\n",
              "      <th>287</th>\n",
              "      <td>Одежда, обувь, аксессуары</td>\n",
              "      <td>Платье</td>\n",
              "      <td>35</td>\n",
              "      <td>15</td>\n",
              "    </tr>\n",
              "    <tr>\n",
              "      <th>516</th>\n",
              "      <td>Одежда, обувь, аксессуары</td>\n",
              "      <td>Платье</td>\n",
              "      <td>35</td>\n",
              "      <td>15</td>\n",
              "    </tr>\n",
              "    <tr>\n",
              "      <th>529</th>\n",
              "      <td>Одежда, обувь, аксессуары</td>\n",
              "      <td>Платье</td>\n",
              "      <td>35</td>\n",
              "      <td>15</td>\n",
              "    </tr>\n",
              "    <tr>\n",
              "      <th>592</th>\n",
              "      <td>Детская одежда и обувь</td>\n",
              "      <td>Платье</td>\n",
              "      <td>35</td>\n",
              "      <td>15</td>\n",
              "    </tr>\n",
              "    <tr>\n",
              "      <th>600</th>\n",
              "      <td>Одежда, обувь, аксессуары</td>\n",
              "      <td>Платье</td>\n",
              "      <td>35</td>\n",
              "      <td>15</td>\n",
              "    </tr>\n",
              "  </tbody>\n",
              "</table>\n",
              "</div>"
            ],
            "text/plain": [
              "                 category_name    title  claster  cluster\n",
              "22      Детская одежда и обувь   Платье       35       15\n",
              "146  Одежда, обувь, аксессуары   Платье       35       15\n",
              "167     Детская одежда и обувь  Платье        35       15\n",
              "249  Одежда, обувь, аксессуары   Платье       35       15\n",
              "251  Одежда, обувь, аксессуары  Платье        35       15\n",
              "287  Одежда, обувь, аксессуары   Платье       35       15\n",
              "516  Одежда, обувь, аксессуары   Платье       35       15\n",
              "529  Одежда, обувь, аксессуары   Платье       35       15\n",
              "592     Детская одежда и обувь   Платье       35       15\n",
              "600  Одежда, обувь, аксессуары   Платье       35       15"
            ]
          },
          "metadata": {
            "tags": []
          },
          "execution_count": 69
        }
      ]
    },
    {
      "cell_type": "code",
      "metadata": {
        "id": "5JFc09Nol9bO",
        "colab_type": "code",
        "colab": {
          "base_uri": "https://localhost:8080/",
          "height": 347
        },
        "outputId": "60b2d4b1-25b8-4518-af1c-0cfe910922af"
      },
      "source": [
        "sample[sample.cluster==10].head(10)"
      ],
      "execution_count": 70,
      "outputs": [
        {
          "output_type": "execute_result",
          "data": {
            "text/html": [
              "<div>\n",
              "<style scoped>\n",
              "    .dataframe tbody tr th:only-of-type {\n",
              "        vertical-align: middle;\n",
              "    }\n",
              "\n",
              "    .dataframe tbody tr th {\n",
              "        vertical-align: top;\n",
              "    }\n",
              "\n",
              "    .dataframe thead th {\n",
              "        text-align: right;\n",
              "    }\n",
              "</style>\n",
              "<table border=\"1\" class=\"dataframe\">\n",
              "  <thead>\n",
              "    <tr style=\"text-align: right;\">\n",
              "      <th></th>\n",
              "      <th>category_name</th>\n",
              "      <th>title</th>\n",
              "      <th>claster</th>\n",
              "      <th>cluster</th>\n",
              "    </tr>\n",
              "  </thead>\n",
              "  <tbody>\n",
              "    <tr>\n",
              "      <th>1</th>\n",
              "      <td>Предложение услуг</td>\n",
              "      <td>Монолитные перекрытия. Своя опалубка</td>\n",
              "      <td>13</td>\n",
              "      <td>10</td>\n",
              "    </tr>\n",
              "    <tr>\n",
              "      <th>2</th>\n",
              "      <td>Детская одежда и обувь</td>\n",
              "      <td>Конверт на выписку</td>\n",
              "      <td>64</td>\n",
              "      <td>10</td>\n",
              "    </tr>\n",
              "    <tr>\n",
              "      <th>4</th>\n",
              "      <td>Красота и здоровье</td>\n",
              "      <td>Косметика</td>\n",
              "      <td>13</td>\n",
              "      <td>10</td>\n",
              "    </tr>\n",
              "    <tr>\n",
              "      <th>5</th>\n",
              "      <td>Ремонт и строительство</td>\n",
              "      <td>Новое Окно металлопластиковое трехстворчатое</td>\n",
              "      <td>13</td>\n",
              "      <td>10</td>\n",
              "    </tr>\n",
              "    <tr>\n",
              "      <th>12</th>\n",
              "      <td>Книги и журналы</td>\n",
              "      <td>Грегори Киз \"Век безумия\"</td>\n",
              "      <td>13</td>\n",
              "      <td>10</td>\n",
              "    </tr>\n",
              "    <tr>\n",
              "      <th>13</th>\n",
              "      <td>Мебель и интерьер</td>\n",
              "      <td>155 Новый диван книжка Велюр. От производителя</td>\n",
              "      <td>13</td>\n",
              "      <td>10</td>\n",
              "    </tr>\n",
              "    <tr>\n",
              "      <th>17</th>\n",
              "      <td>Одежда, обувь, аксессуары</td>\n",
              "      <td>Топ на любой размер</td>\n",
              "      <td>13</td>\n",
              "      <td>10</td>\n",
              "    </tr>\n",
              "    <tr>\n",
              "      <th>18</th>\n",
              "      <td>Мебель и интерьер</td>\n",
              "      <td>Диван и 2 кресла</td>\n",
              "      <td>13</td>\n",
              "      <td>10</td>\n",
              "    </tr>\n",
              "    <tr>\n",
              "      <th>21</th>\n",
              "      <td>Часы и украшения</td>\n",
              "      <td>Часы наручные эксклюзив франция середина 20 века</td>\n",
              "      <td>13</td>\n",
              "      <td>10</td>\n",
              "    </tr>\n",
              "    <tr>\n",
              "      <th>24</th>\n",
              "      <td>Предложение услуг</td>\n",
              "      <td>Изготовление и монтаж ограждений из нержавеюще...</td>\n",
              "      <td>13</td>\n",
              "      <td>10</td>\n",
              "    </tr>\n",
              "  </tbody>\n",
              "</table>\n",
              "</div>"
            ],
            "text/plain": [
              "                category_name  ... cluster\n",
              "1           Предложение услуг  ...      10\n",
              "2      Детская одежда и обувь  ...      10\n",
              "4          Красота и здоровье  ...      10\n",
              "5      Ремонт и строительство  ...      10\n",
              "12            Книги и журналы  ...      10\n",
              "13          Мебель и интерьер  ...      10\n",
              "17  Одежда, обувь, аксессуары  ...      10\n",
              "18          Мебель и интерьер  ...      10\n",
              "21           Часы и украшения  ...      10\n",
              "24          Предложение услуг  ...      10\n",
              "\n",
              "[10 rows x 4 columns]"
            ]
          },
          "metadata": {
            "tags": []
          },
          "execution_count": 70
        }
      ]
    },
    {
      "cell_type": "markdown",
      "metadata": {
        "id": "1hzFTNO5nutP",
        "colab_type": "text"
      },
      "source": [
        "В 10 кластер попало всё подряд"
      ]
    },
    {
      "cell_type": "code",
      "metadata": {
        "id": "q8guto11n6N5",
        "colab_type": "code",
        "colab": {
          "base_uri": "https://localhost:8080/",
          "height": 105
        },
        "outputId": "cc1ff84d-e182-48f3-f331-deec4a2a1dad"
      },
      "source": [
        "test_vectorizer(tfidf1, KMeans1)"
      ],
      "execution_count": 71,
      "outputs": [
        {
          "output_type": "stream",
          "text": [
            "Homogeneity: 0.322\n",
            "Completeness: 0.393\n",
            "V-measure: 0.354\n",
            "Adjusted Rand Index: -0.014\n",
            "Adjusted Mutual Information: 0.273\n"
          ],
          "name": "stdout"
        }
      ]
    },
    {
      "cell_type": "code",
      "metadata": {
        "id": "vDPRLd2Zn_pA",
        "colab_type": "code",
        "colab": {
          "base_uri": "https://localhost:8080/",
          "height": 105
        },
        "outputId": "1c09b007-fd12-493b-bdb3-505668f58024"
      },
      "source": [
        "test_vectorizer(tfidf1, KMeans2)"
      ],
      "execution_count": 72,
      "outputs": [
        {
          "output_type": "stream",
          "text": [
            "Homogeneity: 0.358\n",
            "Completeness: 0.378\n",
            "V-measure: 0.368\n",
            "Adjusted Rand Index: -0.022\n",
            "Adjusted Mutual Information: 0.252\n"
          ],
          "name": "stdout"
        }
      ]
    },
    {
      "cell_type": "code",
      "metadata": {
        "id": "DOO_igVKoFeH",
        "colab_type": "code",
        "colab": {
          "base_uri": "https://localhost:8080/",
          "height": 105
        },
        "outputId": "a07e6a7b-e22b-4656-9946-6944c742f4fa"
      },
      "source": [
        "test_vectorizer(tfidf2, KMeans1)"
      ],
      "execution_count": 73,
      "outputs": [
        {
          "output_type": "stream",
          "text": [
            "Homogeneity: 0.287\n",
            "Completeness: 0.391\n",
            "V-measure: 0.331\n",
            "Adjusted Rand Index: -0.024\n",
            "Adjusted Mutual Information: 0.250\n"
          ],
          "name": "stdout"
        }
      ]
    },
    {
      "cell_type": "code",
      "metadata": {
        "id": "qVr83jzLoKV6",
        "colab_type": "code",
        "colab": {
          "base_uri": "https://localhost:8080/",
          "height": 105
        },
        "outputId": "d30b8554-b73c-41ed-bbd0-426d97d36cee"
      },
      "source": [
        "test_vectorizer(tfidf2, KMeans2)"
      ],
      "execution_count": 74,
      "outputs": [
        {
          "output_type": "stream",
          "text": [
            "Homogeneity: 0.338\n",
            "Completeness: 0.363\n",
            "V-measure: 0.350\n",
            "Adjusted Rand Index: -0.030\n",
            "Adjusted Mutual Information: 0.230\n"
          ],
          "name": "stdout"
        }
      ]
    },
    {
      "cell_type": "code",
      "metadata": {
        "id": "Syv3dlADoQkA",
        "colab_type": "code",
        "colab": {
          "base_uri": "https://localhost:8080/",
          "height": 105
        },
        "outputId": "b4a74401-3177-4985-fbad-7282bd2b0e95"
      },
      "source": [
        "test_vectorizer(tfidf3, KMeans1)"
      ],
      "execution_count": 75,
      "outputs": [
        {
          "output_type": "stream",
          "text": [
            "Homogeneity: 0.042\n",
            "Completeness: 0.271\n",
            "V-measure: 0.072\n",
            "Adjusted Rand Index: -0.001\n",
            "Adjusted Mutual Information: 0.012\n"
          ],
          "name": "stdout"
        }
      ]
    },
    {
      "cell_type": "code",
      "metadata": {
        "id": "Q_RcKnryoU65",
        "colab_type": "code",
        "colab": {
          "base_uri": "https://localhost:8080/",
          "height": 105
        },
        "outputId": "1434c624-ffd2-4060-e0be-bc1cf563ec82"
      },
      "source": [
        "test_vectorizer(tfidf1, KMeans2)"
      ],
      "execution_count": 76,
      "outputs": [
        {
          "output_type": "stream",
          "text": [
            "Homogeneity: 0.350\n",
            "Completeness: 0.372\n",
            "V-measure: 0.361\n",
            "Adjusted Rand Index: -0.025\n",
            "Adjusted Mutual Information: 0.244\n"
          ],
          "name": "stdout"
        }
      ]
    },
    {
      "cell_type": "code",
      "metadata": {
        "id": "-M5xICoMoaf8",
        "colab_type": "code",
        "colab": {
          "base_uri": "https://localhost:8080/",
          "height": 105
        },
        "outputId": "a72b2ec7-3b95-4dd2-e465-48492d98ede5"
      },
      "source": [
        "test_vectorizer(tfidf4, KMeans1)"
      ],
      "execution_count": 77,
      "outputs": [
        {
          "output_type": "stream",
          "text": [
            "Homogeneity: 0.392\n",
            "Completeness: 0.356\n",
            "V-measure: 0.373\n",
            "Adjusted Rand Index: 0.059\n",
            "Adjusted Mutual Information: 0.295\n"
          ],
          "name": "stdout"
        }
      ]
    },
    {
      "cell_type": "code",
      "metadata": {
        "id": "hDM6UbyEofzk",
        "colab_type": "code",
        "colab": {
          "base_uri": "https://localhost:8080/",
          "height": 105
        },
        "outputId": "5817f8aa-f333-45d0-e2c9-066c1fd1d522"
      },
      "source": [
        "test_vectorizer(tfidf4, KMeans2)"
      ],
      "execution_count": 78,
      "outputs": [
        {
          "output_type": "stream",
          "text": [
            "Homogeneity: 0.458\n",
            "Completeness: 0.343\n",
            "V-measure: 0.392\n",
            "Adjusted Rand Index: 0.056\n",
            "Adjusted Mutual Information: 0.276\n"
          ],
          "name": "stdout"
        }
      ]
    },
    {
      "cell_type": "markdown",
      "metadata": {
        "id": "tUS6skwYpM_2",
        "colab_type": "text"
      },
      "source": [
        "Выберем хорошую модель, где единица векторайзера - слова (символы посмотрела для cv)"
      ]
    },
    {
      "cell_type": "code",
      "metadata": {
        "id": "I3mNnUqeo-5c",
        "colab_type": "code",
        "colab": {}
      },
      "source": [
        "cv = tfidf2\n",
        "cluster = KMeans2\n",
        "X = cv.fit_transform(sample['title'])\n",
        "X_svd = svd.fit_transform(X)\n",
        "cluster.fit(X_svd)\n",
        "sample['cluster'] = cluster.labels_"
      ],
      "execution_count": 0,
      "outputs": []
    },
    {
      "cell_type": "code",
      "metadata": {
        "id": "UsajP8XlpIca",
        "colab_type": "code",
        "colab": {
          "base_uri": "https://localhost:8080/",
          "height": 287
        },
        "outputId": "97eb77f0-2709-4f69-abf8-df8916ee104a"
      },
      "source": [
        "sample[sample.cluster==10].head(10)"
      ],
      "execution_count": 80,
      "outputs": [
        {
          "output_type": "execute_result",
          "data": {
            "text/html": [
              "<div>\n",
              "<style scoped>\n",
              "    .dataframe tbody tr th:only-of-type {\n",
              "        vertical-align: middle;\n",
              "    }\n",
              "\n",
              "    .dataframe tbody tr th {\n",
              "        vertical-align: top;\n",
              "    }\n",
              "\n",
              "    .dataframe thead th {\n",
              "        text-align: right;\n",
              "    }\n",
              "</style>\n",
              "<table border=\"1\" class=\"dataframe\">\n",
              "  <thead>\n",
              "    <tr style=\"text-align: right;\">\n",
              "      <th></th>\n",
              "      <th>category_name</th>\n",
              "      <th>title</th>\n",
              "      <th>claster</th>\n",
              "      <th>cluster</th>\n",
              "    </tr>\n",
              "  </thead>\n",
              "  <tbody>\n",
              "    <tr>\n",
              "      <th>231</th>\n",
              "      <td>Одежда, обувь, аксессуары</td>\n",
              "      <td>Босоножки</td>\n",
              "      <td>113</td>\n",
              "      <td>10</td>\n",
              "    </tr>\n",
              "    <tr>\n",
              "      <th>514</th>\n",
              "      <td>Одежда, обувь, аксессуары</td>\n",
              "      <td>Босоножки</td>\n",
              "      <td>113</td>\n",
              "      <td>10</td>\n",
              "    </tr>\n",
              "    <tr>\n",
              "      <th>1071</th>\n",
              "      <td>Одежда, обувь, аксессуары</td>\n",
              "      <td>Босоножки</td>\n",
              "      <td>113</td>\n",
              "      <td>10</td>\n",
              "    </tr>\n",
              "    <tr>\n",
              "      <th>1714</th>\n",
              "      <td>Одежда, обувь, аксессуары</td>\n",
              "      <td>Босоножки</td>\n",
              "      <td>113</td>\n",
              "      <td>10</td>\n",
              "    </tr>\n",
              "    <tr>\n",
              "      <th>1819</th>\n",
              "      <td>Одежда, обувь, аксессуары</td>\n",
              "      <td>Босоножки</td>\n",
              "      <td>113</td>\n",
              "      <td>10</td>\n",
              "    </tr>\n",
              "    <tr>\n",
              "      <th>2046</th>\n",
              "      <td>Одежда, обувь, аксессуары</td>\n",
              "      <td>Босоножки</td>\n",
              "      <td>113</td>\n",
              "      <td>10</td>\n",
              "    </tr>\n",
              "    <tr>\n",
              "      <th>2098</th>\n",
              "      <td>Одежда, обувь, аксессуары</td>\n",
              "      <td>Босоножки</td>\n",
              "      <td>113</td>\n",
              "      <td>10</td>\n",
              "    </tr>\n",
              "    <tr>\n",
              "      <th>2269</th>\n",
              "      <td>Одежда, обувь, аксессуары</td>\n",
              "      <td>Босоножки</td>\n",
              "      <td>113</td>\n",
              "      <td>10</td>\n",
              "    </tr>\n",
              "  </tbody>\n",
              "</table>\n",
              "</div>"
            ],
            "text/plain": [
              "                  category_name      title  claster  cluster\n",
              "231   Одежда, обувь, аксессуары  Босоножки      113       10\n",
              "514   Одежда, обувь, аксессуары  Босоножки      113       10\n",
              "1071  Одежда, обувь, аксессуары  Босоножки      113       10\n",
              "1714  Одежда, обувь, аксессуары  Босоножки      113       10\n",
              "1819  Одежда, обувь, аксессуары  Босоножки      113       10\n",
              "2046  Одежда, обувь, аксессуары  Босоножки      113       10\n",
              "2098  Одежда, обувь, аксессуары  Босоножки      113       10\n",
              "2269  Одежда, обувь, аксессуары  Босоножки      113       10"
            ]
          },
          "metadata": {
            "tags": []
          },
          "execution_count": 80
        }
      ]
    },
    {
      "cell_type": "code",
      "metadata": {
        "id": "W7gIFZGepd3a",
        "colab_type": "code",
        "colab": {
          "base_uri": "https://localhost:8080/",
          "height": 137
        },
        "outputId": "97459a98-cc21-4191-a125-f1b9d53fbe7b"
      },
      "source": [
        "sample[sample.cluster==5].head(10)"
      ],
      "execution_count": 81,
      "outputs": [
        {
          "output_type": "execute_result",
          "data": {
            "text/html": [
              "<div>\n",
              "<style scoped>\n",
              "    .dataframe tbody tr th:only-of-type {\n",
              "        vertical-align: middle;\n",
              "    }\n",
              "\n",
              "    .dataframe tbody tr th {\n",
              "        vertical-align: top;\n",
              "    }\n",
              "\n",
              "    .dataframe thead th {\n",
              "        text-align: right;\n",
              "    }\n",
              "</style>\n",
              "<table border=\"1\" class=\"dataframe\">\n",
              "  <thead>\n",
              "    <tr style=\"text-align: right;\">\n",
              "      <th></th>\n",
              "      <th>category_name</th>\n",
              "      <th>title</th>\n",
              "      <th>claster</th>\n",
              "      <th>cluster</th>\n",
              "    </tr>\n",
              "  </thead>\n",
              "  <tbody>\n",
              "    <tr>\n",
              "      <th>16</th>\n",
              "      <td>Одежда, обувь, аксессуары</td>\n",
              "      <td>Продам туфли</td>\n",
              "      <td>50</td>\n",
              "      <td>5</td>\n",
              "    </tr>\n",
              "    <tr>\n",
              "      <th>744</th>\n",
              "      <td>Одежда, обувь, аксессуары</td>\n",
              "      <td>Продам туфли</td>\n",
              "      <td>50</td>\n",
              "      <td>5</td>\n",
              "    </tr>\n",
              "    <tr>\n",
              "      <th>765</th>\n",
              "      <td>Одежда, обувь, аксессуары</td>\n",
              "      <td>Продам туфли</td>\n",
              "      <td>50</td>\n",
              "      <td>5</td>\n",
              "    </tr>\n",
              "  </tbody>\n",
              "</table>\n",
              "</div>"
            ],
            "text/plain": [
              "                 category_name          title  claster  cluster\n",
              "16   Одежда, обувь, аксессуары   Продам туфли       50        5\n",
              "744  Одежда, обувь, аксессуары   Продам туфли       50        5\n",
              "765  Одежда, обувь, аксессуары  Продам туфли        50        5"
            ]
          },
          "metadata": {
            "tags": []
          },
          "execution_count": 81
        }
      ]
    },
    {
      "cell_type": "markdown",
      "metadata": {
        "id": "EFsAYEuHpjTU",
        "colab_type": "text"
      },
      "source": [
        "Биграмная модель не объединяет \"продам туфли\" и \"туфли\", если такие были"
      ]
    },
    {
      "cell_type": "markdown",
      "metadata": {
        "id": "UtRJS_9iqAFZ",
        "colab_type": "text"
      },
      "source": [
        "Возможно, стоило брать готовые векторы слов, обученные на текстах, потому что по заголовкам из одного-двух слов модель никак не может понять, что \"босоножки\" и \"туфли\" - это похожие вещи"
      ]
    },
    {
      "cell_type": "markdown",
      "metadata": {
        "id": "M8MTaa_8qbwQ",
        "colab_type": "text"
      },
      "source": [
        "Для tfidf- векторайзера и KMeans с количеством кластеров 50 попробуем другое матричное разложение (NMF). Будем оценивать только метрики, так как, чтобы сравнить модели кластеризации, а не просто оценить одну из них, нужно просмотреть все кластеры "
      ]
    },
    {
      "cell_type": "code",
      "metadata": {
        "id": "wX-BF4qBpzHM",
        "colab_type": "code",
        "colab": {}
      },
      "source": [
        "from sklearn.decomposition import NMF\n",
        "nmf = NMF(50)\n",
        "\n",
        "def test_NMF(vectorizer, cluster):\n",
        "  X = vectorizer.fit_transform(sample['title'])\n",
        "  X_nmf = nmf.fit_transform(X)\n",
        "  claster.fit(X_nmf)\n",
        "  labels = claster.labels_\n",
        "  print(\"Homogeneity: %0.3f\" % metrics.homogeneity_score(y, labels))\n",
        "  print(\"Completeness: %0.3f\" % metrics.completeness_score(y, labels))\n",
        "  print(\"V-measure: %0.3f\" % metrics.v_measure_score(y, labels))\n",
        "  print(\"Adjusted Rand Index: %0.3f\" % metrics.adjusted_rand_score(y, labels))\n",
        "  print(\"Adjusted Mutual Information: %0.3f\" % metrics.adjusted_mutual_info_score(y, labels))"
      ],
      "execution_count": 0,
      "outputs": []
    },
    {
      "cell_type": "code",
      "metadata": {
        "id": "ac_03PIOtQuY",
        "colab_type": "code",
        "colab": {
          "base_uri": "https://localhost:8080/",
          "height": 105
        },
        "outputId": "40cc3894-c16e-460e-dd77-ea71db75d9fb"
      },
      "source": [
        "test_NMF(tfidf1, KMeans1)"
      ],
      "execution_count": 84,
      "outputs": [
        {
          "output_type": "stream",
          "text": [
            "Homogeneity: 0.362\n",
            "Completeness: 0.359\n",
            "V-measure: 0.360\n",
            "Adjusted Rand Index: -0.030\n",
            "Adjusted Mutual Information: 0.219\n"
          ],
          "name": "stdout"
        }
      ]
    },
    {
      "cell_type": "code",
      "metadata": {
        "id": "LcfHrYgntTHa",
        "colab_type": "code",
        "colab": {
          "base_uri": "https://localhost:8080/",
          "height": 105
        },
        "outputId": "f2025f14-e891-44e4-d47f-1397e26bc2ce"
      },
      "source": [
        "test_NMF(tfidf2, KMeans1)"
      ],
      "execution_count": 85,
      "outputs": [
        {
          "output_type": "stream",
          "text": [
            "Homogeneity: 0.351\n",
            "Completeness: 0.353\n",
            "V-measure: 0.352\n",
            "Adjusted Rand Index: -0.031\n",
            "Adjusted Mutual Information: 0.215\n"
          ],
          "name": "stdout"
        }
      ]
    },
    {
      "cell_type": "code",
      "metadata": {
        "id": "FOmQJF9Btc6S",
        "colab_type": "code",
        "colab": {
          "base_uri": "https://localhost:8080/",
          "height": 105
        },
        "outputId": "dc8ba1b7-8041-4105-9099-a84288a47da5"
      },
      "source": [
        "test_NMF(tfidf3, KMeans1)"
      ],
      "execution_count": 86,
      "outputs": [
        {
          "output_type": "stream",
          "text": [
            "Homogeneity: 0.232\n",
            "Completeness: 0.258\n",
            "V-measure: 0.245\n",
            "Adjusted Rand Index: 0.056\n",
            "Adjusted Mutual Information: 0.075\n"
          ],
          "name": "stdout"
        }
      ]
    },
    {
      "cell_type": "code",
      "metadata": {
        "id": "MGaZjauEthYD",
        "colab_type": "code",
        "colab": {
          "base_uri": "https://localhost:8080/",
          "height": 105
        },
        "outputId": "3fef8f40-fc22-4b5b-fb75-e9f4b7805952"
      },
      "source": [
        "test_NMF(tfidf4, KMeans1)"
      ],
      "execution_count": 87,
      "outputs": [
        {
          "output_type": "stream",
          "text": [
            "Homogeneity: 0.472\n",
            "Completeness: 0.334\n",
            "V-measure: 0.391\n",
            "Adjusted Rand Index: 0.051\n",
            "Adjusted Mutual Information: 0.255\n"
          ],
          "name": "stdout"
        }
      ]
    },
    {
      "cell_type": "markdown",
      "metadata": {
        "id": "SSMjcAz5uHOs",
        "colab_type": "text"
      },
      "source": [
        "Homogenity во всех случаях лучше для NMF\n",
        "\n",
        "Сравним разложения для модели MiniBatchKMeans и CountVectorizer"
      ]
    },
    {
      "cell_type": "code",
      "metadata": {
        "id": "CM61_6zDufLP",
        "colab_type": "code",
        "colab": {}
      },
      "source": [
        "def test_SVD(vectorizer, cluster):\n",
        "  X = cv.fit_transform(sample['title'])\n",
        "  X_svd = svd.fit_transform(X)\n",
        "  claster.fit(X_svd)\n",
        "  labels = claster.labels_\n",
        "  print(\"Homogeneity: %0.3f\" % metrics.homogeneity_score(y, labels))\n",
        "  print(\"Completeness: %0.3f\" % metrics.completeness_score(y, labels))\n",
        "  print(\"V-measure: %0.3f\" % metrics.v_measure_score(y, labels))\n",
        "  print(\"Adjusted Rand Index: %0.3f\" % metrics.adjusted_rand_score(y, labels))\n",
        "  print(\"Adjusted Mutual Information: %0.3f\" % metrics.adjusted_mutual_info_score(y, labels))"
      ],
      "execution_count": 0,
      "outputs": []
    },
    {
      "cell_type": "code",
      "metadata": {
        "id": "HkYZfxzCvNbU",
        "colab_type": "code",
        "colab": {}
      },
      "source": [
        "cluster = MiniBatchKMeans(n_clusters=50, init_size=5000, verbose=1, max_iter=1000, \n",
        "                          max_no_improvement=100, reassignment_ratio=0.3)"
      ],
      "execution_count": 0,
      "outputs": []
    },
    {
      "cell_type": "code",
      "metadata": {
        "id": "iSqrm6FjvuoF",
        "colab_type": "code",
        "colab": {
          "base_uri": "https://localhost:8080/",
          "height": 105
        },
        "outputId": "98358c79-f52a-4ccf-9a95-af600002bf0d"
      },
      "source": [
        "test_SVD(cv1, cluster)"
      ],
      "execution_count": 90,
      "outputs": [
        {
          "output_type": "stream",
          "text": [
            "Homogeneity: 0.373\n",
            "Completeness: 0.363\n",
            "V-measure: 0.368\n",
            "Adjusted Rand Index: -0.030\n",
            "Adjusted Mutual Information: 0.226\n"
          ],
          "name": "stdout"
        }
      ]
    },
    {
      "cell_type": "code",
      "metadata": {
        "id": "ZDotM28gv04Q",
        "colab_type": "code",
        "colab": {
          "base_uri": "https://localhost:8080/",
          "height": 105
        },
        "outputId": "111d28b3-120c-4ee8-b8df-89cb9a86e7d2"
      },
      "source": [
        "test_NMF(cv1, cluster)"
      ],
      "execution_count": 91,
      "outputs": [
        {
          "output_type": "stream",
          "text": [
            "Homogeneity: 0.341\n",
            "Completeness: 0.370\n",
            "V-measure: 0.355\n",
            "Adjusted Rand Index: -0.015\n",
            "Adjusted Mutual Information: 0.240\n"
          ],
          "name": "stdout"
        }
      ]
    },
    {
      "cell_type": "code",
      "metadata": {
        "id": "pgKSsni_wACY",
        "colab_type": "code",
        "colab": {
          "base_uri": "https://localhost:8080/",
          "height": 161
        },
        "outputId": "06a55699-240c-4523-bffb-07b44f820e68"
      },
      "source": [
        "test_SVD(cv2, cluster)"
      ],
      "execution_count": 92,
      "outputs": [
        {
          "output_type": "stream",
          "text": [
            "Homogeneity: 0.000\n",
            "Completeness: 1.000\n",
            "V-measure: 0.000\n",
            "Adjusted Rand Index: 0.000\n",
            "Adjusted Mutual Information: 0.000\n"
          ],
          "name": "stdout"
        },
        {
          "output_type": "stream",
          "text": [
            "/usr/local/lib/python3.6/dist-packages/sklearn/cluster/_affinity_propagation.py:226: ConvergenceWarning: Affinity propagation did not converge, this model will not have any cluster centers.\n",
            "  \"will not have any cluster centers.\", ConvergenceWarning)\n"
          ],
          "name": "stderr"
        }
      ]
    },
    {
      "cell_type": "code",
      "metadata": {
        "id": "tbkdNGwFwIhx",
        "colab_type": "code",
        "colab": {
          "base_uri": "https://localhost:8080/",
          "height": 105
        },
        "outputId": "05baf46e-53d4-4aa8-c031-745f86411e91"
      },
      "source": [
        "test_NMF(cv2, cluster)"
      ],
      "execution_count": 93,
      "outputs": [
        {
          "output_type": "stream",
          "text": [
            "Homogeneity: 0.335\n",
            "Completeness: 0.365\n",
            "V-measure: 0.349\n",
            "Adjusted Rand Index: -0.015\n",
            "Adjusted Mutual Information: 0.219\n"
          ],
          "name": "stdout"
        }
      ]
    },
    {
      "cell_type": "code",
      "metadata": {
        "id": "aZzhqC6EwQTw",
        "colab_type": "code",
        "colab": {
          "base_uri": "https://localhost:8080/",
          "height": 105
        },
        "outputId": "041e71ab-a79f-4dd9-f760-daea161c1ee2"
      },
      "source": [
        "test_SVD(cv3, cluster)"
      ],
      "execution_count": 94,
      "outputs": [
        {
          "output_type": "stream",
          "text": [
            "Homogeneity: 0.366\n",
            "Completeness: 0.366\n",
            "V-measure: 0.366\n",
            "Adjusted Rand Index: -0.030\n",
            "Adjusted Mutual Information: 0.227\n"
          ],
          "name": "stdout"
        }
      ]
    },
    {
      "cell_type": "code",
      "metadata": {
        "id": "58oubBiKwX3-",
        "colab_type": "code",
        "colab": {
          "base_uri": "https://localhost:8080/",
          "height": 105
        },
        "outputId": "2d16683e-be2d-4efe-edf4-5da0738d7d04"
      },
      "source": [
        "test_NMF(cv3, cluster)"
      ],
      "execution_count": 95,
      "outputs": [
        {
          "output_type": "stream",
          "text": [
            "Homogeneity: 0.332\n",
            "Completeness: 0.384\n",
            "V-measure: 0.356\n",
            "Adjusted Rand Index: 0.059\n",
            "Adjusted Mutual Information: 0.090\n"
          ],
          "name": "stdout"
        }
      ]
    },
    {
      "cell_type": "code",
      "metadata": {
        "id": "wpppVHBUwfzM",
        "colab_type": "code",
        "colab": {
          "base_uri": "https://localhost:8080/",
          "height": 105
        },
        "outputId": "2c022747-d9b6-4feb-e3d8-582828b52930"
      },
      "source": [
        "test_SVD(cv4, cluster)"
      ],
      "execution_count": 96,
      "outputs": [
        {
          "output_type": "stream",
          "text": [
            "Homogeneity: 0.369\n",
            "Completeness: 0.362\n",
            "V-measure: 0.365\n",
            "Adjusted Rand Index: -0.031\n",
            "Adjusted Mutual Information: 0.224\n"
          ],
          "name": "stdout"
        }
      ]
    },
    {
      "cell_type": "code",
      "metadata": {
        "id": "OZEUWcv2wn_J",
        "colab_type": "code",
        "colab": {
          "base_uri": "https://localhost:8080/",
          "height": 105
        },
        "outputId": "e6951079-904d-4138-ca78-1a9fffca9452"
      },
      "source": [
        "test_NMF(cv4, cluster)"
      ],
      "execution_count": 97,
      "outputs": [
        {
          "output_type": "stream",
          "text": [
            "Homogeneity: 0.484\n",
            "Completeness: 0.337\n",
            "V-measure: 0.397\n",
            "Adjusted Rand Index: 0.069\n",
            "Adjusted Mutual Information: 0.257\n"
          ],
          "name": "stdout"
        }
      ]
    },
    {
      "cell_type": "markdown",
      "metadata": {
        "id": "v-kvsWvRylTc",
        "colab_type": "text"
      },
      "source": [
        "При разных настройках векторайзера лучшие результаты показывают разные модели.\n",
        "Были настройки (биграммы слов), при которых сошлась только модель с NMF"
      ]
    },
    {
      "cell_type": "markdown",
      "metadata": {
        "id": "unLv_gykzCE1",
        "colab_type": "text"
      },
      "source": [
        "Посмотрим, какой \"мусор\" собирается алгоритмом MeanShift при разных настройках векторайзера."
      ]
    },
    {
      "cell_type": "code",
      "metadata": {
        "id": "IhBbat3mzU6s",
        "colab_type": "code",
        "colab": {}
      },
      "source": [
        "cluster = MeanShift(cluster_all=False, bandwidth=0.5)\n",
        "def testMeanShift(cv):\n",
        "  cluster = MeanShift(cluster_all=False, bandwidth=0.5)\n",
        "  X = cv.fit_transform(sample.title)\n",
        "  X_svd = svd.fit_transform(X)\n",
        "  cluster.fit(X_svd)\n",
        "  sample['cluster'] = cluster.labels_"
      ],
      "execution_count": 0,
      "outputs": []
    },
    {
      "cell_type": "code",
      "metadata": {
        "id": "SvVzIPUS0V7b",
        "colab_type": "code",
        "colab": {
          "base_uri": "https://localhost:8080/",
          "height": 1000
        },
        "outputId": "a2a5d6c8-8946-4365-c574-08ae6eabfb7e"
      },
      "source": [
        "testMeanShift(cv1)\n",
        "sample[sample.cluster==-1].head(50)"
      ],
      "execution_count": 101,
      "outputs": [
        {
          "output_type": "execute_result",
          "data": {
            "text/html": [
              "<div>\n",
              "<style scoped>\n",
              "    .dataframe tbody tr th:only-of-type {\n",
              "        vertical-align: middle;\n",
              "    }\n",
              "\n",
              "    .dataframe tbody tr th {\n",
              "        vertical-align: top;\n",
              "    }\n",
              "\n",
              "    .dataframe thead th {\n",
              "        text-align: right;\n",
              "    }\n",
              "</style>\n",
              "<table border=\"1\" class=\"dataframe\">\n",
              "  <thead>\n",
              "    <tr style=\"text-align: right;\">\n",
              "      <th></th>\n",
              "      <th>category_name</th>\n",
              "      <th>title</th>\n",
              "      <th>claster</th>\n",
              "      <th>cluster</th>\n",
              "    </tr>\n",
              "  </thead>\n",
              "  <tbody>\n",
              "    <tr>\n",
              "      <th>28</th>\n",
              "      <td>Телефоны</td>\n",
              "      <td>Телефон 36 арт.18498</td>\n",
              "      <td>13</td>\n",
              "      <td>-1</td>\n",
              "    </tr>\n",
              "    <tr>\n",
              "      <th>44</th>\n",
              "      <td>Квартиры</td>\n",
              "      <td>2-к квартира, 44.1 м², 2/4 эт.</td>\n",
              "      <td>72</td>\n",
              "      <td>-1</td>\n",
              "    </tr>\n",
              "    <tr>\n",
              "      <th>47</th>\n",
              "      <td>Квартиры</td>\n",
              "      <td>1-к квартира, 38 м², 3/12 эт.</td>\n",
              "      <td>23</td>\n",
              "      <td>-1</td>\n",
              "    </tr>\n",
              "    <tr>\n",
              "      <th>114</th>\n",
              "      <td>Квартиры</td>\n",
              "      <td>2-к квартира, 50 м², 7/18 эт.</td>\n",
              "      <td>94</td>\n",
              "      <td>-1</td>\n",
              "    </tr>\n",
              "    <tr>\n",
              "      <th>134</th>\n",
              "      <td>Товары для детей и игрушки</td>\n",
              "      <td>Автокресло 15-36 кг</td>\n",
              "      <td>13</td>\n",
              "      <td>-1</td>\n",
              "    </tr>\n",
              "    <tr>\n",
              "      <th>153</th>\n",
              "      <td>Предложение услуг</td>\n",
              "      <td>Вдохновляем жизнь в ваш телефон заново</td>\n",
              "      <td>13</td>\n",
              "      <td>-1</td>\n",
              "    </tr>\n",
              "    <tr>\n",
              "      <th>174</th>\n",
              "      <td>Предложение услуг</td>\n",
              "      <td>Ведущая. Организация праздников под ключ</td>\n",
              "      <td>13</td>\n",
              "      <td>-1</td>\n",
              "    </tr>\n",
              "    <tr>\n",
              "      <th>263</th>\n",
              "      <td>Дома, дачи, коттеджи</td>\n",
              "      <td>Дом 36 м² на участке 33 сот.</td>\n",
              "      <td>51</td>\n",
              "      <td>-1</td>\n",
              "    </tr>\n",
              "    <tr>\n",
              "      <th>286</th>\n",
              "      <td>Ноутбуки</td>\n",
              "      <td>655 12</td>\n",
              "      <td>13</td>\n",
              "      <td>-1</td>\n",
              "    </tr>\n",
              "    <tr>\n",
              "      <th>335</th>\n",
              "      <td>Водный транспорт</td>\n",
              "      <td>Стингрей320 Меркури 15</td>\n",
              "      <td>13</td>\n",
              "      <td>-1</td>\n",
              "    </tr>\n",
              "    <tr>\n",
              "      <th>496</th>\n",
              "      <td>Телефоны</td>\n",
              "      <td>Мобильный телефон 9 (с чехлом)</td>\n",
              "      <td>13</td>\n",
              "      <td>-1</td>\n",
              "    </tr>\n",
              "    <tr>\n",
              "      <th>501</th>\n",
              "      <td>Одежда, обувь, аксессуары</td>\n",
              "      <td>Жилетка с капюшоном р.38-42</td>\n",
              "      <td>13</td>\n",
              "      <td>-1</td>\n",
              "    </tr>\n",
              "    <tr>\n",
              "      <th>561</th>\n",
              "      <td>Посуда и товары для кухни</td>\n",
              "      <td>Чайные блюдца Богемия 15</td>\n",
              "      <td>13</td>\n",
              "      <td>-1</td>\n",
              "    </tr>\n",
              "    <tr>\n",
              "      <th>722</th>\n",
              "      <td>Дома, дачи, коттеджи</td>\n",
              "      <td>Дом 45 м² на участке 15 сот.</td>\n",
              "      <td>51</td>\n",
              "      <td>-1</td>\n",
              "    </tr>\n",
              "    <tr>\n",
              "      <th>800</th>\n",
              "      <td>Дома, дачи, коттеджи</td>\n",
              "      <td>Дом 50 м² на участке 12 сот.</td>\n",
              "      <td>51</td>\n",
              "      <td>-1</td>\n",
              "    </tr>\n",
              "    <tr>\n",
              "      <th>958</th>\n",
              "      <td>Автомобили</td>\n",
              "      <td>ГАЗ ГАЗель, 2001</td>\n",
              "      <td>62</td>\n",
              "      <td>-1</td>\n",
              "    </tr>\n",
              "    <tr>\n",
              "      <th>969</th>\n",
              "      <td>Предложение услуг</td>\n",
              "      <td>Развивающие занятия от 1,5 года</td>\n",
              "      <td>13</td>\n",
              "      <td>-1</td>\n",
              "    </tr>\n",
              "    <tr>\n",
              "      <th>977</th>\n",
              "      <td>Детская одежда и обувь</td>\n",
              "      <td>Набор 2 бодика и шорты. Все</td>\n",
              "      <td>13</td>\n",
              "      <td>-1</td>\n",
              "    </tr>\n",
              "    <tr>\n",
              "      <th>978</th>\n",
              "      <td>Дома, дачи, коттеджи</td>\n",
              "      <td>Дом 140 м² на участке 15.8 сот.</td>\n",
              "      <td>25</td>\n",
              "      <td>-1</td>\n",
              "    </tr>\n",
              "    <tr>\n",
              "      <th>980</th>\n",
              "      <td>Автомобили</td>\n",
              "      <td>ГАЗ ГАЗель 3302, 2006</td>\n",
              "      <td>62</td>\n",
              "      <td>-1</td>\n",
              "    </tr>\n",
              "    <tr>\n",
              "      <th>1100</th>\n",
              "      <td>Квартиры</td>\n",
              "      <td>2-к квартира, 44 м², 5/5 эт.</td>\n",
              "      <td>72</td>\n",
              "      <td>-1</td>\n",
              "    </tr>\n",
              "    <tr>\n",
              "      <th>1203</th>\n",
              "      <td>Квартиры</td>\n",
              "      <td>1-к квартира, 39.9 м², 4/12 эт.</td>\n",
              "      <td>124</td>\n",
              "      <td>-1</td>\n",
              "    </tr>\n",
              "    <tr>\n",
              "      <th>1214</th>\n",
              "      <td>Музыкальные инструменты</td>\n",
              "      <td>160-ая серия новое. набор</td>\n",
              "      <td>13</td>\n",
              "      <td>-1</td>\n",
              "    </tr>\n",
              "    <tr>\n",
              "      <th>1285</th>\n",
              "      <td>Квартиры</td>\n",
              "      <td>1-к квартира, 30 м², 8/12 эт.</td>\n",
              "      <td>70</td>\n",
              "      <td>-1</td>\n",
              "    </tr>\n",
              "    <tr>\n",
              "      <th>1327</th>\n",
              "      <td>Квартиры</td>\n",
              "      <td>1-к квартира, 41.6 м², 5/12 эт.</td>\n",
              "      <td>72</td>\n",
              "      <td>-1</td>\n",
              "    </tr>\n",
              "    <tr>\n",
              "      <th>1335</th>\n",
              "      <td>Телефоны</td>\n",
              "      <td>Сотовый телефон 5</td>\n",
              "      <td>10</td>\n",
              "      <td>-1</td>\n",
              "    </tr>\n",
              "    <tr>\n",
              "      <th>1344</th>\n",
              "      <td>Квартиры</td>\n",
              "      <td>2-к квартира, 44 м², 5/5 эт.</td>\n",
              "      <td>72</td>\n",
              "      <td>-1</td>\n",
              "    </tr>\n",
              "    <tr>\n",
              "      <th>1347</th>\n",
              "      <td>Одежда, обувь, аксессуары</td>\n",
              "      <td>Новое боа из страусиных перьев белого цвета</td>\n",
              "      <td>13</td>\n",
              "      <td>-1</td>\n",
              "    </tr>\n",
              "    <tr>\n",
              "      <th>1350</th>\n",
              "      <td>Детская одежда и обувь</td>\n",
              "      <td>Сапожки димесезонные не утепленные</td>\n",
              "      <td>112</td>\n",
              "      <td>-1</td>\n",
              "    </tr>\n",
              "    <tr>\n",
              "      <th>1377</th>\n",
              "      <td>Товары для компьютера</td>\n",
              "      <td>Матрица 15.6</td>\n",
              "      <td>13</td>\n",
              "      <td>-1</td>\n",
              "    </tr>\n",
              "    <tr>\n",
              "      <th>1394</th>\n",
              "      <td>Коллекционирование</td>\n",
              "      <td>Памятная медаль на 50-летие школы №37 г. Яросл...</td>\n",
              "      <td>13</td>\n",
              "      <td>-1</td>\n",
              "    </tr>\n",
              "    <tr>\n",
              "      <th>1538</th>\n",
              "      <td>Детская одежда и обувь</td>\n",
              "      <td>Комплект на девочку 2 года</td>\n",
              "      <td>13</td>\n",
              "      <td>-1</td>\n",
              "    </tr>\n",
              "    <tr>\n",
              "      <th>1547</th>\n",
              "      <td>Одежда, обувь, аксессуары</td>\n",
              "      <td>Полусапожки женские демисезонние р-р 38</td>\n",
              "      <td>112</td>\n",
              "      <td>-1</td>\n",
              "    </tr>\n",
              "    <tr>\n",
              "      <th>1549</th>\n",
              "      <td>Детская одежда и обувь</td>\n",
              "      <td>Резиновые сапожки утеплённые</td>\n",
              "      <td>82</td>\n",
              "      <td>-1</td>\n",
              "    </tr>\n",
              "    <tr>\n",
              "      <th>1632</th>\n",
              "      <td>Квартиры</td>\n",
              "      <td>2-к квартира, 44 м², 5/5 эт.</td>\n",
              "      <td>72</td>\n",
              "      <td>-1</td>\n",
              "    </tr>\n",
              "    <tr>\n",
              "      <th>1647</th>\n",
              "      <td>Предложение услуг</td>\n",
              "      <td>Студия детского творчества \"Идея\", объявляет н...</td>\n",
              "      <td>13</td>\n",
              "      <td>-1</td>\n",
              "    </tr>\n",
              "    <tr>\n",
              "      <th>1818</th>\n",
              "      <td>Коллекционирование</td>\n",
              "      <td>Икона Праздники 18 век. ковчег</td>\n",
              "      <td>13</td>\n",
              "      <td>-1</td>\n",
              "    </tr>\n",
              "    <tr>\n",
              "      <th>1851</th>\n",
              "      <td>Предложение услуг</td>\n",
              "      <td>Плиточник универсал, сантехник, ванна под ключ</td>\n",
              "      <td>13</td>\n",
              "      <td>-1</td>\n",
              "    </tr>\n",
              "    <tr>\n",
              "      <th>1992</th>\n",
              "      <td>Квартиры</td>\n",
              "      <td>2-к квартира, 113.7 м², 18/24 эт.</td>\n",
              "      <td>13</td>\n",
              "      <td>-1</td>\n",
              "    </tr>\n",
              "    <tr>\n",
              "      <th>2035</th>\n",
              "      <td>Детская одежда и обувь</td>\n",
              "      <td>Юбка джинсовая р.158+другая одежда</td>\n",
              "      <td>13</td>\n",
              "      <td>-1</td>\n",
              "    </tr>\n",
              "    <tr>\n",
              "      <th>2072</th>\n",
              "      <td>Предложение услуг</td>\n",
              "      <td>Тротуарная плитка. Благоустройство под ключ</td>\n",
              "      <td>13</td>\n",
              "      <td>-1</td>\n",
              "    </tr>\n",
              "    <tr>\n",
              "      <th>2211</th>\n",
              "      <td>Дома, дачи, коттеджи</td>\n",
              "      <td>Дом 170 м² на участке 15 сот.</td>\n",
              "      <td>25</td>\n",
              "      <td>-1</td>\n",
              "    </tr>\n",
              "    <tr>\n",
              "      <th>2221</th>\n",
              "      <td>Планшеты и электронные книги</td>\n",
              "      <td>12.04/ планшет би 82</td>\n",
              "      <td>13</td>\n",
              "      <td>-1</td>\n",
              "    </tr>\n",
              "    <tr>\n",
              "      <th>2240</th>\n",
              "      <td>Квартиры</td>\n",
              "      <td>1-к квартира, 38 м², 5/17 эт.</td>\n",
              "      <td>23</td>\n",
              "      <td>-1</td>\n",
              "    </tr>\n",
              "    <tr>\n",
              "      <th>2249</th>\n",
              "      <td>Автомобили</td>\n",
              "      <td>ГАЗ ГАЗель, 2012</td>\n",
              "      <td>62</td>\n",
              "      <td>-1</td>\n",
              "    </tr>\n",
              "    <tr>\n",
              "      <th>2318</th>\n",
              "      <td>Квартиры</td>\n",
              "      <td>1-к квартира, 39 м², 8/18 эт.</td>\n",
              "      <td>23</td>\n",
              "      <td>-1</td>\n",
              "    </tr>\n",
              "  </tbody>\n",
              "</table>\n",
              "</div>"
            ],
            "text/plain": [
              "                     category_name  ... cluster\n",
              "28                        Телефоны  ...      -1\n",
              "44                        Квартиры  ...      -1\n",
              "47                        Квартиры  ...      -1\n",
              "114                       Квартиры  ...      -1\n",
              "134     Товары для детей и игрушки  ...      -1\n",
              "153              Предложение услуг  ...      -1\n",
              "174              Предложение услуг  ...      -1\n",
              "263           Дома, дачи, коттеджи  ...      -1\n",
              "286                       Ноутбуки  ...      -1\n",
              "335               Водный транспорт  ...      -1\n",
              "496                       Телефоны  ...      -1\n",
              "501      Одежда, обувь, аксессуары  ...      -1\n",
              "561      Посуда и товары для кухни  ...      -1\n",
              "722           Дома, дачи, коттеджи  ...      -1\n",
              "800           Дома, дачи, коттеджи  ...      -1\n",
              "958                     Автомобили  ...      -1\n",
              "969              Предложение услуг  ...      -1\n",
              "977         Детская одежда и обувь  ...      -1\n",
              "978           Дома, дачи, коттеджи  ...      -1\n",
              "980                     Автомобили  ...      -1\n",
              "1100                      Квартиры  ...      -1\n",
              "1203                      Квартиры  ...      -1\n",
              "1214       Музыкальные инструменты  ...      -1\n",
              "1285                      Квартиры  ...      -1\n",
              "1327                      Квартиры  ...      -1\n",
              "1335                      Телефоны  ...      -1\n",
              "1344                      Квартиры  ...      -1\n",
              "1347     Одежда, обувь, аксессуары  ...      -1\n",
              "1350        Детская одежда и обувь  ...      -1\n",
              "1377         Товары для компьютера  ...      -1\n",
              "1394            Коллекционирование  ...      -1\n",
              "1538        Детская одежда и обувь  ...      -1\n",
              "1547     Одежда, обувь, аксессуары  ...      -1\n",
              "1549        Детская одежда и обувь  ...      -1\n",
              "1632                      Квартиры  ...      -1\n",
              "1647             Предложение услуг  ...      -1\n",
              "1818            Коллекционирование  ...      -1\n",
              "1851             Предложение услуг  ...      -1\n",
              "1992                      Квартиры  ...      -1\n",
              "2035        Детская одежда и обувь  ...      -1\n",
              "2072             Предложение услуг  ...      -1\n",
              "2211          Дома, дачи, коттеджи  ...      -1\n",
              "2221  Планшеты и электронные книги  ...      -1\n",
              "2240                      Квартиры  ...      -1\n",
              "2249                    Автомобили  ...      -1\n",
              "2318                      Квартиры  ...      -1\n",
              "\n",
              "[46 rows x 4 columns]"
            ]
          },
          "metadata": {
            "tags": []
          },
          "execution_count": 101
        }
      ]
    },
    {
      "cell_type": "markdown",
      "metadata": {
        "id": "A6f-1LnC1OZH",
        "colab_type": "text"
      },
      "source": [
        "Все объявления вполне обычные"
      ]
    },
    {
      "cell_type": "code",
      "metadata": {
        "id": "-OR5xJO107yb",
        "colab_type": "code",
        "colab": {
          "base_uri": "https://localhost:8080/",
          "height": 1000
        },
        "outputId": "2936768c-f24b-4347-9c2e-b250569e39c4"
      },
      "source": [
        "testMeanShift(cv2)\n",
        "sample[sample.cluster==-1].head(50)"
      ],
      "execution_count": 102,
      "outputs": [
        {
          "output_type": "execute_result",
          "data": {
            "text/html": [
              "<div>\n",
              "<style scoped>\n",
              "    .dataframe tbody tr th:only-of-type {\n",
              "        vertical-align: middle;\n",
              "    }\n",
              "\n",
              "    .dataframe tbody tr th {\n",
              "        vertical-align: top;\n",
              "    }\n",
              "\n",
              "    .dataframe thead th {\n",
              "        text-align: right;\n",
              "    }\n",
              "</style>\n",
              "<table border=\"1\" class=\"dataframe\">\n",
              "  <thead>\n",
              "    <tr style=\"text-align: right;\">\n",
              "      <th></th>\n",
              "      <th>category_name</th>\n",
              "      <th>title</th>\n",
              "      <th>claster</th>\n",
              "      <th>cluster</th>\n",
              "    </tr>\n",
              "  </thead>\n",
              "  <tbody>\n",
              "    <tr>\n",
              "      <th>18</th>\n",
              "      <td>Мебель и интерьер</td>\n",
              "      <td>Диван и 2 кресла</td>\n",
              "      <td>13</td>\n",
              "      <td>-1</td>\n",
              "    </tr>\n",
              "    <tr>\n",
              "      <th>21</th>\n",
              "      <td>Часы и украшения</td>\n",
              "      <td>Часы наручные эксклюзив франция середина 20 века</td>\n",
              "      <td>13</td>\n",
              "      <td>-1</td>\n",
              "    </tr>\n",
              "    <tr>\n",
              "      <th>61</th>\n",
              "      <td>Мебель и интерьер</td>\n",
              "      <td>Диван</td>\n",
              "      <td>80</td>\n",
              "      <td>-1</td>\n",
              "    </tr>\n",
              "    <tr>\n",
              "      <th>62</th>\n",
              "      <td>Одежда, обувь, аксессуары</td>\n",
              "      <td>Футболка/майка</td>\n",
              "      <td>41</td>\n",
              "      <td>-1</td>\n",
              "    </tr>\n",
              "    <tr>\n",
              "      <th>83</th>\n",
              "      <td>Другие животные</td>\n",
              "      <td>Две большие черепашки им 11 лет</td>\n",
              "      <td>13</td>\n",
              "      <td>-1</td>\n",
              "    </tr>\n",
              "    <tr>\n",
              "      <th>92</th>\n",
              "      <td>Товары для детей и игрушки</td>\n",
              "      <td>Коляска трансформер плюс переноска сумка</td>\n",
              "      <td>83</td>\n",
              "      <td>-1</td>\n",
              "    </tr>\n",
              "    <tr>\n",
              "      <th>181</th>\n",
              "      <td>Детская одежда и обувь</td>\n",
              "      <td>Продается футболка</td>\n",
              "      <td>41</td>\n",
              "      <td>-1</td>\n",
              "    </tr>\n",
              "    <tr>\n",
              "      <th>335</th>\n",
              "      <td>Водный транспорт</td>\n",
              "      <td>Стингрей320 Меркури 15</td>\n",
              "      <td>13</td>\n",
              "      <td>-1</td>\n",
              "    </tr>\n",
              "    <tr>\n",
              "      <th>397</th>\n",
              "      <td>Мебель и интерьер</td>\n",
              "      <td>Продается диван</td>\n",
              "      <td>13</td>\n",
              "      <td>-1</td>\n",
              "    </tr>\n",
              "    <tr>\n",
              "      <th>404</th>\n",
              "      <td>Квартиры</td>\n",
              "      <td>2-к квартира, 62 м², 1/2 эт.</td>\n",
              "      <td>88</td>\n",
              "      <td>-1</td>\n",
              "    </tr>\n",
              "    <tr>\n",
              "      <th>412</th>\n",
              "      <td>Коммерческая недвижимость</td>\n",
              "      <td>Продажа от собственника</td>\n",
              "      <td>13</td>\n",
              "      <td>-1</td>\n",
              "    </tr>\n",
              "    <tr>\n",
              "      <th>432</th>\n",
              "      <td>Одежда, обувь, аксессуары</td>\n",
              "      <td>Футболка (Германия) .13/Ф33</td>\n",
              "      <td>13</td>\n",
              "      <td>-1</td>\n",
              "    </tr>\n",
              "    <tr>\n",
              "      <th>531</th>\n",
              "      <td>Одежда, обувь, аксессуары</td>\n",
              "      <td>Сапоги демисезонные, замша</td>\n",
              "      <td>112</td>\n",
              "      <td>-1</td>\n",
              "    </tr>\n",
              "    <tr>\n",
              "      <th>561</th>\n",
              "      <td>Посуда и товары для кухни</td>\n",
              "      <td>Чайные блюдца Богемия 15</td>\n",
              "      <td>13</td>\n",
              "      <td>-1</td>\n",
              "    </tr>\n",
              "    <tr>\n",
              "      <th>793</th>\n",
              "      <td>Детская одежда и обувь</td>\n",
              "      <td>Сапоги демисезонные не маркие</td>\n",
              "      <td>112</td>\n",
              "      <td>-1</td>\n",
              "    </tr>\n",
              "    <tr>\n",
              "      <th>866</th>\n",
              "      <td>Детская одежда и обувь</td>\n",
              "      <td>Обувь от 19 до 23</td>\n",
              "      <td>13</td>\n",
              "      <td>-1</td>\n",
              "    </tr>\n",
              "    <tr>\n",
              "      <th>969</th>\n",
              "      <td>Предложение услуг</td>\n",
              "      <td>Развивающие занятия от 1,5 года</td>\n",
              "      <td>13</td>\n",
              "      <td>-1</td>\n",
              "    </tr>\n",
              "    <tr>\n",
              "      <th>983</th>\n",
              "      <td>Детская одежда и обувь</td>\n",
              "      <td>Новые босоножки, , нат. кожа</td>\n",
              "      <td>113</td>\n",
              "      <td>-1</td>\n",
              "    </tr>\n",
              "    <tr>\n",
              "      <th>1028</th>\n",
              "      <td>Готовый бизнес</td>\n",
              "      <td>Наклейки к 9 мая. прибыль от 40000 т.р</td>\n",
              "      <td>13</td>\n",
              "      <td>-1</td>\n",
              "    </tr>\n",
              "    <tr>\n",
              "      <th>1036</th>\n",
              "      <td>Кошки</td>\n",
              "      <td>Отдам в добрые руки кошечку 9 месяцев</td>\n",
              "      <td>108</td>\n",
              "      <td>-1</td>\n",
              "    </tr>\n",
              "    <tr>\n",
              "      <th>1052</th>\n",
              "      <td>Квартиры</td>\n",
              "      <td>3-к квартира, 62 м², 4/5 эт.</td>\n",
              "      <td>88</td>\n",
              "      <td>-1</td>\n",
              "    </tr>\n",
              "    <tr>\n",
              "      <th>1089</th>\n",
              "      <td>Игры, приставки и программы</td>\n",
              "      <td>4 1Тб 2 джойстика 17</td>\n",
              "      <td>13</td>\n",
              "      <td>-1</td>\n",
              "    </tr>\n",
              "    <tr>\n",
              "      <th>1135</th>\n",
              "      <td>Предложение услуг</td>\n",
              "      <td>Ремонт в квартире.Опыт 20 лет</td>\n",
              "      <td>13</td>\n",
              "      <td>-1</td>\n",
              "    </tr>\n",
              "    <tr>\n",
              "      <th>1181</th>\n",
              "      <td>Мебель и интерьер</td>\n",
              "      <td>Угловой диван</td>\n",
              "      <td>13</td>\n",
              "      <td>-1</td>\n",
              "    </tr>\n",
              "    <tr>\n",
              "      <th>1214</th>\n",
              "      <td>Музыкальные инструменты</td>\n",
              "      <td>160-ая серия новое. набор</td>\n",
              "      <td>13</td>\n",
              "      <td>-1</td>\n",
              "    </tr>\n",
              "    <tr>\n",
              "      <th>1227</th>\n",
              "      <td>Товары для детей и игрушки</td>\n",
              "      <td>Диван</td>\n",
              "      <td>80</td>\n",
              "      <td>-1</td>\n",
              "    </tr>\n",
              "    <tr>\n",
              "      <th>1241</th>\n",
              "      <td>Детская одежда и обувь</td>\n",
              "      <td>Футболка и шорты</td>\n",
              "      <td>41</td>\n",
              "      <td>-1</td>\n",
              "    </tr>\n",
              "    <tr>\n",
              "      <th>1319</th>\n",
              "      <td>Квартиры</td>\n",
              "      <td>3-к квартира, 62 м², 9/9 эт.</td>\n",
              "      <td>88</td>\n",
              "      <td>-1</td>\n",
              "    </tr>\n",
              "    <tr>\n",
              "      <th>1334</th>\n",
              "      <td>Мебель и интерьер</td>\n",
              "      <td>Диван</td>\n",
              "      <td>80</td>\n",
              "      <td>-1</td>\n",
              "    </tr>\n",
              "    <tr>\n",
              "      <th>1377</th>\n",
              "      <td>Товары для компьютера</td>\n",
              "      <td>Матрица 15.6</td>\n",
              "      <td>13</td>\n",
              "      <td>-1</td>\n",
              "    </tr>\n",
              "    <tr>\n",
              "      <th>1426</th>\n",
              "      <td>Детская одежда и обувь</td>\n",
              "      <td>Футболка с длинным рукавом</td>\n",
              "      <td>41</td>\n",
              "      <td>-1</td>\n",
              "    </tr>\n",
              "    <tr>\n",
              "      <th>1549</th>\n",
              "      <td>Детская одежда и обувь</td>\n",
              "      <td>Резиновые сапожки утеплённые</td>\n",
              "      <td>82</td>\n",
              "      <td>-1</td>\n",
              "    </tr>\n",
              "    <tr>\n",
              "      <th>1647</th>\n",
              "      <td>Предложение услуг</td>\n",
              "      <td>Студия детского творчества \"Идея\", объявляет н...</td>\n",
              "      <td>13</td>\n",
              "      <td>-1</td>\n",
              "    </tr>\n",
              "    <tr>\n",
              "      <th>1804</th>\n",
              "      <td>Одежда, обувь, аксессуары</td>\n",
              "      <td>Футболка поло женская</td>\n",
              "      <td>41</td>\n",
              "      <td>-1</td>\n",
              "    </tr>\n",
              "    <tr>\n",
              "      <th>1864</th>\n",
              "      <td>Товары для компьютера</td>\n",
              "      <td>Монитор 2043 20 дюймов</td>\n",
              "      <td>13</td>\n",
              "      <td>-1</td>\n",
              "    </tr>\n",
              "    <tr>\n",
              "      <th>1911</th>\n",
              "      <td>Мебель и интерьер</td>\n",
              "      <td>Мягкий уголок - раздвижные диван и два кресла</td>\n",
              "      <td>13</td>\n",
              "      <td>-1</td>\n",
              "    </tr>\n",
              "    <tr>\n",
              "      <th>1937</th>\n",
              "      <td>Мебель и интерьер</td>\n",
              "      <td>Угловой диван</td>\n",
              "      <td>13</td>\n",
              "      <td>-1</td>\n",
              "    </tr>\n",
              "    <tr>\n",
              "      <th>2061</th>\n",
              "      <td>Игры, приставки и программы</td>\n",
              "      <td>15</td>\n",
              "      <td>110</td>\n",
              "      <td>-1</td>\n",
              "    </tr>\n",
              "    <tr>\n",
              "      <th>2104</th>\n",
              "      <td>Кошки</td>\n",
              "      <td>Отдам в добрые руки хорошую кошечку,котенка</td>\n",
              "      <td>108</td>\n",
              "      <td>-1</td>\n",
              "    </tr>\n",
              "    <tr>\n",
              "      <th>2163</th>\n",
              "      <td>Дома, дачи, коттеджи</td>\n",
              "      <td>Куплю дом</td>\n",
              "      <td>43</td>\n",
              "      <td>-1</td>\n",
              "    </tr>\n",
              "    <tr>\n",
              "      <th>2165</th>\n",
              "      <td>Одежда, обувь, аксессуары</td>\n",
              "      <td>Кеды от Екатерины Смолиной</td>\n",
              "      <td>13</td>\n",
              "      <td>-1</td>\n",
              "    </tr>\n",
              "    <tr>\n",
              "      <th>2222</th>\n",
              "      <td>Книги и журналы</td>\n",
              "      <td>История России 11 класс</td>\n",
              "      <td>13</td>\n",
              "      <td>-1</td>\n",
              "    </tr>\n",
              "    <tr>\n",
              "      <th>2304</th>\n",
              "      <td>Мебель и интерьер</td>\n",
              "      <td>Мягкая мебель(Диван 2 кресла)</td>\n",
              "      <td>13</td>\n",
              "      <td>-1</td>\n",
              "    </tr>\n",
              "    <tr>\n",
              "      <th>2482</th>\n",
              "      <td>Квартиры</td>\n",
              "      <td>3-к квартира, 62.4 м², 5/9 эт.</td>\n",
              "      <td>88</td>\n",
              "      <td>-1</td>\n",
              "    </tr>\n",
              "  </tbody>\n",
              "</table>\n",
              "</div>"
            ],
            "text/plain": [
              "                    category_name  ... cluster\n",
              "18              Мебель и интерьер  ...      -1\n",
              "21               Часы и украшения  ...      -1\n",
              "61              Мебель и интерьер  ...      -1\n",
              "62      Одежда, обувь, аксессуары  ...      -1\n",
              "83                Другие животные  ...      -1\n",
              "92     Товары для детей и игрушки  ...      -1\n",
              "181        Детская одежда и обувь  ...      -1\n",
              "335              Водный транспорт  ...      -1\n",
              "397             Мебель и интерьер  ...      -1\n",
              "404                      Квартиры  ...      -1\n",
              "412     Коммерческая недвижимость  ...      -1\n",
              "432     Одежда, обувь, аксессуары  ...      -1\n",
              "531     Одежда, обувь, аксессуары  ...      -1\n",
              "561     Посуда и товары для кухни  ...      -1\n",
              "793        Детская одежда и обувь  ...      -1\n",
              "866        Детская одежда и обувь  ...      -1\n",
              "969             Предложение услуг  ...      -1\n",
              "983        Детская одежда и обувь  ...      -1\n",
              "1028               Готовый бизнес  ...      -1\n",
              "1036                        Кошки  ...      -1\n",
              "1052                     Квартиры  ...      -1\n",
              "1089  Игры, приставки и программы  ...      -1\n",
              "1135            Предложение услуг  ...      -1\n",
              "1181            Мебель и интерьер  ...      -1\n",
              "1214      Музыкальные инструменты  ...      -1\n",
              "1227   Товары для детей и игрушки  ...      -1\n",
              "1241       Детская одежда и обувь  ...      -1\n",
              "1319                     Квартиры  ...      -1\n",
              "1334            Мебель и интерьер  ...      -1\n",
              "1377        Товары для компьютера  ...      -1\n",
              "1426       Детская одежда и обувь  ...      -1\n",
              "1549       Детская одежда и обувь  ...      -1\n",
              "1647            Предложение услуг  ...      -1\n",
              "1804    Одежда, обувь, аксессуары  ...      -1\n",
              "1864        Товары для компьютера  ...      -1\n",
              "1911            Мебель и интерьер  ...      -1\n",
              "1937            Мебель и интерьер  ...      -1\n",
              "2061  Игры, приставки и программы  ...      -1\n",
              "2104                        Кошки  ...      -1\n",
              "2163         Дома, дачи, коттеджи  ...      -1\n",
              "2165    Одежда, обувь, аксессуары  ...      -1\n",
              "2222              Книги и журналы  ...      -1\n",
              "2304            Мебель и интерьер  ...      -1\n",
              "2482                     Квартиры  ...      -1\n",
              "\n",
              "[44 rows x 4 columns]"
            ]
          },
          "metadata": {
            "tags": []
          },
          "execution_count": 102
        }
      ]
    },
    {
      "cell_type": "markdown",
      "metadata": {
        "id": "qxQmtYia1cZY",
        "colab_type": "text"
      },
      "source": [
        "Попались обычные объявления и объявления, где в заголовке началось описание (прибыль продаваемой фирмы, \"им столько-то лет\" про домашних животных, \"опыт 20 лет\" при предложении услуг."
      ]
    },
    {
      "cell_type": "code",
      "metadata": {
        "id": "GZKr6kLD2EVS",
        "colab_type": "code",
        "colab": {
          "base_uri": "https://localhost:8080/",
          "height": 857
        },
        "outputId": "221f569b-171d-4066-a71b-013c77728be8"
      },
      "source": [
        "testMeanShift(cv3)\n",
        "sample[sample.cluster==-1].head(50)"
      ],
      "execution_count": 103,
      "outputs": [
        {
          "output_type": "execute_result",
          "data": {
            "text/html": [
              "<div>\n",
              "<style scoped>\n",
              "    .dataframe tbody tr th:only-of-type {\n",
              "        vertical-align: middle;\n",
              "    }\n",
              "\n",
              "    .dataframe tbody tr th {\n",
              "        vertical-align: top;\n",
              "    }\n",
              "\n",
              "    .dataframe thead th {\n",
              "        text-align: right;\n",
              "    }\n",
              "</style>\n",
              "<table border=\"1\" class=\"dataframe\">\n",
              "  <thead>\n",
              "    <tr style=\"text-align: right;\">\n",
              "      <th></th>\n",
              "      <th>category_name</th>\n",
              "      <th>title</th>\n",
              "      <th>claster</th>\n",
              "      <th>cluster</th>\n",
              "    </tr>\n",
              "  </thead>\n",
              "  <tbody>\n",
              "    <tr>\n",
              "      <th>1</th>\n",
              "      <td>Предложение услуг</td>\n",
              "      <td>Монолитные перекрытия. Своя опалубка</td>\n",
              "      <td>13</td>\n",
              "      <td>-1</td>\n",
              "    </tr>\n",
              "    <tr>\n",
              "      <th>52</th>\n",
              "      <td>Товары для детей и игрушки</td>\n",
              "      <td>Сигма аро тим 2в1</td>\n",
              "      <td>13</td>\n",
              "      <td>-1</td>\n",
              "    </tr>\n",
              "    <tr>\n",
              "      <th>92</th>\n",
              "      <td>Товары для детей и игрушки</td>\n",
              "      <td>Коляска трансформер плюс переноска сумка</td>\n",
              "      <td>83</td>\n",
              "      <td>-1</td>\n",
              "    </tr>\n",
              "    <tr>\n",
              "      <th>165</th>\n",
              "      <td>Посуда и товары для кухни</td>\n",
              "      <td>Чайный сервиз (новый)</td>\n",
              "      <td>13</td>\n",
              "      <td>-1</td>\n",
              "    </tr>\n",
              "    <tr>\n",
              "      <th>171</th>\n",
              "      <td>Детская одежда и обувь</td>\n",
              "      <td>Выписное одеяло-конверт на холодное время года</td>\n",
              "      <td>13</td>\n",
              "      <td>-1</td>\n",
              "    </tr>\n",
              "    <tr>\n",
              "      <th>297</th>\n",
              "      <td>Аудио и видео</td>\n",
              "      <td>Приемник 206 экспортное исполнение</td>\n",
              "      <td>13</td>\n",
              "      <td>-1</td>\n",
              "    </tr>\n",
              "    <tr>\n",
              "      <th>401</th>\n",
              "      <td>Одежда, обувь, аксессуары</td>\n",
              "      <td>Украшения из георгиевских лент</td>\n",
              "      <td>13</td>\n",
              "      <td>-1</td>\n",
              "    </tr>\n",
              "    <tr>\n",
              "      <th>416</th>\n",
              "      <td>Спорт и отдых</td>\n",
              "      <td>Булавы для спорт.гимнастики</td>\n",
              "      <td>13</td>\n",
              "      <td>-1</td>\n",
              "    </tr>\n",
              "    <tr>\n",
              "      <th>443</th>\n",
              "      <td>Мебель и интерьер</td>\n",
              "      <td>Консоль с зеркалом-трюмо, банкетка</td>\n",
              "      <td>13</td>\n",
              "      <td>-1</td>\n",
              "    </tr>\n",
              "    <tr>\n",
              "      <th>598</th>\n",
              "      <td>Мебель и интерьер</td>\n",
              "      <td>Часы настольные механические Маяк 60-70е г</td>\n",
              "      <td>13</td>\n",
              "      <td>-1</td>\n",
              "    </tr>\n",
              "    <tr>\n",
              "      <th>604</th>\n",
              "      <td>Билеты и путешествия</td>\n",
              "      <td>Доминикана из москвы от 7 ночей</td>\n",
              "      <td>13</td>\n",
              "      <td>-1</td>\n",
              "    </tr>\n",
              "    <tr>\n",
              "      <th>687</th>\n",
              "      <td>Товары для детей и игрушки</td>\n",
              "      <td>Автокресло (Франция)</td>\n",
              "      <td>13</td>\n",
              "      <td>-1</td>\n",
              "    </tr>\n",
              "    <tr>\n",
              "      <th>904</th>\n",
              "      <td>Красота и здоровье</td>\n",
              "      <td>Туалетная вода (Пако Рабан</td>\n",
              "      <td>13</td>\n",
              "      <td>-1</td>\n",
              "    </tr>\n",
              "    <tr>\n",
              "      <th>1091</th>\n",
              "      <td>Телефоны</td>\n",
              "      <td>Дисплей 510 в сборе с сенсором (черный)</td>\n",
              "      <td>13</td>\n",
              "      <td>-1</td>\n",
              "    </tr>\n",
              "    <tr>\n",
              "      <th>1154</th>\n",
              "      <td>Велосипеды</td>\n",
              "      <td>Новый жен. вел. с комфортным седлом</td>\n",
              "      <td>13</td>\n",
              "      <td>-1</td>\n",
              "    </tr>\n",
              "    <tr>\n",
              "      <th>1347</th>\n",
              "      <td>Одежда, обувь, аксессуары</td>\n",
              "      <td>Новое боа из страусиных перьев белого цвета</td>\n",
              "      <td>13</td>\n",
              "      <td>-1</td>\n",
              "    </tr>\n",
              "    <tr>\n",
              "      <th>1374</th>\n",
              "      <td>Предложение услуг</td>\n",
              "      <td>Установка дверей, плотницкие работы</td>\n",
              "      <td>13</td>\n",
              "      <td>-1</td>\n",
              "    </tr>\n",
              "    <tr>\n",
              "      <th>1508</th>\n",
              "      <td>Книги и журналы</td>\n",
              "      <td>Библиотека Русских и зарубежных классиков</td>\n",
              "      <td>13</td>\n",
              "      <td>-1</td>\n",
              "    </tr>\n",
              "    <tr>\n",
              "      <th>1670</th>\n",
              "      <td>Товары для компьютера</td>\n",
              "      <td>Адаптер/салазки в слот / привода ноутбука</td>\n",
              "      <td>13</td>\n",
              "      <td>-1</td>\n",
              "    </tr>\n",
              "    <tr>\n",
              "      <th>1918</th>\n",
              "      <td>Товары для детей и игрушки</td>\n",
              "      <td>Парковка \"Щенячий патруль\" + 2 машинки</td>\n",
              "      <td>13</td>\n",
              "      <td>-1</td>\n",
              "    </tr>\n",
              "    <tr>\n",
              "      <th>2016</th>\n",
              "      <td>Спорт и отдых</td>\n",
              "      <td>Варим любые тренажёры по чертежам на заказ</td>\n",
              "      <td>13</td>\n",
              "      <td>-1</td>\n",
              "    </tr>\n",
              "    <tr>\n",
              "      <th>2087</th>\n",
              "      <td>Товары для детей и игрушки</td>\n",
              "      <td>Пианино Маша и медведь с микрофоном</td>\n",
              "      <td>13</td>\n",
              "      <td>-1</td>\n",
              "    </tr>\n",
              "    <tr>\n",
              "      <th>2154</th>\n",
              "      <td>Детская одежда и обувь</td>\n",
              "      <td>Футболка День Победы рост 104-110 новая</td>\n",
              "      <td>13</td>\n",
              "      <td>-1</td>\n",
              "    </tr>\n",
              "    <tr>\n",
              "      <th>2186</th>\n",
              "      <td>Часы и украшения</td>\n",
              "      <td>Янтарная подвеска в серебряной оправе</td>\n",
              "      <td>13</td>\n",
              "      <td>-1</td>\n",
              "    </tr>\n",
              "    <tr>\n",
              "      <th>2205</th>\n",
              "      <td>Птицы</td>\n",
              "      <td>Бройлер подрощенный (1 месяц)</td>\n",
              "      <td>13</td>\n",
              "      <td>-1</td>\n",
              "    </tr>\n",
              "    <tr>\n",
              "      <th>2221</th>\n",
              "      <td>Планшеты и электронные книги</td>\n",
              "      <td>12.04/ планшет би 82</td>\n",
              "      <td>13</td>\n",
              "      <td>-1</td>\n",
              "    </tr>\n",
              "    <tr>\n",
              "      <th>2366</th>\n",
              "      <td>Продукты питания</td>\n",
              "      <td>Сухое кокосовое молоко 60 грамм</td>\n",
              "      <td>13</td>\n",
              "      <td>-1</td>\n",
              "    </tr>\n",
              "  </tbody>\n",
              "</table>\n",
              "</div>"
            ],
            "text/plain": [
              "                     category_name  ... cluster\n",
              "1                Предложение услуг  ...      -1\n",
              "52      Товары для детей и игрушки  ...      -1\n",
              "92      Товары для детей и игрушки  ...      -1\n",
              "165      Посуда и товары для кухни  ...      -1\n",
              "171         Детская одежда и обувь  ...      -1\n",
              "297                  Аудио и видео  ...      -1\n",
              "401      Одежда, обувь, аксессуары  ...      -1\n",
              "416                  Спорт и отдых  ...      -1\n",
              "443              Мебель и интерьер  ...      -1\n",
              "598              Мебель и интерьер  ...      -1\n",
              "604           Билеты и путешествия  ...      -1\n",
              "687     Товары для детей и игрушки  ...      -1\n",
              "904             Красота и здоровье  ...      -1\n",
              "1091                      Телефоны  ...      -1\n",
              "1154                    Велосипеды  ...      -1\n",
              "1347     Одежда, обувь, аксессуары  ...      -1\n",
              "1374             Предложение услуг  ...      -1\n",
              "1508               Книги и журналы  ...      -1\n",
              "1670         Товары для компьютера  ...      -1\n",
              "1918    Товары для детей и игрушки  ...      -1\n",
              "2016                 Спорт и отдых  ...      -1\n",
              "2087    Товары для детей и игрушки  ...      -1\n",
              "2154        Детская одежда и обувь  ...      -1\n",
              "2186              Часы и украшения  ...      -1\n",
              "2205                         Птицы  ...      -1\n",
              "2221  Планшеты и электронные книги  ...      -1\n",
              "2366              Продукты питания  ...      -1\n",
              "\n",
              "[27 rows x 4 columns]"
            ]
          },
          "metadata": {
            "tags": []
          },
          "execution_count": 103
        }
      ]
    },
    {
      "cell_type": "markdown",
      "metadata": {
        "id": "emgurvIU3oje",
        "colab_type": "text"
      },
      "source": [
        "Снова попались объявления, где в названии описание (\"с комфортным седлом\", \"от 7 ночей\", \"своя опалубка\""
      ]
    },
    {
      "cell_type": "code",
      "metadata": {
        "id": "Xg-S-GvY339X",
        "colab_type": "code",
        "colab": {
          "base_uri": "https://localhost:8080/",
          "height": 887
        },
        "outputId": "9f85d653-4d40-4449-c588-99e264221cf6"
      },
      "source": [
        "testMeanShift(cv4)\n",
        "sample[sample.cluster==-1].head(50)"
      ],
      "execution_count": 104,
      "outputs": [
        {
          "output_type": "execute_result",
          "data": {
            "text/html": [
              "<div>\n",
              "<style scoped>\n",
              "    .dataframe tbody tr th:only-of-type {\n",
              "        vertical-align: middle;\n",
              "    }\n",
              "\n",
              "    .dataframe tbody tr th {\n",
              "        vertical-align: top;\n",
              "    }\n",
              "\n",
              "    .dataframe thead th {\n",
              "        text-align: right;\n",
              "    }\n",
              "</style>\n",
              "<table border=\"1\" class=\"dataframe\">\n",
              "  <thead>\n",
              "    <tr style=\"text-align: right;\">\n",
              "      <th></th>\n",
              "      <th>category_name</th>\n",
              "      <th>title</th>\n",
              "      <th>claster</th>\n",
              "      <th>cluster</th>\n",
              "    </tr>\n",
              "  </thead>\n",
              "  <tbody>\n",
              "    <tr>\n",
              "      <th>73</th>\n",
              "      <td>Игры, приставки и программы</td>\n",
              "      <td>3 250</td>\n",
              "      <td>13</td>\n",
              "      <td>-1</td>\n",
              "    </tr>\n",
              "    <tr>\n",
              "      <th>114</th>\n",
              "      <td>Квартиры</td>\n",
              "      <td>2-к квартира, 50 м², 7/18 эт.</td>\n",
              "      <td>94</td>\n",
              "      <td>-1</td>\n",
              "    </tr>\n",
              "    <tr>\n",
              "      <th>228</th>\n",
              "      <td>Одежда, обувь, аксессуары</td>\n",
              "      <td>Кеды 42р</td>\n",
              "      <td>21</td>\n",
              "      <td>-1</td>\n",
              "    </tr>\n",
              "    <tr>\n",
              "      <th>229</th>\n",
              "      <td>Телефоны</td>\n",
              "      <td>5 32</td>\n",
              "      <td>45</td>\n",
              "      <td>-1</td>\n",
              "    </tr>\n",
              "    <tr>\n",
              "      <th>230</th>\n",
              "      <td>Квартиры</td>\n",
              "      <td>2-к квартира, 85 м², 4/9 эт.</td>\n",
              "      <td>124</td>\n",
              "      <td>-1</td>\n",
              "    </tr>\n",
              "    <tr>\n",
              "      <th>308</th>\n",
              "      <td>Велосипеды</td>\n",
              "      <td>2</td>\n",
              "      <td>102</td>\n",
              "      <td>-1</td>\n",
              "    </tr>\n",
              "    <tr>\n",
              "      <th>510</th>\n",
              "      <td>Планшеты и электронные книги</td>\n",
              "      <td>2 16 -</td>\n",
              "      <td>13</td>\n",
              "      <td>-1</td>\n",
              "    </tr>\n",
              "    <tr>\n",
              "      <th>631</th>\n",
              "      <td>Квартиры</td>\n",
              "      <td>1-к квартира, 22 м², 3/9 эт.</td>\n",
              "      <td>23</td>\n",
              "      <td>-1</td>\n",
              "    </tr>\n",
              "    <tr>\n",
              "      <th>632</th>\n",
              "      <td>Квартиры</td>\n",
              "      <td>1-к квартира, 33 м², 3/5 эт.</td>\n",
              "      <td>87</td>\n",
              "      <td>-1</td>\n",
              "    </tr>\n",
              "    <tr>\n",
              "      <th>645</th>\n",
              "      <td>Телефоны</td>\n",
              "      <td>5 32</td>\n",
              "      <td>45</td>\n",
              "      <td>-1</td>\n",
              "    </tr>\n",
              "    <tr>\n",
              "      <th>767</th>\n",
              "      <td>Квартиры</td>\n",
              "      <td>1-к квартира, 40 м², 8/11 эт.</td>\n",
              "      <td>70</td>\n",
              "      <td>-1</td>\n",
              "    </tr>\n",
              "    <tr>\n",
              "      <th>775</th>\n",
              "      <td>Планшеты и электронные книги</td>\n",
              "      <td>2 128 - +</td>\n",
              "      <td>13</td>\n",
              "      <td>-1</td>\n",
              "    </tr>\n",
              "    <tr>\n",
              "      <th>972</th>\n",
              "      <td>Детская одежда и обувь</td>\n",
              "      <td>Кеды</td>\n",
              "      <td>21</td>\n",
              "      <td>-1</td>\n",
              "    </tr>\n",
              "    <tr>\n",
              "      <th>1082</th>\n",
              "      <td>Квартиры</td>\n",
              "      <td>1-к квартира, 30 м², 15/23 эт.</td>\n",
              "      <td>70</td>\n",
              "      <td>-1</td>\n",
              "    </tr>\n",
              "    <tr>\n",
              "      <th>1186</th>\n",
              "      <td>Ноутбуки</td>\n",
              "      <td>Ноутбук</td>\n",
              "      <td>77</td>\n",
              "      <td>-1</td>\n",
              "    </tr>\n",
              "    <tr>\n",
              "      <th>1217</th>\n",
              "      <td>Музыкальные инструменты</td>\n",
              "      <td>100</td>\n",
              "      <td>13</td>\n",
              "      <td>-1</td>\n",
              "    </tr>\n",
              "    <tr>\n",
              "      <th>1311</th>\n",
              "      <td>Квартиры</td>\n",
              "      <td>1-к квартира, 32 м², 2/2 эт.</td>\n",
              "      <td>99</td>\n",
              "      <td>-1</td>\n",
              "    </tr>\n",
              "    <tr>\n",
              "      <th>1319</th>\n",
              "      <td>Квартиры</td>\n",
              "      <td>3-к квартира, 62 м², 9/9 эт.</td>\n",
              "      <td>88</td>\n",
              "      <td>-1</td>\n",
              "    </tr>\n",
              "    <tr>\n",
              "      <th>1558</th>\n",
              "      <td>Телефоны</td>\n",
              "      <td>2</td>\n",
              "      <td>102</td>\n",
              "      <td>-1</td>\n",
              "    </tr>\n",
              "    <tr>\n",
              "      <th>1607</th>\n",
              "      <td>Детская одежда и обувь</td>\n",
              "      <td>Кеды</td>\n",
              "      <td>21</td>\n",
              "      <td>-1</td>\n",
              "    </tr>\n",
              "    <tr>\n",
              "      <th>1618</th>\n",
              "      <td>Детская одежда и обувь</td>\n",
              "      <td>Кеды</td>\n",
              "      <td>21</td>\n",
              "      <td>-1</td>\n",
              "    </tr>\n",
              "    <tr>\n",
              "      <th>1700</th>\n",
              "      <td>Автомобили</td>\n",
              "      <td>308, 2012</td>\n",
              "      <td>12</td>\n",
              "      <td>-1</td>\n",
              "    </tr>\n",
              "    <tr>\n",
              "      <th>2094</th>\n",
              "      <td>Квартиры</td>\n",
              "      <td>3-к квартира, 70 м², 5/5 эт.</td>\n",
              "      <td>72</td>\n",
              "      <td>-1</td>\n",
              "    </tr>\n",
              "    <tr>\n",
              "      <th>2160</th>\n",
              "      <td>Телефоны</td>\n",
              "      <td>270</td>\n",
              "      <td>13</td>\n",
              "      <td>-1</td>\n",
              "    </tr>\n",
              "    <tr>\n",
              "      <th>2171</th>\n",
              "      <td>Собаки</td>\n",
              "      <td>Хасята</td>\n",
              "      <td>13</td>\n",
              "      <td>-1</td>\n",
              "    </tr>\n",
              "    <tr>\n",
              "      <th>2211</th>\n",
              "      <td>Дома, дачи, коттеджи</td>\n",
              "      <td>Дом 170 м² на участке 15 сот.</td>\n",
              "      <td>25</td>\n",
              "      <td>-1</td>\n",
              "    </tr>\n",
              "    <tr>\n",
              "      <th>2312</th>\n",
              "      <td>Квартиры</td>\n",
              "      <td>1-к квартира, 43 м², 4/4 эт.</td>\n",
              "      <td>124</td>\n",
              "      <td>-1</td>\n",
              "    </tr>\n",
              "    <tr>\n",
              "      <th>2540</th>\n",
              "      <td>Фототехника</td>\n",
              "      <td>- 55-250 /4-5.6</td>\n",
              "      <td>13</td>\n",
              "      <td>-1</td>\n",
              "    </tr>\n",
              "  </tbody>\n",
              "</table>\n",
              "</div>"
            ],
            "text/plain": [
              "                     category_name  ... cluster\n",
              "73     Игры, приставки и программы  ...      -1\n",
              "114                       Квартиры  ...      -1\n",
              "228      Одежда, обувь, аксессуары  ...      -1\n",
              "229                       Телефоны  ...      -1\n",
              "230                       Квартиры  ...      -1\n",
              "308                     Велосипеды  ...      -1\n",
              "510   Планшеты и электронные книги  ...      -1\n",
              "631                       Квартиры  ...      -1\n",
              "632                       Квартиры  ...      -1\n",
              "645                       Телефоны  ...      -1\n",
              "767                       Квартиры  ...      -1\n",
              "775   Планшеты и электронные книги  ...      -1\n",
              "972         Детская одежда и обувь  ...      -1\n",
              "1082                      Квартиры  ...      -1\n",
              "1186                      Ноутбуки  ...      -1\n",
              "1217       Музыкальные инструменты  ...      -1\n",
              "1311                      Квартиры  ...      -1\n",
              "1319                      Квартиры  ...      -1\n",
              "1558                      Телефоны  ...      -1\n",
              "1607        Детская одежда и обувь  ...      -1\n",
              "1618        Детская одежда и обувь  ...      -1\n",
              "1700                    Автомобили  ...      -1\n",
              "2094                      Квартиры  ...      -1\n",
              "2160                      Телефоны  ...      -1\n",
              "2171                        Собаки  ...      -1\n",
              "2211          Дома, дачи, коттеджи  ...      -1\n",
              "2312                      Квартиры  ...      -1\n",
              "2540                   Фототехника  ...      -1\n",
              "\n",
              "[28 rows x 4 columns]"
            ]
          },
          "metadata": {
            "tags": []
          },
          "execution_count": 104
        }
      ]
    },
    {
      "cell_type": "markdown",
      "metadata": {
        "id": "zXFvpW2n4y2M",
        "colab_type": "text"
      },
      "source": [
        "Попали объявления, где описание состоит только из чисел или включает много чисел. А также чудесное слово \"Хасята\""
      ]
    },
    {
      "cell_type": "markdown",
      "metadata": {
        "id": "Wx4FbdyY5FuP",
        "colab_type": "text"
      },
      "source": [
        "Попробуем воспользоваться методом локтя"
      ]
    },
    {
      "cell_type": "code",
      "metadata": {
        "id": "qwQV3SOZA4L6",
        "colab_type": "code",
        "colab": {}
      },
      "source": [
        "from tqdm import tqdm\n",
        "import numpy as np\n",
        "%matplotlib inline\n",
        "import matplotlib.pyplot as plt"
      ],
      "execution_count": 0,
      "outputs": []
    },
    {
      "cell_type": "code",
      "metadata": {
        "id": "jJQ-3fqb9KNz",
        "colab_type": "code",
        "colab": {
          "base_uri": "https://localhost:8080/",
          "height": 1000
        },
        "outputId": "235df553-8cbe-4840-e55e-b9f8141b83f1"
      },
      "source": [
        "X = cv1.fit_transform(sample['title'])\n",
        "X_svd = svd.fit_transform(X)\n",
        "scores = []\n",
        "for i in tqdm(range(5, 2000, 50)):\n",
        "  cluster = KMeans(n_clusters=i)\n",
        "  cluster.fit(X)\n",
        "  scores.append(np.sqrt(cluster.inertia_))\n",
        "plt.figure(figsize=(12, 5))\n",
        "plt.plot(list(range(5, 2000, 50)), scores)"
      ],
      "execution_count": 12,
      "outputs": [
        {
          "output_type": "stream",
          "text": [
            "\n",
            "  0%|          | 0/40 [00:00<?, ?it/s]\u001b[A\n",
            "  2%|▎         | 1/40 [00:00<00:31,  1.23it/s]\u001b[A\n",
            "  5%|▌         | 2/40 [00:03<00:51,  1.36s/it]\u001b[A\n",
            "  8%|▊         | 3/40 [00:06<01:09,  1.88s/it]\u001b[A\n",
            " 10%|█         | 4/40 [00:10<01:29,  2.47s/it]\u001b[A\n",
            " 12%|█▎        | 5/40 [00:14<01:47,  3.08s/it]\u001b[A\n",
            " 15%|█▌        | 6/40 [00:20<02:06,  3.71s/it]\u001b[A\n",
            " 18%|█▊        | 7/40 [00:26<02:29,  4.54s/it]\u001b[A\n",
            " 20%|██        | 8/40 [00:33<02:49,  5.30s/it]\u001b[A\n",
            " 22%|██▎       | 9/40 [00:42<03:13,  6.24s/it]\u001b[A\n",
            " 25%|██▌       | 10/40 [00:51<03:36,  7.21s/it]\u001b[A\n",
            " 28%|██▊       | 11/40 [01:02<03:58,  8.21s/it]\u001b[A\n",
            " 30%|███       | 12/40 [01:13<04:15,  9.14s/it]\u001b[A\n",
            " 32%|███▎      | 13/40 [01:25<04:29,  9.98s/it]\u001b[A\n",
            " 35%|███▌      | 14/40 [01:38<04:42, 10.87s/it]\u001b[A\n",
            " 38%|███▊      | 15/40 [01:52<04:59, 11.97s/it]\u001b[A\n",
            " 40%|████      | 16/40 [02:07<05:07, 12.80s/it]\u001b[A\n",
            " 42%|████▎     | 17/40 [02:23<05:16, 13.76s/it]\u001b[A\n",
            " 45%|████▌     | 18/40 [02:39<05:18, 14.46s/it]\u001b[A\n",
            " 48%|████▊     | 19/40 [02:56<05:20, 15.25s/it]\u001b[A\n",
            " 50%|█████     | 20/40 [03:14<05:19, 15.97s/it]\u001b[A\n",
            " 52%|█████▎    | 21/40 [03:32<05:15, 16.61s/it]\u001b[A\n",
            " 55%|█████▌    | 22/40 [03:51<05:13, 17.40s/it]\u001b[A\n",
            " 57%|█████▊    | 23/40 [04:11<05:08, 18.14s/it]\u001b[A\n",
            " 60%|██████    | 24/40 [04:32<05:05, 19.07s/it]\u001b[A\n",
            " 62%|██████▎   | 25/40 [04:54<04:57, 19.84s/it]\u001b[A\n",
            " 65%|██████▌   | 26/40 [05:16<04:48, 20.62s/it]\u001b[A\n",
            " 68%|██████▊   | 27/40 [05:39<04:36, 21.28s/it]\u001b[A\n",
            " 70%|███████   | 28/40 [06:03<04:23, 21.96s/it]\u001b[A\n",
            " 72%|███████▎  | 29/40 [06:28<04:10, 22.79s/it]\u001b[A\n",
            " 75%|███████▌  | 30/40 [06:53<03:54, 23.45s/it]\u001b[A\n",
            " 78%|███████▊  | 31/40 [07:19<03:38, 24.31s/it]\u001b[A\n",
            " 80%|████████  | 32/40 [07:45<03:18, 24.83s/it]\u001b[A\n",
            " 82%|████████▎ | 33/40 [08:12<02:58, 25.43s/it]\u001b[A\n",
            " 85%|████████▌ | 34/40 [08:38<02:34, 25.82s/it]\u001b[A\n",
            " 88%|████████▊ | 35/40 [09:05<02:10, 26.01s/it]\u001b[A\n",
            " 90%|█████████ | 36/40 [09:32<01:45, 26.30s/it]\u001b[A\n",
            " 92%|█████████▎| 37/40 [09:59<01:19, 26.54s/it]\u001b[A\n",
            " 95%|█████████▌| 38/40 [10:27<00:53, 26.94s/it]\u001b[A\n",
            " 98%|█████████▊| 39/40 [10:55<00:27, 27.44s/it]\u001b[A\n",
            "100%|██████████| 40/40 [11:25<00:00, 27.96s/it]\u001b[A\n",
            "\u001b[A"
          ],
          "name": "stderr"
        },
        {
          "output_type": "execute_result",
          "data": {
            "text/plain": [
              "[<matplotlib.lines.Line2D at 0x7fa7d8f675c0>]"
            ]
          },
          "metadata": {
            "tags": []
          },
          "execution_count": 12
        },
        {
          "output_type": "display_data",
          "data": {
            "image/png": "[encoded data removed]",
            "text/plain": [
              "<Figure size 864x360 with 1 Axes>"
            ]
          },
          "metadata": {
            "tags": []
          }
        }
      ]
    },
    {
      "cell_type": "code",
      "metadata": {
        "id": "rrOj-zfSPt9u",
        "colab_type": "code",
        "colab": {
          "base_uri": "https://localhost:8080/",
          "height": 1000
        },
        "outputId": "db738878-e04a-4329-8409-7bcd7b9e84eb"
      },
      "source": [
        "cv5 = CountVectorizer(ngram_range = (2,3))\n",
        "X = cv5.fit_transform(sample['title'])\n",
        "X_svd = svd.fit_transform(X)\n",
        "scores = []\n",
        "for i in tqdm(range(5, 2000, 50)):\n",
        "  cluster = KMeans(n_clusters=i)\n",
        "  cluster.fit(X)\n",
        "  scores.append(np.sqrt(cluster.inertia_))\n",
        "plt.figure(figsize=(12, 5))\n",
        "plt.plot(list(range(5, 2000, 50)), scores)"
      ],
      "execution_count": 13,
      "outputs": [
        {
          "output_type": "stream",
          "text": [
            "\n",
            "  0%|          | 0/40 [00:00<?, ?it/s]\u001b[A\n",
            "  2%|▎         | 1/40 [00:00<00:23,  1.67it/s]\u001b[A\n",
            "  5%|▌         | 2/40 [00:02<00:36,  1.03it/s]\u001b[A\n",
            "  8%|▊         | 3/40 [00:05<00:54,  1.47s/it]\u001b[A\n",
            " 10%|█         | 4/40 [00:08<01:14,  2.07s/it]\u001b[A\n",
            " 12%|█▎        | 5/40 [00:12<01:36,  2.75s/it]\u001b[A\n",
            " 15%|█▌        | 6/40 [00:17<01:57,  3.45s/it]\u001b[A\n",
            " 18%|█▊        | 7/40 [00:24<02:19,  4.24s/it]\u001b[A\n",
            " 20%|██        | 8/40 [00:30<02:38,  4.96s/it]\u001b[A\n",
            " 22%|██▎       | 9/40 [00:38<02:57,  5.72s/it]\u001b[A\n",
            " 25%|██▌       | 10/40 [00:46<03:12,  6.41s/it]\u001b[A\n",
            " 28%|██▊       | 11/40 [00:55<03:28,  7.18s/it]\u001b[A\n",
            " 30%|███       | 12/40 [01:04<03:43,  7.97s/it]\u001b[A\n",
            " 32%|███▎      | 13/40 [01:15<03:55,  8.73s/it]\u001b[A\n",
            " 35%|███▌      | 14/40 [01:26<04:07,  9.50s/it]\u001b[A\n",
            " 38%|███▊      | 15/40 [01:38<04:17, 10.28s/it]\u001b[A\n",
            " 40%|████      | 16/40 [01:51<04:24, 11.02s/it]\u001b[A\n",
            " 42%|████▎     | 17/40 [02:05<04:31, 11.79s/it]\u001b[A\n",
            " 45%|████▌     | 18/40 [02:19<04:35, 12.51s/it]\u001b[A\n",
            " 48%|████▊     | 19/40 [02:34<04:38, 13.28s/it]\u001b[A\n",
            " 50%|█████     | 20/40 [02:50<04:40, 14.03s/it]\u001b[A\n",
            " 52%|█████▎    | 21/40 [03:06<04:40, 14.77s/it]\u001b[A\n",
            " 55%|█████▌    | 22/40 [03:24<04:39, 15.54s/it]\u001b[A\n",
            " 57%|█████▊    | 23/40 [03:42<04:38, 16.38s/it]\u001b[A\n",
            " 60%|██████    | 24/40 [04:01<04:35, 17.20s/it]\u001b[A\n",
            " 62%|██████▎   | 25/40 [04:21<04:30, 18.01s/it]\u001b[A\n",
            " 65%|██████▌   | 26/40 [04:42<04:23, 18.80s/it]\u001b[A\n",
            " 68%|██████▊   | 27/40 [05:03<04:15, 19.64s/it]\u001b[A\n",
            " 70%|███████   | 28/40 [05:25<04:04, 20.42s/it]\u001b[A\n",
            " 72%|███████▎  | 29/40 [05:48<03:52, 21.14s/it]\u001b[A\n",
            " 75%|███████▌  | 30/40 [06:12<03:39, 21.96s/it]\u001b[A\n",
            " 78%|███████▊  | 31/40 [06:37<03:24, 22.74s/it]\u001b[A\n",
            " 80%|████████  | 32/40 [07:02<03:07, 23.48s/it]\u001b[A\n",
            " 82%|████████▎ | 33/40 [07:28<02:49, 24.23s/it]\u001b[A\n",
            " 85%|████████▌ | 34/40 [07:55<02:29, 24.99s/it]\u001b[A\n",
            " 88%|████████▊ | 35/40 [08:22<02:08, 25.72s/it]\u001b[A\n",
            " 90%|█████████ | 36/40 [08:50<01:45, 26.45s/it]\u001b[A\n",
            " 92%|█████████▎| 37/40 [09:19<01:21, 27.25s/it]\u001b[A\n",
            " 95%|█████████▌| 38/40 [09:49<00:56, 28.05s/it]\u001b[A\n",
            " 98%|█████████▊| 39/40 [10:20<00:28, 28.83s/it]\u001b[A\n",
            "100%|██████████| 40/40 [10:51<00:00, 29.57s/it]\u001b[A\n",
            "\u001b[A"
          ],
          "name": "stderr"
        },
        {
          "output_type": "execute_result",
          "data": {
            "text/plain": [
              "[<matplotlib.lines.Line2D at 0x7fa7d8a2af98>]"
            ]
          },
          "metadata": {
            "tags": []
          },
          "execution_count": 13
        },
        {
          "output_type": "display_data",
          "data": {
            "image/png": "[encoded data removed]",
            "text/plain": [
              "<Figure size 864x360 with 1 Axes>"
            ]
          },
          "metadata": {
            "tags": []
          }
        }
      ]
    },
    {
      "cell_type": "code",
      "metadata": {
        "id": "aFbe1mCIQLaw",
        "colab_type": "code",
        "colab": {
          "base_uri": "https://localhost:8080/",
          "height": 1000
        },
        "outputId": "4dcbafa6-ee54-4922-a081-8edb056b5c3b"
      },
      "source": [
        "cv4 = CountVectorizer(ngram_range = (2,3))\n",
        "X = cv5.fit_transform(sample['title'])\n",
        "X_svd = svd.fit_transform(X)\n",
        "scores = []\n",
        "for i in tqdm(range(5, 2000, 50)):\n",
        "  cluster = KMeans(n_clusters=i)\n",
        "  cluster.fit(X)\n",
        "  scores.append(np.sqrt(cluster.inertia_))\n",
        "plt.figure(figsize=(12, 5))\n",
        "plt.plot(list(range(5, 2000, 50)), scores)"
      ],
      "execution_count": 14,
      "outputs": [
        {
          "output_type": "stream",
          "text": [
            "\n",
            "  0%|          | 0/40 [00:00<?, ?it/s]\u001b[A\n",
            "  2%|▎         | 1/40 [00:00<00:21,  1.83it/s]\u001b[A\n",
            "  5%|▌         | 2/40 [00:02<00:35,  1.07it/s]\u001b[A\n",
            "  8%|▊         | 3/40 [00:04<00:52,  1.43s/it]\u001b[A\n",
            " 10%|█         | 4/40 [00:08<01:14,  2.08s/it]\u001b[A\n",
            " 12%|█▎        | 5/40 [00:13<01:37,  2.79s/it]\u001b[A\n",
            " 15%|█▌        | 6/40 [00:18<02:02,  3.61s/it]\u001b[A\n",
            " 18%|█▊        | 7/40 [00:24<02:20,  4.27s/it]\u001b[A\n",
            " 20%|██        | 8/40 [00:30<02:38,  4.96s/it]\u001b[A\n",
            " 22%|██▎       | 9/40 [00:38<02:56,  5.69s/it]\u001b[A\n",
            " 25%|██▌       | 10/40 [00:46<03:12,  6.43s/it]\u001b[A\n",
            " 28%|██▊       | 11/40 [00:55<03:28,  7.17s/it]\u001b[A\n",
            " 30%|███       | 12/40 [01:05<03:42,  7.93s/it]\u001b[A\n",
            " 32%|███▎      | 13/40 [01:15<03:54,  8.68s/it]\u001b[A\n",
            " 35%|███▌      | 14/40 [01:26<04:06,  9.46s/it]\u001b[A\n",
            " 38%|███▊      | 15/40 [01:38<04:16, 10.24s/it]\u001b[A\n",
            " 40%|████      | 16/40 [01:51<04:24, 11.02s/it]\u001b[A\n",
            " 42%|████▎     | 17/40 [02:05<04:31, 11.80s/it]\u001b[A\n",
            " 45%|████▌     | 18/40 [02:19<04:35, 12.52s/it]\u001b[A\n",
            " 48%|████▊     | 19/40 [02:34<04:39, 13.30s/it]\u001b[A\n",
            " 50%|█████     | 20/40 [02:50<04:41, 14.09s/it]\u001b[A\n",
            " 52%|█████▎    | 21/40 [03:07<04:42, 14.89s/it]\u001b[A\n",
            " 55%|█████▌    | 22/40 [03:24<04:42, 15.71s/it]\u001b[A\n",
            " 57%|█████▊    | 23/40 [03:43<04:41, 16.58s/it]\u001b[A\n",
            " 60%|██████    | 24/40 [04:03<04:39, 17.47s/it]\u001b[A\n",
            " 62%|██████▎   | 25/40 [04:23<04:34, 18.27s/it]\u001b[A\n",
            " 65%|██████▌   | 26/40 [04:44<04:27, 19.07s/it]\u001b[A\n",
            " 68%|██████▊   | 27/40 [05:05<04:18, 19.89s/it]\u001b[A\n",
            " 70%|███████   | 28/40 [05:28<04:08, 20.68s/it]\u001b[A\n",
            " 72%|███████▎  | 29/40 [05:51<03:55, 21.44s/it]\u001b[A\n",
            " 75%|███████▌  | 30/40 [06:15<03:41, 22.18s/it]\u001b[A\n",
            " 78%|███████▊  | 31/40 [06:39<03:25, 22.84s/it]\u001b[A\n",
            " 80%|████████  | 32/40 [07:05<03:08, 23.57s/it]\u001b[A\n",
            " 82%|████████▎ | 33/40 [07:31<02:49, 24.27s/it]\u001b[A\n",
            " 85%|████████▌ | 34/40 [07:57<02:29, 24.98s/it]\u001b[A\n",
            " 88%|████████▊ | 35/40 [08:25<02:08, 25.68s/it]\u001b[A\n",
            " 90%|█████████ | 36/40 [08:53<01:45, 26.37s/it]\u001b[A\n",
            " 92%|█████████▎| 37/40 [09:21<01:21, 27.10s/it]\u001b[A\n",
            " 95%|█████████▌| 38/40 [09:51<00:55, 27.82s/it]\u001b[A\n",
            " 98%|█████████▊| 39/40 [10:21<00:28, 28.53s/it]\u001b[A\n",
            "100%|██████████| 40/40 [10:52<00:00, 29.29s/it]\u001b[A\n",
            "\u001b[A"
          ],
          "name": "stderr"
        },
        {
          "output_type": "execute_result",
          "data": {
            "text/plain": [
              "[<matplotlib.lines.Line2D at 0x7fa7d886ab38>]"
            ]
          },
          "metadata": {
            "tags": []
          },
          "execution_count": 14
        },
        {
          "output_type": "display_data",
          "data": {
            "image/png": "[encoded data removed]",
            "text/plain": [
              "<Figure size 864x360 with 1 Axes>"
            ]
          },
          "metadata": {
            "tags": []
          }
        }
      ]
    },
    {
      "cell_type": "markdown",
      "metadata": {
        "id": "12PZbyMPVOng",
        "colab_type": "text"
      },
      "source": [
        "Ни на словах, ни на n-граммах, ни на символьных n-граммах ничего похожего на локоть не получилось"
      ]
    }
  ]
}