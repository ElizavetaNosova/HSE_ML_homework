{
  "nbformat": 4,
  "nbformat_minor": 0,
  "metadata": {
    "colab": {
      "name": "EnsembleHW.ipynb",
      "provenance": [],
      "authorship_tag": "ABX9TyP/zpeRqAH5LgnK4hcxI7ZK",
      "include_colab_link": true
    },
    "kernelspec": {
      "name": "python3",
      "display_name": "Python 3"
    }
  },
  "cells": [
    {
      "cell_type": "markdown",
      "metadata": {
        "id": "view-in-github",
        "colab_type": "text"
      },
      "source": [
        "<a href=\"https://colab.research.google.com/github/ElizavetaNosova/HSE_ML_homework/blob/master/EnsembleHW.ipynb\" target=\"_parent\"><img src=\"https://colab.research.google.com/assets/colab-badge.svg\" alt=\"Open In Colab\"/></a>"
      ]
    },
    {
      "cell_type": "code",
      "metadata": {
        "id": "NbO3PEzg7lve",
        "colab_type": "code",
        "colab": {}
      },
      "source": [
        "import pandas as pd\n",
        "from sklearn.pipeline import Pipeline\n",
        "from sklearn.ensemble import ExtraTreesClassifier\n",
        "from sklearn.feature_extraction.text import *\n",
        "from sklearn.metrics import *\n",
        "from sklearn.naive_bayes import MultinomialNB, GaussianNB\n",
        "from sklearn.linear_model import SGDClassifier, LogisticRegression, LinearRegression, LogisticRegressionCV\n",
        "from sklearn.ensemble import RandomForestClassifier,  BaggingClassifier, BaggingRegressor, RandomTreesEmbedding,GradientBoostingClassifier\n",
        "from sklearn.tree import DecisionTreeClassifier, ExtraTreeClassifier\n",
        "from sklearn.model_selection import train_test_split\n",
        "from sklearn.feature_extraction.text import CountVectorizer, TfidfTransformer, TfidfVectorizer"
      ],
      "execution_count": 0,
      "outputs": []
    },
    {
      "cell_type": "code",
      "metadata": {
        "id": "N_S9pJINAiOF",
        "colab_type": "code",
        "outputId": "a505a770-0d8c-4931-9fbb-b92b707cb579",
        "colab": {
          "base_uri": "https://localhost:8080/",
          "height": 197
        }
      },
      "source": [
        "data_url = 'https://raw.githubusercontent.com/TatianaShavrina/hse_ml_m1/master/ensembles/complaints.csv'\n",
        "data = pd.read_csv(data_url, sep='\\t')\n",
        "data.head()"
      ],
      "execution_count": 4,
      "outputs": [
        {
          "output_type": "execute_result",
          "data": {
            "text/html": [
              "<div>\n",
              "<style scoped>\n",
              "    .dataframe tbody tr th:only-of-type {\n",
              "        vertical-align: middle;\n",
              "    }\n",
              "\n",
              "    .dataframe tbody tr th {\n",
              "        vertical-align: top;\n",
              "    }\n",
              "\n",
              "    .dataframe thead th {\n",
              "        text-align: right;\n",
              "    }\n",
              "</style>\n",
              "<table border=\"1\" class=\"dataframe\">\n",
              "  <thead>\n",
              "    <tr style=\"text-align: right;\">\n",
              "      <th></th>\n",
              "      <th>COMPLAINT_ID</th>\n",
              "      <th>DATE</th>\n",
              "      <th>PRODUCT_ID</th>\n",
              "      <th>ISSUE_ID</th>\n",
              "      <th>cleaned_text</th>\n",
              "    </tr>\n",
              "  </thead>\n",
              "  <tbody>\n",
              "    <tr>\n",
              "      <th>0</th>\n",
              "      <td>3178905</td>\n",
              "      <td>03/13/2019</td>\n",
              "      <td>44</td>\n",
              "      <td>318</td>\n",
              "      <td>go year . contact advis never took loan . advi...</td>\n",
              "    </tr>\n",
              "    <tr>\n",
              "      <th>1</th>\n",
              "      <td>3175952</td>\n",
              "      <td>03/12/2019</td>\n",
              "      <td>44</td>\n",
              "      <td>349</td>\n",
              "      <td>mail valid debt xx/xx/19 valid receiv , receiv...</td>\n",
              "    </tr>\n",
              "    <tr>\n",
              "      <th>2</th>\n",
              "      <td>3174747</td>\n",
              "      <td>03/09/2019</td>\n",
              "      <td>44</td>\n",
              "      <td>16</td>\n",
              "      <td>xx/xx/xxxx appli receiv onlin loan bluechip fi...</td>\n",
              "    </tr>\n",
              "    <tr>\n",
              "      <th>3</th>\n",
              "      <td>3173291</td>\n",
              "      <td>03/08/2019</td>\n",
              "      <td>44</td>\n",
              "      <td>16</td>\n",
              "      <td>xx/xx/xxxx appli receiv onlin loan . loan amou...</td>\n",
              "    </tr>\n",
              "    <tr>\n",
              "      <th>4</th>\n",
              "      <td>3172221</td>\n",
              "      <td>03/07/2019</td>\n",
              "      <td>44</td>\n",
              "      <td>48</td>\n",
              "      <td>told husband left bill . debt would pay within...</td>\n",
              "    </tr>\n",
              "  </tbody>\n",
              "</table>\n",
              "</div>"
            ],
            "text/plain": [
              "   COMPLAINT_ID  ...                                       cleaned_text\n",
              "0       3178905  ...  go year . contact advis never took loan . advi...\n",
              "1       3175952  ...  mail valid debt xx/xx/19 valid receiv , receiv...\n",
              "2       3174747  ...  xx/xx/xxxx appli receiv onlin loan bluechip fi...\n",
              "3       3173291  ...  xx/xx/xxxx appli receiv onlin loan . loan amou...\n",
              "4       3172221  ...  told husband left bill . debt would pay within...\n",
              "\n",
              "[5 rows x 5 columns]"
            ]
          },
          "metadata": {
            "tags": []
          },
          "execution_count": 4
        }
      ]
    },
    {
      "cell_type": "code",
      "metadata": {
        "id": "FGxNepAxBFTY",
        "colab_type": "code",
        "colab": {}
      },
      "source": [
        "y = data[\"PRODUCT_ID\"]\n",
        "X = data[\"cleaned_text\"]\n",
        "X_train, X_test, y_train, y_test = train_test_split(X, y, test_size=0.1, random_state=42)"
      ],
      "execution_count": 0,
      "outputs": []
    },
    {
      "cell_type": "markdown",
      "metadata": {
        "id": "Ppwhda9lBMdD",
        "colab_type": "text"
      },
      "source": [
        " Voting Classifier (попробую другие параметры)"
      ]
    },
    {
      "cell_type": "code",
      "metadata": {
        "id": "IuCtCQizBNG9",
        "colab_type": "code",
        "colab": {}
      },
      "source": [
        "from sklearn.ensemble import RandomForestClassifier, VotingClassifier"
      ],
      "execution_count": 0,
      "outputs": []
    },
    {
      "cell_type": "code",
      "metadata": {
        "id": "QF_40HIpByMd",
        "colab_type": "code",
        "outputId": "492d7269-40d2-4062-bc6c-0dc0d9aac8db",
        "colab": {
          "base_uri": "https://localhost:8080/",
          "height": 158
        }
      },
      "source": [
        "clf1 = LogisticRegression(multi_class='multinomial', solver='lbfgs', random_state=1, C=1.5)\n",
        "clf2 = RandomForestClassifier(n_estimators=75, random_state=1)\n",
        "clf3 = GaussianNB()\n",
        "\n",
        "eclf = VotingClassifier(estimators=[\n",
        "        ('lr', clf1), ('rf', clf2), ('gnb', clf3)], voting='soft')\n",
        "\n",
        "voting = Pipeline([\n",
        "    ('vect', CountVectorizer(analyzer='word', max_features=500)),\n",
        "    ('tfidf', TfidfTransformer(sublinear_tf=True)),\n",
        "    ('to_dense', FunctionTransformer(lambda x: x.todense(), accept_sparse=True)), \n",
        "    ('clf', eclf),\n",
        "    ])\n",
        "voting = voting.fit(X_train, y_train)"
      ],
      "execution_count": 9,
      "outputs": [
        {
          "output_type": "stream",
          "text": [
            "/usr/local/lib/python3.6/dist-packages/sklearn/linear_model/_logistic.py:940: ConvergenceWarning: lbfgs failed to converge (status=1):\n",
            "STOP: TOTAL NO. of ITERATIONS REACHED LIMIT.\n",
            "\n",
            "Increase the number of iterations (max_iter) or scale the data as shown in:\n",
            "    https://scikit-learn.org/stable/modules/preprocessing.html\n",
            "Please also refer to the documentation for alternative solver options:\n",
            "    https://scikit-learn.org/stable/modules/linear_model.html#logistic-regression\n",
            "  extra_warning_msg=_LOGISTIC_SOLVER_CONVERGENCE_MSG)\n"
          ],
          "name": "stderr"
        }
      ]
    },
    {
      "cell_type": "code",
      "metadata": {
        "id": "2WFVlKVcCS6n",
        "colab_type": "code",
        "outputId": "d9214e68-c6c0-41a2-82a9-9e4d86689721",
        "colab": {
          "base_uri": "https://localhost:8080/",
          "height": 87
        }
      },
      "source": [
        "predictions = voting.predict(X_test)\n",
        "print(\"Precision: {0:6.2f}\".format(precision_score(y_test, predictions, average='macro')))\n",
        "print(\"Recall: {0:6.2f}\".format(recall_score(y_test, predictions, average='macro')))\n",
        "print(\"F1-measure: {0:6.2f}\".format(f1_score(y_test, predictions, average='macro')))\n",
        "print(\"Accuracy: {0:6.2f}\".format(accuracy_score(y_test, predictions)))\n",
        "##Получилось увеличить метрики (в основном за счет параметров векторайзера)"
      ],
      "execution_count": 0,
      "outputs": [
        {
          "output_type": "stream",
          "text": [
            "Precision:   0.64\n",
            "Recall:   0.64\n",
            "F1-measure:   0.63\n",
            "Accuracy:   0.64\n"
          ],
          "name": "stdout"
        }
      ]
    },
    {
      "cell_type": "markdown",
      "metadata": {
        "id": "QArFgGr3ER_Y",
        "colab_type": "text"
      },
      "source": [
        "Bagging"
      ]
    },
    {
      "cell_type": "code",
      "metadata": {
        "id": "EAJopJJ3GIux",
        "colab_type": "code",
        "colab": {}
      },
      "source": [
        "%matplotlib inline\n",
        "\n",
        "import itertools\n",
        "from sklearn.ensemble import RandomForestClassifier\n",
        "from sklearn.ensemble import BaggingClassifier\n",
        "from sklearn.model_selection import cross_val_score, train_test_split\n",
        "np.random.seed(0)"
      ],
      "execution_count": 0,
      "outputs": []
    },
    {
      "cell_type": "markdown",
      "metadata": {
        "id": "_Sw5c0KQc7_M",
        "colab_type": "text"
      },
      "source": [
        "Одна модель, разные параметры"
      ]
    },
    {
      "cell_type": "code",
      "metadata": {
        "id": "ODHGMrvwGWNw",
        "colab_type": "code",
        "colab": {}
      },
      "source": [
        "clf1 = KNeighborsClassifier(n_neighbors=50)\n",
        "clf2 = KNeighborsClassifier(n_neighbors=15)    \n",
        "\n",
        "bagging = BaggingClassifier(base_estimator=clf1, n_estimators=10, max_samples=0.8, max_features=0.8)"
      ],
      "execution_count": 0,
      "outputs": []
    },
    {
      "cell_type": "code",
      "metadata": {
        "id": "9aLKsPtCHi7M",
        "colab_type": "code",
        "colab": {}
      },
      "source": [
        "cv =  CountVectorizer( analyzer='word', max_features=1500, max_df=0.5)\n",
        "XV = cv.fit_transform(X)"
      ],
      "execution_count": 0,
      "outputs": []
    },
    {
      "cell_type": "code",
      "metadata": {
        "id": "GKPgsUGkLTpL",
        "colab_type": "code",
        "colab": {}
      },
      "source": [
        "cv2= CountVectorizer(analyzer='word', max_features=500, max_df=0.5)\n",
        "XV2 = cv2.fit_transform(X)"
      ],
      "execution_count": 0,
      "outputs": []
    },
    {
      "cell_type": "code",
      "metadata": {
        "id": "W308M2gsHHYb",
        "colab_type": "code",
        "outputId": "179558d6-566b-4b95-84b4-dec058aad1a0",
        "colab": {
          "base_uri": "https://localhost:8080/",
          "height": 34
        }
      },
      "source": [
        "from statistics import mean\n",
        "mean(cross_val_score(clf1, XV, y, cv=3, scoring='accuracy'))"
      ],
      "execution_count": 24,
      "outputs": [
        {
          "output_type": "execute_result",
          "data": {
            "text/plain": [
              "0.4191856073730919"
            ]
          },
          "metadata": {
            "tags": []
          },
          "execution_count": 24
        }
      ]
    },
    {
      "cell_type": "code",
      "metadata": {
        "id": "tosnnrv2nptw",
        "colab_type": "code",
        "colab": {
          "base_uri": "https://localhost:8080/",
          "height": 34
        },
        "outputId": "712d71b5-7d8d-4ca5-b672-b572cec6f605"
      },
      "source": [
        "mean(cross_val_score(clf1, XV2, y, cv=3, scoring='accuracy'))"
      ],
      "execution_count": 25,
      "outputs": [
        {
          "output_type": "execute_result",
          "data": {
            "text/plain": [
              "0.4444961791703877"
            ]
          },
          "metadata": {
            "tags": []
          },
          "execution_count": 25
        }
      ]
    },
    {
      "cell_type": "code",
      "metadata": {
        "id": "YNlY1O_GLJA-",
        "colab_type": "code",
        "outputId": "54437dda-2ffa-42de-8fef-a0c4ab602264",
        "colab": {
          "base_uri": "https://localhost:8080/",
          "height": 34
        }
      },
      "source": [
        "mean(cross_val_score(clf2, XV, y, cv=3, scoring='accuracy'))"
      ],
      "execution_count": 26,
      "outputs": [
        {
          "output_type": "execute_result",
          "data": {
            "text/plain": [
              "0.44075942393578793"
            ]
          },
          "metadata": {
            "tags": []
          },
          "execution_count": 26
        }
      ]
    },
    {
      "cell_type": "code",
      "metadata": {
        "id": "a4X3L25tn2Kt",
        "colab_type": "code",
        "colab": {
          "base_uri": "https://localhost:8080/",
          "height": 34
        },
        "outputId": "b1947b47-edf9-4344-c221-e92d1b1e90fb"
      },
      "source": [
        "mean(cross_val_score(clf2, XV2, y, cv=3, scoring='accuracy'))"
      ],
      "execution_count": 27,
      "outputs": [
        {
          "output_type": "execute_result",
          "data": {
            "text/plain": [
              "0.45353515542427925"
            ]
          },
          "metadata": {
            "tags": []
          },
          "execution_count": 27
        }
      ]
    },
    {
      "cell_type": "markdown",
      "metadata": {
        "id": "LQsbeWS5oeFF",
        "colab_type": "text"
      },
      "source": [
        "Для обеих моделей лучше векторизация XV2"
      ]
    },
    {
      "cell_type": "code",
      "metadata": {
        "id": "WMcBmxrJLrgM",
        "colab_type": "code",
        "outputId": "1a9cf896-4261-42dd-fdcd-9aa03adcc65d",
        "colab": {
          "base_uri": "https://localhost:8080/",
          "height": 34
        }
      },
      "source": [
        "mean(cross_val_score(bagging, XV2, y, cv=3, scoring='accuracy'))"
      ],
      "execution_count": 29,
      "outputs": [
        {
          "output_type": "execute_result",
          "data": {
            "text/plain": [
              "0.4448578428231906"
            ]
          },
          "metadata": {
            "tags": []
          },
          "execution_count": 29
        }
      ]
    },
    {
      "cell_type": "markdown",
      "metadata": {
        "id": "ZrQH8q0hwW72",
        "colab_type": "text"
      },
      "source": [
        "Не удалось превзойти результат на лучшей из моделей"
      ]
    },
    {
      "cell_type": "markdown",
      "metadata": {
        "id": "BsxqkYWHdAix",
        "colab_type": "text"
      },
      "source": [
        "Разные модели"
      ]
    },
    {
      "cell_type": "code",
      "metadata": {
        "id": "Xf_xxww8iP0z",
        "colab_type": "code",
        "colab": {}
      },
      "source": [
        "clf1 = RandomForestClassifier(n_estimators=75, random_state=1)"
      ],
      "execution_count": 0,
      "outputs": []
    },
    {
      "cell_type": "code",
      "metadata": {
        "id": "gThE8erovmUC",
        "colab_type": "code",
        "colab": {
          "base_uri": "https://localhost:8080/",
          "height": 34
        },
        "outputId": "3829b147-195c-48f6-b9d9-a340b4ea3957"
      },
      "source": [
        "mean(cross_val_score(clf1, XV2, y, cv=3, scoring='accuracy'))"
      ],
      "execution_count": 40,
      "outputs": [
        {
          "output_type": "execute_result",
          "data": {
            "text/plain": [
              "0.6315512093155631"
            ]
          },
          "metadata": {
            "tags": []
          },
          "execution_count": 40
        }
      ]
    },
    {
      "cell_type": "code",
      "metadata": {
        "id": "Xqhm_GKCwoZU",
        "colab_type": "code",
        "colab": {}
      },
      "source": [
        "clf2 = KNeighborsClassifier(n_neighbors=15)"
      ],
      "execution_count": 0,
      "outputs": []
    },
    {
      "cell_type": "code",
      "metadata": {
        "id": "Y9PswTS7w0Mr",
        "colab_type": "code",
        "colab": {}
      },
      "source": [
        "bagging = BaggingClassifier(base_estimator=clf1, n_estimators=10, max_samples=0.8, max_features=0.8)"
      ],
      "execution_count": 0,
      "outputs": []
    },
    {
      "cell_type": "code",
      "metadata": {
        "id": "mRcXE5jAw4Bo",
        "colab_type": "code",
        "colab": {
          "base_uri": "https://localhost:8080/",
          "height": 34
        },
        "outputId": "0ea6f91b-69c5-4005-b3e4-accaf58ad3f4"
      },
      "source": [
        "mean(cross_val_score(bagging, XV2, y, cv=3, scoring='accuracy'))"
      ],
      "execution_count": 43,
      "outputs": [
        {
          "output_type": "execute_result",
          "data": {
            "text/plain": [
              "0.6390234122516723"
            ]
          },
          "metadata": {
            "tags": []
          },
          "execution_count": 43
        }
      ]
    },
    {
      "cell_type": "markdown",
      "metadata": {
        "id": "0MvJxMNuz2uJ",
        "colab_type": "text"
      },
      "source": [
        "Превосходит лучшую из моделей-составляющих чуть меньше, чем на процент"
      ]
    },
    {
      "cell_type": "markdown",
      "metadata": {
        "id": "p-844sbGNpBg",
        "colab_type": "text"
      },
      "source": [
        "Boosting"
      ]
    },
    {
      "cell_type": "markdown",
      "metadata": {
        "id": "ZNYhkC4IPF2L",
        "colab_type": "text"
      },
      "source": [
        "XGB"
      ]
    },
    {
      "cell_type": "code",
      "metadata": {
        "id": "JZHUOrI5O5fd",
        "colab_type": "code",
        "colab": {}
      },
      "source": [
        "import xgboost as xgb"
      ],
      "execution_count": 0,
      "outputs": []
    },
    {
      "cell_type": "code",
      "metadata": {
        "id": "qXtj7wOaO9Jr",
        "colab_type": "code",
        "outputId": "7b0e51bf-2366-4b0d-9e9b-95683bce98d6",
        "colab": {
          "base_uri": "https://localhost:8080/",
          "height": 87
        }
      },
      "source": [
        "clf = xgb.XGBClassifier(objective='multi:softmax')\n",
        "clf.fit(X_train,  y_train)\n",
        "predictions = clf.predict(X_test)\n",
        "print(\"Precision: {0:6.2f}\".format(precision_score(y_test, predictions, average='macro')))\n",
        "print(\"Recall: {0:6.2f}\".format(recall_score(y_test, predictions, average='macro')))\n",
        "print(\"F1-measure: {0:6.2f}\".format(f1_score(y_test, predictions, average='macro')))\n",
        "print(\"Accuracy: {0:6.2f}\".format(accuracy_score(y_test, predictions)))"
      ],
      "execution_count": 0,
      "outputs": [
        {
          "output_type": "stream",
          "text": [
            "Precision:   0.68\n",
            "Recall:   0.67\n",
            "F1-measure:   0.67\n",
            "Accuracy:   0.67\n"
          ],
          "name": "stdout"
        }
      ]
    },
    {
      "cell_type": "code",
      "metadata": {
        "id": "2U4z5bXS1MhB",
        "colab_type": "code",
        "colab": {
          "base_uri": "https://localhost:8080/",
          "height": 87
        },
        "outputId": "24191895-dde5-4c77-85ca-1cb1b48a6387"
      },
      "source": [
        "clf = xgb.XGBClassifier(objective='multi:sofmax',  n_estimators=500)\n",
        "clf.fit(X_train,  y_train)\n",
        "predictions = clf.predict(X_test)\n",
        "print(\"Precision: {0:6.2f}\".format(precision_score(y_test, predictions, average='macro')))\n",
        "print(\"Recall: {0:6.2f}\".format(recall_score(y_test, predictions, average='macro')))\n",
        "print(\"F1-measure: {0:6.2f}\".format(f1_score(y_test, predictions, average='macro')))\n",
        "print(\"Accuracy: {0:6.2f}\".format(accuracy_score(y_test, predictions)))"
      ],
      "execution_count": 51,
      "outputs": [
        {
          "output_type": "stream",
          "text": [
            "Precision:   0.72\n",
            "Recall:   0.71\n",
            "F1-measure:   0.72\n",
            "Accuracy:   0.71\n"
          ],
          "name": "stdout"
        }
      ]
    },
    {
      "cell_type": "markdown",
      "metadata": {
        "id": "4U_dYdlLPE9o",
        "colab_type": "text"
      },
      "source": [
        "Stacking"
      ]
    },
    {
      "cell_type": "code",
      "metadata": {
        "id": "7xh_jQESQbk7",
        "colab_type": "code",
        "colab": {}
      },
      "source": [
        "from mlxtend.classifier import StackingClassifier"
      ],
      "execution_count": 0,
      "outputs": []
    },
    {
      "cell_type": "code",
      "metadata": {
        "id": "B5JJISdl3e5X",
        "colab_type": "code",
        "colab": {}
      },
      "source": [
        "clf1 = KNeighborsClassifier(n_neighbors=15)\n",
        "clf2 = RandomForestClassifier(random_state=1)\n",
        "lr = LogisticRegression(max_iter=10000)\n",
        "sclf = StackingClassifier(classifiers=[clf1, clf2], \n",
        "                          meta_classifier=lr)"
      ],
      "execution_count": 0,
      "outputs": []
    },
    {
      "cell_type": "code",
      "metadata": {
        "id": "21LUGQ3nSskJ",
        "colab_type": "code",
        "colab": {
          "base_uri": "https://localhost:8080/",
          "height": 70
        },
        "outputId": "4762eb51-240c-47a5-8765-a33e25385317"
      },
      "source": [
        "clf_list = [clf1, clf2,  sclf]\n",
        "labels = ['KNeighbors', 'RandomForest', 'Stacking']\n",
        "clf_cv_mean = []\n",
        "clf_cv_std = []\n",
        "for clf, label in zip(clf_list, labels):\n",
        "    scores = cross_val_score(clf, XV2, y, cv=3, scoring='accuracy')\n",
        "    print (\"Accuracy: %.2f (+/- %.2f) [%s]\" %(scores.mean(), scores.std(), label))"
      ],
      "execution_count": 66,
      "outputs": [
        {
          "output_type": "stream",
          "text": [
            "Accuracy: 0.45 (+/- 0.01) [KNeighbors]\n",
            "Accuracy: 0.64 (+/- 0.02) [RandomForest]\n",
            "Accuracy: 0.64 (+/- 0.02) [Stacking]\n"
          ],
          "name": "stdout"
        }
      ]
    },
    {
      "cell_type": "markdown",
      "metadata": {
        "id": "m3783F4j7MoT",
        "colab_type": "text"
      },
      "source": [
        "Результат лучше, чем на отдельных составляющих"
      ]
    },
    {
      "cell_type": "markdown",
      "metadata": {
        "id": "25Y-ubbbsZVl",
        "colab_type": "text"
      },
      "source": [
        "Лучший результат дал бустинг (с использованием xgboost)"
      ]
    }
  ]
}